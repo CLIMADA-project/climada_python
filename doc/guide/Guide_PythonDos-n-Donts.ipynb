{
 "cells": [
  {
   "cell_type": "markdown",
   "metadata": {
    "slideshow": {
     "slide_type": "slide"
    }
   },
   "source": [
    "# Coding in Python: Dos and Don’ts"
   ]
  },
  {
   "cell_type": "markdown",
   "metadata": {
    "slideshow": {
     "slide_type": "slide"
    }
   },
   "source": [
    "### Content\n",
    "\n",
    "0. [To Code or Not to Code?](#Chapter0)\n",
    "1. [Clean Code](#Chapter1)<br>\n",
    "    1.1 [PEP 8 Quickie: Code Layout](#Chapter1.1)<br>\n",
    "    1.2 [PEP 8 Quickie: Basic Naming Conventions](#Chapter1.2)<br>\n",
    "    1.3 [PEP 8 Quickie: Programming Recommendations](#Chapter1.3)<br>\n",
    "    1.4 [Static Code Analysis and PyLint](#Chapter1.4)<br>\n",
    "    1.5 [A few more best practices](#Chapter1.5)<br>\n",
    "    1.6 [Pythonic Code](#Chapter1.6)<br>    \n",
    "2. [Commenting & Documenting](#Chapter2) <br>\n",
    "    2.1 [What is what](#Chapter2.1)<br>\n",
    "    2.2 [Numpy-style docstrings](#Chapter2.2)\n",
    "3. [Exception Handling and Logging](#Chapter3)<br>\n",
    "    3.1 [Exception Handling](#Chapter3.1)<br>\n",
    "    3.2 [Logging](#Chapter3.2)<br>\n",
    "4. [Importing](#Chapter4)\n",
    "5. [How to structure a method or function](#Chapter5)\n",
    "6. [Debugging](#Chapter6)"
   ]
  },
  {
   "cell_type": "markdown",
   "metadata": {
    "slideshow": {
     "slide_type": "slide"
    }
   },
   "source": [
    "## 0. <a id='Chapter0'> To Code or Not to Code?</a>\n",
    "\n",
    "Before you start implementing functions which then go into the climada code base, you have to ask yourself a few questions: <br>\n"
   ]
  },
  {
   "cell_type": "markdown",
   "metadata": {
    "slideshow": {
     "slide_type": "slide"
    }
   },
   "source": [
    "**Has something similar already been implemented?**<br>\n",
    "This is far from trivial to answer! <br>\n",
    "First, search for functions in the same module where you'd be implementing the new piece of code.\n",
    "Then, search in the `util` folders, there's a lot of functions in some of the scripts!\n",
    "You could also search the index (a list of all functions and global constants) in the [climada documentation](https://climada-python.readthedocs.io/en/stable/genindex.html) for key-words that may be indicative of the functionality you're looking for.\n",
    "\n",
    "_Don't expect this process to be fast!_\n",
    "\n",
    "Even if you want to implement _just_ a small helper function, which might take 10mins to write, it may take you 30mins to check the existing code base! That's part of the game! <br>\n",
    "Even if you found something, most likely, it's not the _exact_ same thing which you had in mind. Then, ask yourself how you can re-use what's there, or whether you can easily add another option to the existing method to also fit your case, and only if it's nearly impossible or highly unreadable to do so, write your own implementation."
   ]
  },
  {
   "cell_type": "markdown",
   "metadata": {
    "slideshow": {
     "slide_type": "slide"
    }
   },
   "source": [
    "\n",
    "\n",
    "**Can my code serve others?**<br>\n",
    "You probably have a very specific problem in mind. Yet, think about other use-cases, where people may have a similar problem, and try to either directly account for those, or at least make it easy to configure to other cases. Providing keyword options and hard-coding as few things as possible is usually a good thing. For example, if you want to write a daily aggregation function for some time-series, consider that other people might find it useful to have a general function that can also aggregate by week, month or year."
   ]
  },
  {
   "cell_type": "markdown",
   "metadata": {
    "slideshow": {
     "slide_type": "slide"
    }
   },
   "source": [
    "\n",
    "**Can I get started?**<br>\n",
    "Before you finally start coding, be sure about placing them in a sensible location. Functions in non-util modules are actually specific for that module (e.g. a file-reader function is probably not river-flood specific, so put it into the `util` section, not the `RiverFlood` module, even if that's what you're currently working on)!\n",
    "If unsure, talk with other people about where your code should go. \n",
    "\n",
    "If you're implementing more than just a function or two, or even an entirely new module, the planning process should be talked over with someone doing climada-administration. "
   ]
  },
  {
   "cell_type": "markdown",
   "metadata": {
    "slideshow": {
     "slide_type": "slide"
    }
   },
   "source": [
    "##  1. <a id='Chapter1'> Clean Code </a>\n"
   ]
  },
  {
   "cell_type": "markdown",
   "metadata": {
    "slideshow": {
     "slide_type": "slide"
    }
   },
   "source": [
    "**A few basic principles:**\n",
    "\n",
    "* Follow the [PEP 8](https://www.python.org/dev/peps/pep-0008/) Style Guide. It contains, among others, recommendations on:\n",
    "    * code layout \n",
    "    * basic naming conventions \n",
    "    * programming recommendations\n",
    "    * commenting (in detail described in Chapter 4)\n",
    "    * varia\n",
    "* Perform a static code analysis - or: PyLint is your friend\n",
    "* Follow the best practices of _Correctness - Tightness -  Readability_\n",
    "* Adhere to principles of pythonic coding (idiomatic coding, the \"python way\")"
   ]
  },
  {
   "cell_type": "markdown",
   "metadata": {
    "slideshow": {
     "slide_type": "slide"
    }
   },
   "source": [
    "<img src=\"./img/zen_of_python.png\" alt=\"Zen of Python\">"
   ]
  },
  {
   "cell_type": "markdown",
   "metadata": {
    "slideshow": {
     "slide_type": "slide"
    }
   },
   "source": [
    "### 1.1 <a id='Chapter1.1'> PEP 8 Quickie: Code Layout  </a>\n"
   ]
  },
  {
   "cell_type": "markdown",
   "metadata": {
    "slideshow": {
     "slide_type": "slide"
    }
   },
   "source": [
    "\n",
    "* _Indentation_: 4 spaces per level. For continuation lines, decide between vertical alignment & hanging indentation as shown here:\n",
    " <pre><code>\n",
    "    # Vertically aligned with opening delimiter.\n",
    "    foo = long_function_name(var_one, var_two,\n",
    "                             var_three, var_four)\n",
    "\n",
    "    # Hanging indentation (4 additonal spaces)\n",
    "    def very_very_long_function_name(\n",
    "            var_one, var_two, var_three,\n",
    "            var_four):\n",
    "        print(var_one)\n",
    "  </code></pre>\n"
   ]
  },
  {
   "cell_type": "markdown",
   "metadata": {
    "slideshow": {
     "slide_type": "slide"
    }
   },
   "source": [
    "* _Line limit_: maximum of 79 characters (docstrings & comments 72).\n",
    "* _Blank lines_: \n",
    "    * **Two**: Surround top-level function and class definitions; \n",
    "    * **One:** Surround Method definitions inside a class \n",
    "    * **Several:** may be used (sparingly) to separate groups of related functions\n",
    "    * **None:** Blank lines may be omitted between a bunch of related one-liners (e.g. a set of dummy implementations)."
   ]
  },
  {
   "cell_type": "markdown",
   "metadata": {
    "slideshow": {
     "slide_type": "slide"
    }
   },
   "source": [
    "* _Whitespaces_: \n",
    "    * **None** immediately inside parentheses, brackets or braces; after trailing commas; for keyword assignments in functions. \n",
    "    * **Do** for assignments (`i = i + 1`), around comparisons (`>=`, `==`, etc.), around booleans (`and`, `or`, `not`) \n",
    "    <pre><code>\n",
    "    # the following 3 examples are correct:\n",
    "    spam(ham[1], {eggs: 2})\n",
    "    if x == 4: print x, y; x, y = y, x\n",
    "    def complex(real, imag=0.0):\n",
    " </code></pre>\n",
    "* There's more in the PEP 8 guide!"
   ]
  },
  {
   "cell_type": "markdown",
   "metadata": {
    "slideshow": {
     "slide_type": "slide"
    }
   },
   "source": [
    "### 1.2  <a id='Chapter1.2'> PEP 8 Quickie: Basic Naming Conventions  </a>\n",
    "**A short typology:** <br>\n",
    "b (single lowercase letter); B (single uppercase letter); lowercase; lower_case_with_underscores; UPPERCASE; UPPER_CASE_WITH_UNDERSCORES; CapitalizedWords (or CapWords, or CamelCase); mixedCase; Capitalized_Words_With_Underscores (ugly!)\n",
    "\n"
   ]
  },
  {
   "cell_type": "markdown",
   "metadata": {
    "slideshow": {
     "slide_type": "slide"
    }
   },
   "source": [
    "**A few basic rules:** <br>\n",
    "- packages and modules: short, all-lowercase names. Underscores can be used in the module name if it improves readability. E.g. `numpy`, `climada`\n",
    "- classes: use the CapWords convention. E.g. `RiverFlood`\n",
    "- functions, methods and variables: lowercase, with words separated by underscores as necessary to improve readability. E.g. `set_raster()`, `dst_meta`\n",
    "- function- and method arguments: Always use `self` for the first argument to instance methods,`cls` for the first argument to class methods.\n",
    "- constants: all capital letters with underscores, e.g. `DEF_VAR_EXCEL`"
   ]
  },
  {
   "cell_type": "markdown",
   "metadata": {
    "slideshow": {
     "slide_type": "slide"
    }
   },
   "source": [
    "\n",
    "\n",
    "**Use of underscores** <br>\n",
    "- `_single_leading_underscore`: weak \"internal use\" indicator. E.g. `from M import *` does not import objects whose names start with an underscore.\n",
    "    A side-note to this: Always decide whether a class's methods and instance variables (collectively: \"attributes\") should be public or non-public. If in doubt, choose non-public; it's easier to make it public later than to make a public attribute non-public. Public attributes are those that you expect unrelated clients of your class to use, with your commitment to avoid backwards incompatible changes. Non-public attributes are those that are not intended to be used by third parties; you make no guarantees that non-public attributes won't change or even be removed. Public attributes should have no leading underscores. \n",
    "- `single_trailing_underscore_`: used by convention to avoid conflicts with Python keyword, e.g. `tkinter.Toplevel(master, class_='ClassName')`\n",
    "- `__double_leading_and_trailing_underscore__`: \"magic\" objects or attributes that live in user-controlled namespaces. E.g. `__init__`, `__import__` or `__file__`. Never invent such names; only use them as documented.\n",
    "\n",
    "There are many more naming conventions, some a bit messy. Have a look at the PEP8 style guide for more cases."
   ]
  },
  {
   "cell_type": "markdown",
   "metadata": {
    "slideshow": {
     "slide_type": "slide"
    }
   },
   "source": [
    "### 1.3  <a id='Chapter1.3'> PEP 8 Quickie: Programming Recommendations  </a>\n"
   ]
  },
  {
   "cell_type": "markdown",
   "metadata": {
    "slideshow": {
     "slide_type": "slide"
    }
   },
   "source": [
    "* comparisons to singletons like `None` should always be done with `is` or `is not`, never the equality operators.\n",
    "* Use `is not` operator rather than `not ... is`."
   ]
  },
  {
   "cell_type": "markdown",
   "metadata": {
    "slideshow": {
     "slide_type": "slide"
    }
   },
   "source": [
    "* Be consistent in return statements. Either all return statements in a function should return an expression, or none of them should. Any return statements where no value is returned should explicitly state this as `return None`.\n",
    " <pre><code>\n",
    "# Correct\n",
    "def foo(x):\n",
    "    if x >= 0:\n",
    "        return math.sqrt(x)\n",
    "    else:\n",
    "        return None\n",
    "# Wrong\n",
    "def foo(x):\n",
    "    if x >= 0:\n",
    "        return math.sqrt(x)\n",
    " </code></pre>\n",
    " "
   ]
  },
  {
   "cell_type": "markdown",
   "metadata": {
    "slideshow": {
     "slide_type": "slide"
    }
   },
   "source": [
    "* Object type comparisons should always use isinstance() instead of comparing types directly: \n",
    " <pre><code>\n",
    "# Correct: \n",
    "if isinstance(obj, int):\n",
    "# wrong:\n",
    "if type(obj) is type(1)\n",
    "</code></pre>\n"
   ]
  },
  {
   "cell_type": "markdown",
   "metadata": {
    "slideshow": {
     "slide_type": "slide"
    }
   },
   "source": [
    "* Remember: sequences (strings, lists, tuples) are false if empty; this can be used: \n",
    " <pre><code>\n",
    "# Correct:\n",
    "if not seq:\n",
    "if seq:\n",
    "# Wrong:\n",
    "if len(seq):\n",
    "if not len(seq)\n",
    " </code></pre>"
   ]
  },
  {
   "cell_type": "markdown",
   "metadata": {
    "slideshow": {
     "slide_type": "slide"
    }
   },
   "source": [
    "* Don't compare boolean values to True or False using `==`:\n",
    " <pre><code>\n",
    "# Correct:\n",
    "if greeting: \n",
    "# Wrong:\n",
    "if greeting == True: \n",
    " </code></pre>\n"
   ]
  },
  {
   "cell_type": "markdown",
   "metadata": {
    "slideshow": {
     "slide_type": "slide"
    }
   },
   "source": [
    "* Use ''.startswith() and ''.endswith() instead of string slicing to check for prefixes or suffixes.\n",
    " <pre><code>\n",
    "# Correct:\n",
    "if foo.startswith('bar'):\n",
    "# Wrong:\n",
    "if foo[:3] == 'bar':\n",
    " </code></pre>\n",
    "\n",
    "* Context managers exist and can be useful (mainly for opening and closing files"
   ]
  },
  {
   "cell_type": "markdown",
   "metadata": {
    "slideshow": {
     "slide_type": "slide"
    }
   },
   "source": [
    "###  1.4  <a id='Chapter1.4'> Static Code Analysis and PyLint  </a>\n",
    "\n",
    "Static code analysis detects style issues, bad practices, potential bugs, and other quality problems in your code, all without having to actually execute it. In Spyder, this is powered by the best in class Pylint back-end, which can intelligently detect an enormous and customizable range of problem signatures. It follows the style recommended by PEP 8 and  also includes the following features:\n",
    "Checking the length of each line, checking that variable names are well-formed according to the project's coding standard, checking that declared interfaces are truly implemented.\n",
    "<br><br>\n"
   ]
  },
  {
   "cell_type": "markdown",
   "metadata": {
    "slideshow": {
     "slide_type": "slide"
    }
   },
   "source": [
    "A detailed instruction can be found [here](http://docs.spyder-ide.org/current/pylint.html).<br>\n",
    "\n",
    "In brief:<br>\n",
    "In the editor, select the Code Analysis pane (if not visible, go to View -> Panes -> Code Analysis) and the file you want to be analysed; hit the Analyse button.\n",
    "<br>"
   ]
  },
  {
   "cell_type": "markdown",
   "metadata": {
    "slideshow": {
     "slide_type": "slide"
    }
   },
   "source": [
    "\n",
    "The output will look somewhat similar to that: \n",
    "<img src=\"./img/pylint.png\" alt=\"Pylint static code analysis output\">\n"
   ]
  },
  {
   "cell_type": "markdown",
   "metadata": {
    "slideshow": {
     "slide_type": "slide"
    }
   },
   "source": [
    "\n",
    "There are 4 categories in the analysis output: \n",
    "* _convention_, \n",
    "* _refactor_, \n",
    "* _warning_,\n",
    "* _error_ \n",
    "* a global score regarding code quality. \n",
    "\n",
    "All messages have a line reference and a short description on the issue. Errors _must_ be fixed, as this is a no-go for actually executing the script. Warnings and refactoring messages should be taken seriously; so should be the convention messages, even though some of the naming conventions etc. may not fit the project style. This is configurable. \n",
    "<br><br>\n",
    "In general, there should be no errors and warnings left, and the overall code quality should be in the \"green\" range (somewhere above 5 or so).\n",
    "\n",
    "There are [advanced options](http://docs.spyder-ide.org/current/pylint.html#advanced-options) to configure the type of warnings and other settings in pylint."
   ]
  },
  {
   "cell_type": "markdown",
   "metadata": {
    "slideshow": {
     "slide_type": "slide"
    }
   },
   "source": [
    "### 1.5 <a id='Chapter1.5'>  A few more best practices</a>\n"
   ]
  },
  {
   "cell_type": "markdown",
   "metadata": {
    "slideshow": {
     "slide_type": "slide"
    }
   },
   "source": [
    "\n",
    "**Correctness**\n",
    "\n",
    "Methods and functions must return correct and verifiable results, not only under the best circumstances but in any possible context.\n",
    "I.e. ideally there should be unit tests exploring the full space of parameters, configuration and data states.\n",
    "This is often clearly a non-achievable goal, but still - we aim at it."
   ]
  },
  {
   "cell_type": "markdown",
   "metadata": {
    "slideshow": {
     "slide_type": "slide"
    }
   },
   "source": [
    "**Tightness**\n",
    "\n",
    "- Avoid code redundancy.\n",
    "- Make the program efficient, use profiling tools for detection of bottlenecks.\n",
    "- Try to minimize memory consumption.\n",
    "- Don't introduce new dependencies (library imports) when the desired functionality is already covered by existing dependencies.\n",
    "- Stick to already supported file types."
   ]
  },
  {
   "cell_type": "markdown",
   "metadata": {
    "slideshow": {
     "slide_type": "slide"
    }
   },
   "source": [
    "**Readability**\n",
    "\n",
    "- Write complete Python Docstrings.\n",
    "- Use meaningful method and parameter names, and always annotate the data types of parameters and return values.\n",
    "- No context-dependent return types! Also: Avoid `None` as return type, rather raise an Exception instead.\n",
    "- Be generous with defining Exception classes.\n",
    "- Comment! Comments are welcome to be redundant.\n",
    "  And whenever there is a particular reason for the way something is done, comment on it! See below for more detail.\n",
    "- For functions which implement mathematical/scientific concepts, add the actual mathematical formula as comment or\n",
    "  to the Doctstrings. This will help maintain a high level of scientific accuracy. E.g. How is are the random walk\n",
    "  tracks computed for tropical cyclones?"
   ]
  },
  {
   "cell_type": "markdown",
   "metadata": {
    "slideshow": {
     "slide_type": "slide"
    }
   },
   "source": [
    "### 1.6 <a id='Chapter1.6'> Pythonic Code </a> \n",
    "In Python, there are certain structures that are specific to the language, or at least the syntax of how to use them. This is usually referred to as \"pythonic\" code. \n",
    "\n",
    "There is an extensive overview on on crucial \"pythonic\" structures and methods in the [Python 101 library](https://python101.pythonlibrary.org/).\n"
   ]
  },
  {
   "cell_type": "markdown",
   "metadata": {
    "slideshow": {
     "slide_type": "slide"
    }
   },
   "source": [
    "A few important examples are:\n",
    "\n",
    "* iterables such as dictionaries, tuples, lists\n",
    "* iterators and generators (a very useful construct when it comes to code performance, as the implementation of generators avoids reading into memory huge iterables at once, and allows to read them lazily on-the-go; see [this blog post](https://treyhunner.com/2018/06/how-to-make-an-iterator-in-python/#Generators:_the_easy_way_to_make_an_iterator) for more details)\n"
   ]
  },
  {
   "cell_type": "markdown",
   "metadata": {
    "slideshow": {
     "slide_type": "slide"
    }
   },
   "source": [
    "* f-strings (“formatted string literals,”  have an f at the beginning and curly braces containing expressions that will be replaced with their values: <img src=\"./img/fstrings.png\" alt=\"Use of f-strings\">"
   ]
  },
  {
   "cell_type": "markdown",
   "metadata": {
    "slideshow": {
     "slide_type": "slide"
    }
   },
   "source": [
    "* decorators (a design pattern in Python that allows a user to add new functionality to an existing object without modifying its structure) <br>\n",
    "something like \n",
    " <pre><code>\n",
    "@uppercase_decorator\n",
    "def say_hi():\n",
    "    return 'hello there'\n",
    " </code></pre>\n",
    " \n",
    "* type checking (Python is a dynamically typed language; also: cf. \"Duck typing\". Yet, as a best practice, variables should not change type once assigned)\n",
    "* Do not use mutable default arguments in your functions (e.g. lists). For example, if you define a function as such:\n",
    "\n",
    "    ```\n",
    "    def function(x, list=[]):    \n",
    "        default_list.append(x)\n",
    "    ```\n",
    "   Your list will be mutated for future calls of the functions too.\n",
    "   The correct implementation would bethe following:\n",
    "   ```\n",
    "   def func(x, list=None):\n",
    "    list = [] if list is None\n",
    "   ```\n",
    "  "
   ]
  },
  {
   "cell_type": "markdown",
   "metadata": {
    "slideshow": {
     "slide_type": "slide"
    }
   },
   "source": [
    "\n",
    "* lambda functions (little, anonymous functions, <br>\n",
    " sth like `high_ord_func(2, lambda x: x * x)`) \n",
    "* list comprehensions (a short and possibly elegant syntax to create a new list in one line, <br>\n",
    "sth like `newlist = [x for x in range(10) if x < 5]` returns `[0, 1, 2, 3, 4]`)\n",
    "\n",
    "It is recommended to look up the above concepts in case not familiar with them."
   ]
  },
  {
   "cell_type": "markdown",
   "metadata": {
    "slideshow": {
     "slide_type": "slide"
    }
   },
   "source": [
    "## 2. <a id='Chapter2'> Commenting & Documenting </a>\n",
    "\n",
    "### 2.1 <a id='Chapter2.1'> What is what  </a>\n",
    "_Comments_ are for developers. They describe parts of the code where necessary to facilitate the understanding of programmers. They are marked by putting a `#` in front of every comment line (for multi-liners, wrapping them inside triple double quotes `\"\"\"` is basically possible, but discouraged to not mess up with docstrings).<br>\n",
    "A _documentation string (docstring)_ is a string that describes a module, function, class, or method definition. The docstring is a special attribute of the object (`object.__doc__`) and, for consistency, is surrounded by triple double\n",
    "quotes (`\"\"\"`). This is also where elaboration of the scientific foundation (explanation of used formulae, etc.) should be documented.\n",
    "\n",
    "    "
   ]
  },
  {
   "cell_type": "markdown",
   "metadata": {
    "slideshow": {
     "slide_type": "slide"
    }
   },
   "source": [
    "**A few general rules:**\n",
    "\n",
    "* Have a look at this blog-post on [commenting basics](https://realpython.com/python-comments-guide/#python-commenting-basics)\n",
    "* Comments should be D.R.Y (“Don’t Repeat Yourself.”)\n",
    "* Obvious naming conventions can avoid unnecessary comments (cf. `families_by_city[city]` vs. `my_dict[p]`)\n",
    "* comments should rarely be longer than the code they support\n",
    "* All public methods need a doc-string. See below for details on the convention used within the climada project.\n",
    "* Non-public methods that are not immediately obvious to the reader should at least have a short comment after the def line: <img src=\"./img/docstring1.png\" alt=\"Doc\">"
   ]
  },
  {
   "cell_type": "markdown",
   "metadata": {
    "slideshow": {
     "slide_type": "slide"
    }
   },
   "source": [
    "\n",
    "### 2.2  <a id='Chapter2.2'> Numpy-style docstrings  </a>\n",
    "Full reference can be found [here](https://numpydoc.readthedocs.io/en/latest/format.html#docstring-standard). The standards are such that they use re-structured text (reST) syntax and are rendered using Sphinx.\n",
    "\n",
    "\n",
    " "
   ]
  },
  {
   "cell_type": "markdown",
   "metadata": {
    "slideshow": {
     "slide_type": "slide"
    }
   },
   "source": [
    "There are several sections in a docstring, with headings underlined by hyphens (`---`). The sections of a function’s docstring are:\n",
    "\n",
    "1. _Short summary_: <br>\n",
    "    A one-line summary that does not use variable names or the function name\n",
    "    <img src=\"./img/docstring2.png\" alt=\"Doc\">\n",
    "    \n",
    "2. _Deprecation warning_ (use if applicable):<br>\n",
    "    to warn users that the object is deprecated, including version the object that was deprecated, and when it will be removed, reason for deprecation, new recommended way of obtaining the same functionality. Use the `deprecated` Sphinx directive: \n",
    "    <img src=\"./img/docstring3.png\" alt=\"Doc\">"
   ]
  },
  {
   "cell_type": "markdown",
   "metadata": {
    "slideshow": {
     "slide_type": "slide"
    }
   },
   "source": [
    "3. _Extended Summary_: <br>\n",
    "    A few sentences giving an extended description to clarify functionality, not to discuss implementation detail or background theory (see `Notes` section below!)\n",
    "    \n",
    "4. _Parameters_: <br>\n",
    "    <img src=\"./img/docstring4.png\" alt=\"Doc\">\n",
    "    Description of the function arguments, keywords and their respective types. <br>\n",
    "    Enclose variables in single backticks in the description. The colon must be preceded by a space, or omitted if the type is absent. <br>\n",
    "    For the parameter types, be as precise as possible. <br>\n",
    "    If it is not necessary to specify a keyword argument, use `optional` after the type specification: e.g. `x: int, optional`. Default values of optional parameters can also be detailed in the description. (e.g. `... description of parameter ... (default is -1)`)"
   ]
  },
  {
   "cell_type": "markdown",
   "metadata": {
    "slideshow": {
     "slide_type": "slide"
    }
   },
   "source": [
    "    \n",
    "5. _Returns_: <br>\n",
    "    Explanation of the returned values and their types. Similar to the Parameters section, except the name of each return value is optional, type isn't. If both the name and type are specified, the Returns section takes the same form as the Parameters section.\n",
    "<img src=\"./img/docstring5.png\" alt=\"Doc\">\n"
   ]
  },
  {
   "cell_type": "markdown",
   "metadata": {
    "slideshow": {
     "slide_type": "slide"
    }
   },
   "source": [
    "There is a range of other sections that can be included, if sensible and applicable, such as `Yield` (for generator functions only), `Raises` (which errors get raised and under what conditions), `See also` ( refer to related code), `Notes` (additional information about the code, possibly including a discussion of the algorithm; may include mathematical equations, written in LaTeX format), `References`, `Examples`(to illustrate usage)."
   ]
  },
  {
   "cell_type": "markdown",
   "metadata": {
    "slideshow": {
     "slide_type": "slide"
    }
   },
   "source": [
    "## 3. <a id='Chapter3'> Exception Handling and Logging </a>\n",
    "\n",
    "Exception handling and logging are two important components of programming, in particular for debugging purposes. Detailled technical guides are available online (e.g., [Loggin](https://docs.python.org/3/howto/logging.html), [Error and Exceptions](https://docs.python.org/3/tutorial/errors.html)). Here we only repeat a few key points and list a few guidelines for CLIMADA."
   ]
  },
  {
   "cell_type": "markdown",
   "metadata": {},
   "source": [
    "### 3.1 <a id='Chapter3.1'> Exception handling  </a>"
   ]
  },
  {
   "cell_type": "markdown",
   "metadata": {},
   "source": [
    "#### 3.1.1  <a id='Chapter3.1.1'> CLIMADA guidelines  </a> "
   ]
  },
  {
   "cell_type": "markdown",
   "metadata": {},
   "source": [
    "1. Catch specific exceptions if possible, i.e, if not needed do not catch all exceptions.\n",
    "\n",
    "2. Do not catch exception if you do not handle them. \n",
    "\n",
    "3. Make a clear explanatory message when you raise an error (similarly to when you use the logger to inform the user). Think of future users and how it helps them understanding the error and debugging their code.\n",
    "\n",
    "4. Catch an exception when it arises.\n",
    "\n",
    "5. When you can an exception and raise an error, it is in often (but not always) a good habit to not throw away the first caught exception as it may contain useful information for debugging. (use `raise Error from`)"
   ]
  },
  {
   "cell_type": "code",
   "execution_count": 1,
   "metadata": {
    "ExecuteTime": {
     "end_time": "2021-01-15T17:48:18.422563Z",
     "start_time": "2021-01-15T17:48:18.419365Z"
    },
    "slideshow": {
     "slide_type": "slide"
    }
   },
   "outputs": [],
   "source": [
    "#Bad (1)\n",
    "x = 1\n",
    "try:\n",
    "    l = len(events)\n",
    "    if l < 1:\n",
    "        print(\"l is too short\")\n",
    "except:\n",
    "    pass"
   ]
  },
  {
   "cell_type": "code",
   "execution_count": null,
   "metadata": {
    "ExecuteTime": {
     "end_time": "2021-01-15T17:48:24.818203Z",
     "start_time": "2021-01-15T17:48:24.814755Z"
    },
    "slideshow": {
     "slide_type": "slide"
    }
   },
   "outputs": [],
   "source": [
    "#Still bad (2)\n",
    "try:\n",
    "    l = len(events)\n",
    "    if l < 1:\n",
    "        print(\"l is too short\")\n",
    "except TypeError:\n",
    "    pass"
   ]
  },
  {
   "cell_type": "code",
   "execution_count": null,
   "metadata": {
    "slideshow": {
     "slide_type": "slide"
    }
   },
   "outputs": [],
   "source": [
    "#Better, but still unsufficient (3)\n",
    "try:\n",
    "    l = len(events)\n",
    "    if l < 1:\n",
    "        raise ValueError(\"To compute an impact there must be at least one event.\")\n",
    "except TypeError:\n",
    "    raise TypeError(\"The provided variable events is not a list\") "
   ]
  },
  {
   "cell_type": "code",
   "execution_count": null,
   "metadata": {
    "slideshow": {
     "slide_type": "slide"
    }
   },
   "outputs": [],
   "source": [
    "#Even better (4)\n",
    "try:\n",
    "    l = len(events)\n",
    "except TypeError:\n",
    "    raise TypeError(\"The provided variable events is not a list\")\n",
    "if l < 1:\n",
    "    raise ValueError(\"To compute an impact there must be at least one event.\")"
   ]
  },
  {
   "cell_type": "code",
   "execution_count": null,
   "metadata": {
    "slideshow": {
     "slide_type": "slide"
    }
   },
   "outputs": [],
   "source": [
    "#Even better (5)\n",
    "try:\n",
    "    l = len(events)\n",
    "except TypeError as tper:\n",
    "    raise TypeError(\"The provided variable events is not a list\") from tper\n",
    "if l < 1:\n",
    "    raise ValueError(\"To compute an impact there must be at least one event.\")\n"
   ]
  },
  {
   "cell_type": "markdown",
   "metadata": {
    "slideshow": {
     "slide_type": "slide"
    }
   },
   "source": [
    "#### 3.1.2 <a id='Chapter3.1.2'> Exceptions reminder </a>  "
   ]
  },
  {
   "cell_type": "markdown",
   "metadata": {
    "slideshow": {
     "slide_type": "slide"
    }
   },
   "source": [
    "Why do we bother to handle exceptions? \n",
    "\n",
    "- The most essential benefit is to inform the user of the error, while still allowing the program to proceed. "
   ]
  },
  {
   "cell_type": "markdown",
   "metadata": {
    "slideshow": {
     "slide_type": "slide"
    }
   },
   "source": [
    "### 3.2 <a id='Chapter3.2'> Logging </a>  "
   ]
  },
  {
   "cell_type": "markdown",
   "metadata": {
    "ExecuteTime": {
     "end_time": "2021-01-15T17:53:27.959201Z",
     "start_time": "2021-01-15T17:53:27.957282Z"
    },
    "slideshow": {
     "slide_type": "slide"
    }
   },
   "source": [
    "#### 3.2.1 <a id='Chapter3.2.1'> CLIMADA guidelines </a>   "
   ]
  },
  {
   "cell_type": "markdown",
   "metadata": {
    "slideshow": {
     "slide_type": "slide"
    }
   },
   "source": [
    "- In CLIMADA, you cannot use printing. Any output must go into the LOGGER. \n",
    "\n",
    "\n",
    "- For any logging messages, always think about the audience. What would a user or developer need for information? This also implies to carefully think about the correct LOGGER level. For instance, some information is for debugging, then use the debug level. In this case, make sure that the message actually helps the debudding process! Some message might just to inform the user about certain default parameters, then use the inform level. See below for more details about logger levels.\n",
    "\n",
    "\n",
    "- Do not overuse the LOGGER. Think about which level of logging. Logging errors must be useful for debugging."
   ]
  },
  {
   "cell_type": "markdown",
   "metadata": {
    "slideshow": {
     "slide_type": "slide"
    }
   },
   "source": [
    "You can set the level of the LOGGER using `util.config.setup_logging(\"level\")`. This way you can for instance 'turn-off' info messages when you are making an application. For example, setting the logger to the \"ERROR\" level, use:"
   ]
  },
  {
   "cell_type": "code",
   "execution_count": 1,
   "metadata": {
    "ExecuteTime": {
     "end_time": "2021-01-15T17:57:29.203374Z",
     "start_time": "2021-01-15T17:57:26.804847Z"
    },
    "slideshow": {
     "slide_type": "slide"
    }
   },
   "outputs": [
    {
     "name": "stdout",
     "output_type": "stream",
     "text": [
      "2021-01-15 18:57:27,342 - climada - DEBUG - Loading default config file: /Users/ckropf/Documents/Climada/climada_python/climada/conf/defaults.conf\n"
     ]
    }
   ],
   "source": [
    "from climada import util\n",
    "util.config.setup_logging(\"ERROR\")"
   ]
  },
  {
   "cell_type": "markdown",
   "metadata": {},
   "source": [
    "What levels to use in CLIMADA?\n",
    "\n",
    "- Debug: what you would print while developing/debugging \n",
    "\n",
    "\n",
    "- Info: information for example in the check instance\n",
    "\n",
    "\n",
    "- Warning: whenever CLIMADA fills in values, makes an extrapolation, computes something that might potentially lead to unwanted results (e.g., the 250year damages extrapolated from data over 20 years)\n",
    "\n",
    "No known use case:\n",
    "\n",
    "- Error: instead, raise an Error and add the message (raise ValueError(\"Error message\"))\n",
    "\n",
    "\n",
    "- Critical: ..."
   ]
  },
  {
   "cell_type": "markdown",
   "metadata": {
    "slideshow": {
     "slide_type": "slide"
    }
   },
   "source": [
    "#### 3.2.2  <a id='Chapter3.2.2'> Reminder about Logging  </a>    "
   ]
  },
  {
   "cell_type": "markdown",
   "metadata": {
    "slideshow": {
     "slide_type": "slide"
    }
   },
   "source": [
    "\"Logging is a means of tracking events that happen when some software runs.\" \n",
    "\n",
    "*When to use logging*\n",
    "\n",
    "\"Logging provides a set of convenience functions for simple logging usage. These are debug(), info(), warning(), error() and critical(). To determine when to use logging, see the table below, which states, for each of a set of common tasks, the best tool to use for it.\"\n",
    "\n",
    "<img src=\"./img/WhenToLog.png\" alt=\"Doc\" width=\"600\">\n",
    "\n",
    "*Logger level*\n",
    "\n",
    "\"The logging functions are named after the level or severity of the events they are used to track. The standard levels and their applicability are described below (in increasing order of severity):\"\n",
    "\n",
    "<img src=\"./img/LoggerLevels.png\" alt=\"Doc\" width=\"600\">"
   ]
  },
  {
   "cell_type": "markdown",
   "metadata": {
    "slideshow": {
     "slide_type": "slide"
    }
   },
   "source": [
    "## 4. <a id='Chapter4'> Importing </a>\n",
    "\n",
    "**General remarks** <br>\n",
    "\n",
    "* Imports should be grouped in the following order:\n",
    "    - Standard library imports (such as `re`, `math`, `datetime`, cf. [here](https://docs.python.org/3/library/) )\n",
    "    - Related third party imports (such as `numpy`)\n",
    "    - Local application/library specific imports (such as `climada.hazard.base`)\n",
    "* You should put a blank line between each group of imports.\n",
    "* Don't introduce new dependencies (library imports) when the desired functionality is already covered by existing dependencies.\n"
   ]
  },
  {
   "cell_type": "markdown",
   "metadata": {
    "slideshow": {
     "slide_type": "slide"
    }
   },
   "source": [
    "\n",
    "**Avoid circular importing!!** <br>\n",
    "Circular imports are a form of circular dependencies that are created with the import statement in Python; e.g. module A loads a method in module B, which in turn requires loading module A. This can generate problems such as tight coupling between modules, reduced code reusability, more difficult maintainance. Circular dependencies can be the source of potential failures, such as infinite recursions, memory leaks, and cascade effects. <br>\n",
    "Generally, they can be resolved with better code design. <br>\n",
    "Have a look [here](https://stackabuse.com/python-circular-imports/) for tips to identify and resolve such imports. "
   ]
  },
  {
   "cell_type": "markdown",
   "metadata": {
    "slideshow": {
     "slide_type": "slide"
    }
   },
   "source": [
    "\n",
    "**Varia**\n",
    "* there are absolute imports (uses the full path starting from the project’s root folder) and relative imports (uses the path starting from the current module to the desired module; usually in the for `from .<module/package> import X`; dots `.` indicate how many directories upwards to traverse. A single dot corresponds to the current directory; two dots indicate one folder up; etc.)\n",
    "* generally try to avoid star imports (e.g. `from packagename import *`)"
   ]
  },
  {
   "cell_type": "markdown",
   "metadata": {},
   "source": [
    "**Importing utility functions**\n",
    "\n",
    "When importing CLIMADA utility functions (from climada.util), the convention is to import the function as \"u_name_of_function\", e.g.:\n",
    "```\n",
    "from climada.util import coordinates as u_coord\n",
    "u_coord.make_map()\n",
    "```"
   ]
  },
  {
   "cell_type": "markdown",
   "metadata": {
    "slideshow": {
     "slide_type": "slide"
    }
   },
   "source": [
    "## 5. <a id='Chapter5'> How to structure a method or function </a>\n",
    "\n",
    "To clarify ahead: The questions of [how to structure an entire module](https://python-docs.readthedocs.io/en/latest/writing/structure.html), or even \"just\" a class, are not treated here. For this, please get in contact with the [repository admins](https://github.com/CLIMADA-project/climada_python/people) to help you go devise a plan.\n"
   ]
  },
  {
   "cell_type": "markdown",
   "metadata": {
    "slideshow": {
     "slide_type": "slide"
    }
   },
   "source": [
    "The following few principles should be adhered to when designing a function or method (which is simply the term for a function inside a class):\n",
    "\n",
    "* have a look at this [blog-post](https://realpython.com/defining-your-own-python-function/) summarizing a few important points to define your function (key-words _abstraction, reusability, modularity_)\n",
    "* separate algorithmic computations and data curation\n",
    "* adhere to a maximum method length (rule of thumb: if it doesn't fit your screen, it's probably an indicator that you should refactor into sub-functions)\n",
    "* divide functions into single purpose pieces (one function, one goal)"
   ]
  },
  {
   "cell_type": "markdown",
   "metadata": {
    "slideshow": {
     "slide_type": "slide"
    }
   },
   "source": [
    "## 6. <a id='Chapter6'> Debugging </a>\n",
    "\n",
    "When writing code, you will encounter bugs and hence go through (more or less painful) debugging. Depending on the IDE you use, there are different debugging tools that will make your life much easier. They offer functionalities such as stopping the execution of the function just before the bug occurs (via breakpoints), allowing to explore the state of defined variables at this moment of time.\n",
    "\n",
    "For spyder specifically, have a look at the instructions on [how to use ipdb](https://docs.spyder-ide.org/3/debugging.html#debugging-with-ipdb)"
   ]
  },
  {
   "cell_type": "code",
   "execution_count": null,
   "metadata": {},
   "outputs": [],
   "source": []
  }
 ],
 "metadata": {
  "celltoolbar": "Slideshow",
  "hide_input": false,
  "kernelspec": {
   "display_name": "Python 3",
   "language": "python",
   "name": "python3"
  },
  "language_info": {
   "codemirror_mode": {
    "name": "ipython",
    "version": 3
   },
   "file_extension": ".py",
   "mimetype": "text/x-python",
   "name": "python",
   "nbconvert_exporter": "python",
   "pygments_lexer": "ipython3",
   "version": "3.8.8"
  },
  "latex_envs": {
   "LaTeX_envs_menu_present": true,
   "autoclose": false,
   "autocomplete": true,
   "bibliofile": "biblio.bib",
   "cite_by": "apalike",
   "current_citInitial": 1,
   "eqLabelWithNumbers": true,
   "eqNumInitial": 1,
   "hotkeys": {
    "equation": "Ctrl-E",
    "itemize": "Ctrl-I"
   },
   "labels_anchors": false,
   "latex_user_defs": false,
   "report_style_numbering": false,
   "user_envs_cfg": false
  },
  "toc": {
   "base_numbering": 1,
   "nav_menu": {},
   "number_sections": true,
   "sideBar": true,
   "skip_h1_title": false,
   "title_cell": "Table of Contents",
   "title_sidebar": "Contents",
   "toc_cell": false,
   "toc_position": {},
   "toc_section_display": true,
   "toc_window_display": false
  }
 },
 "nbformat": 4,
 "nbformat_minor": 4
}
