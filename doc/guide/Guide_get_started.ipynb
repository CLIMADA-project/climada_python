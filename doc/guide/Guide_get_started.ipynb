{
 "cells": [
  {
   "cell_type": "markdown",
   "id": "trying-bronze",
   "metadata": {},
   "source": [
    "# Getting started with CLIMADA"
   ]
  },
  {
   "cell_type": "markdown",
   "id": "multiple-radical",
   "metadata": {},
   "source": [
    "This is a short summary of the guides to help you find the information that you need to get started.\n",
    "To learn more about CLIMADA, have a look at the [introduction](../guide/Guide_Introduction.ipynb). You can also have a look at the paper [repository](https://github.com/CLIMADA-project/climada_papers) to get an overview of research projects."
   ]
  },
  {
   "attachments": {},
   "cell_type": "markdown",
   "id": "israeli-street",
   "metadata": {},
   "source": [
    "## Installation\n",
    "The first step to getting started is installing CLIMADA. To do so you will need:\n",
    "1. To get the lastest release from the git repository [CLIMADA releases](https://github.com/climada-project/climada_python/releases) or clone the project with git if you are interested in contributing to the development.\n",
    "2. To build a conda environment with the dependencies needed by CLIMADA. \n",
    "\n",
    "For details see the [Installation Instructions](install.rst).\n",
    "\n",
    "If you need to run a model on a computational cluster, have a look at [this guide](Guide_Euler.ipynb) to install CLIMADA and run your jobs."
   ]
  },
  {
   "cell_type": "markdown",
   "id": "future-distinction",
   "metadata": {},
   "source": [
    "## Programming in Python\n",
    "It is best to have some basic knowledge of Python programming before starting with CLIMADA. But if you need a quick introduction or reminder, have a look at the short [Python Tutorial](../tutorial/0_intro_python.ipynb). Also have a look at the python [Python Dos and Don't](../guide/Guide_PythonDos-n-Donts.ipynb) guide and at the [Python Performance Guide](../guide/Guide_Py_Performance.ipynb) for best practice tips."
   ]
  },
  {
   "cell_type": "markdown",
   "id": "touched-penetration",
   "metadata": {},
   "source": [
    "## Tutorials\n",
    "A good way to start using CLIMADA is to have a look at the [Tutorials](https://github.com/CLIMADA-project/climada_python/tree/main/doc/tutorial). The [Main Tutorial](../tutorial/1_main_climada.ipynb) will introduce you the structure of CLIMADA and how to calculate you first impacts, as well as your first appraisal of adaptation options. You can then look at the specific tutorials for each module (for example if you are interested in a specific hazard, like [Tropical Cyclones](../tutorial/climada_hazard_TropCyclone.ipynb), or in learning to [estimate the value of asset exposure](../tutorial/climada_entity_LitPop.ipynb),...). "
   ]
  },
  {
   "cell_type": "markdown",
   "id": "0cc77b19",
   "metadata": {},
   "source": [
    "## Documentation\n",
    "\n",
    "You can find the documentation of CLIMADA on Read the Docs [online](https://climada-python.readthedocs.io/en/stable/index.html#). Note that the documentation has several versions: 'latest', 'stable' and explicit version numbers, such as 'v3.1.1', in the url path. 'latest' is created from the 'develop' branch and has the latest changes of the developers, 'stable' from the latest release. For more details about documentation versions, please have a look at [here](https://readthedocs.org/projects/climada-python/versions/)."
   ]
  },
  {
   "cell_type": "markdown",
   "id": "growing-religious",
   "metadata": {},
   "source": [
    "## Contributing\n",
    "If you would like to participate in the development of CLIMADA, carefully read the [Git and Development Guide](../guide/Guide_Git_Development.ipynb). Before making a new feature, discuss with one of the repository admins (Now Chahan, Emmanuel and David). Every new feature or enhancement should be done on a separate branch, which will be merged in the develop branch after being reviewed (see [Checklist](../guide/Guide_Reviewer_Checklist.ipynb)). Finally, the develop branch is merged in the main branch in each CLIMADA release. Each new feature should come with a tutorial and with [Unit and Integration Tests](../guide/Guide_Continuous_Integration_and_Testing.ipynb). "
   ]
  },
  {
   "cell_type": "markdown",
   "id": "connected-anthony",
   "metadata": {},
   "source": [
    "## Other Questions\n",
    "\n",
    "If you have any other questions, you might find some information in the [Miscellaneous guide](../guide/Guide_Miscellaneous.ipynb). If you cannot find you answer in the guides, you can open an [issue](https://github.com/CLIMADA-project/climada_python/issues) for somebody to help you."
   ]
  }
 ],
 "metadata": {
  "kernelspec": {
   "display_name": "climada_env",
   "language": "python",
   "name": "python3"
  },
  "language_info": {
   "codemirror_mode": {
    "name": "ipython",
    "version": 3
   },
   "file_extension": ".py",
   "mimetype": "text/x-python",
   "name": "python",
   "nbconvert_exporter": "python",
   "pygments_lexer": "ipython3",
   "version": "3.8.15 | packaged by conda-forge | (default, Nov 22 2022, 08:49:06) \n[Clang 14.0.6 ]"
  },
  "vscode": {
   "interpreter": {
    "hash": "fe76ddefd4ac3b756bca82b2809865e7c67c346a46477cb9eec4ead581742ab6"
   }
  }
 },
 "nbformat": 4,
 "nbformat_minor": 5
}
