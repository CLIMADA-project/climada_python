{
 "cells": [
  {
   "cell_type": "markdown",
   "metadata": {},
   "source": [
    "# Continuous Integration and GitHub Actions"
   ]
  },
  {
   "cell_type": "markdown",
   "metadata": {},
   "source": [
    "### Automated Tests\n",
    "\n",
    "On Jenkins tests are executed and analyzed automatically, in an unbiased environment. The results are stored and can be compared with previous test runs.\\\n",
    "Jenkins has a GUI for monitoring individual tests, full test runs and test result trands.\\\n",
    "Developers are requested to watch it. At first when they push commits to the code repository, but also later on, when other changes in data or sources may make it necessary to review and refactor code that once passed all tests.\n",
    "The CLIMADA Jenkins server used for continuous integration is at [(https://ied-wcr-jenkins.ethz.ch) ](https://ied-wcr-jenkins.ethz.ch).\n",
    "\n",
    "##### Developer guidelines:\n",
    "\n",
    "- All tests must pass before submitting a pull request.\n",
    "- Integration tests don't run on feature branches in Jenkins, therefore developers are requested to run them locally.\n",
    "- After a pull request was accepted and the changes are merged to the develop branch, integration tests may still fail there and have to be addressed."
   ]
  },
  {
   "cell_type": "markdown",
   "metadata": {},
   "source": [
    "### Test Coverage\n",
    "\n",
    "Jenkins also has an interface for exploring code coverage analysis result.\\\n",
    "This shows which part of the code has never been run in any test, by module, by function/method and even by single line of code.\n",
    "\n",
    "__Ultimately every single line of code should be tested.__\n",
    "\n",
    "##### Developer guidelines:\n",
    "\n",
    "- Make sure the coverage of novel code is at 100% before submitting a pull request.\n",
    "\n",
    "Be aware that the having a code coverage alone does not grant that all required tests have been written!\\\n",
    "The following artificial example would have a 100% coverage and still obviously misses a test for `y(False)`"
   ]
  },
  {
   "cell_type": "markdown",
   "metadata": {},
   "source": [
    "### Static Code Analysis\n",
    "\n",
    "At last Jenkins provides an elaborate GUI for pylint findings which is especially useful when working in feature branches.\n",
    "\n",
    "_Observe it!_\n",
    "\n",
    "##### Developer guidelines:\n",
    "\n",
    "- _High Priority Warnings_ are as severe as test failures and must be addressed at once.\n",
    "- Do not introduce new _Medium Priority Warnings_.\n",
    "- Try to avoid introducing _Low Priority Warnings_, in any case their total number should not increase."
   ]
  },
  {
   "cell_type": "markdown",
   "metadata": {},
   "source": [
    "\n",
    "### Jenkins Projects Overview\n",
    "\n",
    "* #### [climada_install_env](https://ied-wcr-jenkins.ethz.ch/job/climada_install_env/)\n",
    "  Branch: __develop__ \\\n",
    "  Runs every day at 1:30AM CET\n",
    "  - creates conda environment from scratch\n",
    "  - runs core functionality system test (`make install_test`)\n",
    "  \n",
    "* #### [climada_ci_night](https://ied-wcr-jenkins.ethz.ch/job/climada_ci_night/)\n",
    "  Branch: __develop__ \\\n",
    "  Runs when climada_install_env has finished successfully\n",
    "  - runs all test modules\n",
    "  - runs static code analysis\n",
    "\n",
    "* #### [climada_branches](https://ied-wcr-jenkins.ethz.ch/job/climada_branches/)\n",
    "  Branch: __any__ \\\n",
    "  Runs when a commit is pushed to the repository\n",
    "  - runs all test modules _outside of climada.test_\n",
    "  - runs static code analysis\n",
    "\n",
    "* #### [climada_data_api](https://ied-wcr-jenkins.ethz.ch/job/climada_data_api/)\n",
    "  Branch: __develop__ \\\n",
    "  Runs every day at 0:20AM CET\n",
    "  - tests availability of external data APIs\n",
    "  \n",
    "* #### [climada_data_api](https://ied-wcr-jenkins.ethz.ch/job/climada_data_api/)\n",
    "  Branch: __develop__ \\\n",
    "  No automated running\n",
    "  - tests executability of CLIMADA tutorial notebooks."
   ]
  },
  {
   "cell_type": "markdown",
   "metadata": {},
   "source": [
    "### GitHub Actions\n",
    "\n",
    "CLIMADA has been using a private Jenkins instance for automated testing (Continuous Integration, CI).\n",
    "We recently adopted [GitHub Actions](https://docs.github.com/en/actions) for automated unit testing.\n",
    "GitHub Actions is a service provided by GitHub, which lets you configure CI/CD pipelines based on YAML configuration files.\n",
    "GitHub provides servers which ample computational resources to create software environments, install software, test it, and deploy it.\n",
    "See the [GitHub Actions Overview](https://docs.github.com/en/actions/learn-github-actions/understanding-github-actions) for a technical introduction, and the [Workflow Syntax](https://docs.github.com/en/actions/using-workflows/workflow-syntax-for-github-actions) for a reference of the pipeline definitions.\n",
    "\n",
    "The CI results for each pull request can be inspected in the \"Checks\" tab.\n",
    "For GitHub Actions, users can inspect the logs of every step for every job.\n",
    "\n",
    "#### Note\n",
    "As of CLIMADA v4.0, the default CI technology remains Jenkins.\n",
    "GitHub Actions CI is currently considered experimental for CLIMADA development.\n",
    "\n",
    "#### Unit Testing Guideline\n",
    "This pipeline is defined by the ``.github/workflows/ci.yml`` file.\n",
    "It contains a single job which will create a CLIMADA environment with Mamba for multiple Python versions, install CLIMADA, run the unit tests, and report the test coverage as well as the simplified test results.\n",
    "The job has a [strategy](https://docs.github.com/en/actions/using-workflows/workflow-syntax-for-github-actions#jobsjob_idstrategy) which runs it for multiple times for different Python versions.\n",
    "This way, we make sure that CLIMADA is compatible with all currently supported versions of Python.\n",
    "\n",
    "The coverage reports in HTML format will be uploaded as job artifacts and can be downloaded as ZIP files.\n",
    "The test results are simple testing summaries that will appear as individual checks/jobs after the respective job completed."
   ]
  }
 ],
 "metadata": {
  "language_info": {
   "name": "python"
  }
 },
 "nbformat": 4,
 "nbformat_minor": 2
}
