{
 "cells": [
  {
   "cell_type": "markdown",
   "metadata": {},
   "source": [
    "# Using Climada on the Euler Cluster (ETH internal)"
   ]
  },
  {
   "cell_type": "markdown",
   "metadata": {},
   "source": [
    "\n",
    "## Access to Euler\n",
    "\n",
    "See https://scicomp.ethz.ch/wiki/Getting_started_with_clusters for details on how to register at and get started with Euler.\n",
    "\n",
    "For all steps below, first enter the Cluster via SSH."
   ]
  },
  {
   "cell_type": "markdown",
   "metadata": {
    "tags": []
   },
   "source": [
    "\n",
    "## Installation and working directories\n",
    "\n",
    "Please, get familiar with the various Euler storage options:  https://scicomp.ethz.ch/wiki/Storage_systems.<br>\n",
    "As a general rule: use `/cluster/project` for installation and `/cluster/work` for data processing.\n",
    "\n",
    "For ETH WCR group members, the suggested installation and working directories are `/cluster/project/climate/$USER` and `/cluster/work/climate/$USER` respectively.<br>\n",
    "You may have to create the installation directory:\n",
    "\n",
    "```bash\n",
    "mkdir -p /cluster/project/climate/$USER \\\n",
    "         /cluster/work/climate/$USER\n",
    "```"
   ]
  },
  {
   "cell_type": "markdown",
   "metadata": {},
   "source": [
    "\n",
    "## Pre-installed version of Climada\n",
    "\n",
    "Climada is pre-installed and available in the default pip environment of Euler."
   ]
  },
  {
   "cell_type": "markdown",
   "metadata": {},
   "source": [
    "\n",
    "### 1. Load dependencies\n",
    "\n",
    "Use the new software stack. Unless you have already done so, run `set_software_stack.sh new`.\n",
    "\n",
    "```bash\n",
    "module load gcc/8.2.0 python/3.10.4 hdf5/1.10.1 gdal/3.4.3 geos/3.9.1 proj/8.2.1 libspatialindex/1.9.3 netcdf/4.6.3 eccodes/2.31.0 zlib/1.2.9 libtiff/4.2.0 sqlite/3.35.5\n",
    "```\n",
    "\n",
    "You need to execute this every time you login to Euler before Climada can be used. \n",
    "To safe yourself from doing it manually, append these lines to the ~/.bashrc script, which is automatically executed upon logging in to Euler."
   ]
  },
  {
   "cell_type": "markdown",
   "metadata": {},
   "source": [
    "\n",
    "### 2. Check installation \n",
    "\n",
    "```bash\n",
    "python -c 'import climada; print(climada.__file__)'\n",
    "```\n",
    "\n",
    "should output something like this:\n",
    "\n",
    "```bash\n",
    "/cluster/apps/nss/gcc-8.2.0/python/3.10.4/x86_64/lib64/python3.10/site-packages/climada/__init__.py\n",
    "```"
   ]
  },
  {
   "cell_type": "markdown",
   "metadata": {},
   "source": [
    "\n",
    "### 3. Adjust the Climada configuration\n",
    "\n",
    "Edit a configuration file according to your needs (see [Guide_Configuration](../guide/Guide_Configuration.ipynb)).\n",
    "Create a climada.conf file e.g., in /cluster/home/$USER/.config with the following content:\n",
    "\n",
    "```json\n",
    "{\n",
    "    \"local_data\": {\n",
    "        \"system\": \"/cluster/work/climate/USERNAME/climada/data\",\n",
    "        \"demo\": \"/cluster/project/climate/USERNAME/climada/data/demo\",\n",
    "        \"save_dir\": \"/cluster/work/climate/USERNAME/climada/results\"\n",
    "    }\n",
    "}\n",
    "```\n",
    "(Replace USERNAME with your nethz-id.)"
   ]
  },
  {
   "cell_type": "markdown",
   "metadata": {},
   "source": [
    "\n",
    "### 4. Run a job\n",
    "\n",
    "Please see the docs at https://slurm.schedmd.com/ on how to use the `slurm` batch system \n",
    "and the Wiki https://scicomp.ethz.ch/wiki/Transition_from_LSF_to_Slurm for a mapping of `lsf` commands to their `slurm` equivalents.\n",
    "\n",
    "```bash\n",
    "cd /cluster/work/climate/$USER  # change to the working directory\n",
    "sbatch [slurm options*] --wrap 'python climada_job_script.py'  # submit the job\n",
    "```"
   ]
  },
  {
   "cell_type": "markdown",
   "metadata": {},
   "source": [
    "\n",
    "## Working with Git branches\n",
    "\n",
    "If the Climada version of the default installation is not according to your needs, you can install Climada from a local Git repository."
   ]
  },
  {
   "cell_type": "markdown",
   "metadata": {},
   "source": [
    "\n",
    "### 1. Load dependencies \n",
    "\n",
    "See [Load dependencies](#1.-load-dependencies) above."
   ]
  },
  {
   "cell_type": "markdown",
   "metadata": {},
   "source": [
    "\n",
    "### 2. Create installation environment\n",
    "\n",
    "```bash\n",
    "python -m venv --system-site-packages /cluster/project/climate/$USER/climada_venv\n",
    "```"
   ]
  },
  {
   "cell_type": "markdown",
   "metadata": {},
   "source": [
    "\n",
    "### 3. Checkout sources\n",
    "\n",
    "```bash\n",
    "cd /cluster/project/climate/$USER\n",
    "git clone https://github.com/CLIMADA-project/climada_python.git\n",
    "cd climada_python\n",
    "git checkout develop  # i.e., your branch of interest\n",
    "```"
   ]
  },
  {
   "cell_type": "markdown",
   "metadata": {},
   "source": [
    "\n",
    "### 4. Pip install Climada\n",
    "\n",
    "```bash\n",
    "source /cluster/project/climate/$USER/climada_venv/bin/activate\n",
    "pip install -e /cluster/project/climate/$USER/climada_python\n",
    "```"
   ]
  },
  {
   "cell_type": "markdown",
   "metadata": {},
   "source": [
    "\n",
    "### 5. Check installation\n",
    "\n",
    "```bash\n",
    "cd /cluster/work/climate/$USER\n",
    "python -c 'import climada; print(climada.__file__)'\n",
    "```\n",
    "\n",
    "should output exactly this (with explicit \\$USER):\n",
    "```bash\n",
    "/cluster/project/climate/$USER/climada_python/climada/__init__.py\n",
    "```"
   ]
  },
  {
   "cell_type": "markdown",
   "metadata": {},
   "source": [
    "\n",
    "### 6. Adjust the Climada configuration\n",
    "\n",
    "See [Adjust the Climada configuration](#3.-adjust-the-climada-configuration) above."
   ]
  },
  {
   "cell_type": "markdown",
   "metadata": {},
   "source": [
    "\n",
    "### 7. Run a job\n",
    "\n",
    "See [Run a job](#4.-run-a-job) above."
   ]
  },
  {
   "cell_type": "markdown",
   "metadata": {},
   "source": [
    "\n",
    "## Fallback: Conda\n",
    "\n",
    "If Climada cannot be installed through pip because of changed dependency requirements, there is still the possibility to install Climada through the Conda environment.\n",
    "> **WARNING:** This approach is highly discouraged, as it imposes a heavy and mostly unnecessary burden on the file system of the cluster."
   ]
  },
  {
   "cell_type": "markdown",
   "metadata": {},
   "source": [
    "### Installation\n",
    "\n",
    "#### 1. Conda\n",
    "\n",
    "Download or update to the latest version of [Miniconda](https://conda.io/miniconda.html).<br>\n",
    "Installation is done by execution of the following steps:\n",
    "\n",
    "```bash\n",
    "cd /cluster/project/climate/USERNAME\n",
    "wget https://repo.anaconda.com/miniconda/Miniconda3-latest-Linux-x86_64.sh\n",
    "bash Miniconda3-latest-Linux-x86_64.sh\n",
    "miniconda3/bin/conda init\n",
    "rm Miniconda3-latest-Linux-x86_64.sh\n",
    "```\n",
    "\n",
    "During the installation process of Miniconda, you are prompted to set the working directory according to your choice.\n",
    "Set it to `/cluster/project/climate/USERNAME/miniconda3`.<br>\n",
    "Once the installation has finished, log out of Euler and in again. The command prompt should be preceded by `(base)`, \n",
    "indicating that the installation was a success and that you login in into conda's base environment by default."
   ]
  },
  {
   "cell_type": "markdown",
   "metadata": {},
   "source": [
    "#### 2. Checkout sources \n",
    "\n",
    "See [Checkout sources](#3.-Checkout-sources) above."
   ]
  },
  {
   "cell_type": "markdown",
   "metadata": {},
   "source": [
    "#### 3. Climada environment\n",
    "\n",
    "Create the conda environment:\n",
    "\n",
    "```bash\n",
    "cd /cluster/project/climate/USERNAME/climada_python\n",
    "conda env create -f requirements/env_climada.yml --name climada_env\n",
    "conda env update -n climada_env -f requirements/env_developer.yml\n",
    "\n",
    "conda activate climada_env\n",
    "conda install conda-build\n",
    "conda develop .\n",
    "```"
   ]
  },
  {
   "cell_type": "markdown",
   "metadata": {},
   "source": [
    "#### 4. Adjust the Climada configuration\n",
    "\n",
    "See [Adjust the Climada configuration](#3.-Adjust-the-Climada-configuration) above."
   ]
  },
  {
   "cell_type": "markdown",
   "metadata": {},
   "source": [
    "#### 5. Climada scripts \n",
    "\n",
    "Create a bash script for executing python scripts in the climada environment, `climadajob.sh`:\n",
    "```bash\n",
    "#!/bin/bash\n",
    "PYTHON_SCRIPT=$1\n",
    "shift\n",
    ". ~/.bashrc\n",
    "conda activate climada_env\n",
    "python $PYTHON_SCRIPT $@\n",
    "echo $PYTHON_SCRIPT completed\n",
    "```\n",
    "\n",
    "Make it executable:\n",
    "\n",
    "```bash\n",
    "chmod +x climadajob.sh\n",
    "```\n",
    "\n",
    "Create a python script that executes climada code, e.g., `climada_smoke_test.py`:\n",
    "\n",
    "```python\n",
    "import sys\n",
    "from climada import CONFIG, SYSTEM_DIR\n",
    "from climada.util.test.test_finance import TestNetpresValue\n",
    "TestNetpresValue().test_net_pres_val_pass()\n",
    "print(SYSTEM_DIR)\n",
    "print(CONFIG.local_data.save_dir.str())\n",
    "print(\"the script ran with arguments\", sys.argv)\n",
    "```"
   ]
  },
  {
   "cell_type": "markdown",
   "metadata": {},
   "source": [
    "#### 6. Run a job \n",
    "\n",
    "With the scripts from above you can submit the python script as a job like this:\n",
    "\n",
    "```bash\n",
    "sbatch [slurm options] --wrap \"/path/to/climadajob.sh /path/to/climada_smoke_test.py arg1 arg2\"\n",
    "```\n",
    "\n",
    "After the job has finished the slurm output file should look something like this:\n",
    "\n",
    "```\n",
    "/cluster/work/climate/USERNAME/climada/data\n",
    "/cluster/work/climate/USERNAME/climada/results\n",
    "the script ran with arguments ['/path/to/climada_smoke_test.py', 'arg1' 'arg2']\n",
    "python_script.sh completed\n",
    "```\n",
    "\n",
    "Please see the docs at https://slurm.schedmd.com/ on how to use the `slurm` batch system \n",
    "and the Wiki https://scicomp.ethz.ch/wiki/Transition_from_LSF_to_Slurm for a mapping of `lsf` commands to their `slurm` equivalents."
   ]
  },
  {
   "cell_type": "markdown",
   "metadata": {},
   "source": [
    "### Deinstallation"
   ]
  },
  {
   "cell_type": "markdown",
   "metadata": {},
   "source": [
    "#### 1. Conda \n",
    "\n",
    "Remove the miniconda3 directory from the installation directory:\n",
    "\n",
    "```bash\n",
    "rm -rf /cluster/project/climate/USERNAME/miniconda3/\n",
    "```\n",
    "\n",
    "Delete the conda related parts from `/cluster/home/USERNAME/.bashrc`, i.e., everything between\n",
    "\n",
    "`# >>> conda initialize >>>`\\\n",
    "and\\\n",
    "`# <<< conda initialize <<<`"
   ]
  },
  {
   "cell_type": "markdown",
   "metadata": {},
   "source": [
    "#### 2. Climada\n",
    "\n",
    "Remove the climada sources and config file:\n",
    "\n",
    "```bash\n",
    "rm -rf /cluster/project/climate/USERNAME/climada_python\n",
    "rm -f /cluster/home/USERNAME/climada.conf /cluster/home/USERNAME/*/climada.conf\n",
    "```"
   ]
  },
  {
   "cell_type": "markdown",
   "metadata": {},
   "source": [
    "\n",
    "## Run Jupyter Notebook on Euler"
   ]
  },
  {
   "cell_type": "markdown",
   "metadata": {},
   "source": [
    "It is possible to run a Jupyter Notebook on Euler within a JupytherHub instance running as an interactive slurm job.\n",
    "See the documentation https://scicomp.ethz.ch/wiki/JupyterHub.\n",
    "\n",
    "For using climada inside the jupyter notebook, create a `.jupyterlabrc` file in your Euler home directory with the following content:\n",
    "\n",
    "```\n",
    "module purge\n",
    "module load StdEnv gcc/8.2.0 python_gpu/3.10.4 eth_proxy r/4.2.2 julia/1.8.5 hdf5/1.10.1 gdal/3.4.3 geos/3.9.1 proj/8.2.1 libspatialindex/1.9.3 netcdf/4.6.3 eccodes/2.31.0 zlib/1.2.9 libtiff/4.2.0 sqlite/3.35.5\n",
    "```\n",
    "\n",
    "Then login to https://jupyter.euler.hpc.ethz.ch/ and start a JupyterLab server."
   ]
  },
  {
   "cell_type": "markdown",
   "metadata": {},
   "source": [
    "\n",
    "### Using a virtual environment in a Jupyter notebook\n",
    "\n",
    "By default the pre-installed climada version is running in your notebooks. If you want to use climada from source you can simply install a python kernel from the `climada_venv` environment, see [Working with Git branches](#working-with-git-branches)\n",
    "\n",
    "Install an IPyhton-kernel:\n",
    "\n",
    "```bash\n",
    "source /cluster/project/climate/$USER/climada_venv/bin/activate\n",
    "python -m ipykernel install --user --name climada_venv\n",
    "```\n",
    "\n",
    "Start a new JupyterLab server, the `climada_venv` kernel should appear in the list of available kernels in JupyterHub."
   ]
  },
  {
   "cell_type": "markdown",
   "metadata": {},
   "source": [
    "\n",
    "## Trouble shooting\n",
    "\n",
    "### 1. Python Module not found or available\n",
    "\n",
    "- Make sure your python environment is activated.\n",
    "- Run `pip install --upgrade MISSING_MODULE`.\n",
    "\n",
    "### 2. Upgrading from Python 3.9 to 3.10\n",
    "\n",
    "Virtual environments created with Python 3.9 are i.g. not working for Python 3.10.\n",
    "In particular Python kernels from 3.9 environments will fail to connect in a Jupyter notebook on  https://jupyter.euler.hpc.ethz.ch/.\n",
    "\n",
    "- It's suggested to create new environments and remove the old kernels from `~/.local/share/jupyter/kernels/`."
   ]
  }
 ],
 "metadata": {
  "kernelspec": {
   "display_name": "climada_env",
   "language": "python",
   "name": "python3"
  },
  "language_info": {
   "codemirror_mode": {
    "name": "ipython",
    "version": 3
   },
   "file_extension": ".py",
   "mimetype": "text/x-python",
   "name": "python",
   "nbconvert_exporter": "python",
   "pygments_lexer": "ipython3",
   "version": "3.8.13 | packaged by conda-forge | (default, Mar 25 2022, 06:05:47) \n[Clang 12.0.1 ]"
  },
  "vscode": {
   "interpreter": {
    "hash": "4aebf7f26d9a9d4c9696d8ddcd034589cd11abb7fe515057c687f2f3cec840ea"
   }
  }
 },
 "nbformat": 4,
 "nbformat_minor": 4
}
