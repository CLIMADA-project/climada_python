{
 "cells": [
  {
   "cell_type": "markdown",
   "id": "prerequisite-management",
   "metadata": {},
   "source": [
    "\n",
    "# Introduction\n",
    "\n",
    "CLIMADA implements a fully probabilistic risk assessment model.\n",
    "According to the IPCC [[1]](#1), natural risks emerge through the\n",
    "interplay of climate and weather-related hazards, the exposure of goods\n",
    "or people to this hazard, and the specific vulnerability of exposed\n",
    "people, infrastructure and environment. The unit chosen to measure risk\n",
    "has to be the most relevant one in a specific decision problem, not\n",
    "necessarily monetary units. Wildfire hazard might be measured by burned\n",
    "area, exposure by population or replacement value of homes and hence\n",
    "risk might be expressed as number of affected people in the context of\n",
    "evacuation, or repair cost of buildings in the context of property\n",
    "insurance.\n",
    "\n",
    "Risk has been defined by the International Organization for\n",
    "Standardization as the \"effect of uncertainty on objectives\" as the\n",
    "potential for consequences when something of value is at stake and the\n",
    "outcome is uncertain, recognizing the diversity of values. Risk can then\n",
    "be quantified as the combination of the probability of a consequence and\n",
    "its magnitude:\n",
    "\n",
    "$$risk = probability \\times severity$$\n",
    "\n",
    "In the simplest case, $\\times$ stands for a multiplication, but more\n",
    "generally, it represents a convolution of the respective distributions\n",
    "of probability and severity. We approximate the $severity$ as follows:\n",
    "\n",
    "$$severity = F(hazard \\text{  } intensity, exposure, vulnerability) = exposure * f_{imp}(hazard \\text{  } intensity)$$\n",
    "\n",
    "where $f_{imp}$ is the impact function which parametrizes to what extent\n",
    "an exposure will be affected by a specific hazard. While 'vulnerability\n",
    "function' is broadly used in the modelers community, we refer to it as\n",
    "'impact function' to explicitly include the option of opportunities\n",
    "(i.e. negative damages). Using this approach, CLIMADA constitutes a\n",
    "platform to analyse risks of different hazard types in a globally\n",
    "consistent fashion at different resolution levels, at scales from\n",
    "multiple kilometres down to meters, depending on the purpose.\n",
    "\n",
    "\n",
    "<br/><br/>\n",
    "\n",
    "## References\n",
    "<a id=\"1\">[1]</a> \n",
    "IPCC: Climate Change 2014: Impacts, Adaptation and Vulnerability.\n",
    "    Part A: Global and Sectoral Aspects. Contribution of Working Group\n",
    "    II to the Fifth Assessment Report of the Intergovernmental Panel on\n",
    "    Climate Change,\n",
    "    edited by C. B. Field, V. R. Barros, D. J.\n",
    "    Dokken, K. J. Mach, M. D. Mastrandrea, T. E. Bilir, M.\n",
    "    Chatterjee, K. L. Ebi, Y. O. Estrada, R. C. Genova, B. Girma, E. S.\n",
    "    Kissel, A. N. Levy, S. MacCracken, P. R. Mastrandrea, and L. L.\n",
    "    White,\n",
    "    Cambridge University Press, United Kingdom and New York, NY,\n",
    "    USA., 2014."
   ]
  }
 ],
 "metadata": {
  "kernelspec": {
   "display_name": "Python 3",
   "language": "python",
   "name": "python3"
  },
  "language_info": {
   "codemirror_mode": {
    "name": "ipython",
    "version": 3
   },
   "file_extension": ".py",
   "mimetype": "text/x-python",
   "name": "python",
   "nbconvert_exporter": "python",
   "pygments_lexer": "ipython3",
   "version": "3.8.8"
  }
 },
 "nbformat": 4,
 "nbformat_minor": 5
}
