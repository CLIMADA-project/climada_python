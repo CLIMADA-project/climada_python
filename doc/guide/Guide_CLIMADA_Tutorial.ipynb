{
 "cells": [
  {
   "cell_type": "markdown",
   "metadata": {},
   "source": [
    "# CLIMADA Tutorial Template"
   ]
  },
  {
   "attachments": {},
   "cell_type": "markdown",
   "metadata": {},
   "source": [
    "## Why tutorials\n",
    "\n",
    "**Main goal:**\n",
    "\n",
    "The main goal of the tutorials is it to give a complete overview on:\n",
    "\n",
    "- essential CLIMADA components\n",
    "- introduce newly developed modules and features\n",
    "\n",
    "More specifically, tutorials should introduce CLIMADA users to the core functionalities and modules and guide users in their application. Hence, each new module created needs to be accompanied with a tutorial. The following sections give an overview of the basic structure desired for CLIMADA tutorials.\n",
    "\n",
    "**Important:**\n",
    "\n",
    "A tutorial needs to be included with the final pull request for every new feature."
   ]
  },
  {
   "attachments": {},
   "cell_type": "markdown",
   "metadata": {},
   "source": [
    "## Basic structure\n",
    "\n",
    "Every tutorial should cover the following main points. Additional features characteristic to the modules presented can and should be added as seen fit."
   ]
  },
  {
   "attachments": {},
   "cell_type": "markdown",
   "metadata": {},
   "source": [
    "### Introduction\n",
    "\n",
    "- What is the feature presented?\\\n",
    "  Briefly describe the feature and introduce how it's presented in the CLIMADA framework.\n",
    "\n",
    "- What is its data structure?\\\n",
    "  Present and overview (in the form of a table for example) of where the feature is built into CLIMADA. What class does it belong to, what are the variables of the feature, what is their data structure.\n",
    "\n",
    "- Table of content:\\\n",
    "  How is this tutorial structured?"
   ]
  },
  {
   "cell_type": "markdown",
   "metadata": {},
   "source": [
    "### Illustration of feature functionality and application\n",
    "\n",
    "Walk users through the core functions of the module and illustrate how the feature can be used. This obviously is dependent on the feature itself.\n",
    "A few core points should be considered when creating the tutorial:\n",
    "\n",
    "- **SIZE MATTERS!** \n",
    "  - each notebook as a total should not exceed the critical (yet vague) size of \"a couple MB\"\n",
    "  - keep the size of data you use as examples in the tutorial in mind\n",
    "  - we aim for computational efficiency\n",
    "  - a lean, well-organized, concise notebook is more informative than a long, messy all-encompassing one.\n",
    "- follow the general CLIMADA naming convention for the notebook. For example: \"climada_hazard_TropCyclone.ipynb\""
   ]
  },
  {
   "attachments": {},
   "cell_type": "markdown",
   "metadata": {},
   "source": [
    "## Good examples\n",
    "\n",
    "The following examples can be used as templates and inspiration for your tutorial:\n",
    "\n",
    "- [Exposure tutorial](https://github.com/CLIMADA-project/climada_python/blob/main/doc/tutorial/climada_entity_Exposures.ipynb)\n",
    "- [Hazard tutorial](https://github.com/CLIMADA-project/climada_python/blob/main/doc/tutorial/climada_hazard_Hazard.ipynb)"
   ]
  },
  {
   "attachments": {},
   "cell_type": "markdown",
   "metadata": {},
   "source": [
    "## Use only Markdown for headers and table of content\n",
    "\n",
    "To create headers or a table of content with links, avoid using *hmtl* and prefer instead purely *Markdown* syntax. Follow *Markdown* conventions in the [Markdown Guide](https://www.markdownguide.org/basic-syntax/) and the following key points presented in the section below to know how to use correct *Markdown* syntax which is consistent with the rest of CLIMADA documentation. If in doubt, check existing tutorials to see how it is done."
   ]
  },
  {
   "attachments": {},
   "cell_type": "markdown",
   "metadata": {},
   "source": [
    "### Headers\n",
    "\n",
    "To structure your tutorial, use headers of different levels to create sections and subsections.\n",
    "\n",
    "To create an header, write the symbol (#) before your header name\n",
    "\n",
    "**'#'** : create a header of level 1\n",
    "\n",
    "**'##'** : create a header of level 2 \n",
    "\n",
    "**'###'** : create a header of level 3 \n",
    "\n",
    "**'####'** : create a header of level 4 \n",
    "\n",
    "The title of the tutorial should be of level 1 (#), should have its own cell, and should be the first cell of the notebook."
   ]
  },
  {
   "attachments": {},
   "cell_type": "markdown",
   "metadata": {},
   "source": [
    "## Table of content\n",
    "\n",
    "The second cell of the notebook should be the table of content and should have a header name *'Content'* and a level of 2 (##).\n",
    "\n",
    "To create the table of content, avoid using numbers to list the different sections, prefer instead simple dots by using '**-**' :\n",
    "\n",
    "\n",
    "-\n",
    "-\n",
    "\n",
    "\n",
    "Instead of numbers :\n",
    "\n",
    "1.\n",
    "2.\n",
    "\n",
    "\n",
    "Additionally, the table of content should only contain headers of level 2 (##).\n",
    "\n",
    "To create a link from the table of content to a certain section of the tutorial, write [Name of your choice] followed by (#Exactly-the-header-name-you-want-to-direct-the-user-to).\n",
    "\n",
    "Remember to fill white spaces with '-' and that links to headers are case sensitive! (#This-paRt-Is-CaSe-sEnSitIve).\n",
    "\n",
    "See the syntax of the example below to create a table of content. \n"
   ]
  },
  {
   "attachments": {},
   "cell_type": "markdown",
   "metadata": {},
   "source": [
    "### Input:\n",
    "\n",
    "```markdown\n",
    "## Content\n",
    "\n",
    "- [My first header](#My-first-header)\n",
    "- [My second header](#My-second-header)\n",
    "- [My third header](#My-third-header)\n",
    "\n",
    "```\n",
    "\n",
    "### Output:\n",
    "\n",
    "## Content\n",
    "\n",
    "- [My first header](#My-first-header)\n",
    "- [My second header](#My-second-header)\n",
    "- [My third header](#My-third-header)"
   ]
  }
 ],
 "metadata": {
  "kernelspec": {
   "display_name": "Python 3 (ipykernel)",
   "language": "python",
   "name": "python3"
  },
  "language_info": {
   "codemirror_mode": {
    "name": "ipython",
    "version": 3
   },
   "file_extension": ".py",
   "mimetype": "text/x-python",
   "name": "python",
   "nbconvert_exporter": "python",
   "pygments_lexer": "ipython3",
   "version": "3.8.12"
  },
  "toc": {
   "base_numbering": 1,
   "nav_menu": {},
   "number_sections": true,
   "sideBar": true,
   "skip_h1_title": false,
   "title_cell": "Table of Contents",
   "title_sidebar": "Contents",
   "toc_cell": false,
   "toc_position": {},
   "toc_section_display": true,
   "toc_window_display": false
  }
 },
 "nbformat": 4,
 "nbformat_minor": 4
}
