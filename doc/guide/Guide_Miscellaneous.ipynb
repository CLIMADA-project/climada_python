{
 "cells": [
  {
   "cell_type": "markdown",
   "metadata": {
    "slideshow": {
     "slide_type": "slide"
    }
   },
   "source": [
    "# Miscellaneous CLIMADA conventions"
   ]
  },
  {
   "cell_type": "markdown",
   "metadata": {
    "slideshow": {
     "slide_type": "slide"
    },
    "toc": true
   },
   "source": [
    "<h1>Table of Contents<span class=\"tocSkip\"></span></h1>\n",
    "<div class=\"toc\"><ul class=\"toc-item\"><li><span><a href=\"#Miscellaneous-CLIMADA-conventions\" data-toc-modified-id=\"Miscellaneous-CLIMADA-conventions-1\"><span class=\"toc-item-num\">1&nbsp;&nbsp;</span>Miscellaneous CLIMADA conventions</a></span><ul class=\"toc-item\"><li><span><a href=\"#Dependencies-(python-packages)\" data-toc-modified-id=\"Dependencies-(python-packages)-1.1\"><span class=\"toc-item-num\">1.1&nbsp;&nbsp;</span>Dependencies (python packages)</a></span></li><li><span><a href=\"#Class-inheritance\" data-toc-modified-id=\"Class-inheritance-1.2\"><span class=\"toc-item-num\">1.2&nbsp;&nbsp;</span>Class inheritance</a></span></li><li><span><a href=\"#Does-it-belong-into-CLIMADA?\" data-toc-modified-id=\"Does-it-belong-into-CLIMADA?-1.3\"><span class=\"toc-item-num\">1.3&nbsp;&nbsp;</span>Does it belong into CLIMADA?</a></span></li><li><span><a href=\"#Paper-repository\" data-toc-modified-id=\"Paper-repository-1.4\"><span class=\"toc-item-num\">1.4&nbsp;&nbsp;</span>Paper repository</a></span></li><li><span><a href=\"#Utility-function\" data-toc-modified-id=\"Utility-function-1.5\"><span class=\"toc-item-num\">1.5&nbsp;&nbsp;</span>Utility function</a></span></li><li><span><a href=\"#Impact-function-renaming---if-to-impf\" data-toc-modified-id=\"Impact-function-renaming---if-to-impf-1.6\"><span class=\"toc-item-num\">1.6&nbsp;&nbsp;</span>Impact function renaming - if to impf</a></span></li></ul></li></ul></div>"
   ]
  },
  {
   "cell_type": "markdown",
   "metadata": {
    "slideshow": {
     "slide_type": "slide"
    }
   },
   "source": [
    "## Dependencies (python packages) "
   ]
  },
  {
   "cell_type": "markdown",
   "metadata": {
    "slideshow": {
     "slide_type": "slide"
    }
   },
   "source": [
    "Python is extremely powerful thanks to the large amount of available libraries, packages and modules. However, maintaining a code with a large number of such packages creates dependencies which is very care intensive. Indeed, each package developer can and does update and develop continuously. This means that certain code can become obsolete over time, stop working altogether, or become incompatible with other packages. Hence, it is crucial to keep the philosophie:\n",
    "\n",
    "*As many packages as needed, as few as possible.*\n",
    "\n",
    "Thus, when you are coding, follow these priorities:\n",
    "\n",
    "1. [Python standard library](https://docs.python.org/3/library/index.html)\n",
    "2. Funktions and methods already implemented in CLIMADA (do NOT introduce circulary imports though)\n",
    "3. [Packages already included in CLIMADA](https://github.com/CLIMADA-project/climada_python/network/dependencies)\n",
    "4. Before adding a new dependency: \n",
    "    - Contact a [repository admin](https://github.com/CLIMADA-project/climada_python/people) to get permission\n",
    "    - Open an [issue](https://github.com/CLIMADA-project/climada_python/issues)\n",
    "    \n",
    "Hence, first try to solve your problem with the standard library and funktion/methods already implemented in CLIMADA (see in particular the [util functions](#id)) then use the packages included in CLIMADA, and if this is not enough, propose the addition of a new package. Do not hesitate to propose new packages if this is needed for your work!"
   ]
  },
  {
   "cell_type": "markdown",
   "metadata": {},
   "source": [
    "## Class inheritance "
   ]
  },
  {
   "cell_type": "markdown",
   "metadata": {},
   "source": [
    "In Python, a [class can inherit from other classes](https://docs.python.org/3/tutorial/classes.html), which is a very useful mechanism in certain circumstantce. However, it is wise to think about inheritance before implementing it. Very important, is that CLIMADA classes do not inherit from external library classes. For example, Exposure directly inherited from Geopandas. This caused problems in CLIMADA when the package Geopandas was updated.\n",
    "\n",
    "**CLIMADA classes shall NOT inherit classes from external modules**"
   ]
  },
  {
   "cell_type": "markdown",
   "metadata": {
    "slideshow": {
     "slide_type": "slide"
    }
   },
   "source": [
    "## Does it belong into CLIMADA? "
   ]
  },
  {
   "cell_type": "markdown",
   "metadata": {
    "slideshow": {
     "slide_type": "slide"
    }
   },
   "source": [
    "When developing for CLIMADA, it is important to distinguish between core content and particular applications. Core content is meant to be included into the [climada_python](https://github.com/CLIMADA-project/climada_python) repository and will be subject to a code review. Any new addition should first be discussed with one of the [repository admins](https://github.com/CLIMADA-project/climada_python/people). The purpose of this discussion is to see\n",
    "\n",
    "- How does the planed module fit into CLIMADA?\n",
    "- What is an optimal architecture for the new module?\n",
    "- What parts might already exist in other parts of the code?\n",
    "\n",
    "Applications made with CLIMADA, such as an [ECA study](https://eca-network.org/) can be stored in the [paper repository](https://github.com/CLIMADA-project/climada_papers) once they have been published. For other types of work, consider making a separate repository that imports CLIMADA as an external package."
   ]
  },
  {
   "cell_type": "markdown",
   "metadata": {
    "slideshow": {
     "slide_type": "slide"
    }
   },
   "source": [
    "## Paper repository "
   ]
  },
  {
   "cell_type": "markdown",
   "metadata": {
    "slideshow": {
     "slide_type": "slide"
    }
   },
   "source": [
    "Applications made with CLIMADA which are published in the form of a paper or a report are very much encouraged to be submited to the [climada/paper](https://github.com/CLIMADA-project/climada_papers) repository. You can either:\n",
    "\n",
    "- Prepare a well-commented jupyter notebook with the code necessary to reproduce your results and upload it to the [climada/paper](https://github.com/CLIMADA-project/climada_papers) repository. Note however that the repository cannot be used for storing data files.\n",
    "- Upload the code necessary to reproduce your results to a separate repository of your own. Then, add a link to your repository and to your publication to the readme file on the [climada/paper](https://github.com/CLIMADA-project/climada_papers) repository.\n",
    "\n",
    "**Notes about DOI**\n",
    "\n",
    "Some journals requires you to provide a DOI to the code and data used for your publication. In this case, we encourage to create a separate repository for your code and create a DOI using [Zenodo](https://zenodo.org/) or any specific service from your institution (e.g. [ETH Zürich](https://documentation.library.ethz.ch/display/DOID/DOI+Registration+Manual)).\n",
    "\n",
    "The CLIMADA releases are also identified with a DOI."
   ]
  },
  {
   "cell_type": "markdown",
   "metadata": {
    "ExecuteTime": {
     "end_time": "2021-01-15T07:55:22.871166Z",
     "start_time": "2021-01-15T07:55:22.865903Z"
    }
   },
   "source": [
    "<a id=\"id\"></a>"
   ]
  },
  {
   "cell_type": "markdown",
   "metadata": {
    "slideshow": {
     "slide_type": "slide"
    }
   },
   "source": [
    "## Utility function"
   ]
  },
  {
   "cell_type": "markdown",
   "metadata": {
    "slideshow": {
     "slide_type": "slide"
    }
   },
   "source": [
    "In CLIMADA, there is a set of utility functions defined in `climada.util`. A few examples are:\n",
    "\n",
    "- convert large monetary numbers into thousands, millions or billions together with the correct unit name\n",
    "- compute distances\n",
    "- load hdf5 files\n",
    "- convert iso country numbers between formats\n",
    "- ...\n",
    "\n",
    "Whenever you develop a module or make a code review, be attentive to see whether a given functionnality has already been implemented as a utility function. In addition, think carefully whether a given function/method does belong in its module or is actually independent of any particular module and should be defined as a utility function.\n",
    "\n",
    "It is very important to not reinvent the wheel and to avoid unnecessary redundancies in the code. This makes maintenance and debugging very tedious."
   ]
  },
  {
   "cell_type": "markdown",
   "metadata": {
    "slideshow": {
     "slide_type": "slide"
    }
   },
   "source": [
    "## Impact function renaming - if to impf "
   ]
  },
  {
   "cell_type": "markdown",
   "metadata": {
    "slideshow": {
     "slide_type": "slide"
    }
   },
   "source": [
    "In the original CLIMADA code, the impact function is often referred to as `if` or `if_`. This is easy to confuse with the conditional operator *if*. Hence, in future a transition from\n",
    "\n",
    "`if` ---------> `impf`\n",
    "\n",
    "will be performed. Once the change is active, known developers will be notified and this message updated."
   ]
  }
 ],
 "metadata": {
  "celltoolbar": "Slideshow",
  "hide_input": false,
  "kernelspec": {
   "display_name": "Python [conda env:climada_151]",
   "language": "python",
   "name": "conda-env-climada_151-py"
  },
  "language_info": {
   "codemirror_mode": {
    "name": "ipython",
    "version": 3
   },
   "file_extension": ".py",
   "mimetype": "text/x-python",
   "name": "python",
   "nbconvert_exporter": "python",
   "pygments_lexer": "ipython3",
   "version": "3.7.9"
  },
  "latex_envs": {
   "LaTeX_envs_menu_present": true,
   "autoclose": false,
   "autocomplete": true,
   "bibliofile": "biblio.bib",
   "cite_by": "apalike",
   "current_citInitial": 1,
   "eqLabelWithNumbers": true,
   "eqNumInitial": 1,
   "hotkeys": {
    "equation": "Ctrl-E",
    "itemize": "Ctrl-I"
   },
   "labels_anchors": false,
   "latex_user_defs": false,
   "report_style_numbering": false,
   "user_envs_cfg": false
  },
  "toc": {
   "base_numbering": 1,
   "nav_menu": {},
   "number_sections": true,
   "sideBar": true,
   "skip_h1_title": false,
   "title_cell": "Table of Contents",
   "title_sidebar": "Contents",
   "toc_cell": true,
   "toc_position": {
    "height": "625.2px",
    "left": "390px",
    "top": "110.117px",
    "width": "316.8px"
   },
   "toc_section_display": true,
   "toc_window_display": true
  }
 },
 "nbformat": 4,
 "nbformat_minor": 4
}
