{
 "cells": [
  {
   "cell_type": "markdown",
   "metadata": {
    "editable": true,
    "slideshow": {
     "slide_type": "slide"
    },
    "tags": []
   },
   "source": [
    "# CLIMADA coding conventions"
   ]
  },
  {
   "cell_type": "markdown",
   "metadata": {
    "editable": true,
    "slideshow": {
     "slide_type": "slide"
    },
    "tags": []
   },
   "source": [
    "## Dependencies (python packages) "
   ]
  },
  {
   "cell_type": "markdown",
   "metadata": {
    "editable": true,
    "slideshow": {
     "slide_type": "slide"
    },
    "tags": []
   },
   "source": [
    "Python is extremely powerful thanks to the large amount of available libraries, packages and modules. However, maintaining a code with a large number of such packages creates dependencies which is very care intensive. Indeed, each package developer can and does update and develop continuously. This means that certain code can become obsolete over time, stop working altogether, or become incompatible with other packages. Hence, it is crucial to keep the philosophy:\n",
    "\n",
    "*As many packages as needed, as few as possible.*\n",
    "\n",
    "Thus, when you are coding, follow these priorities:\n",
    "\n",
    "1. [Python standard library](https://docs.python.org/3/library/index.html)\n",
    "2. Functions and methods already implemented in CLIMADA (do NOT introduce circulary imports though)\n",
    "3. [Packages already included in CLIMADA](https://github.com/CLIMADA-project/climada_python/network/dependencies)\n",
    "4. Before adding a new dependency: \n",
    "    - Contact a [repository admin](https://github.com/CLIMADA-project/climada_python/wiki/Developer-Board) to get permission\n",
    "    - Open an [issue](https://github.com/CLIMADA-project/climada_python/issues)\n",
    "    \n",
    "Hence, first try to solve your problem with the standard library and function/methods already implemented in CLIMADA (see in particular the [utility functions](#Utility-functions)) then use the packages included in CLIMADA, and if this is not enough, propose the addition of a new package. Do not hesitate to propose new packages if this is needed for your work!"
   ]
  },
  {
   "cell_type": "markdown",
   "metadata": {
    "editable": true,
    "slideshow": {
     "slide_type": ""
    },
    "tags": []
   },
   "source": [
    "## Class inheritance "
   ]
  },
  {
   "cell_type": "markdown",
   "metadata": {
    "editable": true,
    "slideshow": {
     "slide_type": ""
    },
    "tags": []
   },
   "source": [
    "In Python, a [class can inherit from other classes](https://docs.python.org/3/tutorial/classes.html), which is a very useful mechanism in certain circumstances. However, it is wise to think about inheritance before implementing it. Very important to note, that CLIMADA classes DO NOT inherit from external library classes. For example, if `Exposure` class is directly inherited from the external package `Geopandas`, it may cause problems in CLIMADA if `Geopandas` is updated.\n",
    "\n",
    "**CLIMADA classes shall NOT inherit classes from external modules.**"
   ]
  },
  {
   "cell_type": "markdown",
   "metadata": {},
   "source": [
    "## Avoid attribute-style accesses"
   ]
  },
  {
   "cell_type": "markdown",
   "metadata": {},
   "source": [
    "CLIMADA developers shall use item-style access instead of attribute-style access (e.g. centroids.gdf[\"dist_coast\"] instead of centroids.gdf.dist_coast) when accessing a column (in the example: “dist_coast”) in a DataFrame or GeoDataFrame, or variables and attributes of xarray Datasets and DataArrays.\n",
    "\n",
    "Reasons are: Improved syntax highlighting, more consistency (since in many cases you cannot use attribute-style access, so you are forced to fall back to item-style access), avoid mixing up attribute and column names. "
   ]
  },
  {
   "cell_type": "markdown",
   "metadata": {
    "editable": true,
    "slideshow": {
     "slide_type": "slide"
    },
    "tags": []
   },
   "source": [
    "## Code formatting\n",
    "\n",
    "Consistent code formatting is crucial for any project, especially open-source ones. It enhances readability, reduces cognitive load, and makes collaboration easier by ensuring that code looks the same regardless of who wrote it. Uniform formatting helps avoiding unnecessary differences in version control, focusing reviewson functional changes rather than stylistic differences."
   ]
  },
  {
   "cell_type": "markdown",
   "metadata": {
    "editable": true,
    "slideshow": {
     "slide_type": "slide"
    },
    "tags": []
   },
   "source": [
    "### Pull requests checks\n",
    "\n",
    "Currently, the CI/CD pipeline checks that:\n",
    "\n",
    "1. Every files end with a newline\n",
    "2. There are no trailing whitespace at the end of lines.\n",
    "3. All `.py` and `.ipynb` files are formatted following `black` convention\n",
    "4. Import statements are sorted following `isort` convention\n",
    "\n",
    "Note that most text editors usually take care of 1. and 2. by default.\n",
    "\n",
    "Please note that pull requests will not be merged if these checks fail. The easiest way to ensure this, is to use [pre-commit hooks](guide-pre-commit-hooks), which will allow you to both run the checks and apply fixes when creating a new commit.\n",
    "Following the [advanced installation instructions](install.rst#advanced-instructions) will set up these hooks for you."
   ]
  },
  {
   "cell_type": "markdown",
   "metadata": {
    "editable": true,
    "slideshow": {
     "slide_type": "slide"
    },
    "tags": []
   },
   "source": [
    "### `black`\n",
    "\n",
    "We chose [black](https://github.com/psf/black) as our formatter because it perfectly fits this need, quoting directly from the project\n",
    "\n",
    "> Black is the uncompromising Python code formatter. By using it, you agree to cede control over minutiae of hand-formatting. In return, Black gives you speed, determinism, and freedom from pycodestyle nagging about formatting. You will save time and mental energy for more important matters.\n",
    "> Blackened code looks the same regardless of the project you're reading. Formatting becomes transparent after a while and you can focus on the content instead.\n",
    "> Black makes code review faster by producing the smallest diffs possible.\n",
    "\n",
    "`black` automatically reformats your Python code to conform to the PEP 8 style guide, among other guidelines. It takes care of various aspects, including:\n",
    "\n",
    "- Line Length: By default, it wraps lines to 88 characters, though this can be adjusted.\n",
    "- Indentation: Ensures consistent use of 4 spaces for indentation.\n",
    "- String Quotes: Converts all strings to use double quotes by default.\n",
    "- Spacing: Adjusts spacing around operators and after commas to maintain readability.\n",
    "\n",
    "For installation and more in-depth information on black, refer to [its documentation](https://black.readthedocs.io/en/stable/getting_started.html).\n",
    "\n",
    "Plugins executing `black` are available for our recommended IDEs:\n",
    "* VSCode: [Black Formatter Plugin](https://marketplace.visualstudio.com/items?itemName=ms-python.black-formatter)\n",
    "* Spyder: See [this SO post](https://stackoverflow.com/a/66458706/4703808)\n",
    "* JupyterLab: [Code Formatter Plugin](https://jupyterlab-code-formatter.readthedocs.io/)"
   ]
  },
  {
   "cell_type": "markdown",
   "metadata": {
    "editable": true,
    "slideshow": {
     "slide_type": "slide"
    },
    "tags": []
   },
   "source": [
    "### `isort`\n",
    "\n",
    "[`isort`](https://pycqa.github.io/isort/) is a Python utility to sort imports alphabetically, and automatically separated into sections and by type.\n",
    "\n",
    "Just like `black` it ensure consistency of the code, focusing on the imports\n",
    "\n",
    "For installation and more in depth information on `isort` refer to [its documentation](https://pycqa.github.io/isort/).\n",
    "\n",
    "A [VSCode plugin](https://marketplace.visualstudio.com/items?itemName=ms-python.isort) is available."
   ]
  },
  {
   "cell_type": "markdown",
   "metadata": {
    "editable": true,
    "slideshow": {
     "slide_type": "slide"
    },
    "tags": []
   },
   "source": [
    "### How do I update my branch if it is not up to date with the formatted Climada?\n",
    "\n",
    "If you were developing a feature before Climada switched to `black` formatting, you will need to follow a few steps to update your branch to the new formatting.\n",
    "\n",
    "Given a feature branch `YOUR_BRANCH`, do the following:\n",
    "\n",
    "1. Update the repo to fetch the latest changes:\n",
    "\n",
    "   ```shell\n",
    "   git fetch -t\n",
    "   git checkout develop-white\n",
    "   git checkout develop-black\n",
    "   ```\n",
    "   \n",
    "2. Switch to your feature branch and merge `develop-white` (in order to get the latest changes in `develop` before switching to `black`):\n",
    "\n",
    "   ```shell\n",
    "   git checkout YOUR_BRANCH\n",
    "   git pull\n",
    "   pre-commit uninstall || pip install pre-commit\n",
    "   git merge --no-ff develop-white\n",
    "   ```\n",
    "   If merge conflicts arise, resolve them and conclude the merge as instructed by Git.\n",
    "   It also helps to check if the tests pass after the merge.\n",
    "\n",
    "3. Install and run the pre-commit hooks:\n",
    "\n",
    "   ```shell\n",
    "   pre-commit install\n",
    "   pre-commit run --all-files\n",
    "   ```\n",
    "\n",
    "4. Commit the changes applied by the hooks to your branch:\n",
    "\n",
    "   ```shell\n",
    "   git add -u\n",
    "   git commit\n",
    "   ```\n",
    "   \n",
    "5. Now merge `develop-black`:\n",
    "\n",
    "   ```shell\n",
    "   git merge --no-ff develop-black\n",
    "   ```\n",
    "   Resolve all conflicts by choosing \"Ours\" over \"Theirs\" (\"Current Change\" over the \"Incoming Change\").\n",
    "   \n",
    "   ```shell\n",
    "   git checkout --ours .\n",
    "   git add -u\n",
    "   git commit\n",
    "   ```\n",
    "     \n",
    "6. Now, get up to date with the latest `develop` branch:\n",
    "\n",
    "   ```shell\n",
    "   git checkout develop\n",
    "   git pull\n",
    "   git checkout YOUR_BRANCH\n",
    "   git merge --no-ff develop\n",
    "   ```\n",
    "   Again, fix merge conflicts if they arise and check if the tests pass.\n",
    "   Accept the incoming changes for the tutorials 1_main, Exposures, LitPop Impact, Forecast and TropicalCyclone unless you made changes to those.\n",
    "   Again, the file with the most likely merging conflicts is CHANGELOG.md, which should probably be resolved by accepting both changes.\n",
    "   \n",
    "   \n",
    "7. Finally, push your latest changes:\n",
    "\n",
    "   ```shell\n",
    "   git push origin YOUR_BRANCH\n",
    "   ```\n"
   ]
  },
  {
   "cell_type": "markdown",
   "metadata": {
    "editable": true,
    "slideshow": {
     "slide_type": "slide"
    },
    "tags": []
   },
   "source": [
    "## Paper repository "
   ]
  },
  {
   "cell_type": "markdown",
   "metadata": {
    "editable": true,
    "slideshow": {
     "slide_type": "slide"
    },
    "tags": []
   },
   "source": [
    "Applications made with CLIMADA which are published in the form of a paper or a report are very much encouraged to be submitted to the [climada/paper](https://github.com/CLIMADA-project/climada_papers) repository. You can either:\n",
    "\n",
    "- Prepare a well-commented jupyter notebook with the code necessary to reproduce your results and upload it to the [climada/paper](https://github.com/CLIMADA-project/climada_papers) repository. Note however that the repository cannot be used for storing data files.\n",
    "- Upload the code necessary to reproduce your results to a separate repository of your own. Then, add a link to your repository and to your publication to the readme file on the [climada/paper](https://github.com/CLIMADA-project/climada_papers) repository.\n",
    "\n",
    "**Notes about DOI**\n",
    "\n",
    "Some journals require you to provide a DOI to the code and data used for your publication. In this case, we encourage you to create a separate repository for your code and create a DOI using [Zenodo](https://zenodo.org/) or any specific service from your institution (e.g. [ETH Zürich](https://documentation.library.ethz.ch/display/DOID/DOI+Registration+Manual)).\n",
    "\n",
    "The CLIMADA releases are also identified with a DOI."
   ]
  },
  {
   "cell_type": "markdown",
   "metadata": {
    "editable": true,
    "slideshow": {
     "slide_type": "slide"
    },
    "tags": []
   },
   "source": [
    "## Utility functions"
   ]
  },
  {
   "cell_type": "markdown",
   "metadata": {
    "editable": true,
    "slideshow": {
     "slide_type": "slide"
    },
    "tags": []
   },
   "source": [
    "In CLIMADA, there is a set of utility functions defined in `climada.util`. A few examples are:\n",
    "\n",
    "- convert large monetary numbers into thousands, millions or billions together with the correct unit name\n",
    "- compute distances\n",
    "- load hdf5 files\n",
    "- convert iso country numbers between formats\n",
    "- ...\n",
    "\n",
    "Whenever you develop a module or make a code review, be attentive to see whether a given functionality has already been implemented as a utility function. In addition, think carefully whether a given function/method does belong in its module or is actually independent of any particular module and should be defined as a utility function.\n",
    "\n",
    "It is very important to not reinvent the wheel and to avoid unnecessary redundancies in the code. This makes maintenance and debugging very tedious.\n"
   ]
  },
  {
   "cell_type": "markdown",
   "metadata": {},
   "source": [
    "## Data dependencies"
   ]
  },
  {
   "cell_type": "markdown",
   "metadata": {},
   "source": [
    "### Web APIs\n",
    "CLIMADA relies on open data available through web APIs such as those of the World Bank, Natural Earth, NASA and NOAA.\n",
    "You might execute the test ``climada_python-x.y.z/test_data_api.py`` to check that all the APIs used are active.\n",
    "If any is out of service (temporarily or permanently), the test will indicate which one.\n",
    "\n",
    "### Manual download\n",
    "\n",
    "As indicated in the software and tutorials, other data might need to be downloaded manually by the user. The following table shows these last data sources, their version used, its current availability and where they are used within CLIMADA:\n",
    "\n",
    "| Name                                            | Version | Link | CLIMADA class | CLIMADA version | CLIMADA tutorial reference    |\n",
    "|-------------------------------------------------|---------|------|---------------|-----------------|-------------------------------|\n",
    "| Fire Information for Resource Management System |         |[FIRMS](https://firms.modaps.eosdis.nasa.gov/download/) | BushFire      | > v1.2.5          | climada_hazard_BushFire.ipynb |\n",
    "| Gridded Population of the World (GPW)           | v4.11   |[GPW4.11](https://sedac.ciesin.columbia.edu/data/set/gpw-v4-population-count-rev11)     | LitPop        | > v1.2.3        | climada_entity_LitPop.ipynb   |\n"
   ]
  },
  {
   "cell_type": "markdown",
   "metadata": {},
   "source": [
    "## Side note on parameters"
   ]
  },
  {
   "cell_type": "markdown",
   "metadata": {},
   "source": [
    "### Don't use *args and **kwargs parameters without a very good reason.\n",
    "\n",
    "There _are_ valid use cases for [this kind of parameter notation](https://realpython.com/python-kwargs-and-args/).\\\n",
    "In particular `*args` comes in handy when there is an unknown number of equal typed arguments to be passed. E.g., the `pathlib.Path` constructor.\\\n",
    "But if the parameters are expected to be structured in any way, it is just a bad idea."
   ]
  },
  {
   "cell_type": "code",
   "execution_count": null,
   "metadata": {},
   "outputs": [],
   "source": [
    "def f(x, y, z):\n",
    "    return x + y + z\n",
    "\n",
    "\n",
    "# bad in most cases\n",
    "def g(*args, **kwargs):\n",
    "    x = args[0]\n",
    "    y = kwargs[\"y\"]\n",
    "    s = f(*args, **kwargs)\n",
    "    print(x, y, s)\n",
    "\n",
    "\n",
    "g(1, y=2, z=3)"
   ]
  },
  {
   "cell_type": "code",
   "execution_count": null,
   "metadata": {},
   "outputs": [],
   "source": [
    "# usually just fine\n",
    "def g(x, y, z):\n",
    "    s = f(x, y, z)\n",
    "    print(x, y, s)\n",
    "\n",
    "\n",
    "g(1, y=2, z=3)"
   ]
  },
  {
   "cell_type": "markdown",
   "metadata": {},
   "source": [
    "### Decrease the number of parameters.\n",
    "\n",
    "Though CLIMADA's pylint configuration .pylintrc allows 7 arguments for any method or function before it complains, it is advisable to aim for less.\n",
    "It is quite likely that a function with so many parameters has an inherent design flaw.\n",
    "\n",
    "There are very well designed command line tools with inumerable optional arguments, e.g., rsync - but these are command line tools. There are also methods like `pandas.DataFrame.plot()` with countless optional arguments and it makes perfectly sense.\n",
    "\n",
    "But within the climada package it probably doesn't.\n",
    "divide et impera!\n",
    "\n",
    "Whenever a method has more than 5 parameters, it is more than likely that it can be refactored pretty easily into two or more methods with less parameters and less complexity:\n"
   ]
  },
  {
   "cell_type": "code",
   "execution_count": null,
   "metadata": {},
   "outputs": [],
   "source": [
    "def f(a, b, c, d, e, f, g, h):\n",
    "    print(f\"f does many things with a lot of arguments: {a, b, c, d, e, f, g, h}\")\n",
    "    return sum([a, b, c, d, e, f, g, h])\n",
    "\n",
    "\n",
    "f(1, 2, 3, 4, 5, 6, 7, 8)"
   ]
  },
  {
   "cell_type": "code",
   "execution_count": null,
   "metadata": {},
   "outputs": [],
   "source": [
    "def f1(a, b, c, d):\n",
    "    print(f\"f1 does less things with fewer arguments: {a, b, c, d}\")\n",
    "    return sum([a, b, c, d])\n",
    "\n",
    "\n",
    "def f2(e, f, g, h):\n",
    "    print(f\"f2 dito: {e, f, g, h}\")\n",
    "    return sum([e, f, g, h])\n",
    "\n",
    "\n",
    "def f3(x, y):\n",
    "    print(f\"f3 dito, but on a higher level: {x, y}\")\n",
    "    return sum([x, y])\n",
    "\n",
    "\n",
    "f3(f1(1, 2, 3, 4), f2(5, 6, 7, 8))"
   ]
  },
  {
   "cell_type": "markdown",
   "metadata": {},
   "source": [
    "This of course pleads the case on a strictly formal level. No real complexities have been reduced during the making of this example.\\\n",
    "Nevertheless there is the benefit of reduced test case requirements. And in real life, real complexity _will_ be reduced."
   ]
  }
 ],
 "metadata": {
  "celltoolbar": "Slideshow",
  "hide_input": false,
  "kernelspec": {
   "display_name": "Python 3 (ipykernel)",
   "language": "python",
   "name": "python3"
  },
  "language_info": {
   "codemirror_mode": {
    "name": "ipython",
    "version": 3
   },
   "file_extension": ".py",
   "mimetype": "text/x-python",
   "name": "python",
   "nbconvert_exporter": "python",
   "pygments_lexer": "ipython3",
   "version": "3.9.19"
  },
  "latex_envs": {
   "LaTeX_envs_menu_present": true,
   "autoclose": false,
   "autocomplete": true,
   "bibliofile": "biblio.bib",
   "cite_by": "apalike",
   "current_citInitial": 1,
   "eqLabelWithNumbers": true,
   "eqNumInitial": 1,
   "hotkeys": {
    "equation": "Ctrl-E",
    "itemize": "Ctrl-I"
   },
   "labels_anchors": false,
   "latex_user_defs": false,
   "report_style_numbering": false,
   "user_envs_cfg": false
  },
  "toc": {
   "base_numbering": 1,
   "nav_menu": {},
   "number_sections": true,
   "sideBar": true,
   "skip_h1_title": false,
   "title_cell": "Table of Contents",
   "title_sidebar": "Contents",
   "toc_cell": true,
   "toc_position": {
    "height": "625.2px",
    "left": "390px",
    "top": "110.117px",
    "width": "316.8px"
   },
   "toc_section_display": true,
   "toc_window_display": true
  }
 },
 "nbformat": 4,
 "nbformat_minor": 4
}
