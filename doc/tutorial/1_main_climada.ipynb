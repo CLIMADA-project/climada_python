{
 "cells": [
  {
   "cell_type": "markdown",
   "metadata": {},
   "source": [
    "# CLIMADA overview\n",
    "\n",
    "## Contents\n",
    "\n",
    "- [Introduction](#Introduction)\n",
    "    - [What is CLIMADA?](#What-is-CLIMADA)\n",
    "    - [This tutorial](#This-tutorial)\n",
    "    - [Resources beyond this tutorial](#Resources-beyond-this-tutorial)\n",
    "- [CLIMADA features](#CLIMADA-features)\n",
    "    - [CLIMADA classes](#CLIMADA-classes)\n",
    "- [Tutorial: an example risk assessment](#Tutorial--an-example-risk-assessment)\n",
    "    - [Hazard](#Hazard)\n",
    "        - [Storm tracks](#Storm-tracks)\n",
    "        - [Centroids](#Centroids)\n",
    "        - [Hazard footprint](#Hazard-footprint)\n",
    "    - [Entity](#Entity)\n",
    "        - [Exposures](#Exposures)\n",
    "        - [Impact functions](#Impact-functions)\n",
    "        - [Adaptation measures](#Adaptation-measures)\n",
    "        - [Discount rates](#Discount-rates)\n",
    "    - [Engine](#Engine)\n",
    "        - [Impact](#Impact)\n",
    "        - [Adaptation options appraisal](#Adaptation-options-appraisal)\n",
    "        "
   ]
  },
  {
   "cell_type": "markdown",
   "metadata": {},
   "source": [
    "## Introduction\n",
    "\n",
    "### What is CLIMADA?\n",
    "\n",
    "CLIMADA is a fully probabilistic climate risk assessment tool. It provides a framework for users to combine exposure, hazard and vulnerability or impact data to calculate risk. Users can create probabilistic impact data from event sets, look at how climate change affects these impacts, and see how effectively adaptation measures can change them. CLIMADA also allows for studies of individual events, historical event sets and forecasts.\n",
    "\n",
    "The model is a highly customisable, meaning that users can work with out-of-the-box data provided for different hazards, population and economic exposure, or can provide their own data for part or all of the analysis. The pre-packaged data make CLIMADA particularly useful for users who focus on just one element of risk, since CLIMADA can 'fill in the gaps' for hazard, exposure or vulnerability in the rest of the analysis.\n",
    "\n",
    "The model core is designed to give as much flexibility as possible when describing the elements of risk, meaning that CLIMADA isn't limited to particular hazards, exposure types or impacts. We love to see the model applied to new problems and contexts.\n",
    "\n",
    "CLIMADA provides classes, methods and data for exposure, hazard and impact functions (also called vulnerability functions), plus a financial model and a framework to analyse adaptation measures. Additional classes and data for common uses, such as economic exposures or tropical storms. Tutorials for every class are available: see the [CLIMADA features](#CLIMADA-features) section below.\n",
    "\n",
    "\n",
    "### This tutorial\n",
    "\n",
    "This tutorial is for people new to CLIMADA who want to get a high level understanding of the model and work through an example risk analysis. It will list the current features of the model, and go through a complete CLIMADA analysis to give an idea of how the model works. Other tutorials go into more detail about different model components and individual hazards.\n",
    "\n",
    "### Resources beyond this tutorial\n",
    "\n",
    "- [Installation guide](https://climada-python.readthedocs.io/en/stable/guide/introduction.html) - go here if you've not installed the model yet\n",
    "- [CLIMADA Read the Docs home page](https://climada-python.readthedocs.io) - for all other documentation\n",
    "- [List of CLIMADA's features and associated tutorials](#CLIMADA-features)\n",
    "- [CLIMADA GitHub develop branch documentation](https://github.com/CLIMADA-project/climada_python/tree/develop/doc) for the very latest versions of code and documentation\n",
    "- [CLIMADA paper GitHub repository](https://github.com/CLIMADA-project/climada_papers) - for publications using CLIMADA\n"
   ]
  },
  {
   "cell_type": "markdown",
   "metadata": {},
   "source": [
    "# CLIMADA features\n",
    "\n",
    "A risk analysis with CLIMADA can include\n",
    "\n",
    "1. the statistical risk to your exposure from a set of events,\n",
    "2. how it changes under climate change, and\n",
    "3. a cost-benefit analysis of adaptation measures.\n",
    "\n",
    "CLIMADA is flexible: the \"statistical risk\" above could be describing the annual expected insured flood losses to a property portfolio, the number of people displaced by an ensemble of typhoon forecasts, the annual disruption to a railway network from landslides, or changes to crop yields.\n",
    "\n",
    "Users from risk-analysis backgrounds will be familiar with describing the impact of events by combining exposure, hazard and an impact function (or vulnerability curve) that combines the two to describe a hazard's effects. A CLIMADA analysis uses the same approach but wraps the exposures and their impact functions into a single `Entity` class, along with discount rates and adaptation options (see the below tutorials for more on CLIMADA's financial model).\n",
    "\n",
    "CLIMADA's `Impact` object is used to analyse events and event sets, whether this is the impact of a single wildfire, or the global economic risk from tropical cyclones in 2100.\n",
    "\n",
    "### CLIMADA classes\n",
    "\n",
    "This is a full directory of tutorials for CLIMADA's classes to use as a reference. You don't need to read all this to do this tutorial, but it may be useful to refer back to.\n",
    "\n",
    "- [**Hazard**](https://climada-python.readthedocs.io/en/latest/tutorial/climada_hazard_Hazard.html): a class that stores sets of geographic hazard footprints, (e.g. for wind speed, water depth and fraction, drought index), and metadata including event frequency. Several predefined extensions to create particular hazards from particular datasets and models are included with CLIMADA:\n",
    "   - [Tropical cyclone wind](https://climada-python.readthedocs.io/en/latest/tutorial/climada_hazard_TropCyclone.html): global hazard sets for tropical cyclone events, constructing statistical wind fields from storm tracks. Subclasses include methods and data to calculate historical wind footprints, create forecast enembles from ECMWF tracks, and create climatological event sets for different climate scenarios.\n",
    "   - [Storm surge](https://climada-python.readthedocs.io/en/latest/tutorial/climada_hazard_TCSurgeGeoClaw.html): (under development) global surge hazard for tropical storms. Runs the GeoClaw surge model to create and plot hazard from tropical storm tracks\n",
    "   - [European windstorms](https://climada-python.readthedocs.io/en/latest/tutorial/climada_hazard_StormEurope.html): includes methods to read and plot footprints from the Copernicus WISC dataset and for DWD and ICON forecasts.\n",
    "   - [River flooding](https://climada-python.readthedocs.io/en/latest/tutorial/climada_hazard_RiverFlood.html): global water depth hazard for flood, including methods to work with ISIMIP simulations.\n",
    "   - [Crop modelling](https://climada-python.readthedocs.io/en/latest/tutorial/climada_hazard_entity_Crop.html): combines ISIMIP crop simulations and UN Food and Agrigultre Organization data. The module uses crop production as exposure, with hydrometeorological 'hazard' increasing or decreasing production. \n",
    "   - Wildfire (global): tutorial under development\n",
    "   - Drought (global): tutorial under development\n",
    "\n",
    "- [**Entity**](#Entity): this is a container that groups CLIMADA's socio-economic models. It's is where the Exposures and Impact Functions are stored, which can then be combined with a hazard for a risk analysis (using the Engine's Impact class). It is also where Discount Rates and Measure Sets are stored, which are used in adaptation cost-benefit analyses (using the Engine's CostBenefit class):\n",
    "   - [Exposures](https://climada-python.readthedocs.io/en/latest/tutorial/climada_entity_Exposures.html): geolocated exposures. Each exposure is associated with a value (which can be a dollar value, population, crop yield, etc), information to associate it with impact functions for the relevant hazard(s) (in the Entity's ImpactFuncSet), a geometry, and other optional properties such as deductables and cover. Exposures can be loaded from a file, specified by the user, or created from regional economic models accessible within CLIMADA, for example: \n",
    "      - [LitPop](https://climada-python.readthedocs.io/en/latest/tutorial/climada_entity_LitPop.html): regional economic model using nightlight and population maps together with several economic indicators\n",
    "      - [BlackMarble](https://climada-python.readthedocs.io/en/latest/tutorial/climada_entity_BlackMarble.html): regional economic model from nightlight intensities and economic indicators (GDP, income group). Largely succeeded by LitPop.\n",
    "      - [OpenStreetMap](https://climada-python.readthedocs.io/en/latest/tutorial/climada_entity_openstreetmap.html): methods to create exposures from data available through the OpenStreetMap API    \n",
    "   - [ImpactFuncSet](https://climada-python.readthedocs.io/en/latest/tutorial/climada_entity_ImpactFuncSet.html): functions to describe the impacts that hazards have on exposures, expressed in terms of  e.g. the % dollar value of a building lost as a function of water depth, or the mortality rate for over-70s as a function of temperature. CLIMADA provides some common impact functions, or they can be user-specified. The following is an incomplete list:\n",
    "      - ImpactFunc: a basic adjustable impact function, specified by the user\n",
    "      - IFTropCyclone: impact functions for tropical cyclone winds\n",
    "      - IFRiverFlood: impact functions for river floods\n",
    "      - IFStormEurope: impact functions for European windstorms    \n",
    "   - [DiscRates](https://climada-python.readthedocs.io/en/latest/tutorial/climada_entity_DiscRates.html): discount rates per year\n",
    "   - [MeasureSet](https://climada-python.readthedocs.io/en/latest/tutorial/climada_entity_MeasureSet.html): a collection of Measure objects that together describe any adaptation measures being modelled. Adaptation measures are described by their cost, and how they modify exposure, hazard, and impact functions (and have have a method to do these things). Measures also include risk transfer options.\n",
    "      \n",
    "- [**Engine**](https://climada-python.readthedocs.io/en/latest/tutorial/climada_engine_Impact.html): the CLIMADA Engine contains the Impact and CostBenefit classes, which are where the main model calculations are done, combining Hazard and Entity objects.\n",
    "    - [Impact](https://climada-python.readthedocs.io/en/latest/tutorial/climada_engine_Impact.html): a class that stores CLIMADA's modelled impacts and the methods to calculate them from Exposure, Impact Function and Hazard classes. The calculations include average annual impact, expected annual impact by exposure item, total impact by event, and (optionally) the impact of each event on each exposure point. Includes statistical and plotting routines for common analysis products.\n",
    "    - [CostBenefit](https://climada-python.readthedocs.io/en/stable/tutorial/1_main_climada.html#Adaptation-options-appraisal): a class to appraise adaptation options. It uses an Entity's MeasureSet to calculate new Impacts based on their adjustments to hazard, exposure, and impact functions, and returns statistics and plotting routines to express cost-benefit comparisons.\n",
    "\n",
    "This list will be updated periodically along with new CLIMADA releases. To see the latest, development version of all tutorials, see the [tutorials page on the CLIMADA GitHub](https://github.com/CLIMADA-project/climada_python/tree/develop/doc/tutorial)."
   ]
  },
  {
   "cell_type": "markdown",
   "metadata": {},
   "source": [
    "# Tutorial: an example risk assessment\n",
    "\n",
    "This example will work through a risk assessment for tropical storm wind in Puerto Rico, constructing hazard, exposure and vulnerability and combining them to create an Impact object. Everything you need for this is included in the main CLIMADA installation and additional data will be downloaded by the scripts as required."
   ]
  },
  {
   "cell_type": "markdown",
   "metadata": {},
   "source": [
    "## Hazard\n",
    "\n",
    "Hazards are characterized by their frequency of occurrence and the geographical distribution of their intensity. The `Hazard` class collects events of the same hazard type (e.g. tropical cyclone, flood, drought, ...) with intensity values over the same geographic centroids. They might be historical events or synthetic.\n",
    "\n",
    "See the [Hazard tutorial](climada_hazard_Hazard.ipynb) to learn about the Hazard class in more detail, and the [CLIMADA features](#CLIMADA-features) section of this document to explore tutorials for different hazards, including\n",
    "[tropical cyclones](climada_hazard_TropCyclone.ipynb), as used here.\n",
    "\n",
    "Tropical cyclones in CLIMADA and the `TropCyclone` class work like any hazard, storing each event's wind speeds at the geographic centroids specified for the class. Pre-calculated hazards can be loaded from files (see the [full Hazard tutorial](climada_hazard_Hazard.ipynb), but they can also be modelled from a storm track using the `TCTracks` class, based on a storm's parameters at each time step. This is how we'll construct the hazards for our example.\n",
    "\n",
    "So before we create the hazard, we will create our storm tracks and define the geographic centroids for the locations we want to calculate hazard at.\n",
    "\n",
    "### Storm tracks\n",
    "\n",
    "Storm tracks are created and stored in a separate class, `TCTracks`. We use its method `read_ibtracs_netcdf` to create the tracks from the [IBTRaCS](https://www.ncdc.noaa.gov/ibtracs/) storm tracks archive. The first time this runs on your machine it will need to download the full dataset which might take a little time. See the [full TropCyclone tutorial](climada_hazard_TropCyclone.ipynb) for more detail and troubleshooting."
   ]
  },
  {
   "cell_type": "code",
   "execution_count": null,
   "metadata": {},
   "outputs": [],
   "source": [
    "import numpy as np\n",
    "from climada.hazard import TCTracks\n",
    "\n",
    "tracks = TCTracks()\n",
    "tracks.read_ibtracs_netcdf(provider='usa', basin='NA')"
   ]
  },
  {
   "cell_type": "markdown",
   "metadata": {},
   "source": [
    "This will load all historical tracks in the North Atlantic into the `tracks` object (since we set `basin='NA'`). The `TCTracks.plot` method will plot the downloaded tracks, though there are too many for the plot to be very useful:"
   ]
  },
  {
   "cell_type": "code",
   "execution_count": null,
   "metadata": {},
   "outputs": [],
   "source": [
    "tracks.plot()"
   ]
  },
  {
   "cell_type": "markdown",
   "metadata": {},
   "source": [
    "It's also worth adding additional time steps to the tracks (though this can be memory intensive!). Most tracks are reported at 3-hourly intervals (plus a frame at landfall). Event footprints are calculated as the maximum wind from any time step. For a fast-moving storm these combined three-hourly footprints give quite a rough event footprint, and it's worth adding extra frames to smooth the footprint artificially (try running this notebook with and without this interpolation to see the effect): "
   ]
  },
  {
   "cell_type": "code",
   "execution_count": null,
   "metadata": {},
   "outputs": [],
   "source": [
    "tracks.equal_timestep(time_step_h=0.5)"
   ]
  },
  {
   "cell_type": "markdown",
   "metadata": {},
   "source": [
    "Now, irresponsibly for a risk analysis, we're only going to use these historical events: they're enough to demonstrate CLIMADA in action. A proper risk analysis would  expand it to include enough events for a statistically robust climatology. See the [full TropCyclone tutorial](climada_hazard_TropCyclone.ipynb) for CLIMADA's stochastic event generation."
   ]
  },
  {
   "cell_type": "markdown",
   "metadata": {},
   "source": [
    "### Centroids\n",
    "\n",
    "A hazard's centroids can be any set of locations where we want the hazard to be evaluated. This could be the same as the locations of your exposure, though commonly it is on a regular lat-lon grid (with hazard being imputed to exposure between grid points).\n",
    "\n",
    "Here we'll set the centroids as a 0.1 degree grid covering Puerto Rico. Centroids are defined by a `Centroids` class, which has the `set_raster_from_pnt_bounds` method for generating regular grids and a `plot` method to inspect the centroids."
   ]
  },
  {
   "cell_type": "code",
   "execution_count": null,
   "metadata": {},
   "outputs": [],
   "source": [
    "from climada.hazard import Centroids\n",
    "\n",
    "min_lat, max_lat, min_lon, max_lon = 17.5, 19.0, -68.0, -65.0\n",
    "cent = Centroids()\n",
    "cent.set_raster_from_pnt_bounds((min_lon, min_lat, max_lon, max_lat), res=0.05)\n",
    "cent.check()\n",
    "cent.plot()"
   ]
  },
  {
   "cell_type": "markdown",
   "metadata": {},
   "source": [
    "Almost every class in CLIMADA has a `check()` method, as used above. This verifies that the necessary data for an objet is correctly provided and logs the optional variables that are not present. It is always worth running it after filling an instance of an object.\n",
    "\n",
    "### Hazard footprint\n",
    "\n",
    "Now we're ready to create our hazard object. This will be a `TropCyclone` class, which inherits from the `Hazard` class, and has the `set_from_tracks` method to create hazard from a `TCTracks` object at given centroids."
   ]
  },
  {
   "cell_type": "code",
   "execution_count": null,
   "metadata": {},
   "outputs": [],
   "source": [
    "from climada.hazard import TropCyclone\n",
    "\n",
    "haz = TropCyclone()\n",
    "haz.set_from_tracks(tracks, cent)\n",
    "haz.check()"
   ]
  },
  {
   "cell_type": "markdown",
   "metadata": {},
   "source": [
    "In 2017 Hurricane Maria devastated Puerto Rico. In the IBTRaCs event set, it has ID `2017260N12310` (we use this rather than the name, as IBTRaCS contains three North Atlantic storms called Maria). We can plot the track:"
   ]
  },
  {
   "cell_type": "code",
   "execution_count": null,
   "metadata": {},
   "outputs": [],
   "source": [
    "tracks.subset({\"sid\": \"2017260N12310\"}).plot()  # This is how we subset a TCTracks object"
   ]
  },
  {
   "cell_type": "markdown",
   "metadata": {},
   "source": [
    "And plot the hazard on our centroids for Puerto Rico:"
   ]
  },
  {
   "cell_type": "code",
   "execution_count": null,
   "metadata": {},
   "outputs": [],
   "source": [
    "haz.plot_intensity(event='2017260N12310')"
   ]
  },
  {
   "cell_type": "markdown",
   "metadata": {},
   "source": [
    "A Hazard object also lets us plot the hazard at different return periods. The IBTRaCS archive produces footprints from 1980 onwards (CLIMADA discarded earlier events) and so the historical period is short. Therefore these plots don't make sense as 'real' return periods, but we're being irresponsible and demonstrating the functionality anyway."
   ]
  },
  {
   "cell_type": "code",
   "execution_count": null,
   "metadata": {},
   "outputs": [],
   "source": [
    "haz.plot_rp_intensity(return_periods=(5,10,20,40))"
   ]
  },
  {
   "cell_type": "markdown",
   "metadata": {},
   "source": [
    "See the [TropCyclone tutorial](climada_hazard_TropCyclone.ipynb) for full details of the TropCyclone hazard class.\n",
    "\n",
    "We can also recalculate event sets to reflect the effects of climate change. The `set_climate_scenario_knu` method applies changes in intensity and frequency projected due to climate change, as described in 'Global projections of intense tropical cyclone activity for the late twenty-first century from dynamical downscaling of CMIP5/RCP4.5 scenarios' (Knutson _et al._ 2015). See the [tutorial](climada_hazard_TropCyclone.ipynb) for details.\n",
    "\n",
    ">**Exercise:** Extend this notebook's analysis to examine the effects of climate change in Puerto Rico. You'll need to extend the historical event set with stochastic tracks to create a robust statistical storm climatology - the `TCTracks` class has the functionality to do this. Then you can apply the `set_climate_scenario_knu` method to the generated hazard object to create a second hazard climatology representing storm activity under climate change. See how the results change using the different hazard sets.\n",
    "\n",
    "Next we'll work on exposure and vulnerability, part of the Entity class."
   ]
  },
  {
   "cell_type": "markdown",
   "metadata": {},
   "source": [
    "## Entity\n",
    "\n",
    "The entity class is a container class that stores exposures and impact functions (vulnerability curves) needed for a risk calculation, and the discount rates and adaptation measures for an adaptation cost-benefit analysis.\n",
    "\n",
    "As with Hazard objects, Entities can be read from files or created through code. The Excel template can be found in `climada_python/data/system/entity_template.xlsx`.\n",
    "\n",
    "In this tutorial we will create an Exposure object using the LitPop economic exposure module, and load a pre-defined wind damage function.\n",
    "\n",
    "First we create an empty Entity object:"
   ]
  },
  {
   "cell_type": "code",
   "execution_count": null,
   "metadata": {},
   "outputs": [],
   "source": [
    "from climada.entity import Entity\n",
    "\n",
    "ent = Entity()"
   ]
  },
  {
   "cell_type": "markdown",
   "metadata": {},
   "source": [
    "### Exposures\n",
    "\n",
    "The `Entity`'s `exposures` attribute contains geolocalized values of anything exposed to the hazard, whether monetary values of assets or number of human lifes, for example. It is of type `Exposures`. \n",
    "\n",
    "See the [Exposures tutorial](climada_entity_Exposures.ipynb) for more detail on the structure of the class, and how to create and import exposures. The [LitPop tutorial](climada_entity_LitPop.ipynb) explains how CLIMADA models economic exposures using night-time light and economic data, and is what we'll use here. To combine your exposure with OpenStreetMap's data see the [OSM tutorial](climada_entity_openstreetmap.ipynb).\n",
    "\n",
    "LitPop is a module that allows CLIMADA to estimate exposed populations and economic assets at any point on the planet without additional information, and in a globally consistent way. Here we can create an economic Exposure dataset for Puerto Rico, add it to our Entity, and plot it:"
   ]
  },
  {
   "cell_type": "code",
   "execution_count": null,
   "metadata": {},
   "outputs": [],
   "source": [
    "from climada.entity.exposures import LitPop\n",
    "\n",
    "exp_litpop = LitPop()\n",
    "exp_litpop.set_country('Puerto Rico', res_arcsec = 120)  # We'll go lower resolution than default to keep it simple\n",
    "exp_litpop.set_geometry_points() # Set geodataframe geometries from lat lon data\n",
    "\n",
    "ent.exposures = exp_litpop\n",
    "\n",
    "exp_litpop.plot_hexbin(pop_name=True, linewidth=4, buffer=0.1)"
   ]
  },
  {
   "cell_type": "markdown",
   "metadata": {},
   "source": [
    "LitPop's default exposure is measured in US Dollars, with a reference year depending on the most recent data available.\n",
    "\n",
    "Once we've created our impact function we will come back to this Exposure and give it the parameters needed to connect exposure to impacts. \n",
    "\n",
    "### Impact functions\n",
    "\n",
    "Impact functions describe a relationship between a hazard's intensity and your exposure in terms of a percentage loss. The impact is described through two terms. The Mean Degree of Damage (MDD) gives the percentage of an exposed asset's numerical value that's affected as a function of intensity, such as the damage to a building from wind in terms of its total worth. Then the Proportion of Assets Affected (PAA) gives the fraction of exposures that are affected, such as the mortality rate in a population from a heatwave. These multiply to give the Mean Damage Ratio (MDR), the average impact to an asset.\n",
    "\n",
    "Impact functions are stored as the Entity's `impact_funcs` attribute, in an instance of the `ImpactFuncSet` class which groups one or more `ImpactFunc` objects. They can be specified manually, read from a file, or you can use CLIMADA's pre-defined impact functions. We'll use a pre-defined function for tropical storm wind damage stored in the `IFTropCyclone` class. \n",
    "\n",
    "See the [Impact Functions tutorial](climada_entity_ImpactFuncSet.ipynb) for a full guide to the class, including how data are stored and reading and writing to files.\n",
    "\n",
    "We initialise an Impact Function with the `IFTropCyclone` class, and use its `set_emanuel_usa` method to load the Emanuel (2011) impact function. (The class also contains regional impact functions for the full globe, but we'll won't use these for now.) The class's `plot` method visualises the function, which we can see is expressed just through the Mean Degree of Damage, with all assets affected."
   ]
  },
  {
   "cell_type": "code",
   "execution_count": null,
   "metadata": {},
   "outputs": [],
   "source": [
    "from climada.entity.impact_funcs import ImpactFuncSet, IFTropCyclone\n",
    "\n",
    "imp_fun = IFTropCyclone()\n",
    "imp_fun.set_emanuel_usa()\n",
    "imp_fun.plot()"
   ]
  },
  {
   "cell_type": "markdown",
   "metadata": {},
   "source": [
    "The plot title also includes information about the function's ID, which were also set by the `set_emanuel_usa` method. The hazard is \"TC\" and the function ID is 1. Since a study might use several impact functions - for different hazards, or for different types of exposure.\n",
    "\n",
    "We then create an `ImpactFuncSet` object to store the impact function. This is a container class, and groups a study's impact functions together. Studies will often have several impact functions, due to multiple hazards, multiple types of exposure that are impacted differently, or different adaptation scenarios. We add it to our Entity object."
   ]
  },
  {
   "cell_type": "code",
   "execution_count": null,
   "metadata": {},
   "outputs": [],
   "source": [
    "imp_fun_set = ImpactFuncSet()\n",
    "imp_fun_set.append(imp_fun)\n",
    "\n",
    "ent.impact_funcs = imp_fun_set"
   ]
  },
  {
   "cell_type": "markdown",
   "metadata": {},
   "source": [
    "Finally, we can update our LitPop exposure to point to the TC 1 impact function. This is done by adding a column to the exposure:"
   ]
  },
  {
   "cell_type": "code",
   "execution_count": null,
   "metadata": {},
   "outputs": [],
   "source": [
    "ent.exposures.gdf['if_TC'] = 1\n",
    "ent.check()"
   ]
  },
  {
   "cell_type": "markdown",
   "metadata": {},
   "source": [
    "Here the `if_TC` column tells the CLIMADA engine that for a tropical cyclone (TC) hazard, it should use the first impact function defined for TCs. We use the same impact function for all of our exposure."
   ]
  },
  {
   "cell_type": "markdown",
   "metadata": {},
   "source": [
    "This is now everything we need for a risk analysis, but while we're working on the Entity class, we can define the adaptation measures and discount rates needed for an adaptation analysis. If you're not interested in the cost-benefit  analysis, you can skip ahead to the [Impact section](#Impact)"
   ]
  },
  {
   "cell_type": "markdown",
   "metadata": {},
   "source": [
    "### Adaptation measures\n",
    "\n",
    "CLIMADA's adaptation measures describe possible interventions that would change event hazards and impacts, and the cost of these interventions.\n",
    "\n",
    "They are stored as `Measure` objects within a `MeasureSet` container class (similarly to `ImpactFuncSet` containing several `ImpactFunc`s), and are assigned to the `measures` attribute of the Entity.\n",
    "\n",
    "See the [Adaptation Measures tutorial](climada_entity_MeasureSet.ipynb) on how to create, read and write measures. CLIMADA doesn't yet have pre-defined adaptation measures, mostly because they are hard to standardise.\n",
    "\n",
    "The best way to understand an adaptation measure is by an example. Here's a possible measure for the creation of coastal mangroves (ignore the exact numbers, they are just for illustration):"
   ]
  },
  {
   "cell_type": "code",
   "execution_count": 5,
   "metadata": {},
   "outputs": [
    {
     "name": "stdout",
     "output_type": "stream",
     "text": [
      "{'TC': ['Mangroves', 'Beach nourishment', 'Seawall', 'Building code']}\n"
     ]
    }
   ],
   "source": [
    "from climada.entity import Measure, MeasureSet\n",
    "\n",
    "meas_mangrove = Measure()\n",
    "meas_mangrove.name = 'Mangrove'\n",
    "meas_mangrove.haz_type = 'TC'\n",
    "meas_mangrove.color_rgb = np.array([1, 1, 1])\n",
    "meas_mangrove.cost = 50000000\n",
    "meas_mangrove.mdd_impact = (1, 0)\n",
    "meas_mangrove.paa_impact = (1, -0.15)\n",
    "meas_mangrove.hazard_inten_imp = (1, -10)\n",
    "\n",
    "meas_set = MeasureSet()\n",
    "meas_set.append(meas_mangrove)\n",
    "meas_set.check()"
   ]
  },
  {
   "cell_type": "markdown",
   "metadata": {},
   "source": [
    "What values have we set here?\n",
    "- The `haz_type` gives the hazard that this measure affects.\n",
    "- The `cost` is a flat price that will be used in cost-benefit analyses.\n",
    "- The `mdd_impact`, `paa_impact`, and `hazard_inten_imp` attributes are all tuples that describes a linear transformation to event hazard, the impact function's mean damage degree and the impact function's proportion of assets affected. The tuple `(a, b)` describes a scalar multiplication of the function and a constant to add. So `(1, 0)` is unchanged, `(1.1, 0)` increases values by 10%, and `(1, -10)` decreases all values by 10.\n",
    "\n",
    "So the Mangrove example above costs 50,000,000 USD, protects 15% of assets from any impact at all (`paa_impact = (1, -0.15)`) and decreases the (effective) hazard intensity by 10 m/s (`hazard_inten_imp = (1, -10)`.\n",
    "\n"
   ]
  },
  {
   "cell_type": "markdown",
   "metadata": {},
   "source": [
    "Let's define a second measure. Again, the numbers here are made up, for illustration only."
   ]
  },
  {
   "cell_type": "code",
   "execution_count": null,
   "metadata": {},
   "outputs": [],
   "source": [
    "meas_buildings = Measure()\n",
    "meas_buildings.name = 'Building code'\n",
    "meas_buildings.haz_type = 'TC'\n",
    "meas_buildings.color_rgb = np.array([1, 1, 0])\n",
    "meas_buildings.cost = 100000000\n",
    "meas_buildings.hazard_freq_cutoff = 0.1\n",
    "\n",
    "meas_set.append(meas_buildings)\n",
    "meas_set.check()"
   ]
  },
  {
   "cell_type": "markdown",
   "metadata": {},
   "source": [
    "This measure describes an upgrade to building codes to withstand 10-year events. The measure costs 100,000,000 USD and, through `hazard_freq_cutoff = 0.1`, removes events with calculated impacts below the 10-year return period. \n",
    "\n",
    "The [Adaptation Measures tutorial](climada_entity_MeasureSet.ipynb) descibes other parameters for describing adaptation measures, including risk transfer, assigning measures to subsets of exposure, and reassigning impact functions.\n",
    "\n",
    "We can apply these measures to our existing Exposure, Hazard and Impact functions, and plot the old and new impact functions:"
   ]
  },
  {
   "cell_type": "code",
   "execution_count": null,
   "metadata": {},
   "outputs": [],
   "source": [
    "new_exp, new_imp_fun_set, new_haz = meas.apply(exp, imp_fun_set, haz)\n",
    "axes1 = imp_fun_set.plot()\n",
    "axes1.set_title('TC: Emanuel (2011) impact function')\n",
    "axes2 = new_imp_fun_set.plot()\n",
    "axes2.set_title('TC: Modified impact function')"
   ]
  },
  {
   "cell_type": "markdown",
   "metadata": {},
   "source": [
    "And we can compare the IBTRaCS and modified footprints from Hurricane Maria:"
   ]
  },
  {
   "cell_type": "code",
   "execution_count": null,
   "metadata": {},
   "outputs": [],
   "source": [
    "haz.plot_intensity(event='2017260N12310')\n",
    "new_haz.plot_intensity(event='2017260N12310')"
   ]
  },
  {
   "cell_type": "markdown",
   "metadata": {},
   "source": [
    "And we can compare the 5- and 20-year return period hazard (remember: not a real return period due to the small event set!) compared to the adjusted hazard."
   ]
  },
  {
   "cell_type": "code",
   "execution_count": null,
   "metadata": {},
   "outputs": [],
   "source": [
    "haz.plot_rp_intensity(return_periods=(5, 20))\n",
    "new_haz.plot_rp_intensity(return_periods=(5, 20))"
   ]
  },
  {
   "cell_type": "markdown",
   "metadata": {},
   "source": [
    "It shows there are now no intensities at the 5-year return period - the new building codes removed these from the event set - and the 20-year hazards are 10 m/s slower. (Note that this is unrealistic in a number of ways!)"
   ]
  },
  {
   "cell_type": "markdown",
   "metadata": {},
   "source": [
    "### Discount rates\n",
    "\n",
    "The `disc_rates` attribute is of type `DiscRates`. This class contains the discount rates for the following years and computes the net present value for given values.\n",
    "\n",
    "See the [Discount Rates tutorial](climada_entity_DiscRates.ipynb) for more details about creating, reading and writing the `DiscRates` class, and how it is used in calculations.\n",
    "\n",
    "Here we will implement a simple, flat 2% discount rate."
   ]
  },
  {
   "cell_type": "code",
   "execution_count": null,
   "metadata": {},
   "outputs": [],
   "source": [
    "from climada.entity import DiscRates\n",
    "\n",
    "disc = DiscRates()\n",
    "disc.years = np.arange(1950, 2101)\n",
    "disc.rates = np.ones(disc.years.size) * 0.02\n",
    "disc.check()\n",
    "disc.plot()"
   ]
  },
  {
   "cell_type": "markdown",
   "metadata": {},
   "source": [
    "We are now ready to move to the last part of the CLIMADA model for Impact and Cost Benefit analyses."
   ]
  },
  {
   "cell_type": "markdown",
   "metadata": {},
   "source": [
    "## Engine"
   ]
  },
  {
   "cell_type": "markdown",
   "metadata": {},
   "source": [
    "The CLIMADA Engine is where the main risk calculations are done. It contains two classes, `Impact`, for risk assessments, and `CostBenefit`, to evaluate adaptation measures.\n",
    "\n",
    "### Impact\n",
    "\n",
    "Let us compute the impact of historical tropical cyclones in Puerto Rico.\n",
    "\n",
    "Our work above has given us everything we need for a risk analysis using the Impact class. By computing the impact for each historical event, the `Impact` class provides different risk measures, as the expected annual impact per exposure, the probable maximum impact for different return periods and the total average annual impact."
   ]
  },
  {
   "cell_type": "markdown",
   "metadata": {},
   "source": [
    "Note: the configurable parameter `MAX_SIZE` controls the maximum matrix size contained in a chunk. You can decrease its value if you are having memory issues when using the `Impact`'s `calc` method. A high value will make the computation fast, but increase the memory use. The configuration file is located at `climada_python/climada/conf/defaults.conf`.\n",
    "\n",
    "CLIMADA calculates impacts by providing exposures, impact functions and hazard to an `Impact` object's `calc` method:"
   ]
  },
  {
   "cell_type": "code",
   "execution_count": null,
   "metadata": {},
   "outputs": [],
   "source": [
    "from climada.engine import Impact\n",
    "\n",
    "imp = Impact()\n",
    "imp.calc(ent.exposures, ent.impact_funcs, haz)"
   ]
  },
  {
   "cell_type": "markdown",
   "metadata": {},
   "source": [
    "A useful parameter for the `calc` method is `save_mat`. When set to `True` (default is `False`), the `Impact` object saves the calculated impact for each event at each point of exposure, stored as a (large) sparse matrix in the `imp_mat` attribute. This allows for more detailed analysis at the event level.\n",
    "\n",
    "The `Impact` class includes a number of analysis tools. We can plot an exceedence frequency curve, showing us how often different damage thresholds are reached in our source data (remember this is only 40 years of storms, so not a full climatology!)"
   ]
  },
  {
   "cell_type": "code",
   "execution_count": null,
   "metadata": {},
   "outputs": [],
   "source": [
    "freq_curve = imp.calc_freq_curve() # impact exceedence frequency curve\n",
    "freq_curve.plot();\n",
    "\n",
    "print('Expected average annual impact: {:.3e} USD'.format(imp.aai_agg))"
   ]
  },
  {
   "cell_type": "markdown",
   "metadata": {},
   "source": [
    "We can map the expected annual impact by exposure:"
   ]
  },
  {
   "cell_type": "code",
   "execution_count": null,
   "metadata": {},
   "outputs": [],
   "source": [
    "imp.plot_basemap_eai_exposure(buffer=0.1); # average annual impact at each exposure"
   ]
  },
  {
   "cell_type": "markdown",
   "metadata": {},
   "source": [
    "For additional functionality, including plotting the impacts of individual events, see the [Impact tutorial](climada_engine_Impact.ipynb).\n",
    "\n",
    ">**Exercise:** Plot the impacts of Hurricane Maria. To do this you'll need to set `save_mat=True` in the earlier `Impact.calc()`.\n",
    "\n",
    "We can save our variables in pickle format using the `save` function and load them with `load`. This will save your results in the folder specified in the configuration file. The default folder is a `results` folder which is created in the current path (see default configuration file `climada/conf/defaults.conf`). However, we recommend to use CLIMADA's writers in `hdf5` or `csv` whenever possible."
   ]
  },
  {
   "cell_type": "code",
   "execution_count": null,
   "metadata": {},
   "outputs": [],
   "source": [
    "import os\n",
    "from climada.util import save, load\n",
    "save('impact_puerto_rico_tc.p', imp) # saves by default to ./results/\n",
    "\n",
    "# Later, the data can be read as follows:\n",
    "abs_path = os.path.join(os.getcwd(), 'results/impact_puerto_rico_tc.p')\n",
    "data = load(abs_path)"
   ]
  },
  {
   "cell_type": "markdown",
   "metadata": {},
   "source": [
    "`Impact` also has `write_csv()` and `write_excel()` methods to save the impact variables, and `write_sparse_csr()` to save the impact matrix (impact per event and exposure). Use the [Impact tutorial](climada_engine_Impact.ipynb) to get more information about these functions and the class in general."
   ]
  },
  {
   "cell_type": "markdown",
   "metadata": {},
   "source": [
    "### Adaptation options appraisal"
   ]
  },
  {
   "cell_type": "markdown",
   "metadata": {},
   "source": [
    "Finally, let's look at a cost-benefit analysis. The adaptation measures defined with our `Entity` can be valued by estimating their cost-benefit ratio. This is done in the class `CostBenefit`.\n",
    "\n",
    "Let us suppose that the socioeconomic and climatoligical conditions remain the same in 2040. We then compute the cost and benefit of every adaptation measure from our Hazard and Entity (and plot them) as follows:"
   ]
  },
  {
   "cell_type": "code",
   "execution_count": null,
   "metadata": {},
   "outputs": [],
   "source": [
    "from climada.engine import CostBenefit\n",
    "\n",
    "cost_ben = CostBenefit()\n",
    "cost_ben.calc(haz, ent, future_year=2040) # prints costs and benefits\n",
    "cost_ben.plot_cost_benefit() # plot cost benefit ratio and averted damage of every exposure\n",
    "cost_ben.plot_event_view(return_per=(10, 20, 40)) # plot averted damage of each measure for every return period"
   ]
  },
  {
   "cell_type": "markdown",
   "metadata": {},
   "source": [
    "This is just the start. Analyses improve as we add more adaptation measures into the mix.\n",
    "\n",
    "Cost-benefit calculations can also include\n",
    "- climate change, by specifying the `haz_future` parameter in `CostBenefit.calc()`\n",
    "- changes to economic exposure over time (or to whatever exposure you're modelling) by specifying the `ent_future` parameter in `CostBenefit.calc()`\n",
    "- different functions to calculate risk benefits. These are specified in `CostBenefit.calc()` and by default use changes to average annual impact\n",
    "- linear, sublinear and superlinear evolution of impacts between the present and future, specified in the `imp_time_depen` parameter in `CostBenefit.calc()`\n",
    "\n",
    "And once future hazards and exposures are defined, we can express changes to impacts over time as waterfall diagrams. See the CostBenefit class for more details.\n",
    "\n",
    "> **Exercise:** repeat the above analysis, creating future climate hazards (see the first exercise), and future exposures based on projected economic growth. Visualise it with the `CostBenefit.plot_waterfall()` method."
   ]
  },
  {
   "cell_type": "markdown",
   "metadata": {},
   "source": [
    "## What next?\n",
    "\n",
    "Thanks for following this tutorial! Take time to work on the exercises it suggested, or design your own risk analysis for your own topic. More detailed tutorials for individual classes were listed in the [Features](#CLIMADA-features) section.\n",
    "\n",
    "Also, explore the full CLIMADA documentation and additional resources [described at the start of this document](#Resources-beyond-this-tutorial) to learn more about CLIMADA, its structure, its existing applications and how you can contribute.\n"
   ]
  }
 ],
 "metadata": {
  "kernelspec": {
   "display_name": "Python 3",
   "language": "python",
   "name": "python3"
  },
  "language_info": {
   "codemirror_mode": {
    "name": "ipython",
    "version": 3
   },
   "file_extension": ".py",
   "mimetype": "text/x-python",
   "name": "python",
   "nbconvert_exporter": "python",
   "pygments_lexer": "ipython3",
   "version": "3.7.6"
  }
 },
 "nbformat": 4,
 "nbformat_minor": 4
}
