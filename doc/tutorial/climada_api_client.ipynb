{
 "cells": [
  {
   "cell_type": "markdown",
   "metadata": {},
   "source": [
    "# Data API\n",
    "\n",
    "## Server\n",
    "The CLIMADA data file server is hosted on https://data.iac.ethz.ch that can be accessed via a REST API at https://climada.ethz.ch.\n",
    "For REST API details, see the [documentation](https:/climada.ethz.ch/rest/docs)."
   ]
  },
  {
   "cell_type": "markdown",
   "metadata": {},
   "source": [
    "## Client\n",
    "\n",
    "For programmatical access to the CLIMADA data API there is a specific REST call wrapper class: `climada.util.client.Client`."
   ]
  },
  {
   "cell_type": "code",
   "execution_count": 2,
   "metadata": {},
   "outputs": [],
   "source": [
    "from climada.util.api_client import Client, DataTypeInfo\n",
    "Client?"
   ]
  },
  {
   "cell_type": "code",
   "execution_count": 3,
   "metadata": {},
   "outputs": [
    {
     "data": {
      "text/plain": [
       "('https://climada.ethz.ch', 8192)"
      ]
     },
     "execution_count": 3,
     "metadata": {},
     "output_type": "execute_result"
    }
   ],
   "source": [
    "client = Client()\n",
    "client.host, client.chunk_size"
   ]
  },
  {
   "cell_type": "markdown",
   "metadata": {},
   "source": [
    "The url to the API server and the chunk size for the file download can be configured in 'climada.conf'. Just replace the corresponding default values:\n",
    "\n",
    "```json\n",
    "    \"data_api\": {\n",
    "        \"host\": \"https://climada.ethz.ch\",\n",
    "        \"chunk_size\": 8192,\n",
    "        \"cache_db\": \"{local_data.system}/.downloads.db\"\n",
    "    }\n",
    "```\n",
    "\n",
    "The other configuration value affecting the data_api client, `cache_db`, is the path to an SQLite database file, which is keeping track of the files that are successfully downloaded from the api server. Before the Client attempts to download any file from the server, it checks whether the file has been downloaded before and if so, whether the previously downloaded file still looks good (i.e., size and time stamp are as expected). If all of this is the case, the file is simply read from disk without submitting another request."
   ]
  },
  {
   "cell_type": "markdown",
   "metadata": {},
   "source": [
    "The main methods of the client are `get_dataset`, `get_datasets` and `download_dataset`. The first two return meta-data about one ore more datasets and the latter downloads all files associated to a dataset.\n",
    "\n",
    "The signature of `get_dataset` and `get_datasets` are almost identical. Both take `data_type`, `name`, `version`, `properties` and `status` as optional arguments.\n",
    "The difference is in the default value of the `status` (\"active\" vs. `None`) and the return type: `get_datasets` returns a list of `DatasetInfo` objects, which may me empty, whereas `get_dataset` returns a single `DatasetInfo` object - or raises an Exception if the arguments provided don't allow a positive identification of the dataset."
   ]
  },
  {
   "cell_type": "code",
   "execution_count": 3,
   "metadata": {},
   "outputs": [
    {
     "data": {
      "text/plain": [
       "\u001b[1;31mSignature:\u001b[0m\n",
       "\u001b[0mclient\u001b[0m\u001b[1;33m.\u001b[0m\u001b[0mget_datasets\u001b[0m\u001b[1;33m(\u001b[0m\u001b[1;33m\n",
       "\u001b[0m    \u001b[0mdata_type\u001b[0m\u001b[1;33m=\u001b[0m\u001b[1;32mNone\u001b[0m\u001b[1;33m,\u001b[0m\u001b[1;33m\n",
       "\u001b[0m    \u001b[0mname\u001b[0m\u001b[1;33m=\u001b[0m\u001b[1;32mNone\u001b[0m\u001b[1;33m,\u001b[0m\u001b[1;33m\n",
       "\u001b[0m    \u001b[0mversion\u001b[0m\u001b[1;33m=\u001b[0m\u001b[1;32mNone\u001b[0m\u001b[1;33m,\u001b[0m\u001b[1;33m\n",
       "\u001b[0m    \u001b[0mproperties\u001b[0m\u001b[1;33m=\u001b[0m\u001b[1;32mNone\u001b[0m\u001b[1;33m,\u001b[0m\u001b[1;33m\n",
       "\u001b[0m    \u001b[0mstatus\u001b[0m\u001b[1;33m=\u001b[0m\u001b[1;34m'active'\u001b[0m\u001b[1;33m,\u001b[0m\u001b[1;33m\n",
       "\u001b[0m\u001b[1;33m)\u001b[0m\u001b[1;33m\u001b[0m\u001b[1;33m\u001b[0m\u001b[0m\n",
       "\u001b[1;31mDocstring:\u001b[0m\n",
       "Find all datasets matching the given parameters.\n",
       "\n",
       "Parameters\n",
       "----------\n",
       "data_type : str, optional\n",
       "    data_type of the dataset, e.g., 'litpop' or 'draught'\n",
       "name : str, optional\n",
       "    the name of the dataset\n",
       "version : str, optional\n",
       "    the version of the dataset\n",
       "properties : dict, optional\n",
       "    search parameters for dataset properties, by default None\n",
       "status : str, optional\n",
       "    valid values are 'preliminary', 'active', 'expired', and 'test_dataset',\n",
       "    by default 'active'\n",
       "\n",
       "Returns\n",
       "-------\n",
       "list of DatasetInfo\n",
       "\u001b[1;31mFile:\u001b[0m      c:\\users\\me\\www\\climada_python\\climada\\util\\api_client.py\n",
       "\u001b[1;31mType:\u001b[0m      method\n"
      ]
     },
     "metadata": {},
     "output_type": "display_data"
    }
   ],
   "source": [
    "client.get_datasets?"
   ]
  },
  {
   "cell_type": "markdown",
   "metadata": {
    "tags": []
   },
   "source": [
    "## Metadata\n",
    "\n",
    "### Unique Identifiers\n",
    "Any dataset can be identified with **data_type**, **name** and **version**. The combination of the three is unique in the API servers' underlying database.\n",
    "However, sometimes the name is already enough for identification.\n",
    "All datasets have a UUID, a universally unique identifier, which is part of their individual url. \n",
    "E.g., the uuid of the dataset https://climada.ethz.ch/rest/dataset/b1c76120-4e60-4d8f-99c0-7e1e7b7860ec is \"b1c76120-4e60-4d8f-99c0-7e1e7b7860ec\".\n",
    "One can retrieve their meta data by:"
   ]
  },
  {
   "cell_type": "code",
   "execution_count": 4,
   "metadata": {},
   "outputs": [
    {
     "data": {
      "text/plain": [
       "DatasetInfo(uuid='b1c76120-4e60-4d8f-99c0-7e1e7b7860ec', data_type=DataTypeInfo(data_type='litpop', data_type_group='exposures', description=None), name='LitPop_assets_pc_150arcsec_SGS', version='v1', status='active', properties={'resolution': '150arcsec', 'exponents': '(3,0)', 'fin_mode': 'pc', 'country_iso3alpha': 'SGS', 'country_name': 'South Georgia and the South Sandwich Islands'}, files=[FileInfo(uuid='b1c76120-4e60-4d8f-99c0-7e1e7b7860ec', url='https://data.iac.ethz.ch/climada/b1c76120-4e60-4d8f-99c0-7e1e7b7860ec/LitPop_assets_pc_150arcsec_SGS.h5', file_name='LitPop_assets_pc_150arcsec_SGS.h5', file_format='hdf5', file_size=1086488, check_sum='md5:9e4ef3c833b68edbc935af2c8c26405a')], doi=None, description='LitPop CLIMADA Exposures by country, at a resolution of 150arcsec. The asset values are measured in produced capital based on nightlights intensity (NASA). ', license='Attribution 4.0 International (CC BY 4.0)', activation_date='2021-08-27 08:17:52.175843+00:00', expiration_date=None)"
      ]
     },
     "execution_count": 4,
     "metadata": {},
     "output_type": "execute_result"
    }
   ],
   "source": [
    "client.get_dataset_by_uuid('b1c76120-4e60-4d8f-99c0-7e1e7b7860ec')"
   ]
  },
  {
   "cell_type": "markdown",
   "metadata": {},
   "source": [
    "or by filtering:"
   ]
  },
  {
   "cell_type": "code",
   "execution_count": 5,
   "metadata": {},
   "outputs": [
    {
     "data": {
      "text/plain": [
       "DatasetInfo(uuid='b1c76120-4e60-4d8f-99c0-7e1e7b7860ec', data_type=DataTypeInfo(data_type='litpop', data_type_group='exposures', description=None), name='LitPop_assets_pc_150arcsec_SGS', version='v1', status='active', properties={'resolution': '150arcsec', 'exponents': '(3,0)', 'fin_mode': 'pc', 'country_iso3alpha': 'SGS', 'country_name': 'South Georgia and the South Sandwich Islands'}, files=[FileInfo(uuid='b1c76120-4e60-4d8f-99c0-7e1e7b7860ec', url='https://data.iac.ethz.ch/climada/b1c76120-4e60-4d8f-99c0-7e1e7b7860ec/LitPop_assets_pc_150arcsec_SGS.h5', file_name='LitPop_assets_pc_150arcsec_SGS.h5', file_format='hdf5', file_size=1086488, check_sum='md5:9e4ef3c833b68edbc935af2c8c26405a')], doi=None, description='LitPop CLIMADA Exposures by country, at a resolution of 150arcsec. The asset values are measured in produced capital based on nightlights intensity (NASA). ', license='Attribution 4.0 International (CC BY 4.0)', activation_date='2021-08-27 08:17:52.175843+00:00', expiration_date=None)"
      ]
     },
     "execution_count": 5,
     "metadata": {},
     "output_type": "execute_result"
    }
   ],
   "source": [
    "client.get_dataset(name='LitPop_assets_pc_150arcsec_SGS', version='v1')  # or client.get_dataset(name='LitPop_assets_pc_150arcsec_SGS') since ther is only 1 version atm."
   ]
  },
  {
   "cell_type": "markdown",
   "metadata": {},
   "source": [
    "### Data types\n",
    "A sorted list of all registered data types can be created like this:"
   ]
  },
  {
   "cell_type": "code",
   "execution_count": 6,
   "metadata": {
    "tags": []
   },
   "outputs": [
    {
     "data": {
      "text/html": [
       "<div>\n",
       "<style scoped>\n",
       "    .dataframe tbody tr th:only-of-type {\n",
       "        vertical-align: middle;\n",
       "    }\n",
       "\n",
       "    .dataframe tbody tr th {\n",
       "        vertical-align: top;\n",
       "    }\n",
       "\n",
       "    .dataframe thead th {\n",
       "        text-align: right;\n",
       "    }\n",
       "</style>\n",
       "<table border=\"1\" class=\"dataframe\">\n",
       "  <thead>\n",
       "    <tr style=\"text-align: right;\">\n",
       "      <th></th>\n",
       "      <th>data_type</th>\n",
       "      <th>data_type_group</th>\n",
       "      <th>description</th>\n",
       "    </tr>\n",
       "  </thead>\n",
       "  <tbody>\n",
       "    <tr>\n",
       "      <th>14</th>\n",
       "      <td>disc_rates</td>\n",
       "      <td>disc_rates</td>\n",
       "      <td>None</td>\n",
       "    </tr>\n",
       "    <tr>\n",
       "      <th>0</th>\n",
       "      <td>dummy</td>\n",
       "      <td>dummy-group</td>\n",
       "      <td>self explained</td>\n",
       "    </tr>\n",
       "    <tr>\n",
       "      <th>3</th>\n",
       "      <td>test-dummy</td>\n",
       "      <td>dummy-group</td>\n",
       "      <td>None</td>\n",
       "    </tr>\n",
       "    <tr>\n",
       "      <th>24</th>\n",
       "      <td>entity</td>\n",
       "      <td>entity</td>\n",
       "      <td>None</td>\n",
       "    </tr>\n",
       "    <tr>\n",
       "      <th>9</th>\n",
       "      <td>base</td>\n",
       "      <td>exposures</td>\n",
       "      <td>None</td>\n",
       "    </tr>\n",
       "    <tr>\n",
       "      <th>20</th>\n",
       "      <td>crop_production</td>\n",
       "      <td>exposures</td>\n",
       "      <td>None</td>\n",
       "    </tr>\n",
       "    <tr>\n",
       "      <th>12</th>\n",
       "      <td>earth_engine</td>\n",
       "      <td>exposures</td>\n",
       "      <td>None</td>\n",
       "    </tr>\n",
       "    <tr>\n",
       "      <th>1</th>\n",
       "      <td>litpop</td>\n",
       "      <td>exposures</td>\n",
       "      <td>None</td>\n",
       "    </tr>\n",
       "    <tr>\n",
       "      <th>27</th>\n",
       "      <td>open_street_map</td>\n",
       "      <td>exposures</td>\n",
       "      <td>None</td>\n",
       "    </tr>\n",
       "    <tr>\n",
       "      <th>28</th>\n",
       "      <td>centroids</td>\n",
       "      <td>hazard</td>\n",
       "      <td>None</td>\n",
       "    </tr>\n",
       "    <tr>\n",
       "      <th>26</th>\n",
       "      <td>crop_yield</td>\n",
       "      <td>hazard</td>\n",
       "      <td>None</td>\n",
       "    </tr>\n",
       "    <tr>\n",
       "      <th>2</th>\n",
       "      <td>drought</td>\n",
       "      <td>hazard</td>\n",
       "      <td>None</td>\n",
       "    </tr>\n",
       "    <tr>\n",
       "      <th>5</th>\n",
       "      <td>landslide</td>\n",
       "      <td>hazard</td>\n",
       "      <td>None</td>\n",
       "    </tr>\n",
       "    <tr>\n",
       "      <th>25</th>\n",
       "      <td>low_flow</td>\n",
       "      <td>hazard</td>\n",
       "      <td>None</td>\n",
       "    </tr>\n",
       "    <tr>\n",
       "      <th>17</th>\n",
       "      <td>radiative_forcing</td>\n",
       "      <td>hazard</td>\n",
       "      <td>None</td>\n",
       "    </tr>\n",
       "    <tr>\n",
       "      <th>18</th>\n",
       "      <td>river_flood</td>\n",
       "      <td>hazard</td>\n",
       "      <td>None</td>\n",
       "    </tr>\n",
       "    <tr>\n",
       "      <th>6</th>\n",
       "      <td>storm</td>\n",
       "      <td>hazard</td>\n",
       "      <td>None</td>\n",
       "    </tr>\n",
       "    <tr>\n",
       "      <th>16</th>\n",
       "      <td>template</td>\n",
       "      <td>hazard</td>\n",
       "      <td>None</td>\n",
       "    </tr>\n",
       "    <tr>\n",
       "      <th>7</th>\n",
       "      <td>tracks</td>\n",
       "      <td>hazard</td>\n",
       "      <td></td>\n",
       "    </tr>\n",
       "    <tr>\n",
       "      <th>4</th>\n",
       "      <td>tropical_cyclone</td>\n",
       "      <td>hazard</td>\n",
       "      <td>None</td>\n",
       "    </tr>\n",
       "    <tr>\n",
       "      <th>22</th>\n",
       "      <td>wild_fire</td>\n",
       "      <td>hazard</td>\n",
       "      <td>None</td>\n",
       "    </tr>\n",
       "    <tr>\n",
       "      <th>8</th>\n",
       "      <td>wildfire</td>\n",
       "      <td>hazard</td>\n",
       "      <td>None</td>\n",
       "    </tr>\n",
       "    <tr>\n",
       "      <th>23</th>\n",
       "      <td>winter_storm</td>\n",
       "      <td>hazard</td>\n",
       "      <td>None</td>\n",
       "    </tr>\n",
       "    <tr>\n",
       "      <th>15</th>\n",
       "      <td>impact</td>\n",
       "      <td>impact</td>\n",
       "      <td>None</td>\n",
       "    </tr>\n",
       "    <tr>\n",
       "      <th>10</th>\n",
       "      <td>impact_test_data</td>\n",
       "      <td>impact</td>\n",
       "      <td>None</td>\n",
       "    </tr>\n",
       "    <tr>\n",
       "      <th>19</th>\n",
       "      <td>tropical_cycone</td>\n",
       "      <td>impact_functions</td>\n",
       "      <td>None</td>\n",
       "    </tr>\n",
       "    <tr>\n",
       "      <th>13</th>\n",
       "      <td>measures</td>\n",
       "      <td>measures</td>\n",
       "      <td>None</td>\n",
       "    </tr>\n",
       "    <tr>\n",
       "      <th>11</th>\n",
       "      <td>measures_test</td>\n",
       "      <td>measures</td>\n",
       "      <td>None</td>\n",
       "    </tr>\n",
       "    <tr>\n",
       "      <th>21</th>\n",
       "      <td>test</td>\n",
       "      <td>util</td>\n",
       "      <td>None</td>\n",
       "    </tr>\n",
       "  </tbody>\n",
       "</table>\n",
       "</div>"
      ],
      "text/plain": [
       "            data_type   data_type_group     description\n",
       "14         disc_rates        disc_rates            None\n",
       "0               dummy       dummy-group  self explained\n",
       "3          test-dummy       dummy-group            None\n",
       "24             entity            entity            None\n",
       "9                base         exposures            None\n",
       "20    crop_production         exposures            None\n",
       "12       earth_engine         exposures            None\n",
       "1              litpop         exposures            None\n",
       "27    open_street_map         exposures            None\n",
       "28          centroids            hazard            None\n",
       "26         crop_yield            hazard            None\n",
       "2             drought            hazard            None\n",
       "5           landslide            hazard            None\n",
       "25           low_flow            hazard            None\n",
       "17  radiative_forcing            hazard            None\n",
       "18        river_flood            hazard            None\n",
       "6               storm            hazard            None\n",
       "16           template            hazard            None\n",
       "7              tracks            hazard                \n",
       "4    tropical_cyclone            hazard            None\n",
       "22          wild_fire            hazard            None\n",
       "8            wildfire            hazard            None\n",
       "23       winter_storm            hazard            None\n",
       "15             impact            impact            None\n",
       "10   impact_test_data            impact            None\n",
       "19    tropical_cycone  impact_functions            None\n",
       "13           measures          measures            None\n",
       "11      measures_test          measures            None\n",
       "21               test              util            None"
      ]
     },
     "execution_count": 6,
     "metadata": {},
     "output_type": "execute_result"
    }
   ],
   "source": [
    "import pandas as pd\n",
    "data_types = client.get_data_types()\n",
    "\n",
    "dtf = pd.DataFrame(data_types)\n",
    "dtf.sort_values(['data_type_group', 'data_type'])"
   ]
  },
  {
   "cell_type": "markdown",
   "metadata": {
    "tags": []
   },
   "source": [
    "### Data Set Status\n",
    "The datasets of climada.ethz.ch may have the following stati:\n",
    "- **active**: the deault for real life data\n",
    "- **preliminary**: when the dataset is already uploaded but some information or file is still missing\n",
    "- **expired**: when a dataset is inactivated again\n",
    "- **test_dataset**: data sets that are used in unit or integration tests have this status in order to be taken seriously by accident\n",
    "When collecting a list of datasets with `get_datasets`, the default dataset status will be 'active'. With the argument `status=None` this filter can be turned off."
   ]
  },
  {
   "cell_type": "markdown",
   "metadata": {},
   "source": [
    "### DatasetInfo Objects and DataFrames\n",
    "\n",
    "As stated above `get_dataset` (or `get_dataset_by_uuid`) return a `DatasetInfo` object and `get_datasets` a list thereof."
   ]
  },
  {
   "cell_type": "code",
   "execution_count": 7,
   "metadata": {},
   "outputs": [
    {
     "data": {
      "text/plain": [
       "\u001b[1;31mInit signature:\u001b[0m\n",
       "\u001b[0mDatasetInfo\u001b[0m\u001b[1;33m(\u001b[0m\u001b[1;33m\n",
       "\u001b[0m    \u001b[0muuid\u001b[0m\u001b[1;33m:\u001b[0m \u001b[0mstr\u001b[0m\u001b[1;33m,\u001b[0m\u001b[1;33m\n",
       "\u001b[0m    \u001b[0mdata_type\u001b[0m\u001b[1;33m:\u001b[0m \u001b[0mclimada\u001b[0m\u001b[1;33m.\u001b[0m\u001b[0mutil\u001b[0m\u001b[1;33m.\u001b[0m\u001b[0mapi_client\u001b[0m\u001b[1;33m.\u001b[0m\u001b[0mDataTypeInfo\u001b[0m\u001b[1;33m,\u001b[0m\u001b[1;33m\n",
       "\u001b[0m    \u001b[0mname\u001b[0m\u001b[1;33m:\u001b[0m \u001b[0mstr\u001b[0m\u001b[1;33m,\u001b[0m\u001b[1;33m\n",
       "\u001b[0m    \u001b[0mversion\u001b[0m\u001b[1;33m:\u001b[0m \u001b[0mstr\u001b[0m\u001b[1;33m,\u001b[0m\u001b[1;33m\n",
       "\u001b[0m    \u001b[0mstatus\u001b[0m\u001b[1;33m:\u001b[0m \u001b[0mstr\u001b[0m\u001b[1;33m,\u001b[0m\u001b[1;33m\n",
       "\u001b[0m    \u001b[0mproperties\u001b[0m\u001b[1;33m:\u001b[0m \u001b[0mdict\u001b[0m\u001b[1;33m,\u001b[0m\u001b[1;33m\n",
       "\u001b[0m    \u001b[0mfiles\u001b[0m\u001b[1;33m:\u001b[0m \u001b[0mlist\u001b[0m\u001b[1;33m,\u001b[0m\u001b[1;33m\n",
       "\u001b[0m    \u001b[0mdoi\u001b[0m\u001b[1;33m:\u001b[0m \u001b[0mstr\u001b[0m\u001b[1;33m,\u001b[0m\u001b[1;33m\n",
       "\u001b[0m    \u001b[0mdescription\u001b[0m\u001b[1;33m:\u001b[0m \u001b[0mstr\u001b[0m\u001b[1;33m,\u001b[0m\u001b[1;33m\n",
       "\u001b[0m    \u001b[0mlicense\u001b[0m\u001b[1;33m:\u001b[0m \u001b[0mstr\u001b[0m\u001b[1;33m,\u001b[0m\u001b[1;33m\n",
       "\u001b[0m    \u001b[0mactivation_date\u001b[0m\u001b[1;33m:\u001b[0m \u001b[0mstr\u001b[0m\u001b[1;33m,\u001b[0m\u001b[1;33m\n",
       "\u001b[0m    \u001b[0mexpiration_date\u001b[0m\u001b[1;33m:\u001b[0m \u001b[0mstr\u001b[0m\u001b[1;33m,\u001b[0m\u001b[1;33m\n",
       "\u001b[0m\u001b[1;33m)\u001b[0m \u001b[1;33m->\u001b[0m \u001b[1;32mNone\u001b[0m\u001b[1;33m\u001b[0m\u001b[1;33m\u001b[0m\u001b[0m\n",
       "\u001b[1;31mDocstring:\u001b[0m      dataset data from CLIMADA data API.\n",
       "\u001b[1;31mFile:\u001b[0m           c:\\users\\me\\www\\climada_python\\climada\\util\\api_client.py\n",
       "\u001b[1;31mType:\u001b[0m           type\n",
       "\u001b[1;31mSubclasses:\u001b[0m     \n"
      ]
     },
     "metadata": {},
     "output_type": "display_data"
    }
   ],
   "source": [
    "from climada.util.api_client import DatasetInfo\n",
    "DatasetInfo?"
   ]
  },
  {
   "cell_type": "markdown",
   "metadata": {},
   "source": [
    "where files is a list of `FileInfo` objects:"
   ]
  },
  {
   "cell_type": "code",
   "execution_count": 8,
   "metadata": {},
   "outputs": [
    {
     "data": {
      "text/plain": [
       "\u001b[1;31mInit signature:\u001b[0m\n",
       "\u001b[0mFileInfo\u001b[0m\u001b[1;33m(\u001b[0m\u001b[1;33m\n",
       "\u001b[0m    \u001b[0muuid\u001b[0m\u001b[1;33m:\u001b[0m \u001b[0mstr\u001b[0m\u001b[1;33m,\u001b[0m\u001b[1;33m\n",
       "\u001b[0m    \u001b[0murl\u001b[0m\u001b[1;33m:\u001b[0m \u001b[0mstr\u001b[0m\u001b[1;33m,\u001b[0m\u001b[1;33m\n",
       "\u001b[0m    \u001b[0mfile_name\u001b[0m\u001b[1;33m:\u001b[0m \u001b[0mstr\u001b[0m\u001b[1;33m,\u001b[0m\u001b[1;33m\n",
       "\u001b[0m    \u001b[0mfile_format\u001b[0m\u001b[1;33m:\u001b[0m \u001b[0mstr\u001b[0m\u001b[1;33m,\u001b[0m\u001b[1;33m\n",
       "\u001b[0m    \u001b[0mfile_size\u001b[0m\u001b[1;33m:\u001b[0m \u001b[0mint\u001b[0m\u001b[1;33m,\u001b[0m\u001b[1;33m\n",
       "\u001b[0m    \u001b[0mcheck_sum\u001b[0m\u001b[1;33m:\u001b[0m \u001b[0mstr\u001b[0m\u001b[1;33m,\u001b[0m\u001b[1;33m\n",
       "\u001b[0m\u001b[1;33m)\u001b[0m \u001b[1;33m->\u001b[0m \u001b[1;32mNone\u001b[0m\u001b[1;33m\u001b[0m\u001b[1;33m\u001b[0m\u001b[0m\n",
       "\u001b[1;31mDocstring:\u001b[0m      file data from CLIMADA data API.\n",
       "\u001b[1;31mFile:\u001b[0m           c:\\users\\me\\www\\climada_python\\climada\\util\\api_client.py\n",
       "\u001b[1;31mType:\u001b[0m           type\n",
       "\u001b[1;31mSubclasses:\u001b[0m     \n"
      ]
     },
     "metadata": {},
     "output_type": "display_data"
    }
   ],
   "source": [
    "from climada.util.api_client import FileInfo\n",
    "FileInfo?"
   ]
  },
  {
   "cell_type": "markdown",
   "metadata": {},
   "source": [
    "#### Example"
   ]
  },
  {
   "cell_type": "code",
   "execution_count": 9,
   "metadata": {},
   "outputs": [
    {
     "data": {
      "text/plain": [
       "('b1c76120-4e60-4d8f-99c0-7e1e7b7860ec',\n",
       " DataTypeInfo(data_type='litpop', data_type_group='exposures', description=None),\n",
       " 'LitPop_assets_pc_150arcsec_SGS',\n",
       " 'v1',\n",
       " {'resolution': '150arcsec',\n",
       "  'exponents': '(3,0)',\n",
       "  'fin_mode': 'pc',\n",
       "  'country_iso3alpha': 'SGS',\n",
       "  'country_name': 'South Georgia and the South Sandwich Islands'})"
      ]
     },
     "execution_count": 9,
     "metadata": {},
     "output_type": "execute_result"
    }
   ],
   "source": [
    "ds = client.get_dataset_by_uuid('b1c76120-4e60-4d8f-99c0-7e1e7b7860ec')\n",
    "ds.uuid, ds.data_type, ds.name, ds.version, ds.properties"
   ]
  },
  {
   "cell_type": "markdown",
   "metadata": {},
   "source": [
    "#### Convert into DataFrame\n",
    "Since `DatasetInfo` is a `@dataclass`, a list of such objects can be easily turned into a `pandas.DataFrame`:"
   ]
  },
  {
   "cell_type": "code",
   "execution_count": 10,
   "metadata": {
    "tags": []
   },
   "outputs": [
    {
     "data": {
      "text/html": [
       "<div>\n",
       "<style scoped>\n",
       "    .dataframe tbody tr th:only-of-type {\n",
       "        vertical-align: middle;\n",
       "    }\n",
       "\n",
       "    .dataframe tbody tr th {\n",
       "        vertical-align: top;\n",
       "    }\n",
       "\n",
       "    .dataframe thead th {\n",
       "        text-align: right;\n",
       "    }\n",
       "</style>\n",
       "<table border=\"1\" class=\"dataframe\">\n",
       "  <thead>\n",
       "    <tr style=\"text-align: right;\">\n",
       "      <th></th>\n",
       "      <th>uuid</th>\n",
       "      <th>data_type</th>\n",
       "      <th>name</th>\n",
       "      <th>version</th>\n",
       "      <th>status</th>\n",
       "      <th>properties</th>\n",
       "      <th>files</th>\n",
       "      <th>doi</th>\n",
       "      <th>description</th>\n",
       "      <th>license</th>\n",
       "      <th>activation_date</th>\n",
       "      <th>expiration_date</th>\n",
       "    </tr>\n",
       "  </thead>\n",
       "  <tbody>\n",
       "    <tr>\n",
       "      <th>0</th>\n",
       "      <td>b1c76120-4e60-4d8f-99c0-7e1e7b7860ec</td>\n",
       "      <td>{'data_type': 'litpop', 'data_type_group': 'ex...</td>\n",
       "      <td>LitPop_assets_pc_150arcsec_SGS</td>\n",
       "      <td>v1</td>\n",
       "      <td>active</td>\n",
       "      <td>{'resolution': '150arcsec', 'exponents': '(3,0...</td>\n",
       "      <td>[{'uuid': 'b1c76120-4e60-4d8f-99c0-7e1e7b7860e...</td>\n",
       "      <td>None</td>\n",
       "      <td>LitPop CLIMADA Exposures by country, at a reso...</td>\n",
       "      <td>Attribution 4.0 International (CC BY 4.0)</td>\n",
       "      <td>2021-08-27 08:17:52.175843+00:00</td>\n",
       "      <td>None</td>\n",
       "    </tr>\n",
       "  </tbody>\n",
       "</table>\n",
       "</div>"
      ],
      "text/plain": [
       "                                   uuid  \\\n",
       "0  b1c76120-4e60-4d8f-99c0-7e1e7b7860ec   \n",
       "\n",
       "                                           data_type  \\\n",
       "0  {'data_type': 'litpop', 'data_type_group': 'ex...   \n",
       "\n",
       "                             name version  status  \\\n",
       "0  LitPop_assets_pc_150arcsec_SGS      v1  active   \n",
       "\n",
       "                                          properties  \\\n",
       "0  {'resolution': '150arcsec', 'exponents': '(3,0...   \n",
       "\n",
       "                                               files   doi  \\\n",
       "0  [{'uuid': 'b1c76120-4e60-4d8f-99c0-7e1e7b7860e...  None   \n",
       "\n",
       "                                         description  \\\n",
       "0  LitPop CLIMADA Exposures by country, at a reso...   \n",
       "\n",
       "                                     license  \\\n",
       "0  Attribution 4.0 International (CC BY 4.0)   \n",
       "\n",
       "                    activation_date expiration_date  \n",
       "0  2021-08-27 08:17:52.175843+00:00            None  "
      ]
     },
     "execution_count": 10,
     "metadata": {},
     "output_type": "execute_result"
    }
   ],
   "source": [
    "import pandas as pd\n",
    "pd.DataFrame([ds])"
   ]
  },
  {
   "cell_type": "code",
   "execution_count": 11,
   "metadata": {},
   "outputs": [
    {
     "data": {
      "text/html": [
       "<div>\n",
       "<style scoped>\n",
       "    .dataframe tbody tr th:only-of-type {\n",
       "        vertical-align: middle;\n",
       "    }\n",
       "\n",
       "    .dataframe tbody tr th {\n",
       "        vertical-align: top;\n",
       "    }\n",
       "\n",
       "    .dataframe thead th {\n",
       "        text-align: right;\n",
       "    }\n",
       "</style>\n",
       "<table border=\"1\" class=\"dataframe\">\n",
       "  <thead>\n",
       "    <tr style=\"text-align: right;\">\n",
       "      <th></th>\n",
       "      <th>uuid</th>\n",
       "      <th>data_type</th>\n",
       "      <th>name</th>\n",
       "      <th>version</th>\n",
       "      <th>status</th>\n",
       "      <th>properties</th>\n",
       "      <th>files</th>\n",
       "      <th>doi</th>\n",
       "      <th>description</th>\n",
       "      <th>license</th>\n",
       "      <th>activation_date</th>\n",
       "      <th>expiration_date</th>\n",
       "    </tr>\n",
       "  </thead>\n",
       "  <tbody>\n",
       "    <tr>\n",
       "      <th>0</th>\n",
       "      <td>b1c76120-4e60-4d8f-99c0-7e1e7b7860ec</td>\n",
       "      <td>{'data_type': 'litpop', 'data_type_group': 'ex...</td>\n",
       "      <td>LitPop_assets_pc_150arcsec_SGS</td>\n",
       "      <td>v1</td>\n",
       "      <td>active</td>\n",
       "      <td>{'resolution': '150arcsec', 'exponents': '(3,0...</td>\n",
       "      <td>[{'uuid': 'b1c76120-4e60-4d8f-99c0-7e1e7b7860e...</td>\n",
       "      <td>None</td>\n",
       "      <td>LitPop CLIMADA Exposures by country, at a reso...</td>\n",
       "      <td>Attribution 4.0 International (CC BY 4.0)</td>\n",
       "      <td>2021-08-27 08:17:52.175843+00:00</td>\n",
       "      <td>None</td>\n",
       "    </tr>\n",
       "    <tr>\n",
       "      <th>1</th>\n",
       "      <td>3d516897-5f87-46e6-b673-9e6c00d110ec</td>\n",
       "      <td>{'data_type': 'litpop', 'data_type_group': 'ex...</td>\n",
       "      <td>LitPop_pop_150arcsec_SGS</td>\n",
       "      <td>v1</td>\n",
       "      <td>active</td>\n",
       "      <td>{'resolution': '150arcsec', 'exponents': '(0,1...</td>\n",
       "      <td>[{'uuid': '3d516897-5f87-46e6-b673-9e6c00d110e...</td>\n",
       "      <td>None</td>\n",
       "      <td>LitPop CLIMADA Exposures by country, at a reso...</td>\n",
       "      <td>Attribution 4.0 International (CC BY 4.0)</td>\n",
       "      <td>None</td>\n",
       "      <td>None</td>\n",
       "    </tr>\n",
       "    <tr>\n",
       "      <th>2</th>\n",
       "      <td>a6864a65-36a2-4701-91bc-81b1355103b5</td>\n",
       "      <td>{'data_type': 'litpop', 'data_type_group': 'ex...</td>\n",
       "      <td>LitPop_150arcsec_SGS</td>\n",
       "      <td>v1</td>\n",
       "      <td>active</td>\n",
       "      <td>{'resolution': '150arcsec', 'exponents': '(1,1...</td>\n",
       "      <td>[{'uuid': 'a6864a65-36a2-4701-91bc-81b1355103b...</td>\n",
       "      <td>None</td>\n",
       "      <td>LitPop CLIMADA Exposures by country, at a reso...</td>\n",
       "      <td>Attribution 4.0 International (CC BY 4.0)</td>\n",
       "      <td>None</td>\n",
       "      <td>None</td>\n",
       "    </tr>\n",
       "  </tbody>\n",
       "</table>\n",
       "</div>"
      ],
      "text/plain": [
       "                                   uuid  \\\n",
       "0  b1c76120-4e60-4d8f-99c0-7e1e7b7860ec   \n",
       "1  3d516897-5f87-46e6-b673-9e6c00d110ec   \n",
       "2  a6864a65-36a2-4701-91bc-81b1355103b5   \n",
       "\n",
       "                                           data_type  \\\n",
       "0  {'data_type': 'litpop', 'data_type_group': 'ex...   \n",
       "1  {'data_type': 'litpop', 'data_type_group': 'ex...   \n",
       "2  {'data_type': 'litpop', 'data_type_group': 'ex...   \n",
       "\n",
       "                             name version  status  \\\n",
       "0  LitPop_assets_pc_150arcsec_SGS      v1  active   \n",
       "1        LitPop_pop_150arcsec_SGS      v1  active   \n",
       "2            LitPop_150arcsec_SGS      v1  active   \n",
       "\n",
       "                                          properties  \\\n",
       "0  {'resolution': '150arcsec', 'exponents': '(3,0...   \n",
       "1  {'resolution': '150arcsec', 'exponents': '(0,1...   \n",
       "2  {'resolution': '150arcsec', 'exponents': '(1,1...   \n",
       "\n",
       "                                               files   doi  \\\n",
       "0  [{'uuid': 'b1c76120-4e60-4d8f-99c0-7e1e7b7860e...  None   \n",
       "1  [{'uuid': '3d516897-5f87-46e6-b673-9e6c00d110e...  None   \n",
       "2  [{'uuid': 'a6864a65-36a2-4701-91bc-81b1355103b...  None   \n",
       "\n",
       "                                         description  \\\n",
       "0  LitPop CLIMADA Exposures by country, at a reso...   \n",
       "1  LitPop CLIMADA Exposures by country, at a reso...   \n",
       "2  LitPop CLIMADA Exposures by country, at a reso...   \n",
       "\n",
       "                                     license  \\\n",
       "0  Attribution 4.0 International (CC BY 4.0)   \n",
       "1  Attribution 4.0 International (CC BY 4.0)   \n",
       "2  Attribution 4.0 International (CC BY 4.0)   \n",
       "\n",
       "                    activation_date expiration_date  \n",
       "0  2021-08-27 08:17:52.175843+00:00            None  \n",
       "1                              None            None  \n",
       "2                              None            None  "
      ]
     },
     "execution_count": 11,
     "metadata": {},
     "output_type": "execute_result"
    }
   ],
   "source": [
    "litpop_datasets = client.get_datasets(data_type='litpop', properties={'country_name': 'South Georgia and the South Sandwich Islands'})\n",
    "lpdf = pd.DataFrame(litpop_datasets)\n",
    "lpdf"
   ]
  },
  {
   "cell_type": "markdown",
   "metadata": {},
   "source": [
    "#### Expand properties and data types into DataFrames\n",
    "The columns \"properties\" and \"data_type\" are dictionaries and thus hard to read in jupyter or spyder. Expanding them to DataFrames can be done in this way:"
   ]
  },
  {
   "cell_type": "code",
   "execution_count": 12,
   "metadata": {},
   "outputs": [
    {
     "data": {
      "text/html": [
       "<div>\n",
       "<style scoped>\n",
       "    .dataframe tbody tr th:only-of-type {\n",
       "        vertical-align: middle;\n",
       "    }\n",
       "\n",
       "    .dataframe tbody tr th {\n",
       "        vertical-align: top;\n",
       "    }\n",
       "\n",
       "    .dataframe thead th {\n",
       "        text-align: right;\n",
       "    }\n",
       "</style>\n",
       "<table border=\"1\" class=\"dataframe\">\n",
       "  <thead>\n",
       "    <tr style=\"text-align: right;\">\n",
       "      <th></th>\n",
       "      <th>data_type</th>\n",
       "      <th>data_type_group</th>\n",
       "      <th>description</th>\n",
       "    </tr>\n",
       "  </thead>\n",
       "  <tbody>\n",
       "    <tr>\n",
       "      <th>0</th>\n",
       "      <td>litpop</td>\n",
       "      <td>exposures</td>\n",
       "      <td>None</td>\n",
       "    </tr>\n",
       "    <tr>\n",
       "      <th>1</th>\n",
       "      <td>litpop</td>\n",
       "      <td>exposures</td>\n",
       "      <td>None</td>\n",
       "    </tr>\n",
       "    <tr>\n",
       "      <th>2</th>\n",
       "      <td>litpop</td>\n",
       "      <td>exposures</td>\n",
       "      <td>None</td>\n",
       "    </tr>\n",
       "  </tbody>\n",
       "</table>\n",
       "</div>"
      ],
      "text/plain": [
       "  data_type data_type_group description\n",
       "0    litpop       exposures        None\n",
       "1    litpop       exposures        None\n",
       "2    litpop       exposures        None"
      ]
     },
     "execution_count": 12,
     "metadata": {},
     "output_type": "execute_result"
    }
   ],
   "source": [
    "lp_data_type_df = pd.DataFrame([pd.Series(dt) for dt in lpdf.data_type])\n",
    "lp_data_type_df.head()"
   ]
  },
  {
   "cell_type": "code",
   "execution_count": 13,
   "metadata": {},
   "outputs": [
    {
     "data": {
      "text/html": [
       "<div>\n",
       "<style scoped>\n",
       "    .dataframe tbody tr th:only-of-type {\n",
       "        vertical-align: middle;\n",
       "    }\n",
       "\n",
       "    .dataframe tbody tr th {\n",
       "        vertical-align: top;\n",
       "    }\n",
       "\n",
       "    .dataframe thead th {\n",
       "        text-align: right;\n",
       "    }\n",
       "</style>\n",
       "<table border=\"1\" class=\"dataframe\">\n",
       "  <thead>\n",
       "    <tr style=\"text-align: right;\">\n",
       "      <th></th>\n",
       "      <th>resolution</th>\n",
       "      <th>exponents</th>\n",
       "      <th>fin_mode</th>\n",
       "      <th>country_iso3alpha</th>\n",
       "      <th>country_name</th>\n",
       "    </tr>\n",
       "  </thead>\n",
       "  <tbody>\n",
       "    <tr>\n",
       "      <th>0</th>\n",
       "      <td>150arcsec</td>\n",
       "      <td>(3,0)</td>\n",
       "      <td>pc</td>\n",
       "      <td>SGS</td>\n",
       "      <td>South Georgia and the South Sandwich Islands</td>\n",
       "    </tr>\n",
       "    <tr>\n",
       "      <th>1</th>\n",
       "      <td>150arcsec</td>\n",
       "      <td>(0,1)</td>\n",
       "      <td>pc</td>\n",
       "      <td>SGS</td>\n",
       "      <td>South Georgia and the South Sandwich Islands</td>\n",
       "    </tr>\n",
       "    <tr>\n",
       "      <th>2</th>\n",
       "      <td>150arcsec</td>\n",
       "      <td>(1,1)</td>\n",
       "      <td>gdp</td>\n",
       "      <td>SGS</td>\n",
       "      <td>South Georgia and the South Sandwich Islands</td>\n",
       "    </tr>\n",
       "  </tbody>\n",
       "</table>\n",
       "</div>"
      ],
      "text/plain": [
       "  resolution exponents fin_mode country_iso3alpha  \\\n",
       "0  150arcsec     (3,0)       pc               SGS   \n",
       "1  150arcsec     (0,1)       pc               SGS   \n",
       "2  150arcsec     (1,1)      gdp               SGS   \n",
       "\n",
       "                                   country_name  \n",
       "0  South Georgia and the South Sandwich Islands  \n",
       "1  South Georgia and the South Sandwich Islands  \n",
       "2  South Georgia and the South Sandwich Islands  "
      ]
     },
     "execution_count": 13,
     "metadata": {},
     "output_type": "execute_result"
    }
   ],
   "source": [
    "lp_properties_df = pd.DataFrame([pd.Series(p) for p in lpdf.properties])\n",
    "lp_properties_df"
   ]
  },
  {
   "cell_type": "markdown",
   "metadata": {},
   "source": [
    "The resulting DataFrame can be simply joined with the original dataset DataFrame.\n",
    "\n",
    "#### Expand files into a DataFrame\n",
    "The column \"files\" and is a list of `FileInfo` objects and also hard to read in jupyter or spyder. Expanding them to a DataFrame can be done in this way:"
   ]
  },
  {
   "cell_type": "code",
   "execution_count": 14,
   "metadata": {
    "tags": []
   },
   "outputs": [
    {
     "data": {
      "text/html": [
       "<div>\n",
       "<style scoped>\n",
       "    .dataframe tbody tr th:only-of-type {\n",
       "        vertical-align: middle;\n",
       "    }\n",
       "\n",
       "    .dataframe tbody tr th {\n",
       "        vertical-align: top;\n",
       "    }\n",
       "\n",
       "    .dataframe thead th {\n",
       "        text-align: right;\n",
       "    }\n",
       "</style>\n",
       "<table border=\"1\" class=\"dataframe\">\n",
       "  <thead>\n",
       "    <tr style=\"text-align: right;\">\n",
       "      <th></th>\n",
       "      <th>uuid</th>\n",
       "      <th>url</th>\n",
       "      <th>file_name</th>\n",
       "      <th>file_format</th>\n",
       "      <th>file_size</th>\n",
       "      <th>check_sum</th>\n",
       "    </tr>\n",
       "  </thead>\n",
       "  <tbody>\n",
       "    <tr>\n",
       "      <th>0</th>\n",
       "      <td>b1c76120-4e60-4d8f-99c0-7e1e7b7860ec</td>\n",
       "      <td>https://data.iac.ethz.ch/climada/b1c76120-4e60...</td>\n",
       "      <td>LitPop_assets_pc_150arcsec_SGS.h5</td>\n",
       "      <td>hdf5</td>\n",
       "      <td>1086488</td>\n",
       "      <td>md5:9e4ef3c833b68edbc935af2c8c26405a</td>\n",
       "    </tr>\n",
       "    <tr>\n",
       "      <th>1</th>\n",
       "      <td>3d516897-5f87-46e6-b673-9e6c00d110ec</td>\n",
       "      <td>https://data.iac.ethz.ch/climada/3d516897-5f87...</td>\n",
       "      <td>LitPop_pop_150arcsec_SGS.h5</td>\n",
       "      <td>hdf5</td>\n",
       "      <td>1086488</td>\n",
       "      <td>md5:6b2765e4d73ba8430efbc68e0abd6abc</td>\n",
       "    </tr>\n",
       "    <tr>\n",
       "      <th>2</th>\n",
       "      <td>a6864a65-36a2-4701-91bc-81b1355103b5</td>\n",
       "      <td>https://data.iac.ethz.ch/climada/a6864a65-36a2...</td>\n",
       "      <td>LitPop_150arcsec_SGS.h5</td>\n",
       "      <td>hdf5</td>\n",
       "      <td>1086488</td>\n",
       "      <td>md5:1114b81d93d7b0b7632669281b3eea71</td>\n",
       "    </tr>\n",
       "  </tbody>\n",
       "</table>\n",
       "</div>"
      ],
      "text/plain": [
       "                                   uuid  \\\n",
       "0  b1c76120-4e60-4d8f-99c0-7e1e7b7860ec   \n",
       "1  3d516897-5f87-46e6-b673-9e6c00d110ec   \n",
       "2  a6864a65-36a2-4701-91bc-81b1355103b5   \n",
       "\n",
       "                                                 url  \\\n",
       "0  https://data.iac.ethz.ch/climada/b1c76120-4e60...   \n",
       "1  https://data.iac.ethz.ch/climada/3d516897-5f87...   \n",
       "2  https://data.iac.ethz.ch/climada/a6864a65-36a2...   \n",
       "\n",
       "                           file_name file_format  file_size  \\\n",
       "0  LitPop_assets_pc_150arcsec_SGS.h5        hdf5    1086488   \n",
       "1        LitPop_pop_150arcsec_SGS.h5        hdf5    1086488   \n",
       "2            LitPop_150arcsec_SGS.h5        hdf5    1086488   \n",
       "\n",
       "                              check_sum  \n",
       "0  md5:9e4ef3c833b68edbc935af2c8c26405a  \n",
       "1  md5:6b2765e4d73ba8430efbc68e0abd6abc  \n",
       "2  md5:1114b81d93d7b0b7632669281b3eea71  "
      ]
     },
     "execution_count": 14,
     "metadata": {},
     "output_type": "execute_result"
    }
   ],
   "source": [
    "lp_files_df = pd.DataFrame([fileinfo for dataset in litpop_datasets for fileinfo in dataset.files])\n",
    "lp_files_df"
   ]
  },
  {
   "cell_type": "markdown",
   "metadata": {},
   "source": [
    "The resulting DataFrame does not have the same shape as the dataset DataFrame, since each dataset can contain multiple files. Therefore a simple join won't work. But the DataFrame can be merged by 'uuid':"
   ]
  },
  {
   "cell_type": "code",
   "execution_count": 15,
   "metadata": {},
   "outputs": [
    {
     "data": {
      "text/html": [
       "<div>\n",
       "<style scoped>\n",
       "    .dataframe tbody tr th:only-of-type {\n",
       "        vertical-align: middle;\n",
       "    }\n",
       "\n",
       "    .dataframe tbody tr th {\n",
       "        vertical-align: top;\n",
       "    }\n",
       "\n",
       "    .dataframe thead th {\n",
       "        text-align: right;\n",
       "    }\n",
       "</style>\n",
       "<table border=\"1\" class=\"dataframe\">\n",
       "  <thead>\n",
       "    <tr style=\"text-align: right;\">\n",
       "      <th></th>\n",
       "      <th>uuid</th>\n",
       "      <th>name</th>\n",
       "      <th>country_name</th>\n",
       "      <th>fin_mode</th>\n",
       "      <th>exponents</th>\n",
       "      <th>file_size</th>\n",
       "      <th>file_name</th>\n",
       "    </tr>\n",
       "  </thead>\n",
       "  <tbody>\n",
       "    <tr>\n",
       "      <th>0</th>\n",
       "      <td>b1c76120-4e60-4d8f-99c0-7e1e7b7860ec</td>\n",
       "      <td>LitPop_assets_pc_150arcsec_SGS</td>\n",
       "      <td>South Georgia and the South Sandwich Islands</td>\n",
       "      <td>pc</td>\n",
       "      <td>(3,0)</td>\n",
       "      <td>1086488</td>\n",
       "      <td>LitPop_assets_pc_150arcsec_SGS.h5</td>\n",
       "    </tr>\n",
       "    <tr>\n",
       "      <th>1</th>\n",
       "      <td>3d516897-5f87-46e6-b673-9e6c00d110ec</td>\n",
       "      <td>LitPop_pop_150arcsec_SGS</td>\n",
       "      <td>South Georgia and the South Sandwich Islands</td>\n",
       "      <td>pc</td>\n",
       "      <td>(0,1)</td>\n",
       "      <td>1086488</td>\n",
       "      <td>LitPop_pop_150arcsec_SGS.h5</td>\n",
       "    </tr>\n",
       "    <tr>\n",
       "      <th>2</th>\n",
       "      <td>a6864a65-36a2-4701-91bc-81b1355103b5</td>\n",
       "      <td>LitPop_150arcsec_SGS</td>\n",
       "      <td>South Georgia and the South Sandwich Islands</td>\n",
       "      <td>gdp</td>\n",
       "      <td>(1,1)</td>\n",
       "      <td>1086488</td>\n",
       "      <td>LitPop_150arcsec_SGS.h5</td>\n",
       "    </tr>\n",
       "  </tbody>\n",
       "</table>\n",
       "</div>"
      ],
      "text/plain": [
       "                                   uuid                            name  \\\n",
       "0  b1c76120-4e60-4d8f-99c0-7e1e7b7860ec  LitPop_assets_pc_150arcsec_SGS   \n",
       "1  3d516897-5f87-46e6-b673-9e6c00d110ec        LitPop_pop_150arcsec_SGS   \n",
       "2  a6864a65-36a2-4701-91bc-81b1355103b5            LitPop_150arcsec_SGS   \n",
       "\n",
       "                                   country_name fin_mode exponents  file_size  \\\n",
       "0  South Georgia and the South Sandwich Islands       pc     (3,0)    1086488   \n",
       "1  South Georgia and the South Sandwich Islands       pc     (0,1)    1086488   \n",
       "2  South Georgia and the South Sandwich Islands      gdp     (1,1)    1086488   \n",
       "\n",
       "                           file_name  \n",
       "0  LitPop_assets_pc_150arcsec_SGS.h5  \n",
       "1        LitPop_pop_150arcsec_SGS.h5  \n",
       "2            LitPop_150arcsec_SGS.h5  "
      ]
     },
     "execution_count": 15,
     "metadata": {},
     "output_type": "execute_result"
    }
   ],
   "source": [
    "lp_files_df.merge(lpdf.join(lp_properties_df), on='uuid').loc[:,['uuid', 'name', 'country_name', 'fin_mode', 'exponents', 'file_size', 'file_name']]"
   ]
  },
  {
   "cell_type": "markdown",
   "metadata": {
    "tags": []
   },
   "source": [
    "## Download\n",
    "\n",
    "There are two methods to download files through the API: `download_dataset` which takes a `DatasetInfo` as argument and downloads all files of the dataset at once and `download_file` which takes a single `FileInfo` object as argument."
   ]
  },
  {
   "cell_type": "code",
   "execution_count": 16,
   "metadata": {
    "tags": []
   },
   "outputs": [
    {
     "data": {
      "text/plain": [
       "\u001b[1;31mSignature:\u001b[0m\n",
       "\u001b[0mclient\u001b[0m\u001b[1;33m.\u001b[0m\u001b[0mdownload_dataset\u001b[0m\u001b[1;33m(\u001b[0m\u001b[1;33m\n",
       "\u001b[0m    \u001b[0mdataset\u001b[0m\u001b[1;33m,\u001b[0m\u001b[1;33m\n",
       "\u001b[0m    \u001b[0mtarget_dir\u001b[0m\u001b[1;33m=\u001b[0m\u001b[0mWindowsPath\u001b[0m\u001b[1;33m(\u001b[0m\u001b[1;34m'C:/Users/me/climada/data'\u001b[0m\u001b[1;33m)\u001b[0m\u001b[1;33m,\u001b[0m\u001b[1;33m\n",
       "\u001b[0m    \u001b[0morganize_path\u001b[0m\u001b[1;33m=\u001b[0m\u001b[1;32mTrue\u001b[0m\u001b[1;33m,\u001b[0m\u001b[1;33m\n",
       "\u001b[0m    \u001b[0mcheck\u001b[0m\u001b[1;33m=\u001b[0m\u001b[1;33m<\u001b[0m\u001b[0mfunction\u001b[0m \u001b[0mchecksize\u001b[0m \u001b[0mat\u001b[0m \u001b[1;36m0x0000027F7BA874C0\u001b[0m\u001b[1;33m>\u001b[0m\u001b[1;33m,\u001b[0m\u001b[1;33m\n",
       "\u001b[0m\u001b[1;33m)\u001b[0m\u001b[1;33m\u001b[0m\u001b[1;33m\u001b[0m\u001b[0m\n",
       "\u001b[1;31mDocstring:\u001b[0m\n",
       "Download all files from a given dataset to a given directory.\n",
       "\n",
       "Parameters\n",
       "----------\n",
       "dataset : DatasetInfo\n",
       "    the dataset\n",
       "target_dir : Path, optional\n",
       "    target directory for download, by default `climada.util.constants.SYSTEM_DIR`\n",
       "organize_path: bool, optional\n",
       "    if set to True the files will end up in subdirectories of target_dir:\n",
       "    [target_dir]/[data_type_group]/[data_type]/[name]/[version]\n",
       "    by default True\n",
       "check : function, optional\n",
       "    how to check download success for each file, by default Download.checksize\n",
       "\n",
       "Returns\n",
       "-------\n",
       "download_dir : Path\n",
       "    the path to the directory containing the downloaded files,\n",
       "    will be created if organize_path is True\n",
       "downloaded_files : list of Path\n",
       "    the downloaded files themselves\n",
       "\n",
       "Raises\n",
       "------\n",
       "Exception\n",
       "    when one of the files cannot be downloaded\n",
       "\u001b[1;31mFile:\u001b[0m      c:\\users\\me\\www\\climada_python\\climada\\util\\api_client.py\n",
       "\u001b[1;31mType:\u001b[0m      method\n"
      ]
     },
     "metadata": {},
     "output_type": "display_data"
    }
   ],
   "source": [
    "client.download_dataset?"
   ]
  },
  {
   "cell_type": "code",
   "execution_count": 17,
   "metadata": {
    "tags": []
   },
   "outputs": [
    {
     "data": {
      "text/plain": [
       "\u001b[1;31mSignature:\u001b[0m\n",
       "\u001b[0mclient\u001b[0m\u001b[1;33m.\u001b[0m\u001b[0mdownload_file\u001b[0m\u001b[1;33m(\u001b[0m\u001b[1;33m\n",
       "\u001b[0m    \u001b[0mlocal_path\u001b[0m\u001b[1;33m,\u001b[0m\u001b[1;33m\n",
       "\u001b[0m    \u001b[0mfileinfo\u001b[0m\u001b[1;33m,\u001b[0m\u001b[1;33m\n",
       "\u001b[0m    \u001b[0mcheck\u001b[0m\u001b[1;33m=\u001b[0m\u001b[1;33m<\u001b[0m\u001b[0mfunction\u001b[0m \u001b[0mchecksize\u001b[0m \u001b[0mat\u001b[0m \u001b[1;36m0x0000027F7BA874C0\u001b[0m\u001b[1;33m>\u001b[0m\u001b[1;33m,\u001b[0m\u001b[1;33m\n",
       "\u001b[0m    \u001b[0mretries\u001b[0m\u001b[1;33m=\u001b[0m\u001b[1;36m3\u001b[0m\u001b[1;33m,\u001b[0m\u001b[1;33m\n",
       "\u001b[0m\u001b[1;33m)\u001b[0m\u001b[1;33m\u001b[0m\u001b[1;33m\u001b[0m\u001b[0m\n",
       "\u001b[1;31mDocstring:\u001b[0m\n",
       "Download a file if it is not already present at the target destination.\n",
       "\n",
       "Parameters\n",
       "----------\n",
       "local_path : Path\n",
       "    target destination,\n",
       "    if it is a directory the original filename (fileinfo.filen_name) is kept\n",
       "fileinfo : FileInfo\n",
       "    file object as retrieved from the data api\n",
       "check : function, optional\n",
       "    how to check download success, by default checksize\n",
       "retries : int, optional\n",
       "    how many times one should retry in case of failure, by default 3\n",
       "\n",
       "Returns\n",
       "-------\n",
       "Path\n",
       "    the path to the downloaded file\n",
       "\n",
       "Raises\n",
       "------\n",
       "Exception\n",
       "    when number of retries was exceeded or when a download is already running\n",
       "\u001b[1;31mFile:\u001b[0m      c:\\users\\me\\www\\climada_python\\climada\\util\\api_client.py\n",
       "\u001b[1;31mType:\u001b[0m      method\n"
      ]
     },
     "metadata": {},
     "output_type": "display_data"
    }
   ],
   "source": [
    "client.download_file?"
   ]
  },
  {
   "cell_type": "markdown",
   "metadata": {
    "tags": []
   },
   "source": [
    "#### Cache\n",
    "Both methods avoid superfluous downloads by keeping track of all downloads in a sqlite db file. The client will make sure that the same file is never downloaded to the same target twice.\n",
    "\n",
    "#### Examples"
   ]
  },
  {
   "cell_type": "code",
   "execution_count": 18,
   "metadata": {},
   "outputs": [
    {
     "data": {
      "text/plain": [
       "(WindowsPath('C:/Users/me/climada/data/exposures/litpop/LitPop_assets_pc_150arcsec_SGS/v1/LitPop_assets_pc_150arcsec_SGS.h5'),\n",
       " True)"
      ]
     },
     "execution_count": 18,
     "metadata": {},
     "output_type": "execute_result"
    }
   ],
   "source": [
    "download_dir, ds_files = client.download_dataset(ds)\n",
    "ds_files[0], ds_files[0].is_file()"
   ]
  },
  {
   "cell_type": "code",
   "execution_count": 19,
   "metadata": {},
   "outputs": [
    {
     "data": {
      "text/plain": [
       "(WindowsPath('LitPop_assets_pc_150arcsec_SGS.h5'), True)"
      ]
     },
     "execution_count": 19,
     "metadata": {},
     "output_type": "execute_result"
    }
   ],
   "source": [
    "from pathlib import Path\n",
    "ds_file = client.download_file(Path('.'), ds.files[0])\n",
    "ds_file, ds_file.is_file()"
   ]
  },
  {
   "cell_type": "markdown",
   "metadata": {},
   "source": [
    "### Wrapper functions\n"
   ]
  },
  {
   "cell_type": "markdown",
   "metadata": {},
   "source": [
    "The following wrapper functions allow to directly open CLIMADA exposures or hazards from datasets in the API."
   ]
  },
  {
   "cell_type": "code",
   "execution_count": 3,
   "metadata": {
    "scrolled": false
   },
   "outputs": [
    {
     "name": "stdout",
     "output_type": "stream",
     "text": [
      "The following data types are available: river_flood, tropical_cyclone, storm_europe. Which one do you want to get?river_flood\n",
      "The following geographical_scale are available: country, global. Which one would you like to get?country\n",
      "The following year_range are available: 2010_2030, 2030_2050, 2050_2070, 2070_2090. Which one would you like to get?2010_2030\n",
      "The following rcp are available: rcp26, rcp85. Which one would you like to get?rcp26\n",
      "The following country_name are available: Afghanistan, Albania, Algeria, American Samoa, Andorra, Angola, Anguilla, Antigua and Barbuda, Argentina, Armenia, Aruba, Australia, Austria, Azerbaijan, Bahamas, Bahrain, Bangladesh, Barbados, Belarus, Belgium, Belize, Benin, Bermuda, Bhutan, Bolivia, Plurinational State of, Bosnia and Herzegovina, Botswana, Brazil, British Indian Ocean Territory, Brunei Darussalam, Bulgaria, Burkina Faso, Burundi, Cabo Verde, Cambodia, Cameroon, Canada, Cayman Islands, Central African Republic, Chad, Chile, China, Colombia, Comoros, Congo, Congo, Democratic Republic of the, Cook Islands, Costa Rica, Croatia, Cuba, Curaçao, Cyprus, Czechia, Côte d'Ivoire, Denmark, Djibouti, Dominica, Dominican Republic, Ecuador, Egypt, El Salvador, Equatorial Guinea, Eritrea, Estonia, Eswatini, Ethiopia, Falkland Islands (Malvinas), Fiji, Finland, France, French Polynesia, French Southern Territories, Gabon, Gambia, Georgia, Germany, Ghana, Greece, Greenland, Grenada, Guam, Guatemala, Guernsey, Guinea, Guinea-Bissau, Guyana, Haiti, Heard Island and McDonald Islands, Honduras, Hong Kong, Hungary, India, Indonesia, Iran, Islamic Republic of, Iraq, Ireland, Isle of Man, Israel, Italy, Jamaica, Japan, Jersey, Jordan, Kazakhstan, Kenya, Kiribati, Korea, Democratic People's Republic of, Korea, Republic of, Kosovo, Kuwait, Kyrgyzstan, Lao People's Democratic Republic, Latvia, Lebanon, Lesotho, Liberia, Libya, Liechtenstein, Lithuania, Luxembourg, Macao, Madagascar, Malawi, Malaysia, Maldives, Mali, Malta, Marshall Islands, Mauritania, Mauritius, Mexico, Micronesia, Federated States of, Moldova, Republic of, Monaco, Mongolia, Montenegro, Montserrat, Morocco, Mozambique, Myanmar, Namibia, Nauru, Nepal, Netherlands, New Caledonia, New Zealand, Nicaragua, Niger, Nigeria, Niue, North Macedonia, Northern Mariana Islands, Norway, Oman, Pakistan, Palau, Palestine, State of, Panama, Papua New Guinea, Paraguay, Peru, Philippines, Pitcairn, Poland, Portugal, Puerto Rico, Qatar, Romania, Russian Federation, Rwanda, Saint Helena, Ascension and Tristan da Cunha, Saint Kitts and Nevis, Saint Lucia, Saint Martin (French part), Saint Pierre and Miquelon, Saint Vincent and the Grenadines, Samoa, San Marino, Sao Tome and Principe, Saudi Arabia, Senegal, Serbia, Seychelles, Sierra Leone, Singapore, Sint Maarten (Dutch part), Slovakia, Slovenia, Solomon Islands, Somalia, South Africa, South Georgia and the South Sandwich Islands, South Sudan, Spain, Sri Lanka, Sudan, Suriname, Sweden, Switzerland, Syrian Arab Republic, Taiwan, Province of China, Tajikistan, Tanzania, United Republic of, Thailand, Timor-Leste, Togo, Tonga, Trinidad and Tobago, Tunisia, Turkey, Turkmenistan, Turks and Caicos Islands, Tuvalu, Uganda, Ukraine, United Arab Emirates, United Kingdom of Great Britain and Northern Ireland, United States of America, Uruguay, Uzbekistan, Vanuatu, Venezuela, Bolivarian Republic of, Viet Nam, Virgin Islands, British, Virgin Islands, U.S., Wallis and Futuna, Western Sahara, Yemen, Zambia, Zimbabwe, Åland Islands. Which one(s) would you like to get? You can also provide a list of countries separated by a comasch\n",
      "2021-09-23 14:53:28,367 - climada.util.api_client - ERROR - Please give a valid value from the list provided.\n",
      "The following country_name are available: Afghanistan, Albania, Algeria, American Samoa, Andorra, Angola, Anguilla, Antigua and Barbuda, Argentina, Armenia, Aruba, Australia, Austria, Azerbaijan, Bahamas, Bahrain, Bangladesh, Barbados, Belarus, Belgium, Belize, Benin, Bermuda, Bhutan, Bolivia, Plurinational State of, Bosnia and Herzegovina, Botswana, Brazil, British Indian Ocean Territory, Brunei Darussalam, Bulgaria, Burkina Faso, Burundi, Cabo Verde, Cambodia, Cameroon, Canada, Cayman Islands, Central African Republic, Chad, Chile, China, Colombia, Comoros, Congo, Congo, Democratic Republic of the, Cook Islands, Costa Rica, Croatia, Cuba, Curaçao, Cyprus, Czechia, Côte d'Ivoire, Denmark, Djibouti, Dominica, Dominican Republic, Ecuador, Egypt, El Salvador, Equatorial Guinea, Eritrea, Estonia, Eswatini, Ethiopia, Falkland Islands (Malvinas), Fiji, Finland, France, French Polynesia, French Southern Territories, Gabon, Gambia, Georgia, Germany, Ghana, Greece, Greenland, Grenada, Guam, Guatemala, Guernsey, Guinea, Guinea-Bissau, Guyana, Haiti, Heard Island and McDonald Islands, Honduras, Hong Kong, Hungary, India, Indonesia, Iran, Islamic Republic of, Iraq, Ireland, Isle of Man, Israel, Italy, Jamaica, Japan, Jersey, Jordan, Kazakhstan, Kenya, Kiribati, Korea, Democratic People's Republic of, Korea, Republic of, Kosovo, Kuwait, Kyrgyzstan, Lao People's Democratic Republic, Latvia, Lebanon, Lesotho, Liberia, Libya, Liechtenstein, Lithuania, Luxembourg, Macao, Madagascar, Malawi, Malaysia, Maldives, Mali, Malta, Marshall Islands, Mauritania, Mauritius, Mexico, Micronesia, Federated States of, Moldova, Republic of, Monaco, Mongolia, Montenegro, Montserrat, Morocco, Mozambique, Myanmar, Namibia, Nauru, Nepal, Netherlands, New Caledonia, New Zealand, Nicaragua, Niger, Nigeria, Niue, North Macedonia, Northern Mariana Islands, Norway, Oman, Pakistan, Palau, Palestine, State of, Panama, Papua New Guinea, Paraguay, Peru, Philippines, Pitcairn, Poland, Portugal, Puerto Rico, Qatar, Romania, Russian Federation, Rwanda, Saint Helena, Ascension and Tristan da Cunha, Saint Kitts and Nevis, Saint Lucia, Saint Martin (French part), Saint Pierre and Miquelon, Saint Vincent and the Grenadines, Samoa, San Marino, Sao Tome and Principe, Saudi Arabia, Senegal, Serbia, Seychelles, Sierra Leone, Singapore, Sint Maarten (Dutch part), Slovakia, Slovenia, Solomon Islands, Somalia, South Africa, South Georgia and the South Sandwich Islands, South Sudan, Spain, Sri Lanka, Sudan, Suriname, Sweden, Switzerland, Syrian Arab Republic, Taiwan, Province of China, Tajikistan, Tanzania, United Republic of, Thailand, Timor-Leste, Togo, Tonga, Trinidad and Tobago, Tunisia, Turkey, Turkmenistan, Turks and Caicos Islands, Tuvalu, Uganda, Ukraine, United Arab Emirates, United Kingdom of Great Britain and Northern Ireland, United States of America, Uruguay, Uzbekistan, Vanuatu, Venezuela, Bolivarian Republic of, Viet Nam, Virgin Islands, British, Virgin Islands, U.S., Wallis and Futuna, Western Sahara, Yemen, Zambia, Zimbabwe, Åland Islands. Which one(s) would you like to get? You can also provide a list of countries separated by a comaSwitzerland\n",
      "2021-09-23 14:53:46,952 - climada.util.api_client - INFO - The file already exists and it was not downloaded again.\n",
      "2021-09-23 14:53:47,091 - climada.hazard.base - INFO - Reading /Users/szelie/climada/data/river_flood_150arcsec_rcp26_CHE_2010_2030.hdf5\n"
     ]
    }
   ],
   "source": [
    "client = Client()\n",
    "river_flood_CHE = client.get_hazard()"
   ]
  },
  {
   "cell_type": "code",
   "execution_count": 8,
   "metadata": {},
   "outputs": [
    {
     "data": {
      "text/plain": [
       "<GeoAxesSubplot:title={'center':'RF max intensity at each point'}>"
      ]
     },
     "execution_count": 8,
     "metadata": {},
     "output_type": "execute_result"
    },
    {
     "data": {
      "image/png": "[encoded data removed]",
      "text/plain": [
       "<Figure size 648x936 with 2 Axes>"
      ]
     },
     "metadata": {
      "needs_background": "light"
     },
     "output_type": "display_data"
    }
   ],
   "source": [
    "river_flood_CHE.plot_intensity(0)"
   ]
  },
  {
   "cell_type": "markdown",
   "metadata": {},
   "source": [
    "You may also provide several countries which will be combined into one file:"
   ]
  },
  {
   "cell_type": "code",
   "execution_count": 4,
   "metadata": {},
   "outputs": [
    {
     "name": "stdout",
     "output_type": "stream",
     "text": [
      "The following data types are available: river_flood, tropical_cyclone, storm_europe. Which one do you want to get?tropical_cyclone\n",
      "The following geographical_scale are available: country, genesis_basin, global. Which one would you like to get?country\n",
      "The following n_tracks are available: 10, 50. Which one would you like to get?10\n",
      "The following year are available: 2020, 2040, 2060, 2080. Which one would you like to get?2020\n",
      "The following country_name are available: Afghanistan, Albania, Algeria, Andorra, Angola, Anguilla, Antigua and Barbuda, Argentina, Aruba, Australia, Austria, Bahamas, Bahrain, Bangladesh, Barbados, Belarus, Belgium, Belize, Benin, Bermuda, Bhutan, Bosnia and Herzegovina, Botswana, Brazil, British Indian Ocean Territory, Brunei Darussalam, Bulgaria, Burkina Faso, Burundi, Cabo Verde, Cambodia, Cameroon, Canada, Cayman Islands, Central African Republic, Chad, China, Colombia, Comoros, Congo, Congo, Democratic Republic of the, Costa Rica, Croatia, Cuba, Curaçao, Czechia, Côte d'Ivoire, Denmark, Djibouti, Dominica, Dominican Republic, Ecuador, Egypt, El Salvador, Equatorial Guinea, Eritrea, Estonia, Eswatini, Ethiopia, Finland, France, French Southern Territories, Gabon, Gambia, Germany, Ghana, Greece, Greenland, Grenada, Guam, Guatemala, Guernsey, Guinea, Guinea-Bissau, Guyana, Haiti, Heard Island and McDonald Islands, Honduras, Hong Kong, Hungary, India, Indonesia, Iran, Islamic Republic of, Iraq, Ireland, Isle of Man, Italy, Jamaica, Japan, Jersey, Jordan, Kazakhstan, Kenya, Kiribati, Korea, Democratic People's Republic of, Korea, Republic of, Kosovo, Kuwait, Kyrgyzstan, Lao People's Democratic Republic, Latvia, Lesotho, Liberia, Libya, Liechtenstein, Lithuania, Luxembourg, Macao, Madagascar, Malawi, Malaysia, Maldives, Mali, Malta, Marshall Islands, Mauritania, Mauritius, Mexico, Micronesia, Federated States of, Moldova, Republic of, Monaco, Mongolia, Montenegro, Montserrat, Morocco, Mozambique, Myanmar, Namibia, Nauru, Nepal, Netherlands, New Caledonia, New Zealand, Nicaragua, Niger, Nigeria, North Macedonia, Northern Mariana Islands, Norway, Oman, Pakistan, Palau, Panama, Papua New Guinea, Paraguay, Philippines, Poland, Portugal, Puerto Rico, Qatar, Romania, Russian Federation, Rwanda, Saint Kitts and Nevis, Saint Lucia, Saint Martin (French part), Saint Pierre and Miquelon, Saint Vincent and the Grenadines, San Marino, Sao Tome and Principe, Saudi Arabia, Senegal, Serbia, Seychelles, Sierra Leone, Singapore, Sint Maarten (Dutch part), Slovakia, Slovenia, Solomon Islands, Somalia, South Africa, South Sudan, Spain, Sri Lanka, Sudan, Suriname, Sweden, Switzerland, Syrian Arab Republic, Taiwan, Province of China, Tanzania, United Republic of, Thailand, Timor-Leste, Togo, Trinidad and Tobago, Tunisia, Turkey, Turks and Caicos Islands, Uganda, Ukraine, United Arab Emirates, United Kingdom of Great Britain and Northern Ireland, United States of America, Uruguay, Vanuatu, Venezuela, Bolivarian Republic of, Viet Nam, Virgin Islands, British, Virgin Islands, U.S., Western Sahara, Yemen, Zambia, Zimbabwe, Åland Islands. Which one(s) would you like to get? You can also provide a list of countries separated by a comaHaiti Jamaica\n",
      "The following country_name are available: Afghanistan, Albania, Algeria, Andorra, Angola, Anguilla, Antigua and Barbuda, Argentina, Aruba, Australia, Austria, Bahamas, Bahrain, Bangladesh, Barbados, Belarus, Belgium, Belize, Benin, Bermuda, Bhutan, Bosnia and Herzegovina, Botswana, Brazil, British Indian Ocean Territory, Brunei Darussalam, Bulgaria, Burkina Faso, Burundi, Cabo Verde, Cambodia, Cameroon, Canada, Cayman Islands, Central African Republic, Chad, China, Colombia, Comoros, Congo, Congo, Democratic Republic of the, Costa Rica, Croatia, Cuba, Curaçao, Czechia, Côte d'Ivoire, Denmark, Djibouti, Dominica, Dominican Republic, Ecuador, Egypt, El Salvador, Equatorial Guinea, Eritrea, Estonia, Eswatini, Ethiopia, Finland, France, French Southern Territories, Gabon, Gambia, Germany, Ghana, Greece, Greenland, Grenada, Guam, Guatemala, Guernsey, Guinea, Guinea-Bissau, Guyana, Haiti, Heard Island and McDonald Islands, Honduras, Hong Kong, Hungary, India, Indonesia, Iran, Islamic Republic of, Iraq, Ireland, Isle of Man, Italy, Jamaica, Japan, Jersey, Jordan, Kazakhstan, Kenya, Kiribati, Korea, Democratic People's Republic of, Korea, Republic of, Kosovo, Kuwait, Kyrgyzstan, Lao People's Democratic Republic, Latvia, Lesotho, Liberia, Libya, Liechtenstein, Lithuania, Luxembourg, Macao, Madagascar, Malawi, Malaysia, Maldives, Mali, Malta, Marshall Islands, Mauritania, Mauritius, Mexico, Micronesia, Federated States of, Moldova, Republic of, Monaco, Mongolia, Montenegro, Montserrat, Morocco, Mozambique, Myanmar, Namibia, Nauru, Nepal, Netherlands, New Caledonia, New Zealand, Nicaragua, Niger, Nigeria, North Macedonia, Northern Mariana Islands, Norway, Oman, Pakistan, Palau, Panama, Papua New Guinea, Paraguay, Philippines, Poland, Portugal, Puerto Rico, Qatar, Romania, Russian Federation, Rwanda, Saint Kitts and Nevis, Saint Lucia, Saint Martin (French part), Saint Pierre and Miquelon, Saint Vincent and the Grenadines, San Marino, Sao Tome and Principe, Saudi Arabia, Senegal, Serbia, Seychelles, Sierra Leone, Singapore, Sint Maarten (Dutch part), Slovakia, Slovenia, Solomon Islands, Somalia, South Africa, South Sudan, Spain, Sri Lanka, Sudan, Suriname, Sweden, Switzerland, Syrian Arab Republic, Taiwan, Province of China, Tanzania, United Republic of, Thailand, Timor-Leste, Togo, Trinidad and Tobago, Tunisia, Turkey, Turks and Caicos Islands, Uganda, Ukraine, United Arab Emirates, United Kingdom of Great Britain and Northern Ireland, United States of America, Uruguay, Vanuatu, Venezuela, Bolivarian Republic of, Viet Nam, Virgin Islands, British, Virgin Islands, U.S., Western Sahara, Yemen, Zambia, Zimbabwe, Åland Islands. Which one(s) would you like to get? You can also provide a list of countries separated by a comaHaiti,Jamaica\n",
      "2021-09-23 14:45:34,716 - climada.util.api_client - INFO - The file already exists and it was not downloaded again.\n",
      "2021-09-23 14:45:34,742 - climada.hazard.base - INFO - Reading /Users/szelie/climada/data/tropical_cyclone_10synth_tracks_150arcsec_HTI_2020.hdf5\n",
      "2021-09-23 14:45:34,867 - climada.util.api_client - INFO - The file already exists and it was not downloaded again.\n",
      "2021-09-23 14:45:34,878 - climada.hazard.base - INFO - Reading /Users/szelie/climada/data/tropical_cyclone_10synth_tracks_150arcsec_JAM_2020.hdf5\n",
      "2021-09-23 14:45:35,041 - climada.util.coordinates - INFO - No exact centroid match found. Reprojecting coordinates to nearest neighbor closer than the threshold = 0\n",
      "2021-09-23 14:45:35,043 - climada.util.coordinates - INFO - No exact centroid match found. Reprojecting coordinates to nearest neighbor closer than the threshold = 0\n"
     ]
    }
   ],
   "source": [
    "client = Client()\n",
    "TC = client.get_hazard()"
   ]
  },
  {
   "cell_type": "code",
   "execution_count": 5,
   "metadata": {},
   "outputs": [
    {
     "data": {
      "text/plain": [
       "<GeoAxesSubplot:title={'center':'TC max intensity at each point'}>"
      ]
     },
     "execution_count": 5,
     "metadata": {},
     "output_type": "execute_result"
    },
    {
     "data": {
      "image/png": "[encoded data removed]",
      "text/plain": [
       "<Figure size 648x936 with 2 Axes>"
      ]
     },
     "metadata": {
      "needs_background": "light"
     },
     "output_type": "display_data"
    }
   ],
   "source": [
    "TC.plot_intensity(0)"
   ]
  }
 ],
 "metadata": {
  "kernelspec": {
   "display_name": "Python 3 (ipykernel)",
   "language": "python",
   "name": "python3"
  },
  "language_info": {
   "codemirror_mode": {
    "name": "ipython",
    "version": 3
   },
   "file_extension": ".py",
   "mimetype": "text/x-python",
   "name": "python",
   "nbconvert_exporter": "python",
   "pygments_lexer": "ipython3",
   "version": "3.8.10"
  }
 },
 "nbformat": 4,
 "nbformat_minor": 4
}
