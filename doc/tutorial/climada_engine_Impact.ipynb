{
 "cells": [
  {
   "cell_type": "markdown",
   "metadata": {},
   "source": [
    "# END-TO-END IMPACT CALCULATION"
   ]
  },
  {
   "cell_type": "markdown",
   "metadata": {},
   "source": [
    "#### Goal of this tutorial"
   ]
  },
  {
   "cell_type": "markdown",
   "metadata": {
    "ExecuteTime": {
     "end_time": "2020-10-20T07:58:34.931387Z",
     "start_time": "2020-10-20T07:58:34.855569Z"
    }
   },
   "source": [
    "The goal of this tutorial is to show a full end-to-end impact computation. Note that this tutorial examplifies the work flow, but does not explore all possible features."
   ]
  },
  {
   "cell_type": "markdown",
   "metadata": {},
   "source": [
    "#### What is an Impact?"
   ]
  },
  {
   "cell_type": "markdown",
   "metadata": {},
   "source": [
    "The impact is the combined effect of hazard events on a set of exposures mediated by a set of impact functions. By computing the impact for each event (historical and synthetic) and for each exposure value at each geographical location, the Impact class provides different risk measures, such as the expected annual impact per exposure, the probable maximum impact for different return periods, and the total average annual impact."
   ]
  },
  {
   "cell_type": "markdown",
   "metadata": {},
   "source": [
    "#### Impact class data structure"
   ]
  },
  {
   "cell_type": "markdown",
   "metadata": {},
   "source": [
    "The impact class does not require any attributes to be defined by the user. All attributes are set by the method `impact.calc()`. This method requires three attributes: an `Exposure`, a `Hazard`, and an `ImpactFuncSet`. After calling `impact.calc(Exposure, ImpactFuncSet, Hazard, save_mat=False)`, the Impact object has the following attributes:"
   ]
  },
  {
   "cell_type": "markdown",
   "metadata": {
    "ExecuteTime": {
     "end_time": "2020-10-20T09:19:16.170229Z",
     "start_time": "2020-10-20T09:19:16.143316Z"
    }
   },
   "source": [
    "| Attributes from input | Data Type | Description|\n",
    "| :- | :- | :- |\n",
    "| tag |(dict)| dictionary storing the tags of the inputs (Exposure.tag, ImpactFuncSet.tag Hazard.tag)|\n",
    "| even_id |list(int)| id (>0) of each hazard event (Hazard.event_id) |\n",
    "| event_name |(list(str))| name of each event (Hazard.event_name)|\n",
    "| date |np.array| date of events (Hazard.date)|\n",
    "| coord_exp |np.array| exposures coordinates [lat, lon] (in degrees) (Exposure.gdf.latidues, Exposure.gdf.longitude)|\n",
    "| frequency |np.array| annual frequency of events (Hazard.frequency)|\n",
    "| unit |str| value unit used (Exposure.value_unit)|\n",
    "| csr |str| unit system for Exposure and Hazard geographical data (Exposure.csr)|\n",
    "\n",
    "<br>\n",
    "<br>\n",
    "\n",
    "| Computed attributes | Data Type | Description|\n",
    "| :- | :- | :- |\n",
    "| at_event |np.array| impact for each hazard event summed over all locations |\n",
    "| eai_exp |np.array| expected annual impact for each locations, summed over all events weigthed by frequency |\n",
    "| aai_agg |float| total annual average aggregated impact value (summed over events and locations) |\n",
    "| impt_mat |sparse.csr_matrix| matrix (num_events X num_exp) with impact values (only filled if save_mat is True). |\n",
    "| tot_value |float| total exposure value affected (sum of value all exposures locations affected by at least one hazard event) |"
   ]
  },
  {
   "cell_type": "markdown",
   "metadata": {},
   "source": [
    "All other methods compute values from the attributes set by `Impact.cacl()`. For example, one can compute the frequency exceedance curve, plot impact data, or compute traditional risk transfer over impact."
   ]
  },
  {
   "cell_type": "markdown",
   "metadata": {},
   "source": [
    "#### How do I compute an impact in CLIMADA?"
   ]
  },
  {
   "cell_type": "markdown",
   "metadata": {},
   "source": [
    "In CLIMADA, impacts are computed using the `Impact` class. To computation of the impact requires an `Exposure` , an `ImpactFuncSet`, and a `Hazard` object. For details about how to define __[Exposures](climada_entity_Exposures.ipynb)__ , __[Hazard](climada_hazard_Hazard.ipynb)__, __[Impact Functions](climada_entity_ImpactFuncSet.ipynb)__ see the respective tutorials."
   ]
  },
  {
   "cell_type": "markdown",
   "metadata": {},
   "source": [
    "The steps of an impact caculations are typically:\n",
    "\n",
    "- Set exposure\n",
    "- Set hazard and hazard centroids\n",
    "- Set impact functions in impact function set\n",
    "- Compute impact\n",
    "- Visualize, save, use impact output\n",
    "\n"
   ]
  },
  {
   "cell_type": "markdown",
   "metadata": {
    "ExecuteTime": {
     "end_time": "2020-10-16T09:24:52.144838Z",
     "start_time": "2020-10-16T09:24:52.140843Z"
    }
   },
   "source": [
    "Hints:\n",
    "Before computing the impact of a given `Exposure` and `Hazard`, it is important to correctly match the `Exposures'` coordinates with the `Hazard` `Centroids`. Try to have similar resolutions in `Exposures` and `Hazard`. By the impact calculation the nearest neighbor for each `Exposure` to the `Hazard's` `Centroids` is searched. \n",
    "\n",
    "Hint: \n",
    "Set first the `Exposures` and use its coordinates information to set a matching `Hazard`.\n",
    "\n",
    "Hint:\n",
    "The configurable parameter `max_matrix_size` defined in the __[configuration file](../../climada/conf/defaults.conf)__ (located at `/climada/conf/defaults.conf`) controls the maximum matrix size contained in a chunk. You can decrease its value if you are having memory issues when using the `Impact.calc()` method. A high value will make the computation fast, but increase the memory use. "
   ]
  },
  {
   "cell_type": "markdown",
   "metadata": {},
   "source": [
    "#### Structure of the tutorial "
   ]
  },
  {
   "cell_type": "markdown",
   "metadata": {},
   "source": [
    "We begin with one very detailled example, and later present in quick and dirty examples."
   ]
  },
  {
   "cell_type": "markdown",
   "metadata": {},
   "source": [
    "__[Part1](#part1)__: Detailed impact calculation with Litpop and TropCyclone\n",
    "\n",
    "__[Part2](#part2)__: Quick examples: raster and point exposures/hazards\n",
    "\n",
    "__[Part3](#part3)__: Visualization methods"
   ]
  },
  {
   "cell_type": "markdown",
   "metadata": {},
   "source": [
    "## Detailed Impact calculation - LitPop + TropCyclone\n",
    "<a id='part1'></a> "
   ]
  },
  {
   "cell_type": "markdown",
   "metadata": {},
   "source": [
    "We present a detailed example for the hazard __[Tropical Cyclones](climada_hazard_TropCyclone.ipynb)__ and the exposures from __[LitPop](climada_entity_LitPop.ipynb)__ ."
   ]
  },
  {
   "cell_type": "markdown",
   "metadata": {},
   "source": [
    "### Define the exposure"
   ]
  },
  {
   "cell_type": "markdown",
   "metadata": {},
   "source": [
    "Reminder: The exposures must be defined according to your problem either using CLIMADA exposures such as __[BlackMarble](climada_entity_BlackMarble.ipynb)__, __[LitPop](climada_entity_LitPop.ipynb), [OSM](climada_entity_openstreetmap.ipynb)__, extracted from external sources (imported via csv, excel, api, ...) or directly user defined. As a reminder, exposures  are geopandas dataframes with at least columns 'latitude', 'longitude' and 'value' of exposures. For impact calculations, for each exposure value the corresponding impact function to use (defined by the column impf_) and the associated hazard centroids must be defined. This is done after defining the impact function(s) and the hazard(s). See tutorials on __[Exposures](climada_entity_Exposures.ipynb)__ , __[Hazard](climada_hazard_Hazard.ipynb)__, __[ImpactFuncSet](climada_entity_ImpactFuncSet.ipynb)__ for more details."
   ]
  },
  {
   "cell_type": "markdown",
   "metadata": {},
   "source": [
    "Exposures are either defined as a series of (latitude/longitude) points or as a raster of (latitude/longitude) points. Fundamentally, this changes nothing for the impact computations. Note that for larger number of points, consider using a raster which might be more efficient (computationally). For a low number of points, avoid using a raster if this adds a lot of exposures values equal to 0. \n",
    "\n",
    "We shall here use a raster example."
   ]
  },
  {
   "cell_type": "code",
   "execution_count": 1,
   "metadata": {
    "ExecuteTime": {
     "end_time": "2020-10-20T15:09:05.597611Z",
     "start_time": "2020-10-20T15:08:37.993402Z"
    }
   },
   "outputs": [
    {
     "name": "stdout",
     "output_type": "stream",
     "text": [
      "2021-04-23 14:28:05,542 - climada.entity.exposures.base - INFO - meta set to default value {}\n",
      "2021-04-23 14:28:05,543 - climada.entity.exposures.base - INFO - tag set to default value  File: \n",
      " Description: \n",
      "2021-04-23 14:28:05,543 - climada.entity.exposures.base - INFO - ref_year set to default value 2018\n",
      "2021-04-23 14:28:05,544 - climada.entity.exposures.base - INFO - value_unit set to default value USD\n",
      "2021-04-23 14:28:05,545 - climada.entity.exposures.base - INFO - crs set to default value: EPSG:4326\n"
     ]
    },
    {
     "name": "stderr",
     "output_type": "stream",
     "text": [
      "/Users/zeliestalhanske/python_projects/climada_python/climada/entity/exposures/base.py:221: FutureWarning: Assigning CRS to a GeoDataFrame without a geometry column is now deprecated and will not be supported in the future.\n",
      "  self.gdf.crs = self.meta['crs']\n"
     ]
    },
    {
     "name": "stdout",
     "output_type": "stream",
     "text": [
      "2021-04-23 14:28:06,725 - climada.entity.exposures.litpop - INFO - Generating LitPop data at a resolution of 300.0 arcsec.\n",
      "2021-04-23 14:28:09,609 - climada.entity.exposures.gpw_import - INFO - Reference year: 2016. Using nearest available year for GPW population data: 2015\n",
      "2021-04-23 14:28:09,610 - climada.entity.exposures.gpw_import - INFO - GPW Version v4.11\n",
      "2021-04-23 14:28:23,056 - climada.util.finance - INFO - GDP CUB 2016: 9.137e+10.\n",
      "2021-04-23 14:28:23,119 - climada.util.finance - INFO - Income group CUB 2016: 3.\n",
      "2021-04-23 14:28:23,297 - climada.entity.exposures.base - INFO - meta set to default value {}\n",
      "2021-04-23 14:28:23,298 - climada.entity.exposures.base - INFO - tag set to default value  File: \n",
      " Description: \n",
      "2021-04-23 14:28:23,298 - climada.entity.exposures.base - INFO - ref_year set to default value 2018\n",
      "2021-04-23 14:28:23,299 - climada.entity.exposures.base - INFO - value_unit set to default value USD\n",
      "2021-04-23 14:28:23,300 - climada.entity.exposures.base - INFO - crs set to default value: EPSG:4326\n",
      "2021-04-23 14:28:23,320 - climada.entity.exposures.base - INFO - meta set to default value {}\n",
      "2021-04-23 14:28:23,323 - climada.entity.exposures.base - INFO - Hazard type not set in impf_\n",
      "2021-04-23 14:28:23,323 - climada.entity.exposures.base - INFO - category_id not set.\n",
      "2021-04-23 14:28:23,324 - climada.entity.exposures.base - INFO - cover not set.\n",
      "2021-04-23 14:28:23,324 - climada.entity.exposures.base - INFO - deductible not set.\n",
      "2021-04-23 14:28:23,325 - climada.entity.exposures.base - INFO - geometry not set.\n",
      "2021-04-23 14:28:23,325 - climada.entity.exposures.base - INFO - centr_ not set.\n",
      "2021-04-23 14:28:23,336 - climada.entity.exposures.base - INFO - Hazard type not set in impf_\n",
      "2021-04-23 14:28:23,336 - climada.entity.exposures.base - INFO - category_id not set.\n",
      "2021-04-23 14:28:23,337 - climada.entity.exposures.base - INFO - cover not set.\n",
      "2021-04-23 14:28:23,338 - climada.entity.exposures.base - INFO - deductible not set.\n",
      "2021-04-23 14:28:23,339 - climada.entity.exposures.base - INFO - geometry not set.\n",
      "2021-04-23 14:28:23,340 - climada.entity.exposures.base - INFO - centr_ not set.\n"
     ]
    },
    {
     "name": "stderr",
     "output_type": "stream",
     "text": [
      "/Users/zeliestalhanske/python_projects/climada_python/climada/entity/exposures/base.py:221: FutureWarning: Assigning CRS to a GeoDataFrame without a geometry column is now deprecated and will not be supported in the future.\n",
      "  self.gdf.crs = self.meta['crs']\n",
      "/Users/zeliestalhanske/python_projects/climada_python/climada/entity/exposures/base.py:725: FutureWarning: Assigning CRS to a GeoDataFrame without a geometry column is now deprecated and will not be supported in the future.\n",
      "  exp.gdf = GeoDataFrame(\n",
      "/Users/zeliestalhanske/miniconda3/envs/climada_env/lib/python3.8/site-packages/geopandas/geodataframe.py:167: UserWarning: Pandas doesn't allow columns to be created via a new attribute name - see https://pandas.pydata.org/pandas-docs/stable/indexing.html#attribute-access\n",
      "  super(GeoDataFrame, self).__setattr__(attr, val)\n",
      "/Users/zeliestalhanske/python_projects/climada_python/climada/entity/exposures/base.py:190: FutureWarning: Assigning CRS to a GeoDataFrame without a geometry column is now deprecated and will not be supported in the future.\n",
      "  self.gdf = GeoDataFrame(*args, **kwargs)\n"
     ]
    }
   ],
   "source": [
    "# Exposure from the module Litpop \n",
    "# Note that the file gpw_v4_population_count_rev11_2015_30_sec.tif must be downloaded (do not forget to unzip) if\n",
    "# you want to execute this cell on your computer.\n",
    "\n",
    "%matplotlib inline\n",
    "import numpy as np\n",
    "from climada.entity import LitPop\n",
    "\n",
    "# Cuba with resolution 10km and financial_mode = income group.\n",
    "exp_lp = LitPop()\n",
    "exp_lp.set_country(countries=['CUB'], res_km=10, fin_mode='income_group')\n",
    "exp_lp.check()"
   ]
  },
  {
   "cell_type": "code",
   "execution_count": 2,
   "metadata": {
    "ExecuteTime": {
     "end_time": "2020-10-20T15:09:05.630897Z",
     "start_time": "2020-10-20T15:09:05.606497Z"
    }
   },
   "outputs": [
    {
     "data": {
      "text/html": [
       "<div>\n",
       "<style scoped>\n",
       "    .dataframe tbody tr th:only-of-type {\n",
       "        vertical-align: middle;\n",
       "    }\n",
       "\n",
       "    .dataframe tbody tr th {\n",
       "        vertical-align: top;\n",
       "    }\n",
       "\n",
       "    .dataframe thead th {\n",
       "        text-align: right;\n",
       "    }\n",
       "</style>\n",
       "<table border=\"1\" class=\"dataframe\">\n",
       "  <thead>\n",
       "    <tr style=\"text-align: right;\">\n",
       "      <th></th>\n",
       "      <th>value</th>\n",
       "      <th>latitude</th>\n",
       "      <th>longitude</th>\n",
       "      <th>region_id</th>\n",
       "      <th>impf_</th>\n",
       "    </tr>\n",
       "  </thead>\n",
       "  <tbody>\n",
       "    <tr>\n",
       "      <th>0</th>\n",
       "      <td>9.818338e+05</td>\n",
       "      <td>21.875000</td>\n",
       "      <td>-84.875000</td>\n",
       "      <td>192</td>\n",
       "      <td>1</td>\n",
       "    </tr>\n",
       "    <tr>\n",
       "      <th>1</th>\n",
       "      <td>1.110009e+06</td>\n",
       "      <td>21.875000</td>\n",
       "      <td>-84.791667</td>\n",
       "      <td>192</td>\n",
       "      <td>1</td>\n",
       "    </tr>\n",
       "    <tr>\n",
       "      <th>2</th>\n",
       "      <td>0.000000e+00</td>\n",
       "      <td>21.958333</td>\n",
       "      <td>-84.708333</td>\n",
       "      <td>192</td>\n",
       "      <td>1</td>\n",
       "    </tr>\n",
       "    <tr>\n",
       "      <th>3</th>\n",
       "      <td>1.026952e+06</td>\n",
       "      <td>21.958333</td>\n",
       "      <td>-84.625000</td>\n",
       "      <td>192</td>\n",
       "      <td>1</td>\n",
       "    </tr>\n",
       "    <tr>\n",
       "      <th>4</th>\n",
       "      <td>1.109359e+06</td>\n",
       "      <td>21.958333</td>\n",
       "      <td>-84.541667</td>\n",
       "      <td>192</td>\n",
       "      <td>1</td>\n",
       "    </tr>\n",
       "  </tbody>\n",
       "</table>\n",
       "</div>"
      ],
      "text/plain": [
       "          value   latitude  longitude  region_id  impf_\n",
       "0  9.818338e+05  21.875000 -84.875000        192      1\n",
       "1  1.110009e+06  21.875000 -84.791667        192      1\n",
       "2  0.000000e+00  21.958333 -84.708333        192      1\n",
       "3  1.026952e+06  21.958333 -84.625000        192      1\n",
       "4  1.109359e+06  21.958333 -84.541667        192      1"
      ]
     },
     "execution_count": 2,
     "metadata": {},
     "output_type": "execute_result"
    }
   ],
   "source": [
    "exp_lp.gdf.head()"
   ]
  },
  {
   "cell_type": "code",
   "execution_count": 3,
   "metadata": {
    "ExecuteTime": {
     "end_time": "2020-10-20T15:09:07.000153Z",
     "start_time": "2020-10-20T15:09:05.634377Z"
    }
   },
   "outputs": [
    {
     "name": "stdout",
     "output_type": "stream",
     "text": [
      "2021-04-23 14:28:23,369 - climada.util.coordinates - INFO - Raster from resolution 0.0833333333333286 to 0.0833333333333286.\n",
      "\n",
      " Raster properties exposures: {'width': 129, 'height': 41, 'crs': 'EPSG:4326', 'transform': Affine(0.0833333333333286, 0.0, -84.91666666666669,\n",
      "       0.0, 0.0833333333333286, 19.833333333333336)}\n"
     ]
    },
    {
     "data": {
      "image/png": "[encoded data removed]",
      "text/plain": [
       "<Figure size 648x936 with 2 Axes>"
      ]
     },
     "metadata": {
      "needs_background": "light"
     },
     "output_type": "display_data"
    }
   ],
   "source": [
    "# not needed for impact calculations\n",
    "# visualize the define exposure\n",
    "exp_lp.plot_raster()\n",
    "print('\\n Raster properties exposures:', exp_lp.meta)"
   ]
  },
  {
   "cell_type": "markdown",
   "metadata": {},
   "source": [
    "### Define the hazard "
   ]
  },
  {
   "cell_type": "markdown",
   "metadata": {},
   "source": [
    "Let us define a tropical cyclone hazard using the TropCyclone and TCTracks modules. "
   ]
  },
  {
   "cell_type": "code",
   "execution_count": null,
   "metadata": {
    "ExecuteTime": {
     "end_time": "2020-10-20T15:09:21.268835Z",
     "start_time": "2020-10-20T15:09:07.002614Z"
    }
   },
   "outputs": [],
   "source": [
    "from climada.hazard import TCTracks, TropCyclone, Centroids\n",
    "\n",
    "# Load histrocial tropical cyclone tracks from ibtracs over the North Atlantic basin between 2010-2012\n",
    "ibtracks_na = TCTracks()\n",
    "ibtracks_na.read_ibtracs_netcdf(provider='usa', basin='NA', year_range=(2010, 2012), correct_pres=True)\n",
    "print('num tracks hist:', ibtracks_na.size)\n",
    "#Add randomly generated tracks using the calc_random_walk method (2 per historical track)\n",
    "ibtracks_na.calc_random_walk(ens_size=1)\n",
    "print('num tracks hist+syn:', ibtracks_na.size)\n",
    "ibtracks_na.equal_timestep(0.5)  # Interpolation to make the track smooth c.f."
   ]
  },
  {
   "cell_type": "code",
   "execution_count": null,
   "metadata": {
    "ExecuteTime": {
     "end_time": "2020-10-20T15:09:42.726774Z",
     "start_time": "2020-10-20T15:09:21.270200Z"
    }
   },
   "outputs": [],
   "source": [
    "# not needed for calculations\n",
    "# visualize tracks\n",
    "ax = ibtracks_na.plot()\n",
    "ax.get_legend()._loc = 2"
   ]
  },
  {
   "cell_type": "markdown",
   "metadata": {},
   "source": [
    "From the tracks, we generate the hazards (the tracks are only the coordinates of the center of the cyclones, the full cyclones however affects a region around the tracks). "
   ]
  },
  {
   "cell_type": "markdown",
   "metadata": {},
   "source": [
    "First thing we define the set of centroids which are geographical points where the hazard has a defined value. In our case, we want to define windspeeds from the tracks.\n",
    "\n",
    "Remember:\n",
    "In the impact computations, for each exposure geographical point, one must assign a centroid from the hazard. By default, each exposure is assigned to the closest centroid from the hazard. But one can also define manually which centroid is assigned to which exposure point.\n",
    "\n",
    "Examples: \n",
    "- Define the exposures from a given source (e.g., raster of asset values from LitPop). Define the hazard centroids from the exposures' geolocations (e.g. compute Tropical Cyclone windspeed at each raster point and assign centroid to each raster point).\n",
    "- Define the exposures from a given source (e.g. houses position and value). Define the hazard from a given source (e.g. where lanslides occur). Use a metric to assign to each exposures point a hazard centroid (all houses in a radius of 5km around the lanslide are assigned to this centroid, if a house is within 5km of two landslides, choose the closest one). \n",
    "- Define a geographical raster. Define the exposures value on this raster. Define the hazard centroids on the geographical raster.\n",
    "\n",
    "We shall pursue with the first case (Litpop + TropicalCyclone)"
   ]
  },
  {
   "cell_type": "markdown",
   "metadata": {},
   "source": [
    "Hint: computing the wind speeds in many locations for many tc tracks is a computationally costly operation. Thus, we should define centroids only where we also have an exposure."
   ]
  },
  {
   "cell_type": "code",
   "execution_count": null,
   "metadata": {
    "ExecuteTime": {
     "end_time": "2020-10-20T15:09:42.732647Z",
     "start_time": "2020-10-20T15:09:42.728137Z"
    }
   },
   "outputs": [],
   "source": [
    "# Define the centroids from the exposures position\n",
    "centrs = Centroids()\n",
    "lat = exp_lp.gdf['latitude'].values\n",
    "lon = exp_lp.gdf['longitude'].values\n",
    "centrs.set_lat_lon(lat, lon)\n",
    "centrs.check()"
   ]
  },
  {
   "cell_type": "code",
   "execution_count": null,
   "metadata": {
    "ExecuteTime": {
     "end_time": "2020-10-20T15:09:51.496340Z",
     "start_time": "2020-10-20T15:09:42.734501Z"
    }
   },
   "outputs": [],
   "source": [
    "# Using the tracks, compute the windspeed at the location of the centroids\n",
    "tc = TropCyclone()\n",
    "tc.set_from_tracks(ibtracks_na, centrs)\n",
    "tc.check()"
   ]
  },
  {
   "cell_type": "markdown",
   "metadata": {
    "ExecuteTime": {
     "end_time": "2020-10-16T12:28:38.751677Z",
     "start_time": "2020-10-16T12:28:38.747250Z"
    }
   },
   "source": [
    "Hint: The operation of computing the windspeed in different location is in general computationally expensive. Hence, if you have a lot of tropical cyclone tracks, you should first make sure that all your tropical cyclones actually affect your exposure (remove those that don't). Then, be careful when defining the centroids. For a large country like  China, there is no need for centroids 500km inlans (no tropical cyclones gets so far)."
   ]
  },
  {
   "cell_type": "markdown",
   "metadata": {},
   "source": [
    "### Impact function "
   ]
  },
  {
   "cell_type": "markdown",
   "metadata": {},
   "source": [
    "For Tropical Cyclones, some calibrated default impact functions exist. Here we will use the one from Emanuel (2011)."
   ]
  },
  {
   "cell_type": "code",
   "execution_count": null,
   "metadata": {
    "ExecuteTime": {
     "end_time": "2020-10-20T15:09:51.503229Z",
     "start_time": "2020-10-20T15:09:51.499628Z"
    }
   },
   "outputs": [],
   "source": [
    "from climada.entity import ImpactFuncSet, IFTropCyclone\n",
    "# impact function TC\n",
    "impf_tc= IFTropCyclone()\n",
    "impf_tc.set_emanuel_usa()\n",
    "\n",
    "# add the impact function to an Impact function set\n",
    "impf_set = ImpactFuncSet()\n",
    "impf_set.append(impf_tc)\n",
    "impf_set.check()"
   ]
  },
  {
   "cell_type": "markdown",
   "metadata": {},
   "source": [
    "Recall that the exposures, hazards and impact functions  must be matched in the impact calculations. Here it is simple, since there is a single impact function for all the hazards. We must simply make sure that the exposure is assigned this impact function through renaming the `impf_` column from the hazard type of the impact function in the impact function set and set the values of the column to the id of the impact function. "
   ]
  },
  {
   "cell_type": "code",
   "execution_count": null,
   "metadata": {
    "ExecuteTime": {
     "end_time": "2020-10-20T09:59:49.321371Z",
     "start_time": "2020-10-20T09:59:49.317546Z"
    }
   },
   "outputs": [],
   "source": [
    "# Get the hazard type and hazard id\n",
    "[haz_type] = impf_set.get_hazard_types()\n",
    "[haz_id] = impf_set.get_ids()[haz_type]\n",
    "print(f\"hazard type: {haz_type}, hazard id: {haz_id}\")"
   ]
  },
  {
   "cell_type": "code",
   "execution_count": null,
   "metadata": {
    "ExecuteTime": {
     "end_time": "2020-10-20T09:59:49.338296Z",
     "start_time": "2020-10-20T09:59:49.323704Z"
    }
   },
   "outputs": [],
   "source": [
    "# Exposures: rename column and assign id\n",
    "exp_lp.gdf.rename(columns={\"impf_\": \"impf_\" + haz_type}, inplace=True)\n",
    "exp_lp.gdf['impf_' + haz_type] = haz_id\n",
    "exp_lp.check()\n",
    "exp_lp.gdf.head()"
   ]
  },
  {
   "cell_type": "markdown",
   "metadata": {},
   "source": [
    "### Impact computation "
   ]
  },
  {
   "cell_type": "markdown",
   "metadata": {},
   "source": [
    "We are finally ready for the impact computation. This is the simplest step. Just give the exposure, impact function and hazard to the Impact.calc() method.\n",
    "\n",
    "Note: we did not specifically assign centroids to the exposures. Hence, the default is used - each exposure is associated with the closest centroids. Since we defined the centroids from the exposures, this is a one-to-one mapping.\n",
    "\n",
    "Note: we did not define an `Entity`  in this impact calculations. Recall that `Entity` is a container class for __[Exposures](climada_entity_Exposures.ipynb)__, __[Impact Functions](climada_entity_ImpactFuncSet.ipynb)__, __[Discount Rates](climada_entity_DiscRates.ipynb)__ and __[Measures](climada_entity_MeasureSet.ipynb)__. Since we had only one Exposure and one Impact Function, the container would not have added any value, but for more complex projects, the Entity class is very useful."
   ]
  },
  {
   "cell_type": "code",
   "execution_count": null,
   "metadata": {
    "ExecuteTime": {
     "end_time": "2020-10-20T09:59:49.351752Z",
     "start_time": "2020-10-20T09:59:49.340451Z"
    }
   },
   "outputs": [],
   "source": [
    "# Compute impact\n",
    "from climada.engine import Impact\n",
    "imp = Impact()\n",
    "imp.calc(exp_lp, impf_set, tc, save_mat=False) #Do not save the results geographically resolved (only aggregate values)"
   ]
  },
  {
   "cell_type": "code",
   "execution_count": null,
   "metadata": {
    "ExecuteTime": {
     "end_time": "2020-10-20T15:09:51.515128Z",
     "start_time": "2020-10-20T15:09:51.505127Z"
    }
   },
   "outputs": [],
   "source": [
    "exp_lp.gdf"
   ]
  },
  {
   "cell_type": "markdown",
   "metadata": {},
   "source": [
    "For example we can now obtain the aggregated average annual impact or plot the average annual impact in each exposure location."
   ]
  },
  {
   "cell_type": "code",
   "execution_count": null,
   "metadata": {
    "ExecuteTime": {
     "end_time": "2020-10-20T09:59:49.355854Z",
     "start_time": "2020-10-20T09:59:49.353112Z"
    }
   },
   "outputs": [],
   "source": [
    "print(f\"Aggregated average annual impact: {round(imp.aai_agg,0)} $\")"
   ]
  },
  {
   "cell_type": "code",
   "execution_count": null,
   "metadata": {
    "ExecuteTime": {
     "end_time": "2020-10-20T09:59:50.233588Z",
     "start_time": "2020-10-20T09:59:49.357688Z"
    }
   },
   "outputs": [],
   "source": [
    "imp.plot_hexbin_eai_exposure(buffer=1)"
   ]
  },
  {
   "cell_type": "code",
   "execution_count": null,
   "metadata": {
    "ExecuteTime": {
     "end_time": "2020-10-20T10:01:57.068990Z",
     "start_time": "2020-10-20T10:01:56.943507Z"
    }
   },
   "outputs": [],
   "source": [
    "# Compute exceedance frequency curve\n",
    "freq_curve = imp.calc_freq_curve()\n",
    "freq_curve.plot()"
   ]
  },
  {
   "cell_type": "markdown",
   "metadata": {},
   "source": [
    "## Quick examples - points, raster, custom\n",
    "<a id='part2'></a> "
   ]
  },
  {
   "cell_type": "markdown",
   "metadata": {},
   "source": [
    "### User defined point exposure and Tropical Cyclone hazard"
   ]
  },
  {
   "cell_type": "code",
   "execution_count": null,
   "metadata": {
    "ExecuteTime": {
     "end_time": "2020-10-19T09:58:18.829168Z",
     "start_time": "2020-10-19T09:58:14.510575Z"
    }
   },
   "outputs": [],
   "source": [
    "%matplotlib inline\n",
    "# EXAMPLE: POINT EXPOSURES WITH POINT HAZARD\n",
    "import numpy as np\n",
    "from climada.entity import Exposures, ImpactFuncSet, IFTropCyclone\n",
    "from climada.hazard import Centroids, TCTracks, TropCyclone\n",
    "from climada.engine import Impact\n",
    "\n",
    "# Set Exposures in points\n",
    "exp_pnt = Exposures(crs='epsg:4326') #set coordinate system\n",
    "exp_pnt['latitude'] = np.array([21.899326, 21.960728, 22.220574, 22.298390, 21.787977, 21.787977, 21.981732])\n",
    "exp_pnt['longitude'] = np.array([88.307422, 88.565362, 88.378337, 87.806356, 88.348835, 88.348835, 89.246521])\n",
    "exp_pnt['value'] = np.array([1.0e5, 1.2e5, 1.1e5, 1.1e5, 2.0e5, 2.5e5, 0.5e5])\n",
    "exp_pnt.check()\n",
    "exp_pnt.plot_scatter(buffer=0.05)\n",
    "\n",
    "# Set Hazard in Exposures points\n",
    "# set centroids from exposures coordinates\n",
    "centr_pnt = Centroids()\n",
    "centr_pnt.set_lat_lon(exp_pnt.latitude.values, exp_pnt.longitude.values, exp_pnt.crs)\n",
    "# compute Hazard in that centroids\n",
    "tr_pnt = TCTracks()\n",
    "tr_pnt.read_ibtracs_netcdf(storm_id='2007314N10093')\n",
    "tc_pnt = TropCyclone()\n",
    "tc_pnt.set_from_tracks(tr_pnt, centroids=centr_pnt)\n",
    "tc_pnt.check()\n",
    "ax_pnt = tc_pnt.centroids.plot(c=np.array(tc_pnt.intensity[0,:].todense()).squeeze()) # plot intensity per point\n",
    "ax_pnt.get_figure().colorbar(ax_pnt.collections[0], fraction=0.0175, pad=0.02).set_label('Intensity (m/s)') # add colorbar\n",
    "\n",
    "# Set impact function\n",
    "impf_pnt = ImpactFuncSet()\n",
    "impf_tc = IFTropCyclone()\n",
    "impf_tc.set_emanuel_usa()\n",
    "impf_pnt.append(impf_tc)\n",
    "impf_pnt.check()\n",
    "\n",
    "# Get the hazard type and hazard id\n",
    "[haz_type] = impf_set.get_hazard_types()\n",
    "[haz_id] = impf_set.get_ids()[haz_type]\n",
    "# Exposures: rename column and assign id\n",
    "exp_lp.gdf.rename(columns={\"impf_\": \"impf_\" + haz_type}, inplace=True)\n",
    "exp_lp.gdf['impf_' + haz_type] = haz_id\n",
    "exp_lp.gdf.head()\n",
    "\n",
    "# Compute Impact\n",
    "imp_pnt = Impact()\n",
    "imp_pnt.calc(exp_pnt, impf_pnt, tc_pnt)\n",
    "# nearest neighbor of exposures to centroids gives identity\n",
    "print('Nearest neighbor hazard.centroids indexes for each exposure:', exp_pnt.centr_TC.values)\n",
    "imp_pnt.plot_scatter_eai_exposure(ignore_zero=False, buffer=0.05)"
   ]
  },
  {
   "cell_type": "markdown",
   "metadata": {},
   "source": [
    "### Raster from file "
   ]
  },
  {
   "cell_type": "code",
   "execution_count": null,
   "metadata": {
    "ExecuteTime": {
     "end_time": "2020-10-19T10:08:03.171168Z",
     "start_time": "2020-10-19T10:07:37.913084Z"
    },
    "scrolled": false
   },
   "outputs": [],
   "source": [
    "# EXAMPLE: RASTER EXPOSURES WITH RASTER HAZARD\n",
    "from rasterio.warp import Resampling\n",
    "from climada.entity import LitPop, ImpactFuncSet, ImpactFunc\n",
    "from climada.hazard import Hazard\n",
    "from climada.engine import Impact\n",
    "from climada.util.constants import HAZ_DEMO_FL\n",
    "\n",
    "# Exposures belonging to a raster (the raser information is contained in the meta attribute)\n",
    "exp_ras = LitPop()\n",
    "exp_ras.set_country(countries=['VEN'], res_km=10, fin_mode='income_group')\n",
    "exp_ras.reset_index()\n",
    "exp_ras.check()\n",
    "exp_ras.plot_raster()\n",
    "print('\\n Raster properties exposures:', exp_ras.meta)\n",
    "\n",
    "# Initialize hazard object with haz_type = 'FL' (for Flood)\n",
    "hazard_type='FL'\n",
    "haz_ras = Hazard(haz_type=hazard_type)\n",
    "# Load a previously generated (either with CLIMADA or other means) hazard \n",
    "# from file (HAZ_DEMO_FL) and resample the hazard raster to the exposures' ones\n",
    "# Hint: check how other resampling methods affect to final impact\n",
    "haz_ras.set_raster([HAZ_DEMO_FL], dst_crs=exp_ras.meta['crs'], transform=exp_ras.meta['transform'],\n",
    "                   width=exp_ras.meta['width'], height=exp_ras.meta['height'],\n",
    "                   resampling=Resampling.nearest)\n",
    "haz_ras.intensity[haz_ras.intensity==-9999] = 0 # correct no data values\n",
    "haz_ras.check()\n",
    "haz_ras.plot_intensity(1)\n",
    "print('Raster properties centroids:', haz_ras.centroids.meta)\n",
    "\n",
    "# Set dummy impact function\n",
    "impf_dum = ImpactFunc()\n",
    "impf_dum.id = haz_id\n",
    "impf_dum.name = 'dummy'\n",
    "impf_dum.intensity_unit = 'm'\n",
    "impf_dum.haz_type = hazard_type\n",
    "impf_dum.intensity = np.linspace(0, 10, 100)\n",
    "impf_dum.mdd = np.linspace(0, 10, 100)\n",
    "impf_dum.paa = np.ones(impf_dum.intensity.size)\n",
    "# Add the impact function to the impact function set\n",
    "impf_ras = ImpactFuncSet()\n",
    "impf_ras.append(impf_dum)\n",
    "impf_ras.check()\n",
    "\n",
    "# Exposures: rename column and assign id\n",
    "exp_lp.gdf.rename(columns={\"impf_\": \"impf_\" + hazard_type}, inplace=True)\n",
    "exp_lp.gdf['impf_' + haz_type] = haz_id\n",
    "exp_lp.gdf.head()\n",
    "\n",
    "# Compute impact\n",
    "imp_ras = Impact()\n",
    "imp_ras.calc(exp_ras, impf_ras, haz_ras, save_mat=False)\n",
    "# nearest neighbor of exposures to centroids is not identity because litpop does not contain data outside the country polygon\n",
    "print('\\n Nearest neighbor hazard.centroids indexes for each exposure:', exp_ras.centr_FL.values)\n",
    "imp_ras.plot_raster_eai_exposure()"
   ]
  },
  {
   "cell_type": "markdown",
   "metadata": {},
   "source": [
    "## VISUALIZATION\n",
    "<a id='part3'></a> "
   ]
  },
  {
   "cell_type": "markdown",
   "metadata": {},
   "source": [
    "### Making plots "
   ]
  },
  {
   "cell_type": "markdown",
   "metadata": {},
   "source": [
    "The expected annual impact per exposure can be visualized through different methods: `plot_hexbin_eai_exposure()`, `plot_scatter_eai_exposur()`, `plot_raster_eai_exposure()` and `plot_basemap_eai_exposure()` (similarly as with  `Exposures`)."
   ]
  },
  {
   "cell_type": "code",
   "execution_count": null,
   "metadata": {
    "ExecuteTime": {
     "end_time": "2020-10-16T09:22:39.209869Z",
     "start_time": "2020-10-16T09:22:36.580905Z"
    }
   },
   "outputs": [],
   "source": [
    "imp_pnt.plot_basemap_eai_exposure(buffer=5000)"
   ]
  },
  {
   "cell_type": "markdown",
   "metadata": {},
   "source": [
    "### Making videos\n",
    "\n",
    "Given a fixed exposure and impact functions, a sequence of hazards can be visualized hitting the exposures."
   ]
  },
  {
   "cell_type": "code",
   "execution_count": null,
   "metadata": {},
   "outputs": [],
   "source": [
    "# exposure\n",
    "from climada.entity import BlackMarble, add_sea\n",
    "country_name = {'United States Of America': ['Florida']}\n",
    "exp_video = BlackMarble()\n",
    "exp_video.set_countries(country_name, 2016, res_km=2.5)\n",
    "exp_video.check()\n",
    "\n",
    "# impact function\n",
    "impf_def = IFTropCyclone()\n",
    "impf_def.set_emanuel_usa()\n",
    "impfs_video = ImpactFuncSet()\n",
    "impfs_video.append(impf_def)\n",
    "impfs_video.check()\n",
    "\n",
    "# compute sequence of hazards using TropCyclone video_intensity method\n",
    "exp_sea = add_sea(exp_video, (100, 5))\n",
    "centr_video = Centroids()\n",
    "centr_video.set_lat_lon(exp_sea.latitude.values, exp_sea.longitude.values)\n",
    "centr_video.check()\n",
    "\n",
    "track_name = '2017242N16333' \n",
    "tr_irma = TCTracks()\n",
    "tr_irma.read_ibtracs_netcdf(provider='usa', storm_id=track_name) # IRMA 2017\n",
    "\n",
    "tc_video = TropCyclone()\n",
    "tc_list, _ = tc_video.video_intensity(track_name, tr_irma, centr_video) # empty file name to not to write the video\n",
    "\n",
    "# generate video of impacts\n",
    "file_name='./results/irma_imp_fl.gif'\n",
    "imp_video = Impact()\n",
    "imp_list = imp_video.video_direct_impact(exp_video, impfs_video, tc_list, file_name)\n"
   ]
  }
 ],
 "metadata": {
  "kernelspec": {
   "display_name": "Python 3",
   "language": "python",
   "name": "python3"
  },
  "language_info": {
   "codemirror_mode": {
    "name": "ipython",
    "version": 3
   },
   "file_extension": ".py",
   "mimetype": "text/x-python",
   "name": "python",
   "nbconvert_exporter": "python",
   "pygments_lexer": "ipython3",
   "version": "3.8.8"
  },
  "latex_envs": {
   "LaTeX_envs_menu_present": true,
   "autoclose": false,
   "autocomplete": true,
   "bibliofile": "biblio.bib",
   "cite_by": "apalike",
   "current_citInitial": 1,
   "eqLabelWithNumbers": true,
   "eqNumInitial": 1,
   "hotkeys": {
    "equation": "Ctrl-E",
    "itemize": "Ctrl-I"
   },
   "labels_anchors": false,
   "latex_user_defs": false,
   "report_style_numbering": false,
   "user_envs_cfg": false
  },
  "toc": {
   "base_numbering": 1,
   "nav_menu": {},
   "number_sections": true,
   "sideBar": true,
   "skip_h1_title": false,
   "title_cell": "Table of Contents",
   "title_sidebar": "Contents",
   "toc_cell": false,
   "toc_position": {},
   "toc_section_display": true,
   "toc_window_display": false
  }
 },
 "nbformat": 4,
 "nbformat_minor": 4
}
