{
 "cells": [
  {
   "cell_type": "markdown",
   "id": "d357be88",
   "metadata": {},
   "source": [
    "# Helper methods for InputVar"
   ]
  },
  {
   "cell_type": "markdown",
   "id": "090219e9-ed92-4c1e-8059-9da9992dd743",
   "metadata": {},
   "source": [
    "This tutorial complements the general tutorial on the [uncertainty and sensitivity analysis module](climada_engine_uncertainty.ipnyb)."
   ]
  },
  {
   "cell_type": "markdown",
   "id": "9c1a119e-8506-47dd-8b2c-7476b3f1170a",
   "metadata": {},
   "source": [
    "The InputVar class provides a few helper methods to generate generic uncertainty input variables for exposures, impact function sets, hazards, and entities (including measures cost and disc rates)."
   ]
  },
  {
   "cell_type": "code",
   "execution_count": 39,
   "id": "e446c327-d6cf-457f-b181-fef150bdbe81",
   "metadata": {},
   "outputs": [],
   "source": [
    "import warnings\n",
    "warnings.filterwarnings('ignore') #Ignore warnings for making the tutorial's pdf. "
   ]
  },
  {
   "cell_type": "markdown",
   "id": "8ef9636c-c8a0-434a-b136-af54085141d8",
   "metadata": {
    "ExecuteTime": {
     "end_time": "2021-08-18T12:22:14.943204Z",
     "start_time": "2021-08-18T12:22:14.938441Z"
    }
   },
   "source": [
    "### Exposures"
   ]
  },
  {
   "cell_type": "markdown",
   "id": "9c92d6f3-8326-458c-9931-bce0ccb94d0b",
   "metadata": {},
   "source": [
    "The following types of uncertainties can be added:\n",
    "\n",
    "- ET: scale the total value (homogeneously)\n",
    "        The value at each exposure point is multiplied by a number\n",
    "        sampled uniformly from a distribution with\n",
    "        (min, max) = bounds_totvalue\n",
    "- EN: mutliplicative noise (inhomogeneous)\n",
    "        The value of each exposure point is independently multiplied by\n",
    "        a random number sampled uniformly from a distribution\n",
    "        with (min, max) = bounds_noise. EN is the value of the seed\n",
    "        for  the uniform random number generator.\n",
    "- EL: sample uniformly from exposure list\n",
    "        From the provided list of exposure is elements are uniformly\n",
    "        sampled. For example, LitPop instances with different exponents.\n",
    "\n",
    "\n",
    "If a bounds is None, this parameter is assumed to have no uncertainty."
   ]
  },
  {
   "cell_type": "markdown",
   "id": "60601195-ef75-492f-b7f2-371928575249",
   "metadata": {},
   "source": [
    "#### Example: single exposures "
   ]
  },
  {
   "cell_type": "code",
   "execution_count": 40,
   "id": "0fd2b3ec-c0e8-4ae6-8439-39b4501e6196",
   "metadata": {
    "ExecuteTime": {
     "end_time": "2021-12-17T13:27:59.812239Z",
     "start_time": "2021-12-17T13:27:59.789465Z"
    }
   },
   "outputs": [
    {
     "name": "stdout",
     "output_type": "stream",
     "text": [
      "2022-01-04 14:26:08,510 - climada.entity.exposures.base - INFO - Reading /Users/ckropf/climada/demo/data/exp_demo_today.h5\n"
     ]
    }
   ],
   "source": [
    "#Define the base exposure\n",
    "from climada.util.constants import EXP_DEMO_H5\n",
    "from climada.entity import Exposures\n",
    "exp_base = Exposures.from_hdf5(EXP_DEMO_H5)"
   ]
  },
  {
   "cell_type": "code",
   "execution_count": 41,
   "id": "b062b610-787c-41ab-a355-bbb6291361bd",
   "metadata": {
    "ExecuteTime": {
     "end_time": "2021-12-17T13:28:00.150661Z",
     "start_time": "2021-12-17T13:28:00.145954Z"
    }
   },
   "outputs": [],
   "source": [
    "from climada.engine.uncertainty_quantification import InputVar\n",
    "bounds_totval = [0.9, 1.1] #+- 10% noise on the total exposures value\n",
    "bounds_noise = [0.9, 1.2] #-10% - +20% noise each exposures point\n",
    "exp_iv = InputVar.exp([exp_base], bounds_totval, bounds_noise)"
   ]
  },
  {
   "cell_type": "code",
   "execution_count": 42,
   "id": "87cc5928-3a53-4cef-acc9-097e85da398a",
   "metadata": {
    "ExecuteTime": {
     "end_time": "2021-12-17T13:28:00.470572Z",
     "start_time": "2021-12-17T13:28:00.462480Z"
    }
   },
   "outputs": [
    {
     "data": {
      "text/plain": [
       "0.03700231587024304"
      ]
     },
     "execution_count": 42,
     "metadata": {},
     "output_type": "execute_result"
    }
   ],
   "source": [
    "#The difference in total value between the base exposure and the average input uncertainty exposure \n",
    "#due to the random noise on each exposures point (the average change in the total value is 1.0).\n",
    "avg_exp = exp_iv.evaluate()\n",
    "(sum(avg_exp.gdf['value']) - sum(exp_base.gdf['value'])) / sum(exp_base.gdf['value'])"
   ]
  },
  {
   "cell_type": "code",
   "execution_count": 43,
   "id": "53e56665-c74f-49f3-a355-135fd0e5ed40",
   "metadata": {
    "ExecuteTime": {
     "end_time": "2021-12-17T13:28:01.724681Z",
     "start_time": "2021-12-17T13:28:01.520537Z"
    }
   },
   "outputs": [
    {
     "data": {
      "image/png": "[encoded data removed]",
      "text/plain": [
       "<Figure size 1152x360 with 2 Axes>"
      ]
     },
     "metadata": {},
     "output_type": "display_data"
    }
   ],
   "source": [
    "#The values for EN are seeds for the random number generator for the noise sampling and\n",
    "#thus are uniformly sampled numbers between (0, 2**32-1) \n",
    "exp_iv.plot();"
   ]
  },
  {
   "cell_type": "markdown",
   "id": "c3c5bd7e-09d5-4c94-a72a-8691641bf837",
   "metadata": {
    "ExecuteTime": {
     "end_time": "2021-08-18T12:22:14.943204Z",
     "start_time": "2021-08-18T12:22:14.938441Z"
    }
   },
   "source": [
    "#### Example: list of litpop exposures with different exponents"
   ]
  },
  {
   "cell_type": "code",
   "execution_count": 44,
   "id": "802ac379-39a0-476d-b068-36520d03a459",
   "metadata": {
    "ExecuteTime": {
     "end_time": "2021-12-17T13:28:03.933138Z",
     "start_time": "2021-12-17T13:28:03.928175Z"
    }
   },
   "outputs": [],
   "source": [
    "#Define a generic method to make litpop instances with different exponent pairs.\n",
    "from climada.entity import LitPop\n",
    "def generate_litpop_base(impf_id, value_unit, haz, assign_centr_kwargs,\n",
    "                          choice_mn, **litpop_kwargs):\n",
    "    #In-function imports needed only for parallel computing on Windows\n",
    "    from climada.entity import LitPop\n",
    "    litpop_base = []\n",
    "    for [m, n] in choice_mn:\n",
    "        print('\\n Computing litpop for m=%d, n=%d \\n' %(m, n))\n",
    "        litpop_kwargs['exponents'] = (m, n)\n",
    "        exp = LitPop.from_countries(**litpop_kwargs)\n",
    "        exp.gdf['impf_' + haz.tag.haz_type] = impf_id\n",
    "        exp.gdf.drop('impf_', axis=1, inplace=True)\n",
    "        if value_unit is not None:\n",
    "            exp.value_unit = value_unit\n",
    "        exp.assign_centroids(haz, **assign_centr_kwargs)\n",
    "        litpop_base.append(exp)\n",
    "    return litpop_base"
   ]
  },
  {
   "cell_type": "code",
   "execution_count": 45,
   "id": "ac28063d-83aa-43f8-a75d-f91fe20e44e8",
   "metadata": {
    "ExecuteTime": {
     "end_time": "2021-12-17T13:28:04.333232Z",
     "start_time": "2021-12-17T13:28:04.307931Z"
    }
   },
   "outputs": [
    {
     "name": "stdout",
     "output_type": "stream",
     "text": [
      "2022-01-04 14:26:08,787 - climada.hazard.base - INFO - Reading /Users/ckropf/climada/demo/data/tc_fl_1990_2004.h5\n"
     ]
    }
   ],
   "source": [
    "#Define the parameters of the LitPop instances\n",
    "tot_pop = 11.317e6\n",
    "impf_id = 1\n",
    "value_unit = 'people'\n",
    "litpop_kwargs = {\n",
    "    'countries' : ['CUB'],\n",
    "    'res_arcsec' : 300, \n",
    "    'reference_year' : 2020,\n",
    "    'fin_mode' : 'norm',\n",
    "    'total_values' : [tot_pop]\n",
    "}\n",
    "assign_centr_kwargs={}\n",
    "\n",
    "# The hazard is needed to assign centroids\n",
    "from climada.util.constants import HAZ_DEMO_H5\n",
    "from climada.hazard import Hazard\n",
    "haz = Hazard.from_hdf5(HAZ_DEMO_H5)"
   ]
  },
  {
   "cell_type": "code",
   "execution_count": 46,
   "id": "a0370352-db8d-4507-90e2-931108fd0854",
   "metadata": {
    "ExecuteTime": {
     "end_time": "2021-12-17T13:28:10.133733Z",
     "start_time": "2021-12-17T13:28:04.801925Z"
    }
   },
   "outputs": [
    {
     "name": "stdout",
     "output_type": "stream",
     "text": [
      "\n",
      " Computing litpop for m=0, n=0 \n",
      "\n",
      "2022-01-04 14:26:09,070 - climada.entity.exposures.litpop.litpop - INFO - \n",
      " LitPop: Init Exposure for country: CUB (192)...\n",
      "\n",
      "2022-01-04 14:26:09,072 - climada.entity.exposures.litpop.gpw_population - INFO - GPW Version v4.11\n",
      "2022-01-04 14:26:10,558 - climada.entity.exposures.base - INFO - Hazard type not set in impf_\n",
      "2022-01-04 14:26:10,559 - climada.entity.exposures.base - INFO - category_id not set.\n",
      "2022-01-04 14:26:10,559 - climada.entity.exposures.base - INFO - cover not set.\n",
      "2022-01-04 14:26:10,560 - climada.entity.exposures.base - INFO - deductible not set.\n",
      "2022-01-04 14:26:10,560 - climada.entity.exposures.base - INFO - centr_ not set.\n",
      "2022-01-04 14:26:10,565 - climada.entity.exposures.base - INFO - Matching 1388 exposures with 2500 centroids.\n",
      "2022-01-04 14:26:10,566 - climada.util.coordinates - INFO - No exact centroid match found. Reprojecting coordinates to nearest neighbor closer than the threshold = 100\n",
      "2022-01-04 14:26:10,592 - climada.util.interpolation - WARNING - Distance to closest centroid is greater than 100km for 77 coordinates.\n",
      "\n",
      " Computing litpop for m=0, n=1 \n",
      "\n",
      "2022-01-04 14:26:10,841 - climada.entity.exposures.litpop.litpop - INFO - \n",
      " LitPop: Init Exposure for country: CUB (192)...\n",
      "\n",
      "2022-01-04 14:26:10,843 - climada.entity.exposures.litpop.gpw_population - INFO - GPW Version v4.11\n",
      "2022-01-04 14:26:12,288 - climada.entity.exposures.base - INFO - Hazard type not set in impf_\n",
      "2022-01-04 14:26:12,289 - climada.entity.exposures.base - INFO - category_id not set.\n",
      "2022-01-04 14:26:12,289 - climada.entity.exposures.base - INFO - cover not set.\n",
      "2022-01-04 14:26:12,290 - climada.entity.exposures.base - INFO - deductible not set.\n",
      "2022-01-04 14:26:12,290 - climada.entity.exposures.base - INFO - centr_ not set.\n",
      "2022-01-04 14:26:12,293 - climada.entity.exposures.base - INFO - Matching 1388 exposures with 2500 centroids.\n",
      "2022-01-04 14:26:12,294 - climada.util.coordinates - INFO - No exact centroid match found. Reprojecting coordinates to nearest neighbor closer than the threshold = 100\n",
      "2022-01-04 14:26:12,320 - climada.util.interpolation - WARNING - Distance to closest centroid is greater than 100km for 77 coordinates.\n",
      "\n",
      " Computing litpop for m=0, n=2 \n",
      "\n",
      "2022-01-04 14:26:12,590 - climada.entity.exposures.litpop.litpop - INFO - \n",
      " LitPop: Init Exposure for country: CUB (192)...\n",
      "\n",
      "2022-01-04 14:26:12,592 - climada.entity.exposures.litpop.gpw_population - INFO - GPW Version v4.11\n",
      "2022-01-04 14:26:14,017 - climada.entity.exposures.base - INFO - Hazard type not set in impf_\n",
      "2022-01-04 14:26:14,018 - climada.entity.exposures.base - INFO - category_id not set.\n",
      "2022-01-04 14:26:14,018 - climada.entity.exposures.base - INFO - cover not set.\n",
      "2022-01-04 14:26:14,018 - climada.entity.exposures.base - INFO - deductible not set.\n",
      "2022-01-04 14:26:14,019 - climada.entity.exposures.base - INFO - centr_ not set.\n",
      "2022-01-04 14:26:14,022 - climada.entity.exposures.base - INFO - Matching 1388 exposures with 2500 centroids.\n",
      "2022-01-04 14:26:14,023 - climada.util.coordinates - INFO - No exact centroid match found. Reprojecting coordinates to nearest neighbor closer than the threshold = 100\n",
      "2022-01-04 14:26:14,050 - climada.util.interpolation - WARNING - Distance to closest centroid is greater than 100km for 77 coordinates.\n"
     ]
    }
   ],
   "source": [
    "#Generate the LitPop list\n",
    "\n",
    "choice_mn = [[0, 0.5], [0, 1], [0, 2]] #Choice of exponents m,n\n",
    "\n",
    "litpop_list = generate_litpop_base(impf_id, value_unit, haz, assign_centr_kwargs, choice_mn, **litpop_kwargs)\n"
   ]
  },
  {
   "cell_type": "code",
   "execution_count": 47,
   "id": "cfa54889-cb6c-4b4d-afc7-81a20dd77eb8",
   "metadata": {
    "ExecuteTime": {
     "end_time": "2021-12-17T13:28:11.108786Z",
     "start_time": "2021-12-17T13:28:11.104720Z"
    }
   },
   "outputs": [],
   "source": [
    "from climada.engine.uncertainty_quantification import InputVar\n",
    "bounds_totval = [0.9, 1.1] #+- 10% noise on the total exposures value\n",
    "litpop_iv = InputVar.exp(exp_list = litpop_list,\n",
    "                         bounds_totval=bounds_totval)"
   ]
  },
  {
   "cell_type": "code",
   "execution_count": 48,
   "id": "ee5cfd3d-9f71-4ccc-95e1-dc8e6ea9d8b3",
   "metadata": {
    "ExecuteTime": {
     "end_time": "2021-12-17T13:28:12.033776Z",
     "start_time": "2021-12-17T13:28:12.027507Z"
    }
   },
   "outputs": [],
   "source": [
    "# To choose n=0.5, we have to set EL=1 (the index of 0.5 in choice_n = [0, 0.5, 1, 2])\n",
    "pop_half = litpop_iv.evaluate(ET=1, EL=1)"
   ]
  },
  {
   "cell_type": "code",
   "execution_count": 49,
   "id": "15c78c6a-d1ee-4eb0-982a-2920eda04f25",
   "metadata": {
    "ExecuteTime": {
     "end_time": "2021-12-17T13:28:12.529807Z",
     "start_time": "2021-12-17T13:28:12.520151Z"
    }
   },
   "outputs": [
    {
     "data": {
      "text/html": [
       "<div>\n",
       "<style scoped>\n",
       "    .dataframe tbody tr th:only-of-type {\n",
       "        vertical-align: middle;\n",
       "    }\n",
       "\n",
       "    .dataframe tbody tr th {\n",
       "        vertical-align: top;\n",
       "    }\n",
       "\n",
       "    .dataframe thead th {\n",
       "        text-align: right;\n",
       "    }\n",
       "</style>\n",
       "<table border=\"1\" class=\"dataframe\">\n",
       "  <thead>\n",
       "    <tr style=\"text-align: right;\">\n",
       "      <th></th>\n",
       "      <th>value</th>\n",
       "      <th>geometry</th>\n",
       "      <th>latitude</th>\n",
       "      <th>longitude</th>\n",
       "      <th>region_id</th>\n",
       "      <th>impf_TC</th>\n",
       "      <th>centr_TC</th>\n",
       "    </tr>\n",
       "  </thead>\n",
       "  <tbody>\n",
       "    <tr>\n",
       "      <th>1383</th>\n",
       "      <td>1713.015083</td>\n",
       "      <td>POINT (-78.29167 22.45833)</td>\n",
       "      <td>22.458333</td>\n",
       "      <td>-78.291667</td>\n",
       "      <td>192</td>\n",
       "      <td>1</td>\n",
       "      <td>431</td>\n",
       "    </tr>\n",
       "    <tr>\n",
       "      <th>1384</th>\n",
       "      <td>1085.168934</td>\n",
       "      <td>POINT (-79.20833 22.62500)</td>\n",
       "      <td>22.625000</td>\n",
       "      <td>-79.208333</td>\n",
       "      <td>192</td>\n",
       "      <td>1</td>\n",
       "      <td>476</td>\n",
       "    </tr>\n",
       "    <tr>\n",
       "      <th>1385</th>\n",
       "      <td>950.764517</td>\n",
       "      <td>POINT (-79.62500 22.79167)</td>\n",
       "      <td>22.791667</td>\n",
       "      <td>-79.625000</td>\n",
       "      <td>192</td>\n",
       "      <td>1</td>\n",
       "      <td>524</td>\n",
       "    </tr>\n",
       "    <tr>\n",
       "      <th>1386</th>\n",
       "      <td>1129.619078</td>\n",
       "      <td>POINT (-79.45833 22.70833)</td>\n",
       "      <td>22.708333</td>\n",
       "      <td>-79.458333</td>\n",
       "      <td>192</td>\n",
       "      <td>1</td>\n",
       "      <td>475</td>\n",
       "    </tr>\n",
       "    <tr>\n",
       "      <th>1387</th>\n",
       "      <td>300.552289</td>\n",
       "      <td>POINT (-80.79167 23.20833)</td>\n",
       "      <td>23.208333</td>\n",
       "      <td>-80.791667</td>\n",
       "      <td>192</td>\n",
       "      <td>1</td>\n",
       "      <td>617</td>\n",
       "    </tr>\n",
       "  </tbody>\n",
       "</table>\n",
       "</div>"
      ],
      "text/plain": [
       "            value                    geometry   latitude  longitude  \\\n",
       "1383  1713.015083  POINT (-78.29167 22.45833)  22.458333 -78.291667   \n",
       "1384  1085.168934  POINT (-79.20833 22.62500)  22.625000 -79.208333   \n",
       "1385   950.764517  POINT (-79.62500 22.79167)  22.791667 -79.625000   \n",
       "1386  1129.619078  POINT (-79.45833 22.70833)  22.708333 -79.458333   \n",
       "1387   300.552289  POINT (-80.79167 23.20833)  23.208333 -80.791667   \n",
       "\n",
       "      region_id  impf_TC  centr_TC  \n",
       "1383        192        1       431  \n",
       "1384        192        1       476  \n",
       "1385        192        1       524  \n",
       "1386        192        1       475  \n",
       "1387        192        1       617  "
      ]
     },
     "execution_count": 49,
     "metadata": {},
     "output_type": "execute_result"
    }
   ],
   "source": [
    "pop_half.gdf.tail()"
   ]
  },
  {
   "cell_type": "code",
   "execution_count": 50,
   "id": "4d6d5ea3-4733-4bff-88c8-e9fc14090497",
   "metadata": {
    "ExecuteTime": {
     "end_time": "2021-12-17T13:28:13.134770Z",
     "start_time": "2021-12-17T13:28:13.128374Z"
    }
   },
   "outputs": [],
   "source": [
    "# To choose n=1, we have to set EL=2 (the index of 1 in choice_n = [0, 0.5, 1, 2])\n",
    "pop_one = litpop_iv.evaluate(ET=1, EL=2)"
   ]
  },
  {
   "cell_type": "code",
   "execution_count": 51,
   "id": "ced52885-d233-4c55-b84b-b2821847f281",
   "metadata": {
    "ExecuteTime": {
     "end_time": "2021-12-17T13:28:13.750176Z",
     "start_time": "2021-12-17T13:28:13.739100Z"
    }
   },
   "outputs": [
    {
     "data": {
      "text/html": [
       "<div>\n",
       "<style scoped>\n",
       "    .dataframe tbody tr th:only-of-type {\n",
       "        vertical-align: middle;\n",
       "    }\n",
       "\n",
       "    .dataframe tbody tr th {\n",
       "        vertical-align: top;\n",
       "    }\n",
       "\n",
       "    .dataframe thead th {\n",
       "        text-align: right;\n",
       "    }\n",
       "</style>\n",
       "<table border=\"1\" class=\"dataframe\">\n",
       "  <thead>\n",
       "    <tr style=\"text-align: right;\">\n",
       "      <th></th>\n",
       "      <th>value</th>\n",
       "      <th>geometry</th>\n",
       "      <th>latitude</th>\n",
       "      <th>longitude</th>\n",
       "      <th>region_id</th>\n",
       "      <th>impf_TC</th>\n",
       "      <th>centr_TC</th>\n",
       "    </tr>\n",
       "  </thead>\n",
       "  <tbody>\n",
       "    <tr>\n",
       "      <th>1383</th>\n",
       "      <td>56.491498</td>\n",
       "      <td>POINT (-78.29167 22.45833)</td>\n",
       "      <td>22.458333</td>\n",
       "      <td>-78.291667</td>\n",
       "      <td>192</td>\n",
       "      <td>1</td>\n",
       "      <td>431</td>\n",
       "    </tr>\n",
       "    <tr>\n",
       "      <th>1384</th>\n",
       "      <td>22.670204</td>\n",
       "      <td>POINT (-79.20833 22.62500)</td>\n",
       "      <td>22.625000</td>\n",
       "      <td>-79.208333</td>\n",
       "      <td>192</td>\n",
       "      <td>1</td>\n",
       "      <td>476</td>\n",
       "    </tr>\n",
       "    <tr>\n",
       "      <th>1385</th>\n",
       "      <td>17.402300</td>\n",
       "      <td>POINT (-79.62500 22.79167)</td>\n",
       "      <td>22.791667</td>\n",
       "      <td>-79.625000</td>\n",
       "      <td>192</td>\n",
       "      <td>1</td>\n",
       "      <td>524</td>\n",
       "    </tr>\n",
       "    <tr>\n",
       "      <th>1386</th>\n",
       "      <td>24.565452</td>\n",
       "      <td>POINT (-79.45833 22.70833)</td>\n",
       "      <td>22.708333</td>\n",
       "      <td>-79.458333</td>\n",
       "      <td>192</td>\n",
       "      <td>1</td>\n",
       "      <td>475</td>\n",
       "    </tr>\n",
       "    <tr>\n",
       "      <th>1387</th>\n",
       "      <td>1.739005</td>\n",
       "      <td>POINT (-80.79167 23.20833)</td>\n",
       "      <td>23.208333</td>\n",
       "      <td>-80.791667</td>\n",
       "      <td>192</td>\n",
       "      <td>1</td>\n",
       "      <td>617</td>\n",
       "    </tr>\n",
       "  </tbody>\n",
       "</table>\n",
       "</div>"
      ],
      "text/plain": [
       "          value                    geometry   latitude  longitude  region_id  \\\n",
       "1383  56.491498  POINT (-78.29167 22.45833)  22.458333 -78.291667        192   \n",
       "1384  22.670204  POINT (-79.20833 22.62500)  22.625000 -79.208333        192   \n",
       "1385  17.402300  POINT (-79.62500 22.79167)  22.791667 -79.625000        192   \n",
       "1386  24.565452  POINT (-79.45833 22.70833)  22.708333 -79.458333        192   \n",
       "1387   1.739005  POINT (-80.79167 23.20833)  23.208333 -80.791667        192   \n",
       "\n",
       "      impf_TC  centr_TC  \n",
       "1383        1       431  \n",
       "1384        1       476  \n",
       "1385        1       524  \n",
       "1386        1       475  \n",
       "1387        1       617  "
      ]
     },
     "execution_count": 51,
     "metadata": {},
     "output_type": "execute_result"
    }
   ],
   "source": [
    "pop_one.gdf.tail()"
   ]
  },
  {
   "cell_type": "markdown",
   "id": "1f78643e-7343-4d1d-843b-969884aefae5",
   "metadata": {
    "ExecuteTime": {
     "end_time": "2021-08-18T12:31:26.382961Z",
     "start_time": "2021-08-18T12:31:26.379295Z"
    }
   },
   "source": [
    "### Hazard"
   ]
  },
  {
   "cell_type": "markdown",
   "id": "f6ebdffd-6a08-4278-a83b-24a3c488b706",
   "metadata": {
    "ExecuteTime": {
     "end_time": "2021-11-01T14:00:53.406863Z",
     "start_time": "2021-11-01T14:00:53.401328Z"
    }
   },
   "source": [
    "The following types of uncertainties can be added:\n",
    "\n",
    "- HE: sub-sampling events from the total event set\n",
    "            For each sub-sample, n_ev events are sampled with replacement. HE is the value of the seed\n",
    "            for  the uniform random number generator.\n",
    "- HI: scale the intensity of all events (homogeneously)\n",
    "            The instensity of all events is multiplied by a number\n",
    "            sampled uniformly from a distribution with (min, max) = bounds_int\n",
    "- HF: scale the frequency of all events (homogeneously)\n",
    "            The frequency of all events is multiplied by a number\n",
    "            sampled uniformly from a distribution with (min, max) = bounds_freq\n",
    "\n",
    "If a bounds is None, this parameter is assumed to have no uncertainty."
   ]
  },
  {
   "cell_type": "code",
   "execution_count": 52,
   "id": "21876972-5120-44ce-81f3-6bb52a32cc97",
   "metadata": {
    "ExecuteTime": {
     "end_time": "2021-12-17T13:28:16.004523Z",
     "start_time": "2021-12-17T13:28:15.978117Z"
    }
   },
   "outputs": [
    {
     "name": "stdout",
     "output_type": "stream",
     "text": [
      "2022-01-04 14:26:14,117 - climada.hazard.base - INFO - Reading /Users/ckropf/climada/demo/data/tc_fl_1990_2004.h5\n"
     ]
    }
   ],
   "source": [
    "#Define the base exposure\n",
    "from climada.util.constants import HAZ_DEMO_H5\n",
    "from climada.hazard import Hazard\n",
    "haz_base = Hazard.from_hdf5(HAZ_DEMO_H5)"
   ]
  },
  {
   "cell_type": "code",
   "execution_count": 53,
   "id": "0adedfaf-bd2b-4ec4-9d28-28c0c69d56c4",
   "metadata": {
    "ExecuteTime": {
     "end_time": "2021-12-17T13:28:16.278674Z",
     "start_time": "2021-12-17T13:28:16.275289Z"
    }
   },
   "outputs": [],
   "source": [
    "from climada.engine.uncertainty_quantification import InputVar\n",
    "bounds_freq = [0.9, 1.1] #+- 10% noise on the frequency of all events\n",
    "bounds_int = None #No uncertainty on the intensity\n",
    "n_ev = None \n",
    "haz_iv = InputVar.haz(haz_base, n_ev=n_ev, bounds_freq=bounds_freq, bounds_int=bounds_int)"
   ]
  },
  {
   "cell_type": "code",
   "execution_count": 54,
   "id": "187b9c74-3ab3-403d-95ec-20ab148f0b4e",
   "metadata": {
    "ExecuteTime": {
     "end_time": "2021-12-17T13:28:16.758392Z",
     "start_time": "2021-12-17T13:28:16.752602Z"
    }
   },
   "outputs": [
    {
     "data": {
      "text/plain": [
       "0.10000000000000736"
      ]
     },
     "execution_count": 54,
     "metadata": {},
     "output_type": "execute_result"
    }
   ],
   "source": [
    "#The difference in frequency for HF=1.1 is indeed 10%.\n",
    "haz_high_freq = haz_iv.evaluate(HE=n_ev, HI=None, HF = 1.1)\n",
    "(sum(haz_high_freq.frequency) - sum(haz_base.frequency)) / sum(haz_base.frequency)"
   ]
  },
  {
   "cell_type": "code",
   "execution_count": 55,
   "id": "040bcec7-406e-4007-94a1-0650c3686920",
   "metadata": {
    "ExecuteTime": {
     "end_time": "2021-12-17T13:28:17.204003Z",
     "start_time": "2021-12-17T13:28:17.199904Z"
    }
   },
   "outputs": [],
   "source": [
    "bounds_freq = [0.9, 1.1] #+- 10% noise on the frequency of all events\n",
    "bounds_int = None #No uncertainty on the intensity\n",
    "n_ev = round(0.8 * haz_base.size) #sub-sample with re-draw events to obtain hazards with n=0.8*tot_number_events\n",
    "haz_iv = InputVar.haz(haz_base, n_ev=n_ev, bounds_freq=bounds_freq, bounds_int=bounds_int)"
   ]
  },
  {
   "cell_type": "markdown",
   "id": "6ffbde49-fc7c-49bf-9e41-831fb5b18afc",
   "metadata": {},
   "source": [
    "Note that the HE is not a univariate distribution, but for each sample corresponds to the names of the sub-sampled events. However, to simplify the data stream, the HE is saved as the seed for the random number generator that made the smaple. Hence, the value of HE is a label for the given sample. If really needed, the exact chosen events can be obtained as follows."
   ]
  },
  {
   "cell_type": "code",
   "execution_count": 56,
   "id": "3cdd89a1-831d-49a6-bcdd-6d650150ecb8",
   "metadata": {
    "ExecuteTime": {
     "end_time": "2021-12-17T13:28:18.340933Z",
     "start_time": "2021-12-17T13:28:18.337027Z"
    }
   },
   "outputs": [],
   "source": [
    "import numpy as np\n",
    "HE = 2618981871 #The random seed (number between 0 and 2**32)\n",
    "rng = np.random.RandomState(int(HE)) #Initialize a random state with the seed\n",
    "chosen_ev = list(rng.choice(haz_base.event_name, int(n_ev))) #Obtain the corresponding events"
   ]
  },
  {
   "cell_type": "code",
   "execution_count": 57,
   "id": "c21c99a6-0e13-4e56-bab3-36fd5af1f387",
   "metadata": {
    "ExecuteTime": {
     "end_time": "2021-12-17T13:28:18.779028Z",
     "start_time": "2021-12-17T13:28:18.774664Z"
    }
   },
   "outputs": [
    {
     "data": {
      "text/plain": [
       "'1998209N11335'"
      ]
     },
     "execution_count": 57,
     "metadata": {},
     "output_type": "execute_result"
    }
   ],
   "source": [
    "#The first event is \n",
    "chosen_ev[0]"
   ]
  },
  {
   "cell_type": "code",
   "execution_count": 58,
   "id": "afc1d32a-63cb-4a8f-911c-a9e539b21a61",
   "metadata": {
    "ExecuteTime": {
     "end_time": "2021-12-17T13:28:19.487283Z",
     "start_time": "2021-12-17T13:28:19.294770Z"
    }
   },
   "outputs": [
    {
     "data": {
      "image/png": "[encoded data removed]",
      "text/plain": [
       "<Figure size 1152x360 with 2 Axes>"
      ]
     },
     "metadata": {},
     "output_type": "display_data"
    }
   ],
   "source": [
    "#The values for HE are seeds for the random number generator for the noise sampling and\n",
    "#thus are uniformly sampled numbers between (0, 2**32-1) \n",
    "haz_iv.plot();"
   ]
  },
  {
   "cell_type": "markdown",
   "id": "3102f7ea-8a23-4c2d-9c27-e6bd8f3c63f0",
   "metadata": {},
   "source": [
    "The number of events per sub-sample is equal to n_ev"
   ]
  },
  {
   "cell_type": "code",
   "execution_count": 59,
   "id": "4f7252dd-b1ba-43c4-ba56-160faf16de43",
   "metadata": {
    "ExecuteTime": {
     "end_time": "2021-12-17T13:28:20.600091Z",
     "start_time": "2021-12-17T13:28:20.585944Z"
    }
   },
   "outputs": [
    {
     "data": {
      "text/plain": [
       "0"
      ]
     },
     "execution_count": 59,
     "metadata": {},
     "output_type": "execute_result"
    }
   ],
   "source": [
    "#The number of events per sample is equal to n_ev\n",
    "haz_sub = haz_iv.evaluate(HE=928165924, HI=None, HF = 1.1)\n",
    "#The number for HE is irrelevant, as all samples have the same n_Ev\n",
    "haz_sub.size - n_ev"
   ]
  },
  {
   "cell_type": "markdown",
   "id": "2ca01a5d-bf43-4ca5-b69c-9a8a9f3b683d",
   "metadata": {},
   "source": [
    "### ImpactFuncSet"
   ]
  },
  {
   "cell_type": "markdown",
   "id": "b76d5c86-2f98-4f56-a1eb-90b8a5b3aa8f",
   "metadata": {
    "ExecuteTime": {
     "end_time": "2021-11-01T14:01:03.864028Z",
     "start_time": "2021-11-01T14:01:03.858880Z"
    }
   },
   "source": [
    "The following types of uncertainties can be added:\n",
    "- MDD: scale the mdd (homogeneously)\n",
    "            The value of mdd at each intensity is multiplied by a number\n",
    "            sampled uniformly from a distribution with\n",
    "            (min, max) = bounds_mdd\n",
    "- PAA: scale the paa (homogeneously)\n",
    "            The value of paa at each intensity is multiplied by a number\n",
    "            sampled uniformly from a distribution with\n",
    "            (min, max) = bounds_paa\n",
    "- IFi: shift the intensity (homogeneously)\n",
    "            The value intensity are all summed with a random number\n",
    "            sampled uniformly from a distribution with\n",
    "            (min, max) = bounds_int\n",
    "\n",
    "If a bounds is None, this parameter is assumed to have no uncertainty."
   ]
  },
  {
   "cell_type": "code",
   "execution_count": 60,
   "id": "1b44d6e2-1905-4191-a91d-f4dd80c3d4ae",
   "metadata": {
    "ExecuteTime": {
     "end_time": "2021-12-17T13:28:22.437398Z",
     "start_time": "2021-12-17T13:28:22.434344Z"
    }
   },
   "outputs": [],
   "source": [
    "from climada.entity import ImpactFuncSet, ImpfTropCyclone\n",
    "impf = ImpfTropCyclone.from_emanuel_usa()\n",
    "impf_set_base = ImpactFuncSet()\n",
    "impf_set_base.append(impf)"
   ]
  },
  {
   "cell_type": "markdown",
   "id": "c26d664f-82eb-478d-9f4d-644ef45ac91d",
   "metadata": {},
   "source": [
    "It is necessary to specify the hazard type and the impact function id. For simplicity, the default uncertainty input variable only looks at the uncertainty on one single impact function."
   ]
  },
  {
   "cell_type": "code",
   "execution_count": 61,
   "id": "c9d1c458-6af7-4103-8b8c-99edd9306e89",
   "metadata": {
    "ExecuteTime": {
     "end_time": "2021-12-17T13:28:23.012143Z",
     "start_time": "2021-12-17T13:28:23.007834Z"
    }
   },
   "outputs": [],
   "source": [
    "from climada.engine.uncertainty_quantification import InputVar\n",
    "bounds_impfi = [-10, 10] #-10 m/s ; +10m/s uncertainty on the intensity\n",
    "bounds_mdd = [0.7, 1.1] #-30% - +10% uncertainty on the mdd\n",
    "bounds_paa = None #No uncertainty in the paa\n",
    "impf_iv = InputVar.impfset(impf_set_base,\n",
    "                           bounds_impfi=bounds_impfi,\n",
    "                           bounds_mdd=bounds_mdd,\n",
    "                           bounds_paa=bounds_paa,\n",
    "                           haz_id_dict={'TC': [1]})"
   ]
  },
  {
   "cell_type": "code",
   "execution_count": 62,
   "id": "376e5b42-5a5f-4a3b-8316-90bd1ac638e1",
   "metadata": {
    "ExecuteTime": {
     "end_time": "2021-12-17T13:28:26.628322Z",
     "start_time": "2021-12-17T13:28:23.342091Z"
    }
   },
   "outputs": [
    {
     "data": {
      "image/png": "[encoded data removed]",
      "text/plain": [
       "<Figure size 432x288 with 1 Axes>"
      ]
     },
     "metadata": {},
     "output_type": "display_data"
    }
   ],
   "source": [
    "#Plot the impact function for 50 random samples (note for the expert, these are not global)\n",
    "n = 50\n",
    "ax = impf_iv.evaluate().plot()\n",
    "inten = impf_iv.distr_dict['IFi'].rvs(size=n)\n",
    "mdd = impf_iv.distr_dict['MDD'].rvs(size=n)\n",
    "for i, m in zip(inten, mdd):\n",
    "    impf_iv.evaluate(IFi=i, MDD=m).plot(axis=ax)\n",
    "ax.get_legend().remove()"
   ]
  },
  {
   "cell_type": "markdown",
   "id": "18f00c4e-e2fc-4565-9ca0-ff7136326508",
   "metadata": {},
   "source": [
    "### Entity"
   ]
  },
  {
   "cell_type": "markdown",
   "id": "ba8cb3e2-2a85-4ee4-a565-f9351768997a",
   "metadata": {},
   "source": [
    "\n",
    "The following types of uncertainties can be added:\n",
    "- DR: value of constant discount rate (homogeneously)\n",
    "            The value of the discounts in each year is\n",
    "            sampled uniformly from a distribution with\n",
    "            (min, max) = bounds_disc\n",
    "- CO: scale the cost (homogeneously)\n",
    "            The cost of all measures is multiplied by the same number\n",
    "            sampled uniformly from a distribution with\n",
    "            (min, max) = bounds_cost\n",
    "- ET: scale the total value (homogeneously)\n",
    "            The value at each exposure point is multiplied by a number\n",
    "            sampled uniformly from a distribution with\n",
    "            (min, max) = bounds_totval\n",
    "- EN: mutliplicative noise (inhomogeneous)\n",
    "            The value of each exposure point is independently multiplied by\n",
    "            a random number sampled uniformly from a distribution\n",
    "            with (min, max) = bounds_noise. EN is the value of the seed\n",
    "            for  the uniform random number generator.\n",
    "- EL: sample uniformly from exposure list\n",
    "            From the provided list of exposure is elements are uniformly\n",
    "            sampled. For example, LitPop instances with different exponents.\n",
    "- MDD: scale the mdd (homogeneously)\n",
    "            The value of mdd at each intensity is multiplied by a number\n",
    "            sampled uniformly from a distribution with\n",
    "            (min, max) = bounds_mdd\n",
    "- PAA: scale the paa (homogeneously)\n",
    "            The value of paa at each intensity is multiplied by a number\n",
    "            sampled uniformly from a distribution with\n",
    "            (min, max) = bounds_paa\n",
    "- IFi: shift the intensity (homogeneously)\n",
    "            The value intensity are all summed with a random number\n",
    "            sampled uniformly from a distribution with\n",
    "            (min, max) = bounds_int\n",
    "\n",
    "\n",
    "If a bounds is None, this parameter is assumed to have no uncertainty."
   ]
  },
  {
   "cell_type": "markdown",
   "id": "8d23eda3-bda4-402f-9f07-3b8646794704",
   "metadata": {},
   "source": [
    "#### Example: single exposures "
   ]
  },
  {
   "cell_type": "code",
   "execution_count": 63,
   "id": "3b83130a-4f80-445b-9be8-b7851560cc03",
   "metadata": {
    "ExecuteTime": {
     "end_time": "2021-12-17T13:28:26.733634Z",
     "start_time": "2021-12-17T13:28:26.630305Z"
    }
   },
   "outputs": [
    {
     "name": "stdout",
     "output_type": "stream",
     "text": [
      "2022-01-04 14:26:17,883 - climada.entity.exposures.base - INFO - category_id not set.\n",
      "2022-01-04 14:26:17,884 - climada.entity.exposures.base - INFO - geometry not set.\n",
      "2022-01-04 14:26:17,884 - climada.entity.exposures.base - INFO - region_id not set.\n",
      "2022-01-04 14:26:17,885 - climada.entity.exposures.base - INFO - centr_ not set.\n"
     ]
    }
   ],
   "source": [
    "from climada.entity import Entity\n",
    "from climada.util.constants import ENT_DEMO_TODAY\n",
    "ent = Entity.from_excel(ENT_DEMO_TODAY)\n",
    "ent.exposures.ref_year = 2018\n",
    "ent.check()"
   ]
  },
  {
   "cell_type": "code",
   "execution_count": 64,
   "id": "402cf2f7-8b50-450f-a878-321272b3fd64",
   "metadata": {
    "ExecuteTime": {
     "end_time": "2021-12-17T13:28:26.744311Z",
     "start_time": "2021-12-17T13:28:26.737669Z"
    }
   },
   "outputs": [],
   "source": [
    "from climada.engine.uncertainty_quantification import InputVar\n",
    "ent_iv = InputVar.ent(\n",
    "    impf_set = ent.impact_funcs,\n",
    "    disc_rate = ent.disc_rates,\n",
    "    exp_list = [ent.exposures],\n",
    "    meas_set = ent.measures,\n",
    "    bounds_disc=[0, 0.08],\n",
    "    bounds_cost=[0.5, 1.5],\n",
    "    bounds_totval=[0.9, 1.1],\n",
    "    bounds_noise=[0.3, 1.9],\n",
    "    bounds_mdd=[0.9, 1.05],\n",
    "    bounds_paa=None,\n",
    "    bounds_impfi=[-2, 5],\n",
    "    haz_id_dict={'TC': [1]}\n",
    "    )"
   ]
  },
  {
   "cell_type": "markdown",
   "id": "498373e1-cc10-4b14-b938-22c9a0b11832",
   "metadata": {},
   "source": [
    "####  Example: list of Litpop exposures with different exponents"
   ]
  },
  {
   "cell_type": "code",
   "execution_count": 65,
   "id": "f9bcf449-5d5d-4fac-a10a-e28cf1581773",
   "metadata": {
    "ExecuteTime": {
     "end_time": "2021-12-17T13:28:28.145032Z",
     "start_time": "2021-12-17T13:28:28.139654Z"
    }
   },
   "outputs": [],
   "source": [
    "#Define a generic method to make litpop instances with different exponent pairs.\n",
    "from climada.entity import LitPop\n",
    "def generate_litpop_base(impf_id, value_unit, haz, assign_centr_kwargs,\n",
    "                          choice_mn, **litpop_kwargs):\n",
    "    #In-function imports needed only for parallel computing on Windows\n",
    "    from climada.entity import LitPop\n",
    "    litpop_base = []\n",
    "    for [m, n] in choice_mn:\n",
    "        print('\\n Computing litpop for m=%d, n=%d \\n' %(m, n))\n",
    "        litpop_kwargs['exponents'] = (m, n)\n",
    "        exp = LitPop.from_countries(**litpop_kwargs)\n",
    "        exp.gdf['impf_' + haz.tag.haz_type] = impf_id\n",
    "        exp.gdf.drop('impf_', axis=1, inplace=True)\n",
    "        if value_unit is not None:\n",
    "            exp.value_unit = value_unit\n",
    "        exp.assign_centroids(haz, **assign_centr_kwargs)\n",
    "        litpop_base.append(exp)\n",
    "    return litpop_base"
   ]
  },
  {
   "cell_type": "code",
   "execution_count": 66,
   "id": "9adcdda7-5488-42cc-abfd-d098e359d0f2",
   "metadata": {
    "ExecuteTime": {
     "end_time": "2021-12-17T13:28:28.702795Z",
     "start_time": "2021-12-17T13:28:28.678181Z"
    }
   },
   "outputs": [
    {
     "name": "stdout",
     "output_type": "stream",
     "text": [
      "2022-01-04 14:26:17,923 - climada.hazard.base - INFO - Reading /Users/ckropf/climada/demo/data/tc_fl_1990_2004.h5\n"
     ]
    }
   ],
   "source": [
    "#Define the parameters of the LitPop instances\n",
    "impf_id = 1\n",
    "value_unit = None\n",
    "litpop_kwargs = {\n",
    "    'countries' : ['CUB'],\n",
    "    'res_arcsec' : 300, \n",
    "    'reference_year' : 2020,\n",
    "}\n",
    "assign_centr_kwargs={}\n",
    "\n",
    "# The hazard is needed to assign centroids\n",
    "from climada.util.constants import HAZ_DEMO_H5\n",
    "from climada.hazard import Hazard\n",
    "haz = Hazard.from_hdf5(HAZ_DEMO_H5)"
   ]
  },
  {
   "cell_type": "code",
   "execution_count": 67,
   "id": "6afb089a-a268-40dd-ae7d-8e12e23ae925",
   "metadata": {
    "ExecuteTime": {
     "end_time": "2021-12-17T13:28:36.191232Z",
     "start_time": "2021-12-17T13:28:29.237804Z"
    }
   },
   "outputs": [
    {
     "name": "stdout",
     "output_type": "stream",
     "text": [
      "\n",
      " Computing litpop for m=1, n=0 \n",
      "\n",
      "2022-01-04 14:26:18,218 - climada.entity.exposures.litpop.litpop - INFO - \n",
      " LitPop: Init Exposure for country: CUB (192)...\n",
      "\n",
      "2022-01-04 14:26:18,219 - climada.entity.exposures.litpop.gpw_population - INFO - GPW Version v4.11\n",
      "2022-01-04 14:26:19,701 - climada.util.finance - WARNING - No data available for country. Using non-financial wealth instead\n",
      "2022-01-04 14:26:20,154 - climada.util.finance - INFO - GDP CUB 2020: 1.074e+11.\n",
      "2022-01-04 14:26:20,159 - climada.util.finance - WARNING - No data for country, using mean factor.\n",
      "2022-01-04 14:26:20,169 - climada.entity.exposures.base - INFO - Hazard type not set in impf_\n",
      "2022-01-04 14:26:20,169 - climada.entity.exposures.base - INFO - category_id not set.\n",
      "2022-01-04 14:26:20,170 - climada.entity.exposures.base - INFO - cover not set.\n",
      "2022-01-04 14:26:20,170 - climada.entity.exposures.base - INFO - deductible not set.\n",
      "2022-01-04 14:26:20,171 - climada.entity.exposures.base - INFO - centr_ not set.\n",
      "2022-01-04 14:26:20,175 - climada.entity.exposures.base - INFO - Matching 1388 exposures with 2500 centroids.\n",
      "2022-01-04 14:26:20,176 - climada.util.coordinates - INFO - No exact centroid match found. Reprojecting coordinates to nearest neighbor closer than the threshold = 100\n",
      "2022-01-04 14:26:20,209 - climada.util.interpolation - WARNING - Distance to closest centroid is greater than 100km for 77 coordinates.\n",
      "\n",
      " Computing litpop for m=0, n=1 \n",
      "\n",
      "2022-01-04 14:26:20,478 - climada.entity.exposures.litpop.litpop - INFO - \n",
      " LitPop: Init Exposure for country: CUB (192)...\n",
      "\n",
      "2022-01-04 14:26:20,479 - climada.entity.exposures.litpop.gpw_population - INFO - GPW Version v4.11\n",
      "2022-01-04 14:26:22,033 - climada.util.finance - WARNING - No data available for country. Using non-financial wealth instead\n",
      "2022-01-04 14:26:22,440 - climada.util.finance - INFO - GDP CUB 2020: 1.074e+11.\n",
      "2022-01-04 14:26:22,445 - climada.util.finance - WARNING - No data for country, using mean factor.\n",
      "2022-01-04 14:26:22,455 - climada.entity.exposures.base - INFO - Hazard type not set in impf_\n",
      "2022-01-04 14:26:22,456 - climada.entity.exposures.base - INFO - category_id not set.\n",
      "2022-01-04 14:26:22,457 - climada.entity.exposures.base - INFO - cover not set.\n",
      "2022-01-04 14:26:22,458 - climada.entity.exposures.base - INFO - deductible not set.\n",
      "2022-01-04 14:26:22,459 - climada.entity.exposures.base - INFO - centr_ not set.\n",
      "2022-01-04 14:26:22,465 - climada.entity.exposures.base - INFO - Matching 1388 exposures with 2500 centroids.\n",
      "2022-01-04 14:26:22,467 - climada.util.coordinates - INFO - No exact centroid match found. Reprojecting coordinates to nearest neighbor closer than the threshold = 100\n",
      "2022-01-04 14:26:22,503 - climada.util.interpolation - WARNING - Distance to closest centroid is greater than 100km for 77 coordinates.\n",
      "\n",
      " Computing litpop for m=1, n=1 \n",
      "\n",
      "2022-01-04 14:26:22,775 - climada.entity.exposures.litpop.litpop - INFO - \n",
      " LitPop: Init Exposure for country: CUB (192)...\n",
      "\n",
      "2022-01-04 14:26:22,776 - climada.entity.exposures.litpop.gpw_population - INFO - GPW Version v4.11\n",
      "2022-01-04 14:26:24,429 - climada.util.finance - WARNING - No data available for country. Using non-financial wealth instead\n",
      "2022-01-04 14:26:24,837 - climada.util.finance - INFO - GDP CUB 2020: 1.074e+11.\n",
      "2022-01-04 14:26:24,841 - climada.util.finance - WARNING - No data for country, using mean factor.\n",
      "2022-01-04 14:26:24,851 - climada.entity.exposures.base - INFO - Hazard type not set in impf_\n",
      "2022-01-04 14:26:24,851 - climada.entity.exposures.base - INFO - category_id not set.\n",
      "2022-01-04 14:26:24,852 - climada.entity.exposures.base - INFO - cover not set.\n",
      "2022-01-04 14:26:24,852 - climada.entity.exposures.base - INFO - deductible not set.\n",
      "2022-01-04 14:26:24,853 - climada.entity.exposures.base - INFO - centr_ not set.\n",
      "2022-01-04 14:26:24,856 - climada.entity.exposures.base - INFO - Matching 1388 exposures with 2500 centroids.\n",
      "2022-01-04 14:26:24,858 - climada.util.coordinates - INFO - No exact centroid match found. Reprojecting coordinates to nearest neighbor closer than the threshold = 100\n",
      "2022-01-04 14:26:24,884 - climada.util.interpolation - WARNING - Distance to closest centroid is greater than 100km for 77 coordinates.\n"
     ]
    }
   ],
   "source": [
    "#Generate the LitPop list\n",
    "\n",
    "choice_mn = [[1, 0.5], [0.5, 1], [1, 1]] #Choice of exponents m,n\n",
    "\n",
    "litpop_list = generate_litpop_base(impf_id, value_unit, haz, assign_centr_kwargs, choice_mn, **litpop_kwargs)\n"
   ]
  },
  {
   "cell_type": "code",
   "execution_count": 68,
   "id": "c3bff058-b814-4059-8893-9de07fb8b360",
   "metadata": {
    "ExecuteTime": {
     "end_time": "2021-12-17T13:28:36.304220Z",
     "start_time": "2021-12-17T13:28:36.193861Z"
    }
   },
   "outputs": [
    {
     "name": "stdout",
     "output_type": "stream",
     "text": [
      "2022-01-04 14:26:24,984 - climada.entity.exposures.base - INFO - category_id not set.\n",
      "2022-01-04 14:26:24,985 - climada.entity.exposures.base - INFO - geometry not set.\n",
      "2022-01-04 14:26:24,985 - climada.entity.exposures.base - INFO - region_id not set.\n",
      "2022-01-04 14:26:24,986 - climada.entity.exposures.base - INFO - centr_ not set.\n"
     ]
    }
   ],
   "source": [
    "from climada.entity import Entity\n",
    "from climada.util.constants import ENT_DEMO_TODAY\n",
    "ent = Entity.from_excel(ENT_DEMO_TODAY)\n",
    "ent.exposures.ref_year = 2020\n",
    "ent.check()"
   ]
  },
  {
   "cell_type": "code",
   "execution_count": 69,
   "id": "99939159-2a7c-4f32-8f78-8fcbe067b1b5",
   "metadata": {
    "ExecuteTime": {
     "end_time": "2021-12-17T13:28:36.313527Z",
     "start_time": "2021-12-17T13:28:36.305825Z"
    }
   },
   "outputs": [],
   "source": [
    "from climada.engine.uncertainty_quantification import InputVar\n",
    "ent_iv = InputVar.ent(\n",
    "    impf_set = ent.impact_funcs,\n",
    "    disc_rate = ent.disc_rates,\n",
    "    exp_list = litpop_list,\n",
    "    meas_set = ent.measures,\n",
    "    bounds_disc=[0, 0.08],\n",
    "    bounds_cost=[0.5, 1.5],\n",
    "    bounds_totval=[0.9, 1.1],\n",
    "    bounds_noise=[0.3, 1.9],\n",
    "    bounds_mdd=[0.9, 1.05],\n",
    "    bounds_paa=None,\n",
    "    bounds_impfi=[-2, 5],\n",
    "    haz_id_dict={'TC': [1]}\n",
    "    )"
   ]
  },
  {
   "cell_type": "markdown",
   "id": "25dbb8ab-bbf4-4b2e-a8f5-86d8d61bf106",
   "metadata": {},
   "source": [
    "### Entity Future"
   ]
  },
  {
   "cell_type": "markdown",
   "id": "61212965-7e5e-4df8-b0ba-4b39b14524f9",
   "metadata": {},
   "source": [
    "The following types of uncertainties can be added:\n",
    "- CO: scale the cost (homogeneously)\n",
    "            The cost of all measures is multiplied by the same number\n",
    "            sampled uniformly from a distribution with\n",
    "            (min, max) = bounds_cost\n",
    "- EG: scale the exposures growth (homogeneously)\n",
    "            The value at each exposure point is multiplied by a number\n",
    "            sampled uniformly from a distribution with\n",
    "- EN: mutliplicative noise (inhomogeneous)\n",
    "            The value of each exposure point is independently multiplied by\n",
    "            a random number sampled uniformly from a distribution\n",
    "            with (min, max) = bounds_noise. EN is the value of the seed\n",
    "            for  the uniform random number generator.\n",
    "- EL: sample uniformly from exposure list\n",
    "            From the provided list of exposure is elements are uniformly\n",
    "            sampled. For example, LitPop instances with different exponents.\n",
    "- MDD: scale the mdd (homogeneously)\n",
    "            The value of mdd at each intensity is multiplied by a number\n",
    "            sampled uniformly from a distribution with\n",
    "            (min, max) = bounds_mdd\n",
    "- PAA: scale the paa (homogeneously)\n",
    "            The value of paa at each intensity is multiplied by a number\n",
    "            sampled uniformly from a distribution with\n",
    "            (min, max) = bounds_paa\n",
    "- IFi: shift the impact function intensity (homogeneously)\n",
    "            The value intensity are all summed with a random number\n",
    "            sampled uniformly from a distribution with\n",
    "            (min, max) = bounds_impfi\n",
    "\n",
    "\n",
    "If a bounds is None, this parameter is assumed to have no uncertainty."
   ]
  },
  {
   "cell_type": "markdown",
   "id": "d90593a9-efe5-471f-b894-6a90db970bd2",
   "metadata": {},
   "source": [
    "#### Example: single exposures"
   ]
  },
  {
   "cell_type": "code",
   "execution_count": 70,
   "id": "36d59a4c-eb0a-4b11-a19b-89b968240c29",
   "metadata": {
    "ExecuteTime": {
     "end_time": "2021-12-17T13:28:38.884796Z",
     "start_time": "2021-12-17T13:28:38.781298Z"
    }
   },
   "outputs": [
    {
     "name": "stdout",
     "output_type": "stream",
     "text": [
      "2022-01-04 14:26:25,097 - climada.entity.exposures.base - INFO - category_id not set.\n",
      "2022-01-04 14:26:25,098 - climada.entity.exposures.base - INFO - geometry not set.\n",
      "2022-01-04 14:26:25,098 - climada.entity.exposures.base - INFO - region_id not set.\n",
      "2022-01-04 14:26:25,099 - climada.entity.exposures.base - INFO - centr_ not set.\n"
     ]
    }
   ],
   "source": [
    "from climada.entity import Entity\n",
    "from climada.util.constants import ENT_DEMO_FUTURE\n",
    "\n",
    "ent_fut = Entity.from_excel(ENT_DEMO_FUTURE)\n",
    "ent_fut.exposures.ref_year = 2040\n",
    "ent_fut.check()"
   ]
  },
  {
   "cell_type": "code",
   "execution_count": 71,
   "id": "46115ff5-ddea-4ceb-9653-578b74c07297",
   "metadata": {
    "ExecuteTime": {
     "end_time": "2021-12-17T13:28:39.170288Z",
     "start_time": "2021-12-17T13:28:39.164365Z"
    }
   },
   "outputs": [],
   "source": [
    "entfut_iv = InputVar.entfut(\n",
    "    impf_set = ent_fut.impact_funcs,\n",
    "    exp_list = [ent_fut.exposures],\n",
    "    meas_set = ent_fut.measures,\n",
    "    bounds_cost=[0.6, 1.2],\n",
    "    bounds_eg=[0.8, 1.5],\n",
    "    bounds_noise=None,\n",
    "    bounds_mdd=[0.7, 0.9],\n",
    "    bounds_paa=[1.3, 2],\n",
    "    haz_id_dict={'TC': [1]}\n",
    "    )"
   ]
  },
  {
   "cell_type": "markdown",
   "id": "cb14ecfc-cc9b-4dea-9f67-bc52a8a79a95",
   "metadata": {},
   "source": [
    "#### Example: list of exposures "
   ]
  },
  {
   "cell_type": "code",
   "execution_count": 72,
   "id": "5766a082-03dc-4e8c-896a-88e6411774a9",
   "metadata": {
    "ExecuteTime": {
     "end_time": "2021-12-17T13:28:39.679818Z",
     "start_time": "2021-12-17T13:28:39.675552Z"
    }
   },
   "outputs": [],
   "source": [
    "#Define a generic method to make litpop instances with different exponent pairs.\n",
    "from climada.entity import LitPop\n",
    "def generate_litpop_base(impf_id, value_unit, haz, assign_centr_kwargs,\n",
    "                          choice_mn, **litpop_kwargs):\n",
    "    #In-function imports needed only for parallel computing on Windows\n",
    "    from climada.entity import LitPop\n",
    "    litpop_base = []\n",
    "    for [m, n] in choice_mn:\n",
    "        print('\\n Computing litpop for m=%d, n=%d \\n' %(m, n))\n",
    "        litpop_kwargs['exponents'] = (m, n)\n",
    "        exp = LitPop.from_countries(**litpop_kwargs)\n",
    "        exp.gdf['impf_' + haz.tag.haz_type] = impf_id\n",
    "        exp.gdf.drop('impf_', axis=1, inplace=True)\n",
    "        if value_unit is not None:\n",
    "            exp.value_unit = value_unit\n",
    "        exp.assign_centroids(haz, **assign_centr_kwargs)\n",
    "        litpop_base.append(exp)\n",
    "    return litpop_base"
   ]
  },
  {
   "cell_type": "code",
   "execution_count": 73,
   "id": "8f505ca7-1133-450b-96a0-e8133ba285ee",
   "metadata": {
    "ExecuteTime": {
     "end_time": "2021-12-17T13:28:40.144850Z",
     "start_time": "2021-12-17T13:28:40.118382Z"
    }
   },
   "outputs": [
    {
     "name": "stdout",
     "output_type": "stream",
     "text": [
      "2022-01-04 14:26:25,127 - climada.hazard.base - INFO - Reading /Users/ckropf/climada/demo/data/tc_fl_1990_2004.h5\n"
     ]
    }
   ],
   "source": [
    "#Define the parameters of the LitPop instances\n",
    "impf_id = 1\n",
    "value_unit = None\n",
    "litpop_kwargs = {\n",
    "    'countries' : ['CUB'],\n",
    "    'res_arcsec' : 300, \n",
    "    'reference_year' : 2040,\n",
    "}\n",
    "assign_centr_kwargs={}\n",
    "\n",
    "# The hazard is needed to assign centroids\n",
    "from climada.util.constants import HAZ_DEMO_H5\n",
    "from climada.hazard import Hazard\n",
    "haz = Hazard.from_hdf5(HAZ_DEMO_H5)"
   ]
  },
  {
   "cell_type": "code",
   "execution_count": 74,
   "id": "6f6bc7a9-3779-4ae7-94e2-91808cad51d8",
   "metadata": {
    "ExecuteTime": {
     "end_time": "2021-12-17T13:28:47.015610Z",
     "start_time": "2021-12-17T13:28:40.509146Z"
    },
    "scrolled": true
   },
   "outputs": [
    {
     "name": "stdout",
     "output_type": "stream",
     "text": [
      "\n",
      " Computing litpop for m=1, n=0 \n",
      "\n",
      "2022-01-04 14:26:25,410 - climada.entity.exposures.litpop.litpop - INFO - \n",
      " LitPop: Init Exposure for country: CUB (192)...\n",
      "\n",
      "2022-01-04 14:26:25,411 - climada.entity.exposures.litpop.gpw_population - WARNING - Reference year: 2040. Using nearest available year for GPW data: 2020\n",
      "2022-01-04 14:26:25,412 - climada.entity.exposures.litpop.gpw_population - INFO - GPW Version v4.11\n",
      "2022-01-04 14:26:26,842 - climada.util.finance - WARNING - No data available for country. Using non-financial wealth instead\n",
      "2022-01-04 14:26:27,260 - climada.util.finance - INFO - GDP CUB 2020: 1.074e+11.\n",
      "2022-01-04 14:26:27,264 - climada.util.finance - WARNING - No data for country, using mean factor.\n",
      "2022-01-04 14:26:27,273 - climada.entity.exposures.base - INFO - Hazard type not set in impf_\n",
      "2022-01-04 14:26:27,273 - climada.entity.exposures.base - INFO - category_id not set.\n",
      "2022-01-04 14:26:27,274 - climada.entity.exposures.base - INFO - cover not set.\n",
      "2022-01-04 14:26:27,274 - climada.entity.exposures.base - INFO - deductible not set.\n",
      "2022-01-04 14:26:27,275 - climada.entity.exposures.base - INFO - centr_ not set.\n",
      "2022-01-04 14:26:27,278 - climada.entity.exposures.base - INFO - Matching 1388 exposures with 2500 centroids.\n",
      "2022-01-04 14:26:27,279 - climada.util.coordinates - INFO - No exact centroid match found. Reprojecting coordinates to nearest neighbor closer than the threshold = 100\n",
      "2022-01-04 14:26:27,305 - climada.util.interpolation - WARNING - Distance to closest centroid is greater than 100km for 77 coordinates.\n",
      "\n",
      " Computing litpop for m=0, n=1 \n",
      "\n",
      "2022-01-04 14:26:27,564 - climada.entity.exposures.litpop.litpop - INFO - \n",
      " LitPop: Init Exposure for country: CUB (192)...\n",
      "\n",
      "2022-01-04 14:26:27,565 - climada.entity.exposures.litpop.gpw_population - WARNING - Reference year: 2040. Using nearest available year for GPW data: 2020\n",
      "2022-01-04 14:26:27,566 - climada.entity.exposures.litpop.gpw_population - INFO - GPW Version v4.11\n",
      "2022-01-04 14:26:28,992 - climada.util.finance - WARNING - No data available for country. Using non-financial wealth instead\n",
      "2022-01-04 14:26:29,412 - climada.util.finance - INFO - GDP CUB 2020: 1.074e+11.\n",
      "2022-01-04 14:26:29,415 - climada.util.finance - WARNING - No data for country, using mean factor.\n",
      "2022-01-04 14:26:29,423 - climada.entity.exposures.base - INFO - Hazard type not set in impf_\n",
      "2022-01-04 14:26:29,424 - climada.entity.exposures.base - INFO - category_id not set.\n",
      "2022-01-04 14:26:29,424 - climada.entity.exposures.base - INFO - cover not set.\n",
      "2022-01-04 14:26:29,424 - climada.entity.exposures.base - INFO - deductible not set.\n",
      "2022-01-04 14:26:29,425 - climada.entity.exposures.base - INFO - centr_ not set.\n",
      "2022-01-04 14:26:29,428 - climada.entity.exposures.base - INFO - Matching 1388 exposures with 2500 centroids.\n",
      "2022-01-04 14:26:29,429 - climada.util.coordinates - INFO - No exact centroid match found. Reprojecting coordinates to nearest neighbor closer than the threshold = 100\n",
      "2022-01-04 14:26:29,454 - climada.util.interpolation - WARNING - Distance to closest centroid is greater than 100km for 77 coordinates.\n",
      "\n",
      " Computing litpop for m=1, n=1 \n",
      "\n",
      "2022-01-04 14:26:29,713 - climada.entity.exposures.litpop.litpop - INFO - \n",
      " LitPop: Init Exposure for country: CUB (192)...\n",
      "\n",
      "2022-01-04 14:26:29,714 - climada.entity.exposures.litpop.gpw_population - WARNING - Reference year: 2040. Using nearest available year for GPW data: 2020\n",
      "2022-01-04 14:26:29,715 - climada.entity.exposures.litpop.gpw_population - INFO - GPW Version v4.11\n",
      "2022-01-04 14:26:31,173 - climada.util.finance - WARNING - No data available for country. Using non-financial wealth instead\n",
      "2022-01-04 14:26:31,589 - climada.util.finance - INFO - GDP CUB 2020: 1.074e+11.\n",
      "2022-01-04 14:26:31,593 - climada.util.finance - WARNING - No data for country, using mean factor.\n",
      "2022-01-04 14:26:31,600 - climada.entity.exposures.base - INFO - Hazard type not set in impf_\n",
      "2022-01-04 14:26:31,601 - climada.entity.exposures.base - INFO - category_id not set.\n",
      "2022-01-04 14:26:31,601 - climada.entity.exposures.base - INFO - cover not set.\n",
      "2022-01-04 14:26:31,601 - climada.entity.exposures.base - INFO - deductible not set.\n",
      "2022-01-04 14:26:31,602 - climada.entity.exposures.base - INFO - centr_ not set.\n",
      "2022-01-04 14:26:31,605 - climada.entity.exposures.base - INFO - Matching 1388 exposures with 2500 centroids.\n",
      "2022-01-04 14:26:31,606 - climada.util.coordinates - INFO - No exact centroid match found. Reprojecting coordinates to nearest neighbor closer than the threshold = 100\n",
      "2022-01-04 14:26:31,632 - climada.util.interpolation - WARNING - Distance to closest centroid is greater than 100km for 77 coordinates.\n"
     ]
    }
   ],
   "source": [
    "#Generate the LitPop list\n",
    "\n",
    "choice_mn = [[1, 0.5], [0.5, 1], [1, 1]] #Choice of exponents m,n\n",
    "\n",
    "litpop_list = generate_litpop_base(impf_id, value_unit, haz, assign_centr_kwargs, choice_mn, **litpop_kwargs)\n"
   ]
  },
  {
   "cell_type": "code",
   "execution_count": 75,
   "id": "c7d61fe7-7496-4e89-9393-6e8ca5e9f080",
   "metadata": {
    "ExecuteTime": {
     "end_time": "2021-12-17T13:28:47.132178Z",
     "start_time": "2021-12-17T13:28:47.018681Z"
    }
   },
   "outputs": [
    {
     "name": "stdout",
     "output_type": "stream",
     "text": [
      "2022-01-04 14:26:31,736 - climada.entity.exposures.base - INFO - category_id not set.\n",
      "2022-01-04 14:26:31,736 - climada.entity.exposures.base - INFO - geometry not set.\n",
      "2022-01-04 14:26:31,736 - climada.entity.exposures.base - INFO - region_id not set.\n",
      "2022-01-04 14:26:31,737 - climada.entity.exposures.base - INFO - centr_ not set.\n"
     ]
    }
   ],
   "source": [
    "from climada.entity import Entity\n",
    "from climada.util.constants import ENT_DEMO_FUTURE\n",
    "\n",
    "ent_fut = Entity.from_excel(ENT_DEMO_FUTURE)\n",
    "ent_fut.exposures.ref_year = 2040\n",
    "ent_fut.check()"
   ]
  },
  {
   "cell_type": "code",
   "execution_count": 76,
   "id": "b63f8e63-052d-4ac7-9d9b-56e070e54990",
   "metadata": {
    "ExecuteTime": {
     "end_time": "2021-12-17T13:28:47.139961Z",
     "start_time": "2021-12-17T13:28:47.133638Z"
    },
    "tags": []
   },
   "outputs": [],
   "source": [
    "from climada.engine.uncertainty_quantification import InputVar\n",
    "entfut_iv = InputVar.entfut(\n",
    "    impf_set = ent_fut.impact_funcs,\n",
    "    exp_list = litpop_list,\n",
    "    meas_set = ent_fut.measures,\n",
    "    bounds_cost=[0.6, 1.2],\n",
    "    bounds_eg=[0.8, 1.5],\n",
    "    bounds_noise=None,\n",
    "    bounds_mdd=[0.7, 0.9],\n",
    "    bounds_paa=[1.3, 2],\n",
    "    haz_id_dict={'TC': [1]}\n",
    "    )"
   ]
  }
 ],
 "metadata": {
  "hide_input": false,
  "kernelspec": {
   "display_name": "Python [conda env:climada_310]",
   "language": "python",
   "name": "conda-env-climada_310-py"
  },
  "language_info": {
   "codemirror_mode": {
    "name": "ipython",
    "version": 3
   },
   "file_extension": ".py",
   "mimetype": "text/x-python",
   "name": "python",
   "nbconvert_exporter": "python",
   "pygments_lexer": "ipython3",
   "version": "3.8.12"
  },
  "latex_envs": {
   "LaTeX_envs_menu_present": true,
   "autoclose": false,
   "autocomplete": true,
   "bibliofile": "biblio.bib",
   "cite_by": "apalike",
   "current_citInitial": 1,
   "eqLabelWithNumbers": true,
   "eqNumInitial": 1,
   "hotkeys": {
    "equation": "Ctrl-E",
    "itemize": "Ctrl-I"
   },
   "labels_anchors": false,
   "latex_user_defs": false,
   "report_style_numbering": false,
   "user_envs_cfg": false
  },
  "toc": {
   "base_numbering": 1,
   "nav_menu": {},
   "number_sections": true,
   "sideBar": true,
   "skip_h1_title": false,
   "title_cell": "Table of Contents",
   "title_sidebar": "Contents",
   "toc_cell": false,
   "toc_position": {},
   "toc_section_display": true,
   "toc_window_display": false
  }
 },
 "nbformat": 4,
 "nbformat_minor": 5
}
