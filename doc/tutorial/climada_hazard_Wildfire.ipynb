{
 "cells": [
  {
   "cell_type": "markdown",
   "metadata": {},
   "source": [
    "# Hazard: Bush Fire"
   ]
  },
  {
   "cell_type": "markdown",
   "metadata": {},
   "source": [
    "This class is used to model the bushfire hazard using the historical data available and creating probabilistic events for each historical event. \n",
    "\n",
    "The historical data used comes from the [Fire Information for Resource Management System (FIRMS)](https://earthdata.nasa.gov/earth-observation-data/near-real-time/firms/about-firms). They collect temperatures from the following satellite instruments:\n",
    "\n",
    "    - Moderate Resolution Imaging Spectroradiometer  (MODIS): Near real time or standard quality data with 1 km resolution. Data available from November 2000 to present.\n",
    "\n",
    "    - Visible Infrared Imaging Radiometer Suite (VIIRS): Near real time data with 0.375 km resolution. Data available from 20 January 2012 to present.\n",
    "\n",
    "The data should be obtained at https://firms.modaps.eosdis.nasa.gov/download/ and saved as .csv file. Approximatly 15 min after submitting the request, the data can be downloaded by checking the request status. \n",
    "\n",
    "The `BushFire` class inherits from the `Hazard` class and has an associated hazard type `BF`. It provides a `set_hist_events()` method which enables to fill the hazard with historical events, a `set_hist_event_year_set()` method which aggregates historic events to event years, and a `set_probabilistic_event_year_set()` method which generates random event years. `hull_burned_area()` can be used to approximate the burned area of an event. It approximates a concave hull containing all the burned centroids and computes its area in hectares.\n",
    "\n",
    "Please note: as compared to other hazards (i.e. TC) there's no clear definition on what an event is for Bush Fires. While some countries (i.e. US, Australia) provide very detailed reports, other's (i.e. Chile, Indonesia) rather provide information on the whole fire season. Thus, we produce probabilistic event years rather than single events to ensure global consistency. "
   ]
  },
  {
   "cell_type": "markdown",
   "metadata": {},
   "source": [
    "## HISTORICAL EVENTS\n",
    "\n",
    "In June 2017, Portugal was hit by a series of deadly wild fires which led to 66 fatalities, more than 200 mn. USD damages and 45'000 ha burned area. With `set_hist_events()` we can model the fires in Portugal in 2017.\n",
    "\n",
    "An event is defined when the temporal and spatial distance of the burning centroids is close enough. There are two attributes of the class which define the \"closeness\":\n",
    "\n",
    "    - days_thres (int): temporal distance in days. Default: 2.\n",
    "    - clus_thres (int): factor to multiply to the centroids resolution. Used to determine the cluster maximum distance between two centroids. Default: 15.\n",
    "    \n",
    "In addition to the `Hazard` attibutes, `BushFire` contains a `date_end` attribute which contains the ending date of each event."
   ]
  },
  {
   "cell_type": "code",
   "execution_count": 1,
   "metadata": {},
   "outputs": [
    {
     "name": "stderr",
     "output_type": "stream",
     "text": [
      "In /opt/anaconda3/envs/climada_env/lib/python3.7/site-packages/matplotlib/mpl-data/stylelib/_classic_test.mplstyle: \n",
      "The text.latex.preview rcparam was deprecated in Matplotlib 3.3 and will be removed two minor releases later.\n",
      "In /opt/anaconda3/envs/climada_env/lib/python3.7/site-packages/matplotlib/mpl-data/stylelib/_classic_test.mplstyle: \n",
      "The mathtext.fallback_to_cm rcparam was deprecated in Matplotlib 3.3 and will be removed two minor releases later.\n",
      "In /opt/anaconda3/envs/climada_env/lib/python3.7/site-packages/matplotlib/mpl-data/stylelib/_classic_test.mplstyle: Support for setting the 'mathtext.fallback_to_cm' rcParam is deprecated since 3.3 and will be removed two minor releases later; use 'mathtext.fallback : 'cm' instead.\n",
      "In /opt/anaconda3/envs/climada_env/lib/python3.7/site-packages/matplotlib/mpl-data/stylelib/_classic_test.mplstyle: \n",
      "The validate_bool_maybe_none function was deprecated in Matplotlib 3.3 and will be removed two minor releases later.\n",
      "In /opt/anaconda3/envs/climada_env/lib/python3.7/site-packages/matplotlib/mpl-data/stylelib/_classic_test.mplstyle: \n",
      "The savefig.jpeg_quality rcparam was deprecated in Matplotlib 3.3 and will be removed two minor releases later.\n",
      "In /opt/anaconda3/envs/climada_env/lib/python3.7/site-packages/matplotlib/mpl-data/stylelib/_classic_test.mplstyle: \n",
      "The keymap.all_axes rcparam was deprecated in Matplotlib 3.3 and will be removed two minor releases later.\n",
      "In /opt/anaconda3/envs/climada_env/lib/python3.7/site-packages/matplotlib/mpl-data/stylelib/_classic_test.mplstyle: \n",
      "The animation.avconv_path rcparam was deprecated in Matplotlib 3.3 and will be removed two minor releases later.\n",
      "In /opt/anaconda3/envs/climada_env/lib/python3.7/site-packages/matplotlib/mpl-data/stylelib/_classic_test.mplstyle: \n",
      "The animation.avconv_args rcparam was deprecated in Matplotlib 3.3 and will be removed two minor releases later.\n"
     ]
    },
    {
     "ename": "ModuleNotFoundError",
     "evalue": "No module named 'climada'",
     "output_type": "error",
     "traceback": [
      "\u001b[0;31m---------------------------------------------------------------------------\u001b[0m",
      "\u001b[0;31mModuleNotFoundError\u001b[0m                       Traceback (most recent call last)",
      "\u001b[0;32m<ipython-input-1-4b1c7c46977a>\u001b[0m in \u001b[0;36m<module>\u001b[0;34m\u001b[0m\n\u001b[1;32m      3\u001b[0m \u001b[0;32mimport\u001b[0m \u001b[0mos\u001b[0m\u001b[0;34m\u001b[0m\u001b[0;34m\u001b[0m\u001b[0m\n\u001b[1;32m      4\u001b[0m \u001b[0;34m\u001b[0m\u001b[0m\n\u001b[0;32m----> 5\u001b[0;31m \u001b[0;32mfrom\u001b[0m \u001b[0mclimada\u001b[0m\u001b[0;34m.\u001b[0m\u001b[0mutil\u001b[0m \u001b[0;32mimport\u001b[0m \u001b[0mDATA_DIR\u001b[0m\u001b[0;34m\u001b[0m\u001b[0;34m\u001b[0m\u001b[0m\n\u001b[0m\u001b[1;32m      6\u001b[0m \u001b[0;32mfrom\u001b[0m \u001b[0mclimada\u001b[0m\u001b[0;34m.\u001b[0m\u001b[0mhazard\u001b[0m \u001b[0;32mimport\u001b[0m \u001b[0mBushFire\u001b[0m\u001b[0;34m\u001b[0m\u001b[0;34m\u001b[0m\u001b[0m\n\u001b[1;32m      7\u001b[0m \u001b[0;34m\u001b[0m\u001b[0m\n",
      "\u001b[0;31mModuleNotFoundError\u001b[0m: No module named 'climada'"
     ]
    }
   ],
   "source": [
    "# Fires in Portugal 2017\n",
    "%matplotlib inline\n",
    "import os\n",
    "\n",
    "from climada.util import DATA_DIR\n",
    "from climada.hazard import BushFire\n",
    "\n",
    "# Data downloaded for MODIS\n",
    "FIRMS = os.path.join(DATA_DIR, \"demo/Portugal_firms_June_2017.csv\")\n",
    "\n",
    "# set up bush fire\n",
    "bf_pt = BushFire()\n",
    "bf_pt.set_hist_events(FIRMS)\n",
    "\n",
    "# plot the maximum intensity of all the events at each centroid\n",
    "bf_cal.plot_intensity(event=0)"
   ]
  },
  {
   "cell_type": "markdown",
   "metadata": {},
   "source": [
    "We can focus on the region around Coimbra where the most deadly fire occured.\n",
    "\n",
    "A given set of points or grid can be provided using the `Centroids` class. The events will be interpolated to the provided coordinates. "
   ]
  },
  {
   "cell_type": "code",
   "execution_count": 2,
   "metadata": {},
   "outputs": [
    {
     "ename": "ModuleNotFoundError",
     "evalue": "No module named 'climada'",
     "output_type": "error",
     "traceback": [
      "\u001b[0;31m---------------------------------------------------------------------------\u001b[0m",
      "\u001b[0;31mModuleNotFoundError\u001b[0m                       Traceback (most recent call last)",
      "\u001b[0;32m<ipython-input-2-2a6d1e8762d8>\u001b[0m in \u001b[0;36m<module>\u001b[0;34m\u001b[0m\n\u001b[0;32m----> 1\u001b[0;31m \u001b[0;32mfrom\u001b[0m \u001b[0mclimada\u001b[0m\u001b[0;34m.\u001b[0m\u001b[0mhazard\u001b[0m \u001b[0;32mimport\u001b[0m \u001b[0mCentroids\u001b[0m\u001b[0;34m\u001b[0m\u001b[0;34m\u001b[0m\u001b[0m\n\u001b[0m\u001b[1;32m      2\u001b[0m \u001b[0;32mfrom\u001b[0m \u001b[0mclimada\u001b[0m\u001b[0;34m.\u001b[0m\u001b[0mutil\u001b[0m\u001b[0;34m.\u001b[0m\u001b[0mconstants\u001b[0m \u001b[0;32mimport\u001b[0m \u001b[0mONE_LAT_KM\u001b[0m\u001b[0;34m\u001b[0m\u001b[0;34m\u001b[0m\u001b[0m\n\u001b[1;32m      3\u001b[0m \u001b[0;34m\u001b[0m\u001b[0m\n\u001b[1;32m      4\u001b[0m \u001b[0;31m# focus on Coimbra region with 1.0 km resolution (MODIS resolution)\u001b[0m\u001b[0;34m\u001b[0m\u001b[0;34m\u001b[0m\u001b[0;34m\u001b[0m\u001b[0m\n\u001b[1;32m      5\u001b[0m \u001b[0mres\u001b[0m \u001b[0;34m=\u001b[0m \u001b[0;36m1.0\u001b[0m\u001b[0;34m/\u001b[0m\u001b[0mONE_LAT_KM\u001b[0m\u001b[0;34m\u001b[0m\u001b[0;34m\u001b[0m\u001b[0m\n",
      "\u001b[0;31mModuleNotFoundError\u001b[0m: No module named 'climada'"
     ]
    }
   ],
   "source": [
    "from climada.hazard import Centroids\n",
    "from climada.util.constants import ONE_LAT_KM\n",
    "\n",
    "# focus on Coimbra region with 1.0 km resolution (MODIS resolution)\n",
    "res = 1.0/ONE_LAT_KM\n",
    "centr_zoom = Centroids()\n",
    "centr_zoom.set_raster_from_pnt_bounds((-8.5, 39.8, -7.5, 40.2), res)\n",
    "\n",
    "bf_zoom = BushFire()\n",
    "bf_zoom.set_hist_events(FIRMS, centroids=centr_zoom)\n",
    "bf_zoom.plot_intensity(0)"
   ]
  },
  {
   "cell_type": "code",
   "execution_count": 3,
   "metadata": {},
   "outputs": [
    {
     "ename": "NameError",
     "evalue": "name 'bf_zoom' is not defined",
     "output_type": "error",
     "traceback": [
      "\u001b[0;31m---------------------------------------------------------------------------\u001b[0m",
      "\u001b[0;31mNameError\u001b[0m                                 Traceback (most recent call last)",
      "\u001b[0;32m<ipython-input-3-d47973d23923>\u001b[0m in \u001b[0;36m<module>\u001b[0;34m\u001b[0m\n\u001b[0;32m----> 1\u001b[0;31m \u001b[0mprint\u001b[0m\u001b[0;34m(\u001b[0m\u001b[0;34m'Burned area of Coimbra fires:'\u001b[0m\u001b[0;34m,\u001b[0m \u001b[0mbf_zoom\u001b[0m\u001b[0;34m.\u001b[0m\u001b[0mhull_burned_area\u001b[0m\u001b[0;34m(\u001b[0m\u001b[0;36m1\u001b[0m\u001b[0;34m)\u001b[0m\u001b[0;34m,\u001b[0m \u001b[0;34m' ha.'\u001b[0m\u001b[0;34m)\u001b[0m\u001b[0;34m\u001b[0m\u001b[0;34m\u001b[0m\u001b[0m\n\u001b[0m",
      "\u001b[0;31mNameError\u001b[0m: name 'bf_zoom' is not defined"
     ]
    }
   ],
   "source": [
    "print('Burned area of Coimbra fires:', bf_zoom.hull_burned_area(1), ' ha.')"
   ]
  },
  {
   "cell_type": "markdown",
   "metadata": {},
   "source": [
    "See more infos on [Wikipedia](https://en.wikipedia.org/wiki/June_2017_Portugal_wildfires) around the fire."
   ]
  },
  {
   "cell_type": "code",
   "execution_count": 6,
   "metadata": {},
   "outputs": [
    {
     "ename": "SyntaxError",
     "evalue": "invalid syntax (<ipython-input-6-84c1198eae76>, line 2)",
     "output_type": "error",
     "traceback": [
      "\u001b[0;36m  File \u001b[0;32m\"<ipython-input-6-84c1198eae76>\"\u001b[0;36m, line \u001b[0;32m2\u001b[0m\n\u001b[0;31m    To ensure global consistency, we want to generate event year sets. This is done using the method `set_hist_event_year_set()`.\u001b[0m\n\u001b[0m            ^\u001b[0m\n\u001b[0;31mSyntaxError\u001b[0m\u001b[0;31m:\u001b[0m invalid syntax\n"
     ]
    }
   ],
   "source": [
    "## HISTORIC EVENT YEARS\n",
    "To ensure global consistency, we want to generate event year sets. This is done using the method `set_hist_event_year_set()`.\n",
    "These event years can later be compared to the probabilistic event years for a seamless risk analysis.\n",
    "Note: all the underlying events of a year are merged into one single event which is saved.\n",
    "The original events, that result from the clustering are not kept in order to save space. However, this can be done by setting keep_all_events to true"
   ]
  },
  {
   "cell_type": "code",
   "execution_count": 7,
   "metadata": {},
   "outputs": [
    {
     "ename": "NameError",
     "evalue": "name 'pd' is not defined",
     "output_type": "error",
     "traceback": [
      "\u001b[0;31m---------------------------------------------------------------------------\u001b[0m",
      "\u001b[0;31mNameError\u001b[0m                                 Traceback (most recent call last)",
      "\u001b[0;32m<ipython-input-7-5b6806aa13b5>\u001b[0m in \u001b[0;36m<module>\u001b[0;34m\u001b[0m\n\u001b[1;32m      1\u001b[0m \u001b[0;31m# load FIRMS data for 2016-2018 an select main land Portugal only\u001b[0m\u001b[0;34m\u001b[0m\u001b[0;34m\u001b[0m\u001b[0;34m\u001b[0m\u001b[0m\n\u001b[0;32m----> 2\u001b[0;31m \u001b[0mfirms\u001b[0m \u001b[0;34m=\u001b[0m \u001b[0mpd\u001b[0m\u001b[0;34m.\u001b[0m\u001b[0mread_csv\u001b[0m\u001b[0;34m(\u001b[0m\u001b[0mos\u001b[0m\u001b[0;34m.\u001b[0m\u001b[0mpath\u001b[0m\u001b[0;34m.\u001b[0m\u001b[0mjoin\u001b[0m\u001b[0;34m(\u001b[0m\u001b[0mDATA_DIR\u001b[0m\u001b[0;34m,\u001b[0m \u001b[0;34m\"demo/Portugal_firms_2016_17_18_MODIS.csv\"\u001b[0m\u001b[0;34m)\u001b[0m\u001b[0;34m)\u001b[0m\u001b[0;34m\u001b[0m\u001b[0;34m\u001b[0m\u001b[0m\n\u001b[0m\u001b[1;32m      3\u001b[0m \u001b[0mfirms\u001b[0m \u001b[0;34m=\u001b[0m \u001b[0mfirms\u001b[0m\u001b[0;34m[\u001b[0m\u001b[0mfirms\u001b[0m\u001b[0;34m[\u001b[0m\u001b[0;34m'latitude'\u001b[0m\u001b[0;34m]\u001b[0m\u001b[0;34m>\u001b[0m\u001b[0;36m35.\u001b[0m\u001b[0;34m]\u001b[0m\u001b[0;34m\u001b[0m\u001b[0;34m\u001b[0m\u001b[0m\n\u001b[1;32m      4\u001b[0m \u001b[0mfirms\u001b[0m \u001b[0;34m=\u001b[0m \u001b[0mfirms\u001b[0m\u001b[0;34m[\u001b[0m\u001b[0mfirms\u001b[0m\u001b[0;34m[\u001b[0m\u001b[0;34m'longitude'\u001b[0m\u001b[0;34m]\u001b[0m\u001b[0;34m>\u001b[0m\u001b[0;34m-\u001b[0m\u001b[0;36m12.\u001b[0m\u001b[0;34m]\u001b[0m\u001b[0;34m\u001b[0m\u001b[0;34m\u001b[0m\u001b[0m\n\u001b[1;32m      5\u001b[0m \u001b[0;34m\u001b[0m\u001b[0m\n",
      "\u001b[0;31mNameError\u001b[0m: name 'pd' is not defined"
     ]
    }
   ],
   "source": [
    "# load FIRMS data for 2016-2018 an select main land Portugal only\n",
    "firms = pd.read_csv(os.path.join(DATA_DIR, \"demo/Portugal_firms_2016_17_18_MODIS.csv\"))\n",
    "firms = firms[firms['latitude']>35.]\n",
    "firms = firms[firms['longitude']>-12.]\n",
    "\n",
    "\n",
    "bf_years = BushFire()\n",
    "bf_years.set_hist_event_year_set(firms, centr_res_factor=1/1.)\n",
    "\n",
    "print('Events are now named according to their event year:', bf_years.event_name)\n",
    "print('The number of underyling events is saved as well:', bf_years.n_events)\n",
    "\n",
    "# plot the first event year (2016)\n",
    "bf_years.plot_intensity(1)"
   ]
  },
  {
   "cell_type": "markdown",
   "metadata": {},
   "source": [
    "## PROBABILISTIC EVENT YEARS\n",
    "\n",
    "`set_probabilistic_event_year_set()` generates synthetic event years.\n",
    "\n",
    "The probabilistic even year set is generate the following way:\n",
    "    1. A fire propagation probability matrix is defined\n",
    "        - this propagation matrix defines the probabilitiy for fire propagation on each centroid\n",
    "        - if not further specified, the observation of historic data is used - the fire can only propagate on centroids that burned in the past, including a blurr around these centroids\n",
    "        - this matrix can be used to include additional information (i.e. on vegetation/land-use/elevation/population density)\n",
    "    2. A random number n of events that occured in the probabilistic year is chosen.\n",
    "        - If nothing else is specified, a random number within the range of n_events (the number of historic events is drawn)\n",
    "        - The range can also be specified in the input\n",
    "    3. n synthetic events are generated following this logic:\n",
    "        - A random fire ignition point is selected (the point needs to be burnable on the fire propagation matrix)\n",
    "        - The fire is then propagated from the ignition point as a cellular automat following these rules :\n",
    "\n",
    "        1. an neighbouring centroid to the burning centroid becomes a burning centroid with a probability p. This probability is calculated as the product of a overall fire propagation probability (default=0.21) and the centroid specific factor (which is defined on the fire propagation probabilit matrix)\n",
    "        2. an already burning centroid becomes an ember centroid (does not propagate fire anymore but is labled as burned)\n",
    "        3. an ember centroid stays an ember centroid\n",
    "        4. The propagation stops when there is no burning centroid left.\n",
    "        5. The temperature provided to each centroid is randomly chosen from the corresponding historical event.\n",
    "        \n",
    "    4. These n synthetic events are summarized into a probabilistic event year set which is appended to the historic year sets \n",
    "\n",
    "Note: In the default no additional external data is included. The probabilistic event thus soley relies on past experience which likely leads to an underestimation of the current and future fire risk. The frame work allows to include climate change effects by:\n",
    "    - defining the fire propagation probability matrix (using more data as described above)\n",
    "    - varying the overall fire propagation probability (by i.e. linking it to a fire weather index)\n",
    "    - varying the number of events per year (by i.e. linking it to a fire weather index)"
   ]
  },
  {
   "cell_type": "code",
   "execution_count": 8,
   "metadata": {},
   "outputs": [
    {
     "ename": "NameError",
     "evalue": "name 'bf_years' is not defined",
     "output_type": "error",
     "traceback": [
      "\u001b[0;31m---------------------------------------------------------------------------\u001b[0m",
      "\u001b[0;31mNameError\u001b[0m                                 Traceback (most recent call last)",
      "\u001b[0;32m<ipython-input-8-b65897f5bfad>\u001b[0m in \u001b[0;36m<module>\u001b[0;34m\u001b[0m\n\u001b[1;32m      1\u001b[0m \u001b[0;31m# generate 1 probabilistic event year for Portugal\u001b[0m\u001b[0;34m\u001b[0m\u001b[0;34m\u001b[0m\u001b[0;34m\u001b[0m\u001b[0m\n\u001b[0;32m----> 2\u001b[0;31m \u001b[0mbf_years\u001b[0m\u001b[0;34m.\u001b[0m\u001b[0mset_probabilistic_event_year_set\u001b[0m\u001b[0;34m(\u001b[0m\u001b[0mn_event_years\u001b[0m\u001b[0;34m=\u001b[0m\u001b[0;36m1\u001b[0m\u001b[0;34m)\u001b[0m\u001b[0;34m\u001b[0m\u001b[0;34m\u001b[0m\u001b[0m\n\u001b[0m\u001b[1;32m      3\u001b[0m \u001b[0mprint\u001b[0m\u001b[0;34m(\u001b[0m\u001b[0;34m'The probabilistic event year is appended to the historic:'\u001b[0m\u001b[0;34m,\u001b[0m \u001b[0mbf_years\u001b[0m\u001b[0;34m.\u001b[0m\u001b[0mevent_name\u001b[0m\u001b[0;34m)\u001b[0m\u001b[0;34m\u001b[0m\u001b[0;34m\u001b[0m\u001b[0m\n\u001b[1;32m      4\u001b[0m \u001b[0;34m\u001b[0m\u001b[0m\n\u001b[1;32m      5\u001b[0m \u001b[0;31m# Plot the synthetic event year\u001b[0m\u001b[0;34m\u001b[0m\u001b[0;34m\u001b[0m\u001b[0;34m\u001b[0m\u001b[0m\n",
      "\u001b[0;31mNameError\u001b[0m: name 'bf_years' is not defined"
     ]
    }
   ],
   "source": [
    "# generate 1 probabilistic event year for Portugal\n",
    "bf_years.set_probabilistic_event_year_set(n_event_years=1)\n",
    "print('The probabilistic event year is appended to the historic:', bf_years.event_name)\n",
    "\n",
    "# Plot the synthetic event year\n",
    "bf_years.plot_intensity(event=4)"
   ]
  },
  {
   "cell_type": "code",
   "execution_count": 9,
   "metadata": {},
   "outputs": [
    {
     "ename": "SyntaxError",
     "evalue": "invalid syntax (<ipython-input-9-b72e0de87dda>, line 7)",
     "output_type": "error",
     "traceback": [
      "\u001b[0;36m  File \u001b[0;32m\"<ipython-input-9-b72e0de87dda>\"\u001b[0;36m, line \u001b[0;32m7\u001b[0m\n\u001b[0;31m    print('Shape of the matrix:' fppm.shape)\u001b[0m\n\u001b[0m                                    ^\u001b[0m\n\u001b[0;31mSyntaxError\u001b[0m\u001b[0;31m:\u001b[0m invalid syntax\n"
     ]
    }
   ],
   "source": [
    "## Some additional notes\n",
    "# The fire propagation probability matrix is saved on the centroids and thus, can also be accessed on them.\n",
    "# Due to the cellular automate, the matrix must be rectangular and matching the shape of the centroids from\n",
    "# the historic events. \n",
    "\n",
    "fppm = bf_years.centroids.fire_propa_matrix\n",
    "print('Shape of the matrix:' fppm.shape)\n",
    "- The overall fire propagation probability can easily be modified\n",
    "\n",
    "- The range of the number of events for a synthetic year can be modi"
   ]
  },
  {
   "cell_type": "code",
   "execution_count": null,
   "metadata": {},
   "outputs": [],
   "source": [
    "# The overall fire propagation probability can easily be modified (default is 0.21)\n",
    "bf_years.prop_proba = 0.18"
   ]
  },
  {
   "cell_type": "code",
   "execution_count": null,
   "metadata": {},
   "outputs": [],
   "source": [
    "# The range of the number of events for a synthetic year can be modified when creating the event years\n",
    "ign_range = [125,250]\n",
    "bf_years.set_probabilistic_event_year_set(n_event_years=1, n_iginitions=ign_range)\n",
    "bf_years.plot_intensity(event=5)\n"
   ]
  }
 ],
 "metadata": {
  "celltoolbar": "Raw Cell Format",
  "kernelspec": {
   "display_name": "Python 3",
   "language": "python",
   "name": "python3"
  },
  "language_info": {
   "codemirror_mode": {
    "name": "ipython",
    "version": 3
   },
   "file_extension": ".py",
   "mimetype": "text/x-python",
   "name": "python",
   "nbconvert_exporter": "python",
   "pygments_lexer": "ipython3",
   "version": "3.7.3"
  }
 },
 "nbformat": 4,
 "nbformat_minor": 4
}
