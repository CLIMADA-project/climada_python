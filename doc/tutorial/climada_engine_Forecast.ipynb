{
 "cells": [
  {
   "cell_type": "markdown",
   "metadata": {},
   "source": [
    "# Forecast class\n",
    "This class deals with weather forecasts and uses CLIMADA Impact.calc() to forecast impacts of weather events on society. It mainly does one thing:\n",
    "- it contains all plotting and other functionality that are specific for weather forecasts, impact forecasts and warnings\n",
    "\n",
    "The class is different from the Impact class especially because features of the Impact class like Exceedence frequency curves, annual average impact etc, do not make sense if the hazard is e.g. a 5 day weather forecast. As the class is relatively new, there might be future changes to the datastructure, the methods, and the parameters used to call the methods."
   ]
  },
  {
   "cell_type": "markdown",
   "metadata": {},
   "source": [
    "## Example: forecast of building damages due to wind in Switzerland\n",
    "Before using the forecast class, hazard, exposure and vulnerability need to be created. The hazard looks at the weather forecast from today for an event with two days lead time (meaning the day after tomorrow). generate_WS_forecast_hazard is used to download a current weather forecast for wind gust from opendata.dwd.de. An Impact funtion for building damages due to storms is created. And with only a few lines of code, a LitPop exposure for Switzerland is generated,  and the impact is calculated with a default impact function. With a further line of code, the mean damage per grid point for the day after tomorrow is plotted on a map."
   ]
  },
  {
   "cell_type": "code",
   "execution_count": null,
   "metadata": {},
   "outputs": [],
   "source": [
    "from datetime import datetime\n",
    "from cartopy import crs as ccrs\n",
    "\n",
    "from climada.util.config import CONFIG\n",
    "from climada.engine.forecast import Forecast\n",
    "from climada.hazard.storm_europe import StormEurope, generate_WS_forecast_hazard\n",
    "from climada.entity.impact_funcs.storm_europe import ImpfStormEurope\n",
    "from climada.entity import ImpactFuncSet\n",
    "from climada.entity.exposures.litpop import LitPop"
   ]
  },
  {
   "cell_type": "code",
   "execution_count": null,
   "metadata": {},
   "outputs": [],
   "source": [
    "#generate hazard\n",
    "hazard, haz_model, run_datetime, event_date = generate_WS_forecast_hazard()\n",
    "# #generate hazard with with forecasts from past dates (works only if the files have already been downloaded)\n",
    "# hazard, haz_model, run_datetime, event_date = generate_WS_forecast_hazard(\n",
    "#     run_datetime=datetime(2021,3,7),\n",
    "#     event_date=datetime(2021,3,11)) "
   ]
  },
  {
   "cell_type": "code",
   "execution_count": null,
   "metadata": {},
   "outputs": [],
   "source": [
    "#generate vulnerability\n",
    "impact_function = ImpfStormEurope()\n",
    "impact_function.set_welker()\n",
    "impact_function_set = ImpactFuncSet()\n",
    "impact_function_set.append(impact_function)"
   ]
  },
  {
   "cell_type": "code",
   "execution_count": null,
   "metadata": {},
   "outputs": [],
   "source": [
    "#generate exposure and save to file\n",
    "filename_exp = CONFIG.local_data.save_dir.dir() / ('exp_' + \n",
    "                                               'litpop' +\n",
    "                                               '_' +\n",
    "                                               'Switzerland' +\n",
    "                                               '.hdf5')\n",
    "if filename_exp.exists():\n",
    "    exposure = LitPop()\n",
    "    exposure.read_hdf5(filename_exp)\n",
    "else:\n",
    "    exposure = LitPop()\n",
    "    exposure.set_country('Switzerland', reference_year=2020)\n",
    "    exposure.write_hdf5(filename_exp)"
   ]
  },
  {
   "cell_type": "code",
   "execution_count": null,
   "metadata": {},
   "outputs": [],
   "source": [
    "#create and calculate Forecast\n",
    "CH_WS_forecast = Forecast({run_datetime: hazard}, exposure, impact_function_set)\n",
    "CH_WS_forecast.calc()"
   ]
  },
  {
   "cell_type": "code",
   "execution_count": null,
   "metadata": {},
   "outputs": [],
   "source": [
    "CH_WS_forecast.plot_imp_map(save_fig=False,close_fig=False,proj=ccrs.epsg(2056))"
   ]
  },
  {
   "cell_type": "markdown",
   "metadata": {},
   "source": [
    "Here you see a different plot highlighting the spread of the impact forecast calculated from the different ensemble members of the weather forecast."
   ]
  },
  {
   "cell_type": "code",
   "execution_count": null,
   "metadata": {},
   "outputs": [],
   "source": [
    "CH_WS_forecast.plot_hist(save_fig=False,close_fig=False)"
   ]
  },
  {
   "cell_type": "markdown",
   "metadata": {},
   "source": [
    "It is possible to color the pixels depending on the probability that a certain threshold of impact is reach at a certain grid point"
   ]
  },
  {
   "cell_type": "code",
   "execution_count": null,
   "metadata": {},
   "outputs": [],
   "source": [
    "CH_WS_forecast.plot_exceedence_prob(threshold=5000, save_fig=False, close_fig=False,proj=ccrs.epsg(2056))"
   ]
  },
  {
   "cell_type": "markdown",
   "metadata": {},
   "source": [
    "It is possible to color the cantons of Switzerland with warning colors, based on aggregated forecasted impacts in their area."
   ]
  },
  {
   "cell_type": "code",
   "execution_count": null,
   "metadata": {},
   "outputs": [],
   "source": [
    "import fiona\n",
    "from cartopy.io import shapereader\n",
    "from climada.util.config import CONFIG\n",
    "\n",
    "\n",
    "#create a file containing the polygons of Swiss cantons using natural earth\n",
    "cantons_file = CONFIG.local_data.save_dir.dir() / 'cantons.shp'\n",
    "adm1_shape_file = shapereader.natural_earth(resolution='10m',\n",
    "                                      category='cultural',\n",
    "                                      name='admin_1_states_provinces')\n",
    "if not cantons_file.exists():\n",
    "    with fiona.open(adm1_shape_file, 'r') as source:\n",
    "        with fiona.open(\n",
    "                cantons_file, 'w',\n",
    "                **source.meta) as sink:\n",
    "\n",
    "            for f in source:\n",
    "                if f['properties']['adm0_a3'] == 'CHE':\n",
    "                    sink.write(f)\n",
    "CH_WS_forecast.plot_warn_map(str(cantons_file),\n",
    "                             decision_level = 'polygon',\n",
    "                             thresholds=[100000,500000,\n",
    "                                         1000000,5000000],\n",
    "                             probability_aggregation='mean',\n",
    "                             area_aggregation='sum',\n",
    "                             title=\"Building damage warning\",\n",
    "                             explain_text=\"warn level based on aggregated damages\",\n",
    "                             save_fig=False,\n",
    "                             close_fig=False,\n",
    "                             proj=ccrs.epsg(2056))"
   ]
  },
  {
   "cell_type": "markdown",
   "metadata": {},
   "source": [
    "## Example 2: forecast of wind warnings in Switzerland\n",
    "Instead of a fully fledged socio-economic impact of storms, one can also simplify the hazard, exposure, vulnerability model, by looking at a \"neutral\" exposure (=1 at every gridpoint) and using a step function as impact function to arrive at warn levels. It also shows how the attributes hazard, exposure or vulnerability can be set before calling calc(), and are then considered in the forecast instead of the defined defaults."
   ]
  },
  {
   "cell_type": "code",
   "execution_count": null,
   "metadata": {},
   "outputs": [],
   "source": [
    "from pandas import DataFrame\n",
    "import numpy as np\n",
    "from climada.entity.exposures import Exposures\n",
    "from climada.entity.impact_funcs import ImpactFunc, ImpactFuncSet\n",
    "import climada.util.plot as u_plot\n",
    "\n",
    "### generate exposure\n",
    "# find out which hazard coord to consider\n",
    "CHE_borders = u_plot._get_borders(np.stack([exposure.gdf.latitude.values,\n",
    "                                            exposure.gdf.longitude.values],\n",
    "                                           axis=1)\n",
    "                                 )\n",
    "centroid_selection = np.logical_and(np.logical_and(hazard.centroids.lat >= CHE_borders[2],\n",
    "                                                   hazard.centroids.lat <= CHE_borders[3]),\n",
    "                                    np.logical_and(hazard.centroids.lon >= CHE_borders[0],\n",
    "                                                   hazard.centroids.lon <= CHE_borders[1])\n",
    "                                   )\n",
    "# Fill DataFrame with values for a \"neutral\" exposure (value = 1)\n",
    "\n",
    "exp_df = DataFrame()\n",
    "exp_df['value'] = np.ones_like(hazard.centroids.lat[centroid_selection]) # provide value\n",
    "exp_df['latitude'] = hazard.centroids.lat[centroid_selection]\n",
    "exp_df['longitude'] = hazard.centroids.lon[centroid_selection]\n",
    "exp_df['impf_WS'] = np.ones_like(hazard.centroids.lat[centroid_selection], int)\n",
    "# Generate Exposures\n",
    "exp = Exposures(exp_df)\n",
    "exp.check()\n",
    "exp.value_unit = 'warn_level'\n",
    "\n",
    "### generate impact functions\n",
    "## impact functions for hazard based warnings\n",
    "imp_fun_low = ImpactFunc() \n",
    "imp_fun_low.haz_type = 'WS'\n",
    "imp_fun_low.id = 1\n",
    "imp_fun_low.name = 'warn_level_low_elevation'\n",
    "imp_fun_low.intensity_unit = 'm/s'\n",
    "imp_fun_low.intensity = np.array([0.0, 19.439, \n",
    "                                  19.44, 24.999, \n",
    "                                  25.0, 30.549, \n",
    "                                  30.55, 38.879, \n",
    "                                  38.88, 100.0])\n",
    "imp_fun_low.mdd = np.array([1.0, 1.0, \n",
    "                            2.0, 2.0, \n",
    "                            3.0, 3.0, \n",
    "                            4.0, 4.0, \n",
    "                            5.0, 5.0])\n",
    "imp_fun_low.paa = np.ones_like(imp_fun_low.mdd)\n",
    "imp_fun_low.check()\n",
    "# fill ImpactFuncSet\n",
    "impf_set = ImpactFuncSet()\n",
    "impf_set.append(imp_fun_low)"
   ]
  },
  {
   "cell_type": "code",
   "execution_count": null,
   "metadata": {},
   "outputs": [],
   "source": [
    "#create and calculate Forecast\n",
    "warn_forecast = Forecast({run_datetime: hazard}, exp, impf_set)\n",
    "warn_forecast.calc()"
   ]
  },
  {
   "cell_type": "markdown",
   "metadata": {},
   "source": [
    "The each grid point now has a warnlevel between 1-5 assigned for each event. Now the  cantons can be colored based on a threshold on a grid point level. for each warning level it is assessed if 50% of grid points in the area of a canton has at least a 50% probability of reaching the specified threshold."
   ]
  },
  {
   "cell_type": "code",
   "execution_count": null,
   "metadata": {},
   "outputs": [],
   "source": [
    "warn_forecast.plot_warn_map(cantons_file,\n",
    "                            thresholds=[2,3,4,5],\n",
    "                            decision_level = 'exposure_point',\n",
    "                            probability_aggregation=0.5,\n",
    "                            area_aggregation=0.5,\n",
    "                            title=\"DWD ICON METEOROLOGICAL WARNING\",\n",
    "                            explain_text=\"warn level based on wind gust thresholds\",\n",
    "                            save_fig=False,\n",
    "                            close_fig=False,\n",
    "                            proj=ccrs.epsg(2056))"
   ]
  },
  {
   "cell_type": "markdown",
   "metadata": {},
   "source": [
    "## Example: Tropical Cylcone\n",
    "It would be nice to add an example using the tropical cyclone forecasts from the class TCForecast. This has not yet been done."
   ]
  },
  {
   "cell_type": "code",
   "execution_count": null,
   "metadata": {},
   "outputs": [],
   "source": []
  },
  {
   "cell_type": "code",
   "execution_count": null,
   "metadata": {},
   "outputs": [],
   "source": []
  }
 ],
 "metadata": {
  "kernelspec": {
   "display_name": "Python 3",
   "language": "python",
   "name": "python3"
  },
  "language_info": {
   "codemirror_mode": {
    "name": "ipython",
    "version": 3
   },
   "file_extension": ".py",
   "mimetype": "text/x-python",
   "name": "python",
   "nbconvert_exporter": "python",
   "pygments_lexer": "ipython3",
   "version": "3.8.8"
  }
 },
 "nbformat": 4,
 "nbformat_minor": 4
}
