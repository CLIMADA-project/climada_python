{
 "cells": [
  {
   "cell_type": "markdown",
   "metadata": {},
   "source": [
    "# Cost benefit refactoring"
   ]
  },
  {
   "cell_type": "code",
   "execution_count": 390,
   "metadata": {},
   "outputs": [],
   "source": [
    "import numpy as np\n",
    "\n",
    "from climada.util.api_client import Client\n",
    "from climada.entity import ImpactFunc\n",
    "\n",
    "from climada.entity import LitPop\n",
    "\n",
    "import copy\n",
    "client = Client()\n"
   ]
  },
  {
   "cell_type": "code",
   "execution_count": 391,
   "metadata": {},
   "outputs": [],
   "source": [
    "# Parameters\n",
    "ctr_str = 'DEU'\n",
    "\n",
    "# Years to be considered\n",
    "years = [2000, 2020, 2050]"
   ]
  },
  {
   "cell_type": "markdown",
   "metadata": {},
   "source": [
    "## Create the snapshots - Exposure, Hazard sets, Impact Functions"
   ]
  },
  {
   "cell_type": "markdown",
   "metadata": {},
   "source": [
    "## Exposure"
   ]
  },
  {
   "cell_type": "markdown",
   "metadata": {},
   "source": [
    "### Define the Group"
   ]
  },
  {
   "cell_type": "code",
   "execution_count": 400,
   "metadata": {},
   "outputs": [],
   "source": [
    "group_gdf_col_str = 'region_id' # The column name of the group in the gdf, Default is 'region_id'"
   ]
  },
  {
   "cell_type": "code",
   "execution_count": 409,
   "metadata": {},
   "outputs": [
    {
     "name": "stdout",
     "output_type": "stream",
     "text": [
      "2024-05-29 09:11:36,730 - climada.entity.exposures.litpop.litpop - INFO - \n",
      " LitPop: Init Exposure for country: DEU (276)...\n",
      "\n",
      "2024-05-29 09:11:36,741 - climada.entity.exposures.litpop.gpw_population - INFO - GPW Version v4.11\n",
      "2024-05-29 09:11:36,751 - climada.entity.exposures.litpop.gpw_population - INFO - GPW Version v4.11\n",
      "2024-05-29 09:11:36,761 - climada.entity.exposures.litpop.gpw_population - INFO - GPW Version v4.11\n",
      "2024-05-29 09:11:36,770 - climada.entity.exposures.litpop.gpw_population - INFO - GPW Version v4.11\n",
      "2024-05-29 09:11:36,780 - climada.entity.exposures.litpop.gpw_population - INFO - GPW Version v4.11\n",
      "2024-05-29 09:11:36,789 - climada.entity.exposures.litpop.gpw_population - INFO - GPW Version v4.11\n",
      "2024-05-29 09:11:36,799 - climada.entity.exposures.litpop.gpw_population - INFO - GPW Version v4.11\n",
      "2024-05-29 09:11:36,808 - climada.entity.exposures.litpop.gpw_population - INFO - GPW Version v4.11\n",
      "2024-05-29 09:11:36,817 - climada.entity.exposures.litpop.gpw_population - INFO - GPW Version v4.11\n",
      "2024-05-29 09:11:36,825 - climada.entity.exposures.litpop.gpw_population - INFO - GPW Version v4.11\n",
      "2024-05-29 09:11:36,837 - climada.entity.exposures.litpop.gpw_population - INFO - GPW Version v4.11\n",
      "2024-05-29 09:11:37,889 - climada.entity.exposures.litpop.gpw_population - INFO - GPW Version v4.11\n",
      "2024-05-29 09:11:37,919 - climada.entity.exposures.litpop.gpw_population - INFO - GPW Version v4.11\n",
      "2024-05-29 09:11:37,958 - climada.entity.exposures.litpop.gpw_population - INFO - GPW Version v4.11\n",
      "2024-05-29 09:11:37,983 - climada.entity.exposures.litpop.gpw_population - INFO - GPW Version v4.11\n",
      "2024-05-29 09:11:38,024 - climada.entity.exposures.litpop.gpw_population - INFO - GPW Version v4.11\n",
      "2024-05-29 09:11:38,051 - climada.entity.exposures.litpop.gpw_population - INFO - GPW Version v4.11\n",
      "2024-05-29 09:11:38,077 - climada.entity.exposures.litpop.gpw_population - INFO - GPW Version v4.11\n",
      "2024-05-29 09:11:38,102 - climada.entity.exposures.litpop.gpw_population - INFO - GPW Version v4.11\n",
      "2024-05-29 09:11:38,128 - climada.entity.exposures.litpop.gpw_population - INFO - GPW Version v4.11\n",
      "2024-05-29 09:11:38,153 - climada.entity.exposures.litpop.gpw_population - INFO - GPW Version v4.11\n",
      "2024-05-29 09:11:38,339 - climada.entity.exposures.base - INFO - Hazard type not set in impf_\n",
      "2024-05-29 09:11:38,340 - climada.entity.exposures.base - INFO - category_id not set.\n",
      "2024-05-29 09:11:38,340 - climada.entity.exposures.base - INFO - cover not set.\n",
      "2024-05-29 09:11:38,340 - climada.entity.exposures.base - INFO - deductible not set.\n",
      "2024-05-29 09:11:38,341 - climada.entity.exposures.base - INFO - centr_ not set.\n"
     ]
    }
   ],
   "source": [
    "exp_hist = LitPop().from_countries(countries=ctr_str, reference_year=years[0])\n",
    "\n",
    "# Assign random Group_id of 3 possible to the gdf\n",
    "group_id_arr = np.random.randint(0, 3, exp_hist.gdf.shape[0])\n",
    "exp_hist.gdf[group_gdf_col_str] = group_id_arr"
   ]
  },
  {
   "cell_type": "code",
   "execution_count": 412,
   "metadata": {},
   "outputs": [],
   "source": [
    "unique_groups = np.unique(region_id_arr)\n",
    "# Get indeices of each region_id in the region_id_arr array\n",
    "group_map_exp_dict = {i: list(np.where(group_id_arr == i)[0]) for i in unique_groups}"
   ]
  },
  {
   "cell_type": "code",
   "execution_count": 329,
   "metadata": {},
   "outputs": [
    {
     "name": "stdout",
     "output_type": "stream",
     "text": [
      "2024-05-28 19:18:34,232 - climada.entity.exposures.litpop.litpop - INFO - \n",
      " LitPop: Init Exposure for country: DEU (276)...\n",
      "\n",
      "2024-05-28 19:18:34,243 - climada.entity.exposures.litpop.gpw_population - INFO - GPW Version v4.11\n",
      "2024-05-28 19:18:34,252 - climada.entity.exposures.litpop.gpw_population - INFO - GPW Version v4.11\n",
      "2024-05-28 19:18:34,261 - climada.entity.exposures.litpop.gpw_population - INFO - GPW Version v4.11\n",
      "2024-05-28 19:18:34,270 - climada.entity.exposures.litpop.gpw_population - INFO - GPW Version v4.11\n",
      "2024-05-28 19:18:34,279 - climada.entity.exposures.litpop.gpw_population - INFO - GPW Version v4.11\n",
      "2024-05-28 19:18:34,287 - climada.entity.exposures.litpop.gpw_population - INFO - GPW Version v4.11\n",
      "2024-05-28 19:18:34,297 - climada.entity.exposures.litpop.gpw_population - INFO - GPW Version v4.11\n",
      "2024-05-28 19:18:34,305 - climada.entity.exposures.litpop.gpw_population - INFO - GPW Version v4.11\n",
      "2024-05-28 19:18:34,314 - climada.entity.exposures.litpop.gpw_population - INFO - GPW Version v4.11\n",
      "2024-05-28 19:18:34,321 - climada.entity.exposures.litpop.gpw_population - INFO - GPW Version v4.11\n",
      "2024-05-28 19:18:34,333 - climada.entity.exposures.litpop.gpw_population - INFO - GPW Version v4.11\n",
      "2024-05-28 19:18:35,343 - climada.entity.exposures.litpop.gpw_population - INFO - GPW Version v4.11\n",
      "2024-05-28 19:18:35,371 - climada.entity.exposures.litpop.gpw_population - INFO - GPW Version v4.11\n",
      "2024-05-28 19:18:35,406 - climada.entity.exposures.litpop.gpw_population - INFO - GPW Version v4.11\n",
      "2024-05-28 19:18:35,431 - climada.entity.exposures.litpop.gpw_population - INFO - GPW Version v4.11\n",
      "2024-05-28 19:18:35,471 - climada.entity.exposures.litpop.gpw_population - INFO - GPW Version v4.11\n",
      "2024-05-28 19:18:35,497 - climada.entity.exposures.litpop.gpw_population - INFO - GPW Version v4.11\n",
      "2024-05-28 19:18:35,521 - climada.entity.exposures.litpop.gpw_population - INFO - GPW Version v4.11\n",
      "2024-05-28 19:18:35,545 - climada.entity.exposures.litpop.gpw_population - INFO - GPW Version v4.11\n",
      "2024-05-28 19:18:35,570 - climada.entity.exposures.litpop.gpw_population - INFO - GPW Version v4.11\n",
      "2024-05-28 19:18:35,594 - climada.entity.exposures.litpop.gpw_population - INFO - GPW Version v4.11\n",
      "2024-05-28 19:18:35,850 - climada.util.finance - INFO - GDP DEU 2014: 3.889e+12.\n",
      "2024-05-28 19:18:36,089 - climada.util.finance - INFO - GDP DEU 2020: 3.888e+12.\n",
      "2024-05-28 19:18:36,259 - climada.entity.exposures.base - INFO - Hazard type not set in impf_\n",
      "2024-05-28 19:18:36,260 - climada.entity.exposures.base - INFO - category_id not set.\n",
      "2024-05-28 19:18:36,260 - climada.entity.exposures.base - INFO - cover not set.\n",
      "2024-05-28 19:18:36,260 - climada.entity.exposures.base - INFO - deductible not set.\n",
      "2024-05-28 19:18:36,261 - climada.entity.exposures.base - INFO - centr_ not set.\n"
     ]
    }
   ],
   "source": [
    "# Present\n",
    "exp_pres = LitPop().from_countries(countries=ctr_str, reference_year=years[1])\n",
    "# Assign the region_ids\n",
    "exp_pres.gdf[group_gdf_col_str= regroup_id_arroup_col_str"
   ]
  },
  {
   "cell_type": "code",
   "execution_count": 330,
   "metadata": {},
   "outputs": [],
   "source": [
    "# Future\n",
    "exp_fut =copy.deepcopy(exp_pres)\n",
    "# Exponential growth\n",
    "exp_growth_rate = 0.01\n",
    "exp_fut.gdf.value = exp_fut.gdf.value * (1 + exp_growth_rate)**(years[2] - years[1])\n",
    "# Assign the region_ids\n",
    "exp_fut.gdf[group_gdf_col_str= regroup_id_arroup_col_str"
   ]
  },
  {
   "cell_type": "markdown",
   "metadata": {},
   "source": [
    "## Hazard sets"
   ]
  },
  {
   "cell_type": "code",
   "execution_count": null,
   "metadata": {},
   "outputs": [
    {
     "name": "stdout",
     "output_type": "stream",
     "text": [
      "2024-05-28 15:34:18,849 - climada.hazard.io - INFO - Reading /Users/ckropf/climada/data/hazard/river_flood/river_flood_150arcsec_hist_DEU_1980_2000/v2/river_flood_150arcsec_hist_DEU_1980_2000.hdf5\n"
     ]
    }
   ],
   "source": [
    "haz_fl_1980 = client.get_hazard(\n",
    "    hazard_type='river_flood',\n",
    "    properties={\n",
    "        'climate_scenario' : 'historical',\n",
    "        'year_range': '1980_2000',\n",
    "        'country_iso3alpha': 'DEU'\n",
    "    })"
   ]
  },
  {
   "cell_type": "code",
   "execution_count": null,
   "metadata": {},
   "outputs": [
    {
     "name": "stdout",
     "output_type": "stream",
     "text": [
      "2024-05-28 15:34:34,740 - climada.hazard.io - INFO - Reading /Users/ckropf/climada/data/hazard/river_flood/river_flood_150arcsec_rcp85_DEU_2010_2030/v3/river_flood_150arcsec_rcp85_DEU_2010_2030.hdf5\n"
     ]
    }
   ],
   "source": [
    "haz_fl_2010 = client.get_hazard(\n",
    "    hazard_type='river_flood',\n",
    "    properties={\n",
    "        'climate_scenario' : 'rcp85',\n",
    "        'year_range': '2010_2030',\n",
    "        'country_iso3alpha': 'DEU'\n",
    "    })"
   ]
  },
  {
   "cell_type": "code",
   "execution_count": null,
   "metadata": {},
   "outputs": [
    {
     "name": "stdout",
     "output_type": "stream",
     "text": [
      "2024-05-28 15:34:50,751 - climada.hazard.io - INFO - Reading /Users/ckropf/climada/data/hazard/river_flood/river_flood_150arcsec_rcp85_DEU_2030_2050/v3/river_flood_150arcsec_rcp85_DEU_2030_2050.hdf5\n"
     ]
    }
   ],
   "source": [
    "haz_fl_2030 = client.get_hazard(\n",
    "    hazard_type='river_flood',\n",
    "    properties={\n",
    "        'climate_scenario' : 'rcp85',\n",
    "        'year_range': '2030_2050',\n",
    "        'country_iso3alpha': 'DEU'\n",
    "    })"
   ]
  },
  {
   "cell_type": "markdown",
   "metadata": {},
   "source": [
    "### Impact Functions"
   ]
  },
  {
   "cell_type": "code",
   "execution_count": null,
   "metadata": {},
   "outputs": [],
   "source": [
    "from climada_petals.entity.impact_funcs.river_flood import ImpfRiverFlood, flood_imp_func_set\n",
    "from climada.entity import ImpactFunc, ImpactFuncSet\n",
    "\n",
    "impf_set_flood = flood_imp_func_set()\n",
    "\n",
    "impf_1 = impf_set_flood.get_func(fun_id=1, haz_type='RF')\n",
    "impf_2 = impf_set_flood.get_func(fun_id=2, haz_type='RF')\n",
    "impfset = ImpactFuncSet([impf_1, impf_2])"
   ]
  },
  {
   "cell_type": "code",
   "execution_count": null,
   "metadata": {},
   "outputs": [],
   "source": [
    "def assign_impfid(exp_hist, exp_pres, exp_fut, case='single'):\n",
    "    if case=='single':\n",
    "        exp_hist.gdf['impf_RF'] = 1\n",
    "        exp_pres.gdf['impf_RF'] = 1\n",
    "        exp_fut.gdf['impf_RF'] = 1\n",
    "    if case=='multiple_spatial':\n",
    "        exp_hist.gdf.loc[:len(exp_hist.gdf/2),'impf_RF'] = 1\n",
    "        exp_pres.gdf[:len(exp_pres.gdf/2),'impf_RF'] = 1\n",
    "        exp_fut.gdf[:len(exp_fut.gdf/2),'impf_RF'] = 1\n",
    "        exp_hist.gdf.loc[len(exp_hist.gdf/2):,'impf_RF'] = 2\n",
    "        exp_pres.gdf[len(exp_pres.gdf/2):,'impf_RF'] = 2\n",
    "        exp_fut.gdf[len(exp_fut.gdf/2):,'impf_RF'] = 2\n",
    "    if case=='multiple_temp':\n",
    "        exp_hist.gdf['impf_RF'] = 1\n",
    "        exp_pres.gdf['impf_RF'] = 1\n",
    "        exp_fut.gdf['impf_RF'] = 2\n",
    "    if case == ' multiple':\n",
    "        exp_hist.gdf.loc[:len(exp_hist.gdf/2),'impf_RF'] = 1\n",
    "        exp_pres.gdf[:len(exp_hist.gdf/2),'impf_RF'] = 2\n",
    "        exp_fut.gdf[:len(exp_hist.gdf/2),'impf_RF'] = 1\n",
    "        exp_hist.gdf.loc[len(exp_hist.gdf/2):,'impf_RF'] = 2\n",
    "        exp_pres.gdf[len(exp_hist.gdf/2):,'impf_RF'] = 1\n",
    "        exp_fut.gdf[len(exp_hist.gdf/2):,'impf_RF'] = 2"
   ]
  },
  {
   "cell_type": "markdown",
   "metadata": {},
   "source": [
    "## From impacts to NPV"
   ]
  },
  {
   "cell_type": "markdown",
   "metadata": {},
   "source": [
    "### Timeseries"
   ]
  },
  {
   "cell_type": "code",
   "execution_count": null,
   "metadata": {},
   "outputs": [],
   "source": [
    "from climada.hazard import Hazard\n",
    "\n",
    "haz_series = Hazard.concat([haz_fl_1980, haz_fl_2010, haz_fl_2030])"
   ]
  },
  {
   "cell_type": "code",
   "execution_count": 312,
   "metadata": {},
   "outputs": [
    {
     "name": "stdout",
     "output_type": "stream",
     "text": [
      "Processing year 1980\n"
     ]
    },
    {
     "ename": "TypeError",
     "evalue": "Since CLIMADA 2.0, Exposures objects are not subscriptable. Data fields of Exposures objects are accessed using the `gdf` attribute. For example, `expo['value']` is replaced by `expo.gdf['value']`.",
     "output_type": "error",
     "traceback": [
      "\u001b[0;31m---------------------------------------------------------------------------\u001b[0m",
      "\u001b[0;31mTypeError\u001b[0m                                 Traceback (most recent call last)",
      "Cell \u001b[0;32mIn[312], line 16\u001b[0m\n\u001b[1;32m     14\u001b[0m \u001b[38;5;28;01mfor\u001b[39;00m year \u001b[38;5;129;01min\u001b[39;00m \u001b[38;5;28mrange\u001b[39m(\u001b[38;5;241m1980\u001b[39m,\u001b[38;5;241m2051\u001b[39m,\u001b[38;5;241m1\u001b[39m):\n\u001b[1;32m     15\u001b[0m     \u001b[38;5;28mprint\u001b[39m(\u001b[38;5;124mf\u001b[39m\u001b[38;5;124m\"\u001b[39m\u001b[38;5;124mProcessing year \u001b[39m\u001b[38;5;132;01m{\u001b[39;00myear\u001b[38;5;132;01m}\u001b[39;00m\u001b[38;5;124m\"\u001b[39m)\n\u001b[0;32m---> 16\u001b[0m     exp \u001b[38;5;241m=\u001b[39m \u001b[43mexposures\u001b[49m\u001b[43m[\u001b[49m\u001b[43myear\u001b[49m\u001b[43m]\u001b[49m\u001b[43m[\u001b[49m\u001b[38;5;124;43m\"\u001b[39;49m\u001b[38;5;124;43mexp\u001b[39;49m\u001b[38;5;124;43m\"\u001b[39;49m\u001b[43m]\u001b[49m\n\u001b[1;32m     17\u001b[0m     haz \u001b[38;5;241m=\u001b[39m haz_series\u001b[38;5;241m.\u001b[39mselect([\u001b[38;5;124mf\u001b[39m\u001b[38;5;124m\"\u001b[39m\u001b[38;5;132;01m{\u001b[39;00m\u001b[38;5;28mstr\u001b[39m(year)\u001b[38;5;132;01m}\u001b[39;00m\u001b[38;5;124m-01-01\u001b[39m\u001b[38;5;124m\"\u001b[39m,\u001b[38;5;124mf\u001b[39m\u001b[38;5;124m\"\u001b[39m\u001b[38;5;132;01m{\u001b[39;00m\u001b[38;5;28mstr\u001b[39m(year\u001b[38;5;241m+\u001b[39m\u001b[38;5;241m1\u001b[39m)\u001b[38;5;132;01m}\u001b[39;00m\u001b[38;5;124m-01-01\u001b[39m\u001b[38;5;124m\"\u001b[39m])\n\u001b[1;32m     18\u001b[0m     impact_set[year] \u001b[38;5;241m=\u001b[39m ImpactCalc(exp, impfset, haz)\u001b[38;5;241m.\u001b[39mimpact()\n",
      "File \u001b[0;32m~/Documents/Climada/climada_python/climada/entity/exposures/base.py:219\u001b[0m, in \u001b[0;36mExposures._access_item\u001b[0;34m(self, *args)\u001b[0m\n\u001b[1;32m    218\u001b[0m \u001b[38;5;28;01mdef\u001b[39;00m \u001b[38;5;21m_access_item\u001b[39m(\u001b[38;5;28mself\u001b[39m, \u001b[38;5;241m*\u001b[39margs):\n\u001b[0;32m--> 219\u001b[0m     \u001b[38;5;28;01mraise\u001b[39;00m \u001b[38;5;167;01mTypeError\u001b[39;00m(\u001b[38;5;124m\"\u001b[39m\u001b[38;5;124mSince CLIMADA 2.0, Exposures objects are not subscriptable. Data \u001b[39m\u001b[38;5;124m\"\u001b[39m\n\u001b[1;32m    220\u001b[0m                     \u001b[38;5;124m\"\u001b[39m\u001b[38;5;124mfields of Exposures objects are accessed using the `gdf` attribute. \u001b[39m\u001b[38;5;124m\"\u001b[39m\n\u001b[1;32m    221\u001b[0m                     \u001b[38;5;124m\"\u001b[39m\u001b[38;5;124mFor example, `expo[\u001b[39m\u001b[38;5;124m'\u001b[39m\u001b[38;5;124mvalue\u001b[39m\u001b[38;5;124m'\u001b[39m\u001b[38;5;124m]` is replaced by `expo.gdf[\u001b[39m\u001b[38;5;124m'\u001b[39m\u001b[38;5;124mvalue\u001b[39m\u001b[38;5;124m'\u001b[39m\u001b[38;5;124m]`.\u001b[39m\u001b[38;5;124m\"\u001b[39m)\n",
      "\u001b[0;31mTypeError\u001b[0m: Since CLIMADA 2.0, Exposures objects are not subscriptable. Data fields of Exposures objects are accessed using the `gdf` attribute. For example, `expo['value']` is replaced by `expo.gdf['value']`."
     ]
    }
   ],
   "source": [
    "impact_set = {}\n",
    "exposures = {}\n",
    "\n",
    "assign_impfid(exp_hist, exp_pres, exp_fut, case='single')\n",
    "\n",
    "for year in range(1980,2051,1):\n",
    "    if year <= 2010:\n",
    "        exposures[year] = exp_hist\n",
    "    if year <= 2030:\n",
    "        exposures[year] = exp_pres\n",
    "    if year > 2030:\n",
    "        exposures[year] = exp_fut\n",
    "\n",
    "for year in range(1980,2051,1):\n",
    "    print(f\"Processing year {year}\")\n",
    "    exp = exposures[year][\"exp\"]\n",
    "    haz = haz_series.select([f\"{str(year)}-01-01\",f\"{str(year+1)}-01-01\"])\n",
    "    impact_set[year] = ImpactCalc(exp, impfset, haz).impact()"
   ]
  },
  {
   "cell_type": "code",
   "execution_count": 313,
   "metadata": {},
   "outputs": [],
   "source": [
    "# a bit more complicated, do it user\n",
    "def exposures_merger(exp_list):\n",
    "    gdf_0 = exp_list[0].gdf[['geometry', 'value']]\n",
    "    for n, exp in enumerate(exp_list[1:]):\n",
    "        print(n)\n",
    "        gdf_0 = gdf_0.sjoin(exp.gdf[['geometry', 'value']], rsuffix=f'{n}')\n",
    "    return gdf_0"
   ]
  },
  {
   "cell_type": "markdown",
   "metadata": {},
   "source": [
    "### Snapshots "
   ]
  },
  {
   "cell_type": "code",
   "execution_count": 314,
   "metadata": {},
   "outputs": [],
   "source": [
    "assign_impfid(exp_hist, exp_pres, exp_fut, case='single')\n",
    "snapshots = {\n",
    "    years[0] : [exp_hist, impfset, haz_fl_1980],\n",
    "    years[1] : [exp_pres, impfset, haz_fl_2010],\n",
    "    years[2] : [exp_fut, impfset, haz_fl_2030]\n",
    "}"
   ]
  },
  {
   "cell_type": "markdown",
   "metadata": {},
   "source": [
    "#### Calculate necessary risk metrics – yearly aai, rp, eai "
   ]
  },
  {
   "cell_type": "code",
   "execution_count": 315,
   "metadata": {},
   "outputs": [],
   "source": [
    "from climada.engine import Impact, ImpactCalc"
   ]
  },
  {
   "cell_type": "code",
   "execution_count": 316,
   "metadata": {},
   "outputs": [
    {
     "name": "stdout",
     "output_type": "stream",
     "text": [
      "2024-05-28 19:11:13,970 - climada.entity.exposures.base - INFO - Exposures matching centroids already found for RF\n",
      "2024-05-28 19:11:13,971 - climada.entity.exposures.base - INFO - Existing centroids will be overwritten for RF\n",
      "2024-05-28 19:11:13,971 - climada.entity.exposures.base - INFO - Matching 661396 exposures with 26472 centroids.\n",
      "2024-05-28 19:11:13,981 - climada.util.coordinates - INFO - No exact centroid match found. Reprojecting coordinates to nearest neighbor closer than the threshold = 100\n",
      "2024-05-28 19:11:14,666 - climada.engine.impact_calc - INFO - Calculating impact for 1969149 assets (>0) and 920 events.\n",
      "2024-05-28 19:11:14,792 - climada.entity.exposures.base - INFO - Matching 661396 exposures with 26472 centroids.\n",
      "2024-05-28 19:11:14,798 - climada.util.coordinates - INFO - No exact centroid match found. Reprojecting coordinates to nearest neighbor closer than the threshold = 100\n",
      "2024-05-28 19:11:15,474 - climada.engine.impact_calc - INFO - Calculating impact for 1969149 assets (>0) and 480 events.\n",
      "2024-05-28 19:11:15,621 - climada.entity.exposures.base - INFO - Matching 661396 exposures with 26472 centroids.\n",
      "2024-05-28 19:11:15,628 - climada.util.coordinates - INFO - No exact centroid match found. Reprojecting coordinates to nearest neighbor closer than the threshold = 100\n",
      "2024-05-28 19:11:16,305 - climada.engine.impact_calc - INFO - Calculating impact for 1969149 assets (>0) and 480 events.\n"
     ]
    }
   ],
   "source": [
    "impact_snapshots = {}\n",
    "for year, [exp, impf, haz] in snapshots.items():\n",
    "    impact_snapshots[year] = ImpactCalc(exp, impf, haz).impact()"
   ]
  },
  {
   "cell_type": "markdown",
   "metadata": {},
   "source": [
    "### Calculate the expect annual impact between snapshots 2000 and 2020 "
   ]
  },
  {
   "cell_type": "code",
   "execution_count": 317,
   "metadata": {},
   "outputs": [
    {
     "name": "stdout",
     "output_type": "stream",
     "text": [
      "2024-05-28 19:11:17,254 - climada.entity.exposures.base - INFO - Exposures matching centroids already found for RF\n",
      "2024-05-28 19:11:17,254 - climada.entity.exposures.base - INFO - Existing centroids will be overwritten for RF\n",
      "2024-05-28 19:11:17,255 - climada.entity.exposures.base - INFO - Matching 661396 exposures with 26472 centroids.\n",
      "2024-05-28 19:11:17,262 - climada.util.coordinates - INFO - No exact centroid match found. Reprojecting coordinates to nearest neighbor closer than the threshold = 100\n",
      "2024-05-28 19:11:17,942 - climada.engine.impact_calc - INFO - Calculating impact for 1969149 assets (>0) and 920 events.\n",
      "2024-05-28 19:11:18,066 - climada.entity.exposures.base - INFO - Exposures matching centroids already found for RF\n",
      "2024-05-28 19:11:18,067 - climada.entity.exposures.base - INFO - Existing centroids will be overwritten for RF\n",
      "2024-05-28 19:11:18,067 - climada.entity.exposures.base - INFO - Matching 661396 exposures with 26472 centroids.\n",
      "2024-05-28 19:11:18,074 - climada.util.coordinates - INFO - No exact centroid match found. Reprojecting coordinates to nearest neighbor closer than the threshold = 100\n",
      "2024-05-28 19:11:18,756 - climada.engine.impact_calc - INFO - Calculating impact for 1969149 assets (>0) and 920 events.\n",
      "2024-05-28 19:11:18,881 - climada.entity.exposures.base - INFO - Exposures matching centroids already found for RF\n",
      "2024-05-28 19:11:18,881 - climada.entity.exposures.base - INFO - Existing centroids will be overwritten for RF\n",
      "2024-05-28 19:11:18,882 - climada.entity.exposures.base - INFO - Matching 661396 exposures with 26472 centroids.\n",
      "2024-05-28 19:11:18,888 - climada.util.coordinates - INFO - No exact centroid match found. Reprojecting coordinates to nearest neighbor closer than the threshold = 100\n",
      "2024-05-28 19:11:19,568 - climada.engine.impact_calc - INFO - Calculating impact for 1969149 assets (>0) and 480 events.\n",
      "2024-05-28 19:11:19,714 - climada.entity.exposures.base - INFO - Exposures matching centroids already found for RF\n",
      "2024-05-28 19:11:19,714 - climada.entity.exposures.base - INFO - Existing centroids will be overwritten for RF\n",
      "2024-05-28 19:11:19,714 - climada.entity.exposures.base - INFO - Matching 661396 exposures with 26472 centroids.\n",
      "2024-05-28 19:11:19,721 - climada.util.coordinates - INFO - No exact centroid match found. Reprojecting coordinates to nearest neighbor closer than the threshold = 100\n",
      "2024-05-28 19:11:20,398 - climada.engine.impact_calc - INFO - Calculating impact for 1969149 assets (>0) and 480 events.\n"
     ]
    }
   ],
   "source": [
    "from scipy.sparse import lil_matrix\n",
    "\n",
    "def interpolate_sm(mat_start, mat_end, year, year_start, year_end):\n",
    "    if year < year_start or year > year_end:\n",
    "        raise ValueError(\"Year must be within the start and end years\")\n",
    "\n",
    "    # Calculate the ratio of the difference between the target year and the start year\n",
    "    # to the total number of years between the start and end years\n",
    "    ratio = (year - year_start) / (year_end - year_start)\n",
    "\n",
    "    # Convert the input matrices to a format that allows efficient modification of its elements\n",
    "    mat_start = lil_matrix(mat_start)\n",
    "    mat_end = lil_matrix(mat_end)\n",
    "\n",
    "    # Perform the linear interpolation\n",
    "    mat_interpolated = mat_start + ratio * (mat_end - mat_start)\n",
    "\n",
    "    return mat_interpolated\n",
    "\n",
    "# Derive the intermediate propability distributions\n",
    "def interpolate_years(year_start, year_end):\n",
    "    # Generate an array of interpolated values between 0 and 1\n",
    "    values = np.linspace(0, 1, num=year_end-year_start+1)\n",
    "    return values\n",
    "\n",
    "# Derive the intermediate propability distributions\n",
    "prop_H1 = interpolate_years(years[0], years[1])\n",
    "prop_H0 = 1 - prop_H1\n",
    "\n",
    "# Define the start and end years\n",
    "start_year = years[0]\n",
    "end_year = years[1]\n",
    "\n",
    "# Case 1 - H2000# Impact 1)  Hazard 2000  and Exposure 2000\n",
    "imp_eE0H0=  ImpactCalc(exp_hist, impfset, haz_fl_1980).impact()\n",
    "imp_E1H0 = ImpactCalc(exp_pres, impfset, haz_fl_1980).impact()# Impact 2)  Hazard 2000  and Exposure 2020\n",
    "\n",
    "# Case 2 - H2020\n",
    "# Impact 1)  Hazard 2000  and Exposure 2000\n",
    "imp_E0H1 = ImpactCalc(exp_hist, impfset, haz_fl_2010).impact()\n",
    "imp_E1H1 = ImpactCalc(exp_pres, impfset, haz_fl_2010).impact()\n"
   ]
  },
  {
   "cell_type": "code",
   "execution_count": 352,
   "metadata": {},
   "outputs": [],
   "source": [
    "# Calculate the AAI for each year\n",
    "aai_0 = []\n",
    "eai_exp_0 = []\n",
    "eai_region_id_0 = []\n",
    "frequency = haz_fl_1980.frequency\n",
    "for year in range(start_year, end_year + 1):\n",
    "    imp_mat_intrpl = interpolate_sm(imp_E0H0.imp_mat, imp_E1H0.imp_mat, year, start_year, end_year)\n",
    "    # sum across the rows of the sparse matrix\n",
    "    eai_exp = ImpactCalc.eai_exp_from_mat(imp_mat_intrpl, frequency)\n",
    "    # Region_id (Groups)\n",
    "    eai_region_id = []\n",
    "    for group_id, exp_indices in group_map_exp_dict.items():\n",
    "        eai_region_id.append(np.sum(eai_exp[exp_indices]))\n",
    "    eai_region_id_0.append(eai_region_id)\n",
    "    eai_exp_0.append(eai_exp)\n",
    "    aai_0.append(ImpactCalc.aai_agg_from_eai_exp(eai_exp))\n",
    "\n",
    "# Calculate the AAI for each year\n",
    "aai_1 = []\n",
    "eai_exp_1 = []\n",
    "eai_region_id_1 = []\n",
    "frequency = haz_fl_2010.frequency\n",
    "for year in range(start_year, end_year + 1):\n",
    "    imp_mat_intrpl = interpolate_sm(imp_E0H1.imp_mat, imp_E1H1.imp_mat, year, start_year, end_year)\n",
    "    # sum across the rows of the sparse matrix\n",
    "    eai_exp = ImpactCalc.eai_exp_from_mat(imp_mat_intrpl, frequency)\n",
    "     # Region_id (Groups)\n",
    "    eai_region_id = []\n",
    "    for group_id, exp_indices in group_map_exp_dict.items():\n",
    "        eai_region_id.append(np.sum(eai_exp[exp_indices]))\n",
    "\n",
    "    eai_region_id_1.append(eai_region_id)\n",
    "    eai_exp_1.append(eai_exp)\n",
    "    aai_1.append(ImpactCalc.aai_agg_from_eai_exp(eai_exp))\n",
    "\n",
    "\n",
    "# Average Annual Impact across the years\n",
    "aai = prop_H0 * aai_0 + prop_H1 * aai_1\n",
    "# EAI exp across bthe years\n",
    "eai = np.multiply(prop_H0.reshape(-1,1), eai_exp_0) + np.multiply(prop_H1.reshape(-1,1), eai_exp_1)\n",
    "# EAI region_id across the years\n",
    "eai_region_id = np.multiply(prop_H0.reshape(-1,1), eai_region_id_0) + np.multiply(prop_H1.reshape(-1,1), eai_region_id_1)"
   ]
  },
  {
   "cell_type": "markdown",
   "metadata": {},
   "source": [
    "### Calculate the NPV (between years 2000 to 2020)"
   ]
  },
  {
   "cell_type": "markdown",
   "metadata": {},
   "source": [
    "#### Define the discount rate"
   ]
  },
  {
   "cell_type": "code",
   "execution_count": 413,
   "metadata": {},
   "outputs": [
    {
     "data": {
      "text/plain": [
       "<Axes: title={'center': 'Discount rates'}, xlabel='Year', ylabel='discount rate (%)'>"
      ]
     },
     "execution_count": 413,
     "metadata": {},
     "output_type": "execute_result"
    },
    {
     "data": {
      "image/png": "[encoded data removed]",
      "text/plain": [
       "<Figure size 600x800 with 1 Axes>"
      ]
     },
     "metadata": {},
     "output_type": "display_data"
    }
   ],
   "source": [
    "import numpy as np\n",
    "from climada.entity import DiscRates\n",
    "from climada.util import finance as u_fin\n",
    "\n",
    "# define discount rates\n",
    "path_years = np.arange(years[0], years[1]+1)\n",
    "# INcrease the discount rate to 1.4%\n",
    "rates = np.linspace(0.10, 0.10, path_years.size)\n",
    "disc = DiscRates(years=path_years, rates=rates)\n",
    "disc.plot()"
   ]
  },
  {
   "cell_type": "markdown",
   "metadata": {},
   "source": [
    "#### Calc the NPV"
   ]
  },
  {
   "cell_type": "code",
   "execution_count": 420,
   "metadata": {},
   "outputs": [
    {
     "data": {
      "text/plain": [
       "433868364873.73773"
      ]
     },
     "execution_count": 420,
     "metadata": {},
     "output_type": "execute_result"
    }
   ],
   "source": [
    "u_fin.net_present_value(disc.years, disc.rates, aai)"
   ]
  },
  {
   "cell_type": "code",
   "execution_count": 419,
   "metadata": {},
   "outputs": [
    {
     "name": "stdout",
     "output_type": "stream",
     "text": [
      "Expected NPV: 11907525621945.84\n"
     ]
    }
   ],
   "source": [
    "NPV = np.sum(aai/np.array([(1 + disc.rates)**n for n in range(len(aai))]))\n",
    "print(f\"Expected NPV: {NPV}\")"
   ]
  },
  {
   "cell_type": "code",
   "execution_count": null,
   "metadata": {},
   "outputs": [],
   "source": [
    "import climada.util.coordinates as u_coord\n",
    "\n",
    "def impact_at_reg(eai_exp, agg_regions=None):\n",
    "        \"\"\"Aggregate impact on given aggregation regions. This method works\n",
    "        only if Impact.imp_mat was stored during the impact calculation.\n",
    "\n",
    "        Parameters\n",
    "        ----------\n",
    "        agg_regions : np.array, list (optional)\n",
    "            The length of the array must equal the number of centroids in exposures.\n",
    "            It reports what macro-regions these centroids belong to. For example,\n",
    "            asuming there are three centroids and agg_regions = ['A', 'A', 'B']\n",
    "            then impact of the first and second centroids will be assigned to\n",
    "            region A, whereas impact from the third centroid will be assigned\n",
    "            to area B. If no aggregation regions are passed, the method aggregates\n",
    "            impact at the country (admin_0) level.\n",
    "            Default is None.\n",
    "\n",
    "        Returns\n",
    "        -------\n",
    "        np.array()\n",
    "        \"\"\"\n",
    "        agg_reg_unique = np.unique(agg_regions, return_index=True)\n",
    "\n",
    "        at_reg_event = np.hstack(\n",
    "            [\n",
    "                imp_mat[:, ].sum(1)\n",
    "                for reg in agg_reg_unique\n",
    "            ]\n",
    "        )\n",
    "\n",
    "        return at_reg_event"
   ]
  },
  {
   "cell_type": "code",
   "execution_count": 319,
   "metadata": {},
   "outputs": [],
   "source": [
    "\n",
    "\"\"\"Compute impact exceedance frequency curve.\n",
    "\n",
    "Parameters\n",
    "----------\n",
    "return_per : np.array, optional\n",
    "    return periods where to compute\n",
    "    the exceedance impact. Use impact's frequencies if not provided\n",
    "\n",
    "Returns\n",
    "-------\n",
    "ImpactFreqCurve\n",
    "\"\"\"\n",
    "\n",
    "at_event = np.array([1, 2, 3, 4, 5])\n",
    "frequency = np.array([0.1, 0.1, 0.1, 0.1, 0.1])\n",
    "return_per = np.array([5, 100, 200, 500, 1000, 20000])\n",
    "\n",
    "# Sort descendingly the impacts per events\n",
    "sort_idxs = np.argsort(at_event)[::-1]\n",
    "# Calculate exceedence frequency\n",
    "exceed_freq = np.cumsum(frequency[sort_idxs])\n",
    "# Set return period and impact exceeding frequency\n",
    "ifc_return_per = 1 / exceed_freq[::-1]\n",
    "ifc_impact = at_event[sort_idxs][::-1]\n",
    "\n",
    "interp_imp = np.interp(return_per, ifc_return_per, ifc_impact)\n",
    "ifc_return_per = return_per\n",
    "#percentiles = 1/ifc_return_permultiply the frequency with the impact matrix such that each row is multiplied by the frequency for the respective event\n",
    "\n",
    "# sum across the rows of the sparse matrix\n"
   ]
  },
  {
   "cell_type": "code",
   "execution_count": 320,
   "metadata": {},
   "outputs": [
    {
     "data": {
      "text/plain": [
       "array([4., 5., 5., 5., 5., 5.])"
      ]
     },
     "execution_count": 320,
     "metadata": {},
     "output_type": "execute_result"
    }
   ],
   "source": [
    "interp_imp"
   ]
  },
  {
   "cell_type": "code",
   "execution_count": 321,
   "metadata": {},
   "outputs": [
    {
     "name": "stdout",
     "output_type": "stream",
     "text": [
      "Probabilities: [0.01   0.005  0.002  0.001  0.0005]\n",
      "Values: [2.7 2.7 2.7 2.7 2.7]\n"
     ]
    }
   ],
   "source": [
    "def calculate_return_periods(event_impacts, annual_frequencies, return_periods):\n",
    "    # Calculate annual total impact\n",
    "    annual_total_impact = np.dot(event_impacts, annual_frequencies)\n",
    "\n",
    "    # Define the function to get the percentile for a given return period\n",
    "    def get_percentile(return_period):\n",
    "        return 100 * (1 - 1/return_period)\n",
    "\n",
    "    # Calculate the percentiles and values\n",
    "    percentiles = [get_percentile(rp) for rp in return_periods]\n",
    "    values = np.percentile(annual_total_impact, percentiles)\n",
    "\n",
    "    # Convert percentiles to probabilities (1 - percentile/100)\n",
    "    probabilities = [1 - p/100 for p in percentiles]\n",
    "\n",
    "    return np.array(probabilities), np.array(values)\n",
    "\n",
    "# Example usage\n",
    "event_impacts = np.array([10, 20, 30, 40, 50])\n",
    "annual_frequencies = np.array([0.01, 0.01, 0.01, 0.04, 0.01])\n",
    "return_periods = [100, 200, 500, 1000, 2000]\n",
    "\n",
    "probabilities, values = calculate_return_periods(event_impacts, annual_frequencies, return_periods)\n",
    "print(\"Probabilities:\", probabilities)\n",
    "print(\"Values:\", values)"
   ]
  },
  {
   "cell_type": "code",
   "execution_count": null,
   "metadata": {},
   "outputs": [],
   "source": [
    "impact_snapshots[year]"
   ]
  },
  {
   "cell_type": "code",
   "execution_count": 100,
   "metadata": {},
   "outputs": [],
   "source": [
    "mat0 = impact_snapshots[years[0]].imp_mat\n",
    "mat1 = impact_snapshots[years[1]].imp_mat"
   ]
  },
  {
   "cell_type": "code",
   "execution_count": null,
   "metadata": {},
   "outputs": [],
   "source": [
    "np.interp()"
   ]
  },
  {
   "cell_type": "markdown",
   "metadata": {},
   "source": [
    "## Measures"
   ]
  },
  {
   "cell_type": "code",
   "execution_count": null,
   "metadata": {},
   "outputs": [],
   "source": [
    "from climada.entity import Measure, MeasureSet"
   ]
  },
  {
   "cell_type": "code",
   "execution_count": 347,
   "metadata": {},
   "outputs": [],
   "source": [
    "meas1 = Measure(\n",
    "    name='meas1',\n",
    "    haz_type='RF',\n",
    "    cost=100,\n",
    "    mdd_impact=(0.9,0)\n",
    ")\n",
    "meas1.start = years[0]\n",
    "meas1.end = years[1]"
   ]
  },
  {
   "cell_type": "code",
   "execution_count": 354,
   "metadata": {},
   "outputs": [],
   "source": [
    "meas2 = Measure(\n",
    "    name='meas2',\n",
    "    haz_type='RF',\n",
    "    cost=10000,\n",
    "    hazard_inten_imp=(0.7, 0)\n",
    ")\n",
    "meas2.start = years[0]\n",
    "meas2.end = years[2]"
   ]
  },
  {
   "cell_type": "code",
   "execution_count": 355,
   "metadata": {},
   "outputs": [],
   "source": [
    "meas3 = Measure(\n",
    "    name='meas3',\n",
    "    haz_type='RF',\n",
    "    cost=100,\n",
    "    imp_fun_map='1to2'\n",
    ")\n",
    "meas3.start = years[0] + 5\n",
    "meas3.end = years[1]"
   ]
  },
  {
   "cell_type": "code",
   "execution_count": 90,
   "metadata": {},
   "outputs": [],
   "source": [
    "meas_set = MeasureSet(\n",
    "    [meas1, meas2, meas3]\n",
    ")"
   ]
  },
  {
   "cell_type": "code",
   "execution_count": 300,
   "metadata": {},
   "outputs": [
    {
     "data": {
      "text/plain": [
       "(<climada.entity.exposures.litpop.litpop.LitPop at 0x1dcba4af0>,\n",
       " <climada.entity.impact_funcs.impact_func_set.ImpactFuncSet at 0x1c68981c0>,\n",
       " <climada.hazard.base.Hazard at 0x1dcbe0370>)"
      ]
     },
     "execution_count": 300,
     "metadata": {},
     "output_type": "execute_result"
    }
   ],
   "source": [
    "meas1.apply(exp, impfset, haz)"
   ]
  },
  {
   "cell_type": "code",
   "execution_count": null,
   "metadata": {},
   "outputs": [],
   "source": [
    "from scipy.sparse import lil_matrix\n",
    "\n",
    "def interpolate_sm(mat_start, mat_end, year, year_start, year_end):\n",
    "    if year < year_start or year > year_end:\n",
    "        raise ValueError(\"Year must be within the start and end years\")\n",
    "\n",
    "    # Calculate the ratio of the difference between the target year and the start year\n",
    "    # to the total number of years between the start and end years\n",
    "    ratio = (year - year_start) / (year_end - year_start)\n",
    "\n",
    "    # Convert the input matrices to a format that allows efficient modification of its elements\n",
    "    mat_start = lil_matrix(mat_start)\n",
    "    mat_end = lil_matrix(mat_end)\n",
    "\n",
    "    # Perform the linear interpolation\n",
    "    mat_interpolated = mat_start + ratio * (mat_end - mat_start)\n",
    "\n",
    "    return mat_interpolated\n",
    "\n",
    "# Derive the intermediate propability distributions\n",
    "def interpolate_years(year_start, year_end):\n",
    "    # Generate an array of interpolated values between 0 and 1\n",
    "    values = np.linspace(0, 1, num=year_end-year_start+1)\n",
    "    return values\n",
    "\n",
    "# Derive the intermediate propability distributions\n",
    "prop_H1 = interpolate_years(years[0], years[1])\n",
    "prop_H0 = 1 - prop_H1\n",
    "\n",
    "# Define the start and end years\n",
    "start_year = years[0]\n",
    "end_year = years[1]\n",
    "\n",
    "# Case 1 - H2000# Impact 1)  Hazard 2000  and Exposure 2000\n",
    "imp_E0H0=  ImpactCalc(exp_hist, impfset, haz_fl_1980).impact()\n",
    "imp_E1H0 = ImpactCalc(exp_pres, impfset, haz_fl_1980).impact()# Impact 2)  Hazard 2000  and Exposure 2020\n",
    "\n",
    "# Case 2 - H2020\n",
    "# Impact 1)  Hazard 2000  and Exposure 2000\n",
    "imp_E0H1 = ImpactCalc(exp_hist, impfset, haz_fl_2010).impact()\n",
    "imp_E1H1 = ImpactCalc(exp_pres, impfset, haz_fl_2010).impact()"
   ]
  },
  {
   "cell_type": "code",
   "execution_count": 350,
   "metadata": {},
   "outputs": [],
   "source": [
    "m_exp, m_haz, m_impf = meas3.apply(exp_hist, impfset, haz_fl_2030)b\n",
    "m_exp_2, m_haz_2, m_impf_2 = meas3.apply(exp_pres, impfset, haz_fl_2030)"
   ]
  },
  {
   "cell_type": "code",
   "execution_count": null,
   "metadata": {},
   "outputs": [],
   "source": [
    "# Define the start and end years\n",
    "start_year = meas3.start\n",
    "end_year = meas3.end\n",
    "\n",
    "# Case 1 - H2000# Impact 1)  Hazard 2000  and Exposure 2000\n",
    "imp_mE0H0=  ImpactCalc(m_exp, impfset, haz_fl_1980).impact()\n",
    "imp_mE1H0 = ImpactCalc(exp_pres, impfset, haz_fl_1980).impact()# Impact 2)  Hazard 2000  and Exposure 2020\n",
    "\n",
    "# Case 2 - H2020\n",
    "# Impact 1)  Hazard 2000  and Exposure 2000\n",
    "imp_mE0H1 = ImpactCalc(exp_hist, impfset, haz_fl_2010).impact()\n",
    "imp_mE1H1 = ImpactCalc(exp_pres, impfset, haz_fl_2010).impact()"
   ]
  }
 ],
 "metadata": {
  "kernelspec": {
   "display_name": "climada_env",
   "language": "python",
   "name": "python3"
  },
  "language_info": {
   "codemirror_mode": {
    "name": "ipython",
    "version": 3
   },
   "file_extension": ".py",
   "mimetype": "text/x-python",
   "name": "python",
   "nbconvert_exporter": "python",
   "pygments_lexer": "ipython3",
   "version": "3.10.0"
  }
 },
 "nbformat": 4,
 "nbformat_minor": 2
}
