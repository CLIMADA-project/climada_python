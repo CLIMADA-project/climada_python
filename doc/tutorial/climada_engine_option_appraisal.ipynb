{
 "cells": [
  {
   "cell_type": "markdown",
   "metadata": {},
   "source": [
    "# Cost benefit refactoring"
   ]
  },
  {
   "cell_type": "code",
   "execution_count": 4,
   "metadata": {},
   "outputs": [],
   "source": [
    "import numpy as np\n",
    "\n",
    "from climada.util.api_client import Client\n",
    "from climada.entity import ImpactFunc\n",
    "\n",
    "from climada.entity import LitPop\n",
    "\n",
    "import copy\n",
    "client = Client()\n"
   ]
  },
  {
   "cell_type": "code",
   "execution_count": 5,
   "metadata": {},
   "outputs": [],
   "source": [
    "# Parameters\n",
    "ctr_str = 'DEU'\n",
    "\n",
    "# Years to be considered\n",
    "years = [2000, 2020, 2050]"
   ]
  },
  {
   "cell_type": "markdown",
   "metadata": {},
   "source": [
    "## Create the snapshots - Exposure, Hazard sets, Impact Functions"
   ]
  },
  {
   "cell_type": "markdown",
   "metadata": {},
   "source": [
    "## Exposure"
   ]
  },
  {
   "cell_type": "markdown",
   "metadata": {},
   "source": [
    "### Define the Group"
   ]
  },
  {
   "cell_type": "code",
   "execution_count": 6,
   "metadata": {},
   "outputs": [
    {
     "name": "stdout",
     "output_type": "stream",
     "text": [
      "2024-06-03 11:43:29,241 - climada.entity.exposures.litpop.litpop - INFO - \n",
      " LitPop: Init Exposure for country: DEU (276)...\n",
      "\n",
      "2024-06-03 11:43:29,271 - climada.entity.exposures.litpop.gpw_population - INFO - GPW Version v4.11\n",
      "2024-06-03 11:43:29,282 - climada.entity.exposures.litpop.gpw_population - INFO - GPW Version v4.11\n",
      "2024-06-03 11:43:29,293 - climada.entity.exposures.litpop.gpw_population - INFO - GPW Version v4.11\n",
      "2024-06-03 11:43:29,302 - climada.entity.exposures.litpop.gpw_population - INFO - GPW Version v4.11\n",
      "2024-06-03 11:43:29,312 - climada.entity.exposures.litpop.gpw_population - INFO - GPW Version v4.11\n",
      "2024-06-03 11:43:29,324 - climada.entity.exposures.litpop.gpw_population - INFO - GPW Version v4.11\n",
      "2024-06-03 11:43:29,338 - climada.entity.exposures.litpop.gpw_population - INFO - GPW Version v4.11\n",
      "2024-06-03 11:43:29,353 - climada.entity.exposures.litpop.gpw_population - INFO - GPW Version v4.11\n",
      "2024-06-03 11:43:29,367 - climada.entity.exposures.litpop.gpw_population - INFO - GPW Version v4.11\n",
      "2024-06-03 11:43:29,376 - climada.entity.exposures.litpop.gpw_population - INFO - GPW Version v4.11\n",
      "2024-06-03 11:43:29,391 - climada.entity.exposures.litpop.gpw_population - INFO - GPW Version v4.11\n",
      "2024-06-03 11:43:30,628 - climada.entity.exposures.litpop.gpw_population - INFO - GPW Version v4.11\n",
      "2024-06-03 11:43:30,655 - climada.entity.exposures.litpop.gpw_population - INFO - GPW Version v4.11\n",
      "2024-06-03 11:43:30,692 - climada.entity.exposures.litpop.gpw_population - INFO - GPW Version v4.11\n",
      "2024-06-03 11:43:30,715 - climada.entity.exposures.litpop.gpw_population - INFO - GPW Version v4.11\n",
      "2024-06-03 11:43:30,756 - climada.entity.exposures.litpop.gpw_population - INFO - GPW Version v4.11\n",
      "2024-06-03 11:43:30,782 - climada.entity.exposures.litpop.gpw_population - INFO - GPW Version v4.11\n",
      "2024-06-03 11:43:30,808 - climada.entity.exposures.litpop.gpw_population - INFO - GPW Version v4.11\n",
      "2024-06-03 11:43:30,829 - climada.entity.exposures.litpop.gpw_population - INFO - GPW Version v4.11\n",
      "2024-06-03 11:43:30,852 - climada.entity.exposures.litpop.gpw_population - INFO - GPW Version v4.11\n",
      "2024-06-03 11:43:30,873 - climada.entity.exposures.litpop.gpw_population - INFO - GPW Version v4.11\n",
      "2024-06-03 11:43:31,045 - climada.entity.exposures.base - INFO - Hazard type not set in impf_\n",
      "2024-06-03 11:43:31,046 - climada.entity.exposures.base - INFO - category_id not set.\n",
      "2024-06-03 11:43:31,046 - climada.entity.exposures.base - INFO - cover not set.\n",
      "2024-06-03 11:43:31,046 - climada.entity.exposures.base - INFO - deductible not set.\n",
      "2024-06-03 11:43:31,047 - climada.entity.exposures.base - INFO - centr_ not set.\n"
     ]
    }
   ],
   "source": [
    "exp_hist = LitPop().from_countries(countries=ctr_str, reference_year=years[0])\n",
    "\n",
    "# Assign random Group_id of 3 possible to the gdf\n",
    "reg_id_arr = np.random.randint(0, 3, exp_hist.gdf.shape[0])\n",
    "exp_hist.gdf['region_id'] = reg_id_arr"
   ]
  },
  {
   "cell_type": "code",
   "execution_count": 7,
   "metadata": {},
   "outputs": [
    {
     "name": "stdout",
     "output_type": "stream",
     "text": [
      "2024-06-03 11:43:31,792 - climada.entity.exposures.litpop.litpop - INFO - \n",
      " LitPop: Init Exposure for country: DEU (276)...\n",
      "\n",
      "2024-06-03 11:43:31,807 - climada.entity.exposures.litpop.gpw_population - INFO - GPW Version v4.11\n",
      "2024-06-03 11:43:31,818 - climada.entity.exposures.litpop.gpw_population - INFO - GPW Version v4.11\n",
      "2024-06-03 11:43:31,829 - climada.entity.exposures.litpop.gpw_population - INFO - GPW Version v4.11\n",
      "2024-06-03 11:43:31,838 - climada.entity.exposures.litpop.gpw_population - INFO - GPW Version v4.11\n",
      "2024-06-03 11:43:31,847 - climada.entity.exposures.litpop.gpw_population - INFO - GPW Version v4.11\n",
      "2024-06-03 11:43:31,857 - climada.entity.exposures.litpop.gpw_population - INFO - GPW Version v4.11\n",
      "2024-06-03 11:43:31,866 - climada.entity.exposures.litpop.gpw_population - INFO - GPW Version v4.11\n",
      "2024-06-03 11:43:31,875 - climada.entity.exposures.litpop.gpw_population - INFO - GPW Version v4.11\n",
      "2024-06-03 11:43:31,885 - climada.entity.exposures.litpop.gpw_population - INFO - GPW Version v4.11\n",
      "2024-06-03 11:43:31,893 - climada.entity.exposures.litpop.gpw_population - INFO - GPW Version v4.11\n",
      "2024-06-03 11:43:31,906 - climada.entity.exposures.litpop.gpw_population - INFO - GPW Version v4.11\n",
      "2024-06-03 11:43:32,950 - climada.entity.exposures.litpop.gpw_population - INFO - GPW Version v4.11\n",
      "2024-06-03 11:43:32,972 - climada.entity.exposures.litpop.gpw_population - INFO - GPW Version v4.11\n",
      "2024-06-03 11:43:33,005 - climada.entity.exposures.litpop.gpw_population - INFO - GPW Version v4.11\n",
      "2024-06-03 11:43:33,026 - climada.entity.exposures.litpop.gpw_population - INFO - GPW Version v4.11\n",
      "2024-06-03 11:43:33,063 - climada.entity.exposures.litpop.gpw_population - INFO - GPW Version v4.11\n",
      "2024-06-03 11:43:33,086 - climada.entity.exposures.litpop.gpw_population - INFO - GPW Version v4.11\n",
      "2024-06-03 11:43:33,110 - climada.entity.exposures.litpop.gpw_population - INFO - GPW Version v4.11\n",
      "2024-06-03 11:43:33,130 - climada.entity.exposures.litpop.gpw_population - INFO - GPW Version v4.11\n",
      "2024-06-03 11:43:33,153 - climada.entity.exposures.litpop.gpw_population - INFO - GPW Version v4.11\n",
      "2024-06-03 11:43:33,174 - climada.entity.exposures.litpop.gpw_population - INFO - GPW Version v4.11\n",
      "2024-06-03 11:43:33,795 - climada.util.finance - INFO - GDP DEU 2014: 3.889e+12.\n",
      "2024-06-03 11:43:34,146 - climada.util.finance - INFO - GDP DEU 2020: 3.888e+12.\n",
      "2024-06-03 11:43:34,285 - climada.entity.exposures.base - INFO - Hazard type not set in impf_\n",
      "2024-06-03 11:43:34,285 - climada.entity.exposures.base - INFO - category_id not set.\n",
      "2024-06-03 11:43:34,286 - climada.entity.exposures.base - INFO - cover not set.\n",
      "2024-06-03 11:43:34,286 - climada.entity.exposures.base - INFO - deductible not set.\n",
      "2024-06-03 11:43:34,286 - climada.entity.exposures.base - INFO - centr_ not set.\n"
     ]
    }
   ],
   "source": [
    "# Present\n",
    "exp_pres = LitPop().from_countries(countries=ctr_str, reference_year=years[1])\n",
    "# Assign the region_ids\n",
    "exp_pres.gdf['region_id'] = reg_id_arr"
   ]
  },
  {
   "cell_type": "code",
   "execution_count": 8,
   "metadata": {},
   "outputs": [],
   "source": [
    "# Future\n",
    "exp_fut =copy.deepcopy(exp_pres)\n",
    "# Exponential growth\n",
    "exp_growth_rate = 0.01\n",
    "exp_fut.gdf.value = exp_fut.gdf.value * (1 + exp_growth_rate)**(years[2] - years[1])\n",
    "# Assign the region_ids\n",
    "exp_fut.gdf['region_id'] = reg_id_arr"
   ]
  },
  {
   "cell_type": "markdown",
   "metadata": {},
   "source": [
    "## Hazard sets"
   ]
  },
  {
   "cell_type": "code",
   "execution_count": 9,
   "metadata": {},
   "outputs": [
    {
     "name": "stdout",
     "output_type": "stream",
     "text": [
      "2024-06-03 11:46:12,501 - climada.hazard.io - INFO - Reading /Users/ckropf/climada/data/hazard/river_flood/river_flood_150arcsec_hist_DEU_1980_2000/v2/river_flood_150arcsec_hist_DEU_1980_2000.hdf5\n"
     ]
    }
   ],
   "source": [
    "haz_fl_1980 = client.get_hazard(\n",
    "    hazard_type='river_flood',\n",
    "    properties={\n",
    "        'climate_scenario' : 'historical',\n",
    "        'year_range': '1980_2000',\n",
    "        'country_iso3alpha': 'DEU'\n",
    "    })"
   ]
  },
  {
   "cell_type": "code",
   "execution_count": 10,
   "metadata": {},
   "outputs": [
    {
     "name": "stdout",
     "output_type": "stream",
     "text": [
      "2024-06-03 11:46:18,931 - climada.hazard.io - INFO - Reading /Users/ckropf/climada/data/hazard/river_flood/river_flood_150arcsec_rcp85_DEU_2010_2030/v3/river_flood_150arcsec_rcp85_DEU_2010_2030.hdf5\n"
     ]
    }
   ],
   "source": [
    "haz_fl_2010 = client.get_hazard(\n",
    "    hazard_type='river_flood',\n",
    "    properties={\n",
    "        'climate_scenario' : 'rcp85',\n",
    "        'year_range': '2010_2030',\n",
    "        'country_iso3alpha': 'DEU'\n",
    "    })"
   ]
  },
  {
   "cell_type": "code",
   "execution_count": 11,
   "metadata": {},
   "outputs": [
    {
     "name": "stdout",
     "output_type": "stream",
     "text": [
      "2024-06-03 11:46:25,145 - climada.hazard.io - INFO - Reading /Users/ckropf/climada/data/hazard/river_flood/river_flood_150arcsec_rcp85_DEU_2030_2050/v3/river_flood_150arcsec_rcp85_DEU_2030_2050.hdf5\n"
     ]
    }
   ],
   "source": [
    "haz_fl_2030 = client.get_hazard(\n",
    "    hazard_type='river_flood',\n",
    "    properties={\n",
    "        'climate_scenario' : 'rcp85',\n",
    "        'year_range': '2030_2050',\n",
    "        'country_iso3alpha': 'DEU'\n",
    "    })"
   ]
  },
  {
   "cell_type": "markdown",
   "metadata": {},
   "source": [
    "### Impact Functions"
   ]
  },
  {
   "cell_type": "code",
   "execution_count": 29,
   "metadata": {},
   "outputs": [],
   "source": [
    "from climada_petals.entity.impact_funcs.river_flood import ImpfRiverFlood, flood_imp_func_set\n",
    "from climada.entity import ImpactFunc, ImpactFuncSet\n",
    "\n",
    "impf_set_flood = flood_imp_func_set()\n",
    "\n",
    "impf_1 = impf_set_flood.get_func(fun_id=1, haz_type='RF')\n",
    "impf_2 = impf_set_flood.get_func(fun_id=2, haz_type='RF')\n",
    "impfset = ImpactFuncSet([impf_1, impf_2])"
   ]
  },
  {
   "cell_type": "code",
   "execution_count": 30,
   "metadata": {},
   "outputs": [
    {
     "data": {
      "text/plain": [
       "1"
      ]
     },
     "execution_count": 30,
     "metadata": {},
     "output_type": "execute_result"
    }
   ],
   "source": [
    "impfset.get_func(haz_type='RF')[0].id"
   ]
  },
  {
   "cell_type": "code",
   "execution_count": 9,
   "metadata": {},
   "outputs": [],
   "source": [
    "x = {'1':1}"
   ]
  },
  {
   "cell_type": "code",
   "execution_count": 10,
   "metadata": {},
   "outputs": [
    {
     "ename": "KeyError",
     "evalue": "2",
     "output_type": "error",
     "traceback": [
      "\u001b[0;31m---------------------------------------------------------------------------\u001b[0m",
      "\u001b[0;31mKeyError\u001b[0m                                  Traceback (most recent call last)",
      "Cell \u001b[0;32mIn[10], line 1\u001b[0m\n\u001b[0;32m----> 1\u001b[0m \u001b[43mx\u001b[49m\u001b[43m[\u001b[49m\u001b[38;5;241;43m2\u001b[39;49m\u001b[43m]\u001b[49m\n",
      "\u001b[0;31mKeyError\u001b[0m: 2"
     ]
    }
   ],
   "source": [
    "x[2]"
   ]
  },
  {
   "cell_type": "code",
   "execution_count": 452,
   "metadata": {},
   "outputs": [],
   "source": [
    "def assign_impfid(exp_hist, exp_pres, exp_fut, case='single'):\n",
    "    if case=='single':\n",
    "        exp_hist.gdf['impf_RF'] = 1\n",
    "        exp_pres.gdf['impf_RF'] = 1\n",
    "        exp_fut.gdf['impf_RF'] = 1\n",
    "    if case=='multiple_spatial':\n",
    "        exp_hist.gdf.loc[:len(exp_hist.gdf/2),'impf_RF'] = 1\n",
    "        exp_pres.gdf[:len(exp_pres.gdf/2),'impf_RF'] = 1\n",
    "        exp_fut.gdf[:len(exp_fut.gdf/2),'impf_RF'] = 1\n",
    "        exp_hist.gdf.loc[len(exp_hist.gdf/2):,'impf_RF'] = 2\n",
    "        exp_pres.gdf[len(exp_pres.gdf/2):,'impf_RF'] = 2\n",
    "        exp_fut.gdf[len(exp_fut.gdf/2):,'impf_RF'] = 2\n",
    "    if case=='multiple_temp':\n",
    "        exp_hist.gdf['impf_RF'] = 1\n",
    "        exp_pres.gdf['impf_RF'] = 1\n",
    "        exp_fut.gdf['impf_RF'] = 2\n",
    "    if case == ' multiple':\n",
    "        exp_hist.gdf.loc[:len(exp_hist.gdf/2),'impf_RF'] = 1\n",
    "        exp_pres.gdf[:len(exp_hist.gdf/2),'impf_RF'] = 2\n",
    "        exp_fut.gdf[:len(exp_hist.gdf/2),'impf_RF'] = 1\n",
    "        exp_hist.gdf.loc[len(exp_hist.gdf/2):,'impf_RF'] = 2\n",
    "        exp_pres.gdf[len(exp_hist.gdf/2):,'impf_RF'] = 1\n",
    "        exp_fut.gdf[len(exp_hist.gdf/2):,'impf_RF'] = 2"
   ]
  },
  {
   "cell_type": "markdown",
   "metadata": {},
   "source": [
    "## From impacts to NPV"
   ]
  },
  {
   "cell_type": "markdown",
   "metadata": {},
   "source": [
    "### Timeseries"
   ]
  },
  {
   "cell_type": "code",
   "execution_count": 453,
   "metadata": {},
   "outputs": [],
   "source": [
    "from climada.hazard import Hazard\n",
    "\n",
    "haz_series = Hazard.concat([haz_fl_1980, haz_fl_2010, haz_fl_2030])"
   ]
  },
  {
   "cell_type": "code",
   "execution_count": 455,
   "metadata": {},
   "outputs": [
    {
     "name": "stdout",
     "output_type": "stream",
     "text": [
      "Processing year 1980\n"
     ]
    },
    {
     "ename": "TypeError",
     "evalue": "Since CLIMADA 2.0, Exposures objects are not subscriptable. Data fields of Exposures objects are accessed using the `gdf` attribute. For example, `expo['value']` is replaced by `expo.gdf['value']`.",
     "output_type": "error",
     "traceback": [
      "\u001b[0;31m---------------------------------------------------------------------------\u001b[0m",
      "\u001b[0;31mTypeError\u001b[0m                                 Traceback (most recent call last)",
      "Cell \u001b[0;32mIn[455], line 16\u001b[0m\n\u001b[1;32m     14\u001b[0m \u001b[38;5;28;01mfor\u001b[39;00m year \u001b[38;5;129;01min\u001b[39;00m \u001b[38;5;28mrange\u001b[39m(\u001b[38;5;241m1980\u001b[39m,\u001b[38;5;241m2051\u001b[39m,\u001b[38;5;241m1\u001b[39m):\n\u001b[1;32m     15\u001b[0m     \u001b[38;5;28mprint\u001b[39m(\u001b[38;5;124mf\u001b[39m\u001b[38;5;124m\"\u001b[39m\u001b[38;5;124mProcessing year \u001b[39m\u001b[38;5;132;01m{\u001b[39;00myear\u001b[38;5;132;01m}\u001b[39;00m\u001b[38;5;124m\"\u001b[39m)\n\u001b[0;32m---> 16\u001b[0m     exp \u001b[38;5;241m=\u001b[39m \u001b[43mexposures\u001b[49m\u001b[43m[\u001b[49m\u001b[43myear\u001b[49m\u001b[43m]\u001b[49m\u001b[43m[\u001b[49m\u001b[38;5;124;43m\"\u001b[39;49m\u001b[38;5;124;43mexp\u001b[39;49m\u001b[38;5;124;43m\"\u001b[39;49m\u001b[43m]\u001b[49m\n\u001b[1;32m     17\u001b[0m     haz \u001b[38;5;241m=\u001b[39m haz_series\u001b[38;5;241m.\u001b[39mselect([\u001b[38;5;124mf\u001b[39m\u001b[38;5;124m\"\u001b[39m\u001b[38;5;132;01m{\u001b[39;00m\u001b[38;5;28mstr\u001b[39m(year)\u001b[38;5;132;01m}\u001b[39;00m\u001b[38;5;124m-01-01\u001b[39m\u001b[38;5;124m\"\u001b[39m,\u001b[38;5;124mf\u001b[39m\u001b[38;5;124m\"\u001b[39m\u001b[38;5;132;01m{\u001b[39;00m\u001b[38;5;28mstr\u001b[39m(year\u001b[38;5;241m+\u001b[39m\u001b[38;5;241m1\u001b[39m)\u001b[38;5;132;01m}\u001b[39;00m\u001b[38;5;124m-01-01\u001b[39m\u001b[38;5;124m\"\u001b[39m])\n\u001b[1;32m     18\u001b[0m     impact_set[year] \u001b[38;5;241m=\u001b[39m ImpactCalc(exp, impfset, haz)\u001b[38;5;241m.\u001b[39mimpact()\n",
      "File \u001b[0;32m~/Documents/Climada/climada_python/climada/entity/exposures/base.py:219\u001b[0m, in \u001b[0;36mExposures._access_item\u001b[0;34m(self, *args)\u001b[0m\n\u001b[1;32m    218\u001b[0m \u001b[38;5;28;01mdef\u001b[39;00m \u001b[38;5;21m_access_item\u001b[39m(\u001b[38;5;28mself\u001b[39m, \u001b[38;5;241m*\u001b[39margs):\n\u001b[0;32m--> 219\u001b[0m     \u001b[38;5;28;01mraise\u001b[39;00m \u001b[38;5;167;01mTypeError\u001b[39;00m(\u001b[38;5;124m\"\u001b[39m\u001b[38;5;124mSince CLIMADA 2.0, Exposures objects are not subscriptable. Data \u001b[39m\u001b[38;5;124m\"\u001b[39m\n\u001b[1;32m    220\u001b[0m                     \u001b[38;5;124m\"\u001b[39m\u001b[38;5;124mfields of Exposures objects are accessed using the `gdf` attribute. \u001b[39m\u001b[38;5;124m\"\u001b[39m\n\u001b[1;32m    221\u001b[0m                     \u001b[38;5;124m\"\u001b[39m\u001b[38;5;124mFor example, `expo[\u001b[39m\u001b[38;5;124m'\u001b[39m\u001b[38;5;124mvalue\u001b[39m\u001b[38;5;124m'\u001b[39m\u001b[38;5;124m]` is replaced by `expo.gdf[\u001b[39m\u001b[38;5;124m'\u001b[39m\u001b[38;5;124mvalue\u001b[39m\u001b[38;5;124m'\u001b[39m\u001b[38;5;124m]`.\u001b[39m\u001b[38;5;124m\"\u001b[39m)\n",
      "\u001b[0;31mTypeError\u001b[0m: Since CLIMADA 2.0, Exposures objects are not subscriptable. Data fields of Exposures objects are accessed using the `gdf` attribute. For example, `expo['value']` is replaced by `expo.gdf['value']`."
     ]
    }
   ],
   "source": [
    "impact_set = {}\n",
    "exposures = {}\n",
    "\n",
    "assign_impfid(exp_hist, exp_pres, exp_fut, case='single')\n",
    "\n",
    "for year in range(1980,2051,1):\n",
    "    if year <= 2010:\n",
    "        exposures[year] = exp_hist\n",
    "    if year <= 2030:\n",
    "        exposures[year] = exp_pres\n",
    "    if year > 2030:\n",
    "        exposures[year] = exp_fut\n",
    "\n",
    "for year in range(1980,2051,1):\n",
    "    print(f\"Processing year {year}\")\n",
    "    exp = exposures[year][\"exp\"]\n",
    "    haz = haz_series.select([f\"{str(year)}-01-01\",f\"{str(year+1)}-01-01\"])\n",
    "    impact_set[year] = ImpactCalc(exp, impfset, haz).impact()"
   ]
  },
  {
   "cell_type": "code",
   "execution_count": 441,
   "metadata": {},
   "outputs": [],
   "source": [
    "# a bit more complicated, do it user\n",
    "def exposures_merger(exp_list):\n",
    "    gdf_0 = exp_list[0].gdf[['geometry', 'value']]\n",
    "    for n, exp in enumerate(exp_list[1:]):\n",
    "        print(n)\n",
    "        gdf_0 = gdf_0.sjoin(exp.gdf[['geometry', 'value']], rsuffix=f'{n}')\n",
    "    return gdf_0"
   ]
  },
  {
   "cell_type": "markdown",
   "metadata": {},
   "source": [
    "### Snapshots "
   ]
  },
  {
   "cell_type": "code",
   "execution_count": 456,
   "metadata": {},
   "outputs": [],
   "source": [
    "assign_impfid(exp_hist, exp_pres, exp_fut, case='single')\n",
    "snapshots = {\n",
    "    years[0] : [exp_hist, impfset, haz_fl_1980],\n",
    "    years[1] : [exp_pres, impfset, haz_fl_2010],\n",
    "    years[2] : [exp_fut, impfset, haz_fl_2030]\n",
    "}"
   ]
  },
  {
   "cell_type": "markdown",
   "metadata": {},
   "source": [
    "### Fetching the groups"
   ]
  },
  {
   "cell_type": "code",
   "execution_count": 486,
   "metadata": {},
   "outputs": [],
   "source": [
    "# Parameters\n",
    "group_col_str = 'region_id'\n",
    "\n",
    "def create_group_map_exp_dict(snapshots, group_col_str= None):\n",
    "    '''\n",
    "    Create a dictionary that maps each group to the indices of the exposures in the gdf.\n",
    "    '''\n",
    "\n",
    "    if group_col_str:\n",
    "        # Get the first snapshot exposures gdf\n",
    "        gdf = snapshots[list(snapshots.keys())[0]][0].gdf\n",
    "        # Get the unique groups\n",
    "        unique_groups = list(gdf[group_col_str].unique())\n",
    "        # Create the dictionary\n",
    "        group_map_exp_dict = {i: list(np.where(gdf[group_col_str] == i)[0]) for i in unique_groups}\n",
    "\n",
    "    return group_map_exp_dict\n",
    "\n",
    "group_map_exp_dict = create_group_map_exp_dict(snapshots, group_col_str)"
   ]
  },
  {
   "cell_type": "markdown",
   "metadata": {},
   "source": [
    "#### Calculate necessary risk metrics – yearly aai, rp, eai "
   ]
  },
  {
   "cell_type": "code",
   "execution_count": 457,
   "metadata": {},
   "outputs": [],
   "source": [
    "from climada.engine import Impact, ImpactCalc"
   ]
  },
  {
   "cell_type": "code",
   "execution_count": 458,
   "metadata": {},
   "outputs": [
    {
     "name": "stdout",
     "output_type": "stream",
     "text": [
      "2024-05-29 09:30:30,968 - climada.entity.exposures.base - INFO - Matching 661396 exposures with 26472 centroids.\n",
      "2024-05-29 09:30:30,976 - climada.util.coordinates - INFO - No exact centroid match found. Reprojecting coordinates to nearest neighbor closer than the threshold = 100\n",
      "2024-05-29 09:30:31,649 - climada.engine.impact_calc - INFO - Calculating impact for 1969149 assets (>0) and 920 events.\n",
      "2024-05-29 09:30:31,785 - climada.entity.exposures.base - INFO - Matching 661396 exposures with 26472 centroids.\n",
      "2024-05-29 09:30:31,792 - climada.util.coordinates - INFO - No exact centroid match found. Reprojecting coordinates to nearest neighbor closer than the threshold = 100\n",
      "2024-05-29 09:30:32,456 - climada.engine.impact_calc - INFO - Calculating impact for 1969149 assets (>0) and 480 events.\n",
      "2024-05-29 09:30:32,633 - climada.entity.exposures.base - INFO - Matching 661396 exposures with 26472 centroids.\n",
      "2024-05-29 09:30:32,639 - climada.util.coordinates - INFO - No exact centroid match found. Reprojecting coordinates to nearest neighbor closer than the threshold = 100\n",
      "2024-05-29 09:30:33,314 - climada.engine.impact_calc - INFO - Calculating impact for 1969149 assets (>0) and 480 events.\n"
     ]
    }
   ],
   "source": [
    "impact_snapshots = {}\n",
    "for year, [exp, impf, haz] in snapshots.items():\n",
    "    impact_snapshots[year] = ImpactCalc(exp, impf, haz).impact()"
   ]
  },
  {
   "cell_type": "markdown",
   "metadata": {},
   "source": [
    "### Calculate the expect annual impact between snapshots 2000 and 2020 "
   ]
  },
  {
   "cell_type": "code",
   "execution_count": 619,
   "metadata": {},
   "outputs": [
    {
     "name": "stdout",
     "output_type": "stream",
     "text": [
      "2024-05-29 11:54:14,906 - climada.entity.exposures.base - INFO - Exposures matching centroids already found for RF\n",
      "2024-05-29 11:54:14,907 - climada.entity.exposures.base - INFO - Existing centroids will be overwritten for RF\n",
      "2024-05-29 11:54:14,907 - climada.entity.exposures.base - INFO - Matching 661396 exposures with 26472 centroids.\n",
      "2024-05-29 11:54:14,919 - climada.util.coordinates - INFO - No exact centroid match found. Reprojecting coordinates to nearest neighbor closer than the threshold = 100\n",
      "2024-05-29 11:54:15,614 - climada.engine.impact_calc - INFO - Calculating impact for 1969149 assets (>0) and 920 events.\n",
      "2024-05-29 11:54:15,752 - climada.entity.exposures.base - INFO - Exposures matching centroids already found for RF\n",
      "2024-05-29 11:54:15,753 - climada.entity.exposures.base - INFO - Existing centroids will be overwritten for RF\n",
      "2024-05-29 11:54:15,753 - climada.entity.exposures.base - INFO - Matching 661396 exposures with 26472 centroids.\n",
      "2024-05-29 11:54:15,762 - climada.util.coordinates - INFO - No exact centroid match found. Reprojecting coordinates to nearest neighbor closer than the threshold = 100\n",
      "2024-05-29 11:54:16,460 - climada.engine.impact_calc - INFO - Calculating impact for 1969149 assets (>0) and 920 events.\n",
      "2024-05-29 11:54:16,590 - climada.entity.exposures.base - INFO - Exposures matching centroids already found for RF\n",
      "2024-05-29 11:54:16,590 - climada.entity.exposures.base - INFO - Existing centroids will be overwritten for RF\n",
      "2024-05-29 11:54:16,591 - climada.entity.exposures.base - INFO - Matching 661396 exposures with 26472 centroids.\n",
      "2024-05-29 11:54:16,598 - climada.util.coordinates - INFO - No exact centroid match found. Reprojecting coordinates to nearest neighbor closer than the threshold = 100\n",
      "2024-05-29 11:54:17,301 - climada.engine.impact_calc - INFO - Calculating impact for 1969149 assets (>0) and 480 events.\n",
      "2024-05-29 11:54:17,459 - climada.entity.exposures.base - INFO - Exposures matching centroids already found for RF\n",
      "2024-05-29 11:54:17,459 - climada.entity.exposures.base - INFO - Existing centroids will be overwritten for RF\n",
      "2024-05-29 11:54:17,459 - climada.entity.exposures.base - INFO - Matching 661396 exposures with 26472 centroids.\n",
      "2024-05-29 11:54:17,465 - climada.util.coordinates - INFO - No exact centroid match found. Reprojecting coordinates to nearest neighbor closer than the threshold = 100\n",
      "2024-05-29 11:54:18,163 - climada.engine.impact_calc - INFO - Calculating impact for 1969149 assets (>0) and 480 events.\n"
     ]
    }
   ],
   "source": [
    "from scipy.sparse import lil_matrix\n",
    "\n",
    "def interpolate_sm(mat_start, mat_end, year, year_start, year_end):\n",
    "    if year < year_start or year > year_end:\n",
    "        raise ValueError(\"Year must be within the start and end years\")\n",
    "\n",
    "    # Calculate the ratio of the difference between the target year and the start year\n",
    "    # to the total number of years between the start and end years\n",
    "    ratio = (year - year_start) / (year_end - year_start)\n",
    "\n",
    "    # Convert the input matrices to a format that allows efficient modification of its elements\n",
    "    mat_start = lil_matrix(mat_start)\n",
    "    mat_end = lil_matrix(mat_end)\n",
    "\n",
    "    # Perform the linear interpolation\n",
    "    mat_interpolated = mat_start + ratio * (mat_end - mat_start)\n",
    "\n",
    "    return mat_interpolated\n",
    "\n",
    "# Derive the intermediate propability distributions\n",
    "def interpolate_years(year_start, year_end):\n",
    "    # Generate an array of interpolated values between 0 and 1\n",
    "    values = np.linspace(0, 1, num=year_end-year_start+1)\n",
    "    return values\n",
    "\n",
    "# Derive the intermediate propability distributions\n",
    "prop_H1 = interpolate_years(years[0], years[1])\n",
    "prop_H0 = 1 - prop_H1\n",
    "\n",
    "# Define the start and end years\n",
    "start_year = years[0]\n",
    "end_year = years[1]\n",
    "\n",
    "# Case 1 - H2000# Impact 1)  Hazard 2000  and Exposure 2000\n",
    "imp_eE0H0=  ImpactCalc(exp_hist, impfset, haz_fl_1980).impact()\n",
    "imp_E1H0 = ImpactCalc(exp_pres, impfset, haz_fl_1980).impact()# Impact 2)  Hazard 2000  and Exposure 2020\n",
    "\n",
    "# Case 2 - H2020\n",
    "# Impact 1)  Hazard 2000  and Exposure 2000\n",
    "imp_E0H1 = ImpactCalc(exp_hist, impfset, haz_fl_2010).impact()\n",
    "imp_E1H1 = ImpactCalc(exp_pres, impfset, haz_fl_2010).impact()\n"
   ]
  },
  {
   "cell_type": "markdown",
   "metadata": {},
   "source": [
    "### Define the annual risk metric calculation functions"
   ]
  },
  {
   "cell_type": "code",
   "execution_count": 616,
   "metadata": {},
   "outputs": [],
   "source": [
    "def get_eai_exp(eai_exp, group_map):\n",
    "    eai_region_id = []\n",
    "    for _, exp_indices in group_map.items():\n",
    "        eai_region_id.append(np.sum(eai_exp[exp_indices]))\n",
    "    return eai_region_id\n",
    "\n",
    "def calc_freq_curve(imp_mat_intrpl, frequency, return_per=None):\n",
    "    '''\n",
    "    Calculate the frequency curve\n",
    "\n",
    "    Parameters:\n",
    "    imp_mat_intrpl (np.array): The interpolated impact matrix\n",
    "    frequency (np.array): The frequency of the hazard\n",
    "    return_per (np.array): The return period\n",
    "\n",
    "    Returns:\n",
    "    ifc_return_per (np.array): The impact exceeding frequency\n",
    "    ifc_impact (np.array): The impact exceeding the return period\n",
    "    '''\n",
    "\n",
    "    # Calculate the at_event make the np.array\n",
    "    at_event = np.sum(imp_mat_intrpl, axis=1).A1\n",
    "\n",
    "    # Sort descendingly the impacts per events\n",
    "    sort_idxs = np.argsort(at_event)[::-1]\n",
    "    # Calculate exceedence frequency\n",
    "    exceed_freq = np.cumsum(frequency[sort_idxs])\n",
    "    # Set return period and impact exceeding frequency\n",
    "    ifc_return_per = 1 / exceed_freq[::-1]\n",
    "    ifc_impact = at_event[sort_idxs][::-1]\n",
    "\n",
    "    if return_per is not None:\n",
    "        interp_imp = np.interp(return_per, ifc_return_per, ifc_impact)\n",
    "        ifc_return_per = return_per\n",
    "        ifc_impact = interp_imp\n",
    "\n",
    "    return ifc_impact"
   ]
  },
  {
   "cell_type": "markdown",
   "metadata": {},
   "source": [
    "### Calculate the annual risk metrics – No measure"
   ]
  },
  {
   "cell_type": "code",
   "execution_count": 621,
   "metadata": {},
   "outputs": [],
   "source": [
    "# Defaul return period\n",
    "return_per = np.array([100, 500, 1000])\n",
    "\n",
    "# Calculate the AAI for each year\n",
    "aai_0 = []\n",
    "eai_exp_0 = []\n",
    "eai_region_id_0 = []\n",
    "rp_0 = []\n",
    "at_event_0 = []\n",
    "frequency = haz_fl_1980.frequency\n",
    "for year in range(start_year, end_year + 1):\n",
    "    imp_mat_intrpl = interpolate_sm(imp_E0H0.imp_mat, imp_E1H0.imp_mat, year, start_year, end_year)\n",
    "    # sum across the rows of the sparse matrix\n",
    "    eai_exp = ImpactCalc.eai_exp_from_mat(imp_mat_intrpl, frequency)\n",
    "    # Calculate the return period\n",
    "    rp_0.append(calc_freq_curve(imp_mat_intrpl, frequency, return_per))\n",
    "    # Region_id (Groups)\n",
    "    eai_region_id_0.append(get_eai_exp(eai_exp, group_map_exp_dict))\n",
    "    eai_exp_0.append(eai_exp)\n",
    "    aai_0.append(ImpactCalc.aai_agg_from_eai_exp(eai_exp))\n",
    "    at_event_0.append(ImpactCalc.at_event_from_mat(imp_mat_intrpl))\n",
    "\n",
    "# Calculate the AAI for each year\n",
    "aai_1 = []\n",
    "eai_exp_1 = []\n",
    "eai_region_id_1 = []\n",
    "rp_1 = []\n",
    "at_event_1 = []\n",
    "frequency = haz_fl_2010.frequency\n",
    "for year in range(start_year, end_year + 1):\n",
    "    imp_mat_intrpl = interpolate_sm(imp_E0H1.imp_mat, imp_E1H1.imp_mat, year, start_year, end_year)\n",
    "    # sum across the rows of the sparse matrix\n",
    "    eai_exp = ImpactCalc.eai_exp_from_mat(imp_mat_intrpl, frequency)\n",
    "    # Calculate the return period\n",
    "    rp_1.append(calc_freq_curve(imp_mat_intrpl, frequency, return_per))\n",
    "     # Region_id (Groups)\n",
    "    eai_region_id_1.append(get_eai_exp(eai_exp, group_map_exp_dict))\n",
    "    eai_exp_1.append(eai_exp)\n",
    "    aai_1.append(ImpactCalc.aai_agg_from_eai_exp(eai_exp))\n",
    "    at_event_1.append(ImpactCalc.at_event_from_mat(imp_mat_intrpl))\n",
    "\n",
    "# Average Annual Impact across the years\n",
    "aai = prop_H0 * aai_0 + prop_H1 * aai_1\n",
    "# EAI exp across bthe years\n",
    "eai = np.multiply(prop_H0.reshape(-1,1), eai_exp_0) + np.multiply(prop_H1.reshape(-1,1), eai_exp_1)\n",
    "# EAI region_id across the years\n",
    "eai_region_id = np.multiply(prop_H0.reshape(-1,1), eai_region_id_0) + np.multiply(prop_H1.reshape(-1,1), eai_region_id_1)\n",
    "# Return period across the years\n",
    "rp = np.multiply(prop_H0.reshape(-1,1), rp_0) + np.multiply(prop_H1.reshape(-1,1), rp_1)"
   ]
  },
  {
   "cell_type": "markdown",
   "metadata": {},
   "source": [
    "### Calculate the NPV (between years 2000 to 2020)"
   ]
  },
  {
   "cell_type": "markdown",
   "metadata": {},
   "source": [
    "#### Define the discount rate"
   ]
  },
  {
   "cell_type": "code",
   "execution_count": 461,
   "metadata": {},
   "outputs": [
    {
     "data": {
      "text/plain": [
       "<Axes: title={'center': 'Discount rates'}, xlabel='Year', ylabel='discount rate (%)'>"
      ]
     },
     "execution_count": 461,
     "metadata": {},
     "output_type": "execute_result"
    },
    {
     "data": {
      "image/png": "[encoded data removed]",
      "text/plain": [
       "<Figure size 600x800 with 1 Axes>"
      ]
     },
     "metadata": {},
     "output_type": "display_data"
    }
   ],
   "source": [
    "import numpy as np\n",
    "from climada.entity import DiscRates\n",
    "from climada.util import finance as u_fin\n",
    "\n",
    "# define discount rates\n",
    "path_years = np.arange(years[0], years[1]+1)\n",
    "# INcrease the discount rate to 1.4%\n",
    "rates = np.linspace(0.10, 0.10, path_years.size)\n",
    "disc = DiscRates(years=path_years, rates=rates)\n",
    "disc.plot()"
   ]
  },
  {
   "cell_type": "markdown",
   "metadata": {},
   "source": [
    "#### Calc the NPV"
   ]
  },
  {
   "cell_type": "code",
   "execution_count": 463,
   "metadata": {},
   "outputs": [
    {
     "name": "stdout",
     "output_type": "stream",
     "text": [
      "Expected NPV: 433868364873.73773\n"
     ]
    }
   ],
   "source": [
    "NPV = u_fin.net_present_value(disc.years, disc.rates, aai)\n",
    "print(f\"Expected NPV: {NPV}\")\n",
    "\n",
    "#NPV = np.sum(aai/np.array([(1 + disc.rates)**n for n in range(len(aai))]))\n",
    "#print(f\"Expected NPV: {NPV}\")"
   ]
  },
  {
   "cell_type": "code",
   "execution_count": 319,
   "metadata": {},
   "outputs": [],
   "source": [
    "\n",
    "\"\"\"Compute impact exceedance frequency curve.\n",
    "\n",
    "Parameters\n",
    "----------\n",
    "return_per : np.array, optional\n",
    "    return periods where to compute\n",
    "    the exceedance impact. Use impact's frequencies if not provided\n",
    "\n",
    "Returns\n",
    "-------\n",
    "ImpactFreqCurve\n",
    "\"\"\"\n",
    "\n",
    "at_event = np.array([1, 2, 3, 4, 5])\n",
    "frequency = np.array([0.1, 0.1, 0.1, 0.1, 0.1])\n",
    "return_per = np.array([5, 100, 200, 500, 1000, 20000])\n",
    "\n",
    "# Sort descendingly the impacts per events\n",
    "sort_idxs = np.argsort(at_event)[::-1]\n",
    "# Calculate exceedence frequency\n",
    "exceed_freq = np.cumsum(frequency[sort_idxs])\n",
    "# Set return period and impact exceeding frequency\n",
    "ifc_return_per = 1 / exceed_freq[::-1]\n",
    "ifc_impact = at_event[sort_idxs][::-1]\n",
    "\n",
    "interp_imp = np.interp(return_per, ifc_return_per, ifc_impact)\n",
    "ifc_return_per = return_per\n",
    "#percentiles = 1/ifc_return_permultiply the frequency with the impact matrix such that each row is multiplied by the frequency for the respective event\n",
    "\n",
    "# sum across the rows of the sparse matrix\n"
   ]
  },
  {
   "cell_type": "code",
   "execution_count": 320,
   "metadata": {},
   "outputs": [
    {
     "data": {
      "text/plain": [
       "array([4., 5., 5., 5., 5., 5.])"
      ]
     },
     "execution_count": 320,
     "metadata": {},
     "output_type": "execute_result"
    }
   ],
   "source": [
    "interp_imp"
   ]
  },
  {
   "cell_type": "code",
   "execution_count": 321,
   "metadata": {},
   "outputs": [
    {
     "name": "stdout",
     "output_type": "stream",
     "text": [
      "Probabilities: [0.01   0.005  0.002  0.001  0.0005]\n",
      "Values: [2.7 2.7 2.7 2.7 2.7]\n"
     ]
    }
   ],
   "source": [
    "def calculate_return_periods(event_impacts, annual_frequencies, return_periods):\n",
    "    # Calculate annual total impact\n",
    "    annual_total_impact = np.dot(event_impacts, annual_frequencies)\n",
    "\n",
    "    # Define the function to get the percentile for a given return period\n",
    "    def get_percentile(return_period):\n",
    "        return 100 * (1 - 1/return_period)\n",
    "\n",
    "    # Calculate the percentiles and values\n",
    "    percentiles = [get_percentile(rp) for rp in return_periods]\n",
    "    values = np.percentile(annual_total_impact, percentiles)\n",
    "\n",
    "    # Convert percentiles to probabilities (1 - percentile/100)\n",
    "    probabilities = [1 - p/100 for p in percentiles]\n",
    "\n",
    "    return np.array(probabilities), np.array(values)\n",
    "\n",
    "# Example usage\n",
    "event_impacts = np.array([10, 20, 30, 40, 50])\n",
    "annual_frequencies = np.array([0.01, 0.01, 0.01, 0.04, 0.01])\n",
    "return_periods = [100, 200, 500, 1000, 2000]\n",
    "\n",
    "probabilities, values = calculate_return_periods(event_impacts, annual_frequencies, return_periods)\n",
    "print(\"Probabilities:\", probabilities)\n",
    "print(\"Values:\", values)"
   ]
  },
  {
   "cell_type": "code",
   "execution_count": null,
   "metadata": {},
   "outputs": [],
   "source": [
    "impact_snapshots[year]"
   ]
  },
  {
   "cell_type": "code",
   "execution_count": 100,
   "metadata": {},
   "outputs": [],
   "source": [
    "mat0 = impact_snapshots[years[0]].imp_mat\n",
    "mat1 = impact_snapshots[years[1]].imp_mat"
   ]
  },
  {
   "cell_type": "markdown",
   "metadata": {},
   "source": [
    "## Measures"
   ]
  },
  {
   "cell_type": "code",
   "execution_count": null,
   "metadata": {},
   "outputs": [],
   "source": [
    "from climada.entity import Measure, MeasureSet"
   ]
  },
  {
   "cell_type": "code",
   "execution_count": 347,
   "metadata": {},
   "outputs": [],
   "source": [
    "meas1 = Measure(\n",
    "    name='meas1',\n",
    "    haz_type='RF',\n",
    "    cost=100,\n",
    "    mdd_impact=(0.9,0)\n",
    ")\n",
    "meas1.start = years[0]\n",
    "meas1.end = years[1]"
   ]
  },
  {
   "cell_type": "code",
   "execution_count": 354,
   "metadata": {},
   "outputs": [],
   "source": [
    "meas2 = Measure(\n",
    "    name='meas2',\n",
    "    haz_type='RF',\n",
    "    cost=10000,\n",
    "    hazard_inten_imp=(0.7, 0)\n",
    ")\n",
    "meas2.start = years[0]\n",
    "meas2.end = years[2]"
   ]
  },
  {
   "cell_type": "code",
   "execution_count": 493,
   "metadata": {},
   "outputs": [],
   "source": [
    "meas3 = Measure(\n",
    "    name='meas3',\n",
    "    haz_type='RF',\n",
    "    cost=100,\n",
    "    imp_fun_map='1to2'\n",
    ")\n",
    "meas3.start = years[0] + 5\n",
    "meas3.end = years[1]"
   ]
  },
  {
   "cell_type": "code",
   "execution_count": 605,
   "metadata": {},
   "outputs": [
    {
     "name": "stderr",
     "output_type": "stream",
     "text": [
      "/Users/ckropf/Documents/Climada/climada_python/climada/entity/impact_funcs/base.py:140: UserWarning: color is redundantly defined by the 'color' keyword argument and the fmt string \"b\" (-> color=(0.0, 0.0, 1.0, 1)). The keyword argument will take precedence.\n",
      "  axis.plot(self.intensity, self.mdd * 100, 'b', label='MDD', **kwargs)\n",
      "/Users/ckropf/Documents/Climada/climada_python/climada/entity/impact_funcs/base.py:141: UserWarning: color is redundantly defined by the 'color' keyword argument and the fmt string \"r\" (-> color=(1.0, 0.0, 0.0, 1)). The keyword argument will take precedence.\n",
      "  axis.plot(self.intensity, self.paa * 100, 'r', label='PAA', **kwargs)\n",
      "/Users/ckropf/Documents/Climada/climada_python/climada/entity/impact_funcs/base.py:142: UserWarning: color is redundantly defined by the 'color' keyword argument and the fmt string \"k--\" (-> color='k'). The keyword argument will take precedence.\n",
      "  axis.plot(self.intensity, self.mdd * self.paa * 100, 'k--', label='MDR', **kwargs)\n"
     ]
    },
    {
     "data": {
      "text/plain": [
       "<Axes: title={'center': 'RF 2: Flood Asia JRC Residential noPAA'}, xlabel='Intensity (m)', ylabel='Impact (%)'>"
      ]
     },
     "execution_count": 605,
     "metadata": {},
     "output_type": "execute_result"
    },
    {
     "data": {
      "image/png": "[encoded data removed]",
      "text/plain": [
       "<Figure size 640x480 with 1 Axes>"
      ]
     },
     "metadata": {},
     "output_type": "display_data"
    }
   ],
   "source": [
    "ax = impfset.get_func(haz_type='RF', fun_id=1).plot()\n",
    "impfset.get_func(haz_type='RF', fun_id=2).plot(axis=ax, color='g')"
   ]
  },
  {
   "cell_type": "code",
   "execution_count": 90,
   "metadata": {},
   "outputs": [],
   "source": [
    "meas_set = MeasureSet(\n",
    "    [meas1, meas2, meas3]\n",
    ")"
   ]
  },
  {
   "cell_type": "code",
   "execution_count": 300,
   "metadata": {},
   "outputs": [
    {
     "data": {
      "text/plain": [
       "(<climada.entity.exposures.litpop.litpop.LitPop at 0x1dcba4af0>,\n",
       " <climada.entity.impact_funcs.impact_func_set.ImpactFuncSet at 0x1c68981c0>,\n",
       " <climada.hazard.base.Hazard at 0x1dcbe0370>)"
      ]
     },
     "execution_count": 300,
     "metadata": {},
     "output_type": "execute_result"
    }
   ],
   "source": [
    "meas1.apply(exp, impfset, haz)"
   ]
  },
  {
   "cell_type": "code",
   "execution_count": 499,
   "metadata": {},
   "outputs": [
    {
     "name": "stdout",
     "output_type": "stream",
     "text": [
      "2024-05-29 11:01:37,588 - climada.entity.exposures.base - INFO - Exposures matching centroids already found for RF\n",
      "2024-05-29 11:01:37,588 - climada.entity.exposures.base - INFO - Existing centroids will be overwritten for RF\n",
      "2024-05-29 11:01:37,589 - climada.entity.exposures.base - INFO - Matching 661396 exposures with 26472 centroids.\n",
      "2024-05-29 11:01:37,597 - climada.util.coordinates - INFO - No exact centroid match found. Reprojecting coordinates to nearest neighbor closer than the threshold = 100\n",
      "2024-05-29 11:01:38,292 - climada.engine.impact_calc - INFO - Calculating impact for 1969149 assets (>0) and 920 events.\n",
      "2024-05-29 11:01:38,422 - climada.entity.exposures.base - INFO - Exposures matching centroids already found for RF\n",
      "2024-05-29 11:01:38,422 - climada.entity.exposures.base - INFO - Existing centroids will be overwritten for RF\n",
      "2024-05-29 11:01:38,423 - climada.entity.exposures.base - INFO - Matching 661396 exposures with 26472 centroids.\n",
      "2024-05-29 11:01:38,429 - climada.util.coordinates - INFO - No exact centroid match found. Reprojecting coordinates to nearest neighbor closer than the threshold = 100\n",
      "2024-05-29 11:01:39,122 - climada.engine.impact_calc - INFO - Calculating impact for 1969149 assets (>0) and 920 events.\n",
      "2024-05-29 11:01:39,248 - climada.entity.exposures.base - INFO - Exposures matching centroids already found for RF\n",
      "2024-05-29 11:01:39,248 - climada.entity.exposures.base - INFO - Existing centroids will be overwritten for RF\n",
      "2024-05-29 11:01:39,249 - climada.entity.exposures.base - INFO - Matching 661396 exposures with 26472 centroids.\n",
      "2024-05-29 11:01:39,256 - climada.util.coordinates - INFO - No exact centroid match found. Reprojecting coordinates to nearest neighbor closer than the threshold = 100\n",
      "2024-05-29 11:01:39,943 - climada.engine.impact_calc - INFO - Calculating impact for 1969149 assets (>0) and 480 events.\n",
      "2024-05-29 11:01:40,113 - climada.entity.exposures.base - INFO - Exposures matching centroids already found for RF\n",
      "2024-05-29 11:01:40,114 - climada.entity.exposures.base - INFO - Existing centroids will be overwritten for RF\n",
      "2024-05-29 11:01:40,114 - climada.entity.exposures.base - INFO - Matching 661396 exposures with 26472 centroids.\n",
      "2024-05-29 11:01:40,124 - climada.util.coordinates - INFO - No exact centroid match found. Reprojecting coordinates to nearest neighbor closer than the threshold = 100\n",
      "2024-05-29 11:01:40,816 - climada.engine.impact_calc - INFO - Calculating impact for 1969149 assets (>0) and 480 events.\n"
     ]
    }
   ],
   "source": [
    "from scipy.sparse import lil_matrix\n",
    "\n",
    "def interpolate_sm(mat_start, mat_end, year, year_start, year_end):\n",
    "    if year < year_start or year > year_end:\n",
    "        raise ValueError(\"Year must be within the start and end years\")\n",
    "\n",
    "    # Calculate the ratio of the difference between the target year and the start year\n",
    "    # to the total number of years between the start and end years\n",
    "    ratio = (year - year_start) / (year_end - year_start)\n",
    "\n",
    "    # Convert the input matrices to a format that allows efficient modification of its elements\n",
    "    mat_start = lil_matrix(mat_start)\n",
    "    mat_end = lil_matrix(mat_end)\n",
    "\n",
    "    # Perform the linear interpolation\n",
    "    mat_interpolated = mat_start + ratio * (mat_end - mat_start)\n",
    "\n",
    "    return mat_interpolated\n",
    "\n",
    "# Derive the intermediate propability distributions\n",
    "def interpolate_years(year_start, year_end):\n",
    "    # Generate an array of interpolated values between 0 and 1\n",
    "    values = np.linspace(0, 1, num=year_end-year_start+1)\n",
    "    return values\n",
    "\n",
    "# Derive the intermediate propability distributions\n",
    "prop_H1 = interpolate_years(years[0], years[1])\n",
    "prop_H0 = 1 - prop_H1\n",
    "\n",
    "# Define the start and end years\n",
    "start_year = years[0]\n",
    "end_year = years[1]\n",
    "\n",
    "# Case 1 - H2000# Impact 1)  Hazard 2000  and Exposure 2000\n",
    "imp_E0H0=  ImpactCalc(exp_hist, impfset, haz_fl_1980).impact()\n",
    "imp_E1H0 = ImpactCalc(exp_pres, impfset, haz_fl_1980).impact()# Impact 2)  Hazard 2000  and Exposure 2020\n",
    "\n",
    "# Case 2 - H2020\n",
    "# Impact 1)  Hazard 2000  and Exposure 2000\n",
    "imp_E0H1 = ImpactCalc(exp_hist, impfset, haz_fl_2010).impact()\n",
    "imp_E1H1 = ImpactCalc(exp_pres, impfset, haz_fl_2010).impact()"
   ]
  },
  {
   "cell_type": "code",
   "execution_count": 557,
   "metadata": {},
   "outputs": [],
   "source": [
    "# Define the start and end years\n",
    "start_year = meas3.start\n",
    "end_year = meas3.end\n",
    "\n",
    "def interp_exp(year, exp1, year1, exp2, year2):\n",
    "    exp = exp1.copy()\n",
    "    years_mult = interpolate_years(year1, year2)\n",
    "    exp.gdf.value = years_mult[year - year1] * exp1.gdf.value + (1 - years_mult[year - year1]) * exp2.gdf.value\n",
    "    return exp\n",
    "exp_mid = interp_exp(year=meas3.start, exp_hist, years[0], exp_pres, years[1])\n",
    "\n",
    "# Snapshots\n",
    "# Haz impfset and exp at first meas application time\n",
    "m_exp, m_impf, m_haz = meas3.apply(exp_mid, impfset, haz_fl_1980)\n",
    "# Haz impfset and exp at second meas application time\n",
    "m_exp_2, m_impf_2, m_haz_2 = meas3.apply(exp_pres, impfset, haz_fl_2010)"
   ]
  },
  {
   "cell_type": "code",
   "execution_count": 558,
   "metadata": {},
   "outputs": [
    {
     "name": "stdout",
     "output_type": "stream",
     "text": [
      "2024-05-29 11:40:15,609 - climada.entity.exposures.base - INFO - Exposures matching centroids already found for RF\n",
      "2024-05-29 11:40:15,609 - climada.entity.exposures.base - INFO - Existing centroids will be overwritten for RF\n",
      "2024-05-29 11:40:15,610 - climada.entity.exposures.base - INFO - Matching 661396 exposures with 26472 centroids.\n",
      "2024-05-29 11:40:15,617 - climada.util.coordinates - INFO - No exact centroid match found. Reprojecting coordinates to nearest neighbor closer than the threshold = 100\n",
      "2024-05-29 11:40:16,304 - climada.engine.impact_calc - INFO - Calculating impact for 1969149 assets (>0) and 920 events.\n",
      "2024-05-29 11:40:16,445 - climada.entity.exposures.base - INFO - Exposures matching centroids already found for RF\n",
      "2024-05-29 11:40:16,446 - climada.entity.exposures.base - INFO - Existing centroids will be overwritten for RF\n",
      "2024-05-29 11:40:16,446 - climada.entity.exposures.base - INFO - Matching 661396 exposures with 26472 centroids.\n",
      "2024-05-29 11:40:16,454 - climada.util.coordinates - INFO - No exact centroid match found. Reprojecting coordinates to nearest neighbor closer than the threshold = 100\n",
      "2024-05-29 11:40:17,159 - climada.engine.impact_calc - INFO - Calculating impact for 1969149 assets (>0) and 920 events.\n",
      "2024-05-29 11:40:17,284 - climada.entity.exposures.base - INFO - Exposures matching centroids already found for RF\n",
      "2024-05-29 11:40:17,285 - climada.entity.exposures.base - INFO - Existing centroids will be overwritten for RF\n",
      "2024-05-29 11:40:17,285 - climada.entity.exposures.base - INFO - Matching 661396 exposures with 26472 centroids.\n",
      "2024-05-29 11:40:17,291 - climada.util.coordinates - INFO - No exact centroid match found. Reprojecting coordinates to nearest neighbor closer than the threshold = 100\n",
      "2024-05-29 11:40:17,974 - climada.engine.impact_calc - INFO - Calculating impact for 1969149 assets (>0) and 480 events.\n",
      "2024-05-29 11:40:18,120 - climada.entity.exposures.base - INFO - Exposures matching centroids already found for RF\n",
      "2024-05-29 11:40:18,120 - climada.entity.exposures.base - INFO - Existing centroids will be overwritten for RF\n",
      "2024-05-29 11:40:18,120 - climada.entity.exposures.base - INFO - Matching 661396 exposures with 26472 centroids.\n",
      "2024-05-29 11:40:18,126 - climada.util.coordinates - INFO - No exact centroid match found. Reprojecting coordinates to nearest neighbor closer than the threshold = 100\n",
      "2024-05-29 11:40:18,809 - climada.engine.impact_calc - INFO - Calculating impact for 1969149 assets (>0) and 480 events.\n"
     ]
    }
   ],
   "source": [
    "imp_mE0H0=  ImpactCalc(m_exp, m_impf, m_haz).impact()\n",
    "imp_mE1H0 = ImpactCalc(m_exp_2, m_impf_2, m_haz).impact()# Impact 2)  Hazard 2000  and Exposure 2020\n",
    "\n",
    "imp_mE0H1=  ImpactCalc(m_exp, m_impf, m_haz_2).impact()\n",
    "imp_mE1H1 = ImpactCalc(m_exp_2, m_impf_2, m_haz_2).impact()# Impact 2)  Hazard 2000  and Exposure 2020"
   ]
  },
  {
   "cell_type": "code",
   "execution_count": 575,
   "metadata": {},
   "outputs": [],
   "source": [
    "# Calculate the AAI for each year\n",
    "aai_0 = []\n",
    "eai_exp_0 = []\n",
    "eai_region_id_0 = []\n",
    "frequency = haz_fl_1980.frequency\n",
    "for year in range(start_year, end_year + 1):\n",
    "    imp_mat_intrpl = interpolate_sm(imp_mE0H0.imp_mat, imp_mE1H0.imp_mat, year, start_year, end_year)\n",
    "    # sum across the rows of the sparse matrix\n",
    "    eai_exp = ImpactCalc.eai_exp_from_mat(imp_mat_intrpl, frequency)\n",
    "    # Region_id (Groups)\n",
    "    eai_region_id_0.append(get_eai_exp(eai_exp, group_map_exp_dict))\n",
    "    eai_exp_0.append(eai_exp)\n",
    "    aai_0.append(ImpactCalc.aai_agg_from_eai_exp(eai_exp))\n",
    "\n",
    "# Calculate the AAI for each year\n",
    "aai_1 = []\n",
    "eai_exp_1 = []\n",
    "eai_region_id_1 = []\n",
    "frequency = haz_fl_2010.frequency\n",
    "for year in range(start_year, end_year + 1):\n",
    "    imp_mat_intrpl = interpolate_sm(imp_mE0H1.imp_mat, imp_mE1H1.imp_mat, year, start_year, end_year)\n",
    "    # sum across the rows of the sparse matrix\n",
    "    eai_exp = ImpactCalc.eai_exp_from_mat(imp_mat_intrpl, frequency)\n",
    "     # Region_id (Groups)\n",
    "    eai_region_id_1.append(get_eai_exp(eai_exp, group_map_exp_dict))\n",
    "    eai_exp_1.append(eai_exp)\n",
    "    aai_1.append(ImpactCalc.aai_agg_from_eai_exp(eai_exp))\n",
    "\n",
    "m_prop_H0 = prop_H0[start_year- years[0]:]\n",
    "m_prop_H1 = prop_H1[start_year - years[0]:]\n",
    "# Average Annual Impact across the years\n",
    "m_aai = m_prop_H0 * aai_0 + m_prop_H1 * aai_1\n",
    "# EAI exp across bthe years\n",
    "m_eai = np.multiply(m_prop_H0.reshape(-1,1), eai_exp_0) + np.multiply(m_prop_H1.reshape(-1,1), eai_exp_1)\n",
    "# EAI region_id across the years\n",
    "m_eai_region_id = np.multiply(m_prop_H0.reshape(-1,1), eai_region_id_0) + np.multiply(m_prop_H1.reshape(-1,1), eai_region_id_1)\n"
   ]
  },
  {
   "cell_type": "code",
   "execution_count": 576,
   "metadata": {},
   "outputs": [],
   "source": [
    "mtot_aai = np.concatenate([aai[0:start_year-years[0]], m_aai])\n",
    "mtot_eai = np.concatenate([eai[0:start_year-years[0]], m_eai])\n",
    "mtot_eai = np.concatenate([eai_region_id[0:start_year-years[0]], m_eai_region_id])"
   ]
  },
  {
   "cell_type": "code",
   "execution_count": 611,
   "metadata": {},
   "outputs": [
    {
     "data": {
      "text/plain": [
       "[<matplotlib.lines.Line2D at 0x1eac563e0>]"
      ]
     },
     "execution_count": 611,
     "metadata": {},
     "output_type": "execute_result"
    },
    {
     "data": {
      "image/png": "[encoded data removed]",
      "text/plain": [
       "<Figure size 640x480 with 1 Axes>"
      ]
     },
     "metadata": {},
     "output_type": "display_data"
    }
   ],
   "source": [
    "import matplotlib.pyplot as plt\n",
    "plt.plot(np.arange(years[0], years[1]+1), mtot_aai)\n",
    "plt.plot(np.arange(years[0], years[1]+1), aai)"
   ]
  },
  {
   "cell_type": "code",
   "execution_count": 613,
   "metadata": {},
   "outputs": [
    {
     "data": {
      "text/plain": [
       "[<matplotlib.lines.Line2D at 0x1e44cb010>]"
      ]
     },
     "execution_count": 613,
     "metadata": {},
     "output_type": "execute_result"
    },
    {
     "data": {
      "image/png": "[encoded data removed]",
      "text/plain": [
       "<Figure size 640x480 with 1 Axes>"
      ]
     },
     "metadata": {},
     "output_type": "display_data"
    }
   ],
   "source": [
    "import matplotlib.pyplot as plt\n",
    "plt.plot(np.arange(years[0], years[1]+1), aai-mtot_aai)"
   ]
  },
  {
   "cell_type": "markdown",
   "metadata": {},
   "source": [
    "## Make measures"
   ]
  },
  {
   "cell_type": "code",
   "execution_count": 39,
   "metadata": {},
   "outputs": [
    {
     "name": "stdout",
     "output_type": "stream",
     "text": [
      "The autoreload extension is already loaded. To reload it, use:\n",
      "  %reload_ext autoreload\n"
     ]
    }
   ],
   "source": [
    "%load_ext autoreload\n",
    "%autoreload 2"
   ]
  },
  {
   "cell_type": "code",
   "execution_count": 53,
   "metadata": {},
   "outputs": [],
   "source": [
    "from climada.entity.measures.base import Measure, helper_hazard, helper_impfset, helper_exposure"
   ]
  },
  {
   "cell_type": "code",
   "execution_count": 54,
   "metadata": {},
   "outputs": [],
   "source": [
    "haz_func = helper_hazard(0.7, -1)\n",
    "exp_func = helper_exposure(reassign_impf_id=2, haz_type='RF')\n",
    "impfset_func = helper_impfset(haz_type='RF', impf_mdd_modifier={2: (0.6)})"
   ]
  },
  {
   "cell_type": "code",
   "execution_count": 55,
   "metadata": {},
   "outputs": [],
   "source": [
    "meas1 = Measure(\n",
    "    name='test1', start_year=2015, end_year=2040,\n",
    "    exposures_change=exp_func, impfset_change=impfset_func, hazard_change=haz_func\n",
    "    )"
   ]
  },
  {
   "cell_type": "code",
   "execution_count": 56,
   "metadata": {},
   "outputs": [
    {
     "ename": "TypeError",
     "evalue": "'int' object is not subscriptable",
     "output_type": "error",
     "traceback": [
      "\u001b[0;31m---------------------------------------------------------------------------\u001b[0m",
      "\u001b[0;31mTypeError\u001b[0m                                 Traceback (most recent call last)",
      "Cell \u001b[0;32mIn[56], line 1\u001b[0m\n\u001b[0;32m----> 1\u001b[0m \u001b[43mmeas1\u001b[49m\u001b[38;5;241;43m.\u001b[39;49m\u001b[43mapply\u001b[49m\u001b[43m(\u001b[49m\u001b[43mexp_hist\u001b[49m\u001b[43m,\u001b[49m\u001b[43m \u001b[49m\u001b[43mimpfset\u001b[49m\u001b[43m,\u001b[49m\u001b[43m \u001b[49m\u001b[43mhaz_fl_1980\u001b[49m\u001b[43m)\u001b[49m\n",
      "File \u001b[0;32m~/Documents/Climada/climada_python/climada/entity/measures/base.py:89\u001b[0m, in \u001b[0;36mMeasure.apply\u001b[0;34m(self, exposures, impfset, hazard)\u001b[0m\n\u001b[1;32m     87\u001b[0m new_exp \u001b[38;5;241m=\u001b[39m \u001b[38;5;28mself\u001b[39m\u001b[38;5;241m.\u001b[39mexp_map(exposures)\n\u001b[1;32m     88\u001b[0m \u001b[38;5;66;03m# change impact functions\u001b[39;00m\n\u001b[0;32m---> 89\u001b[0m new_impfs \u001b[38;5;241m=\u001b[39m \u001b[38;5;28;43mself\u001b[39;49m\u001b[38;5;241;43m.\u001b[39;49m\u001b[43mimpfset_map\u001b[49m\u001b[43m(\u001b[49m\u001b[43mimpfset\u001b[49m\u001b[43m)\u001b[49m\n\u001b[1;32m     90\u001b[0m \u001b[38;5;66;03m# change hazard\u001b[39;00m\n\u001b[1;32m     91\u001b[0m new_haz \u001b[38;5;241m=\u001b[39m \u001b[38;5;28mself\u001b[39m\u001b[38;5;241m.\u001b[39mhaz_map(hazard)\n",
      "File \u001b[0;32m~/Documents/Climada/climada_python/climada/entity/measures/base.py:157\u001b[0m, in \u001b[0;36mhelper_impfset.<locals>.impfset_change\u001b[0;34m(impfset)\u001b[0m\n\u001b[1;32m    154\u001b[0m \u001b[38;5;28;01mif\u001b[39;00m impf\u001b[38;5;241m.\u001b[39mid \u001b[38;5;129;01min\u001b[39;00m impf_intensity_modifier\u001b[38;5;241m.\u001b[39mkeys():\n\u001b[1;32m    155\u001b[0m     impf_inten \u001b[38;5;241m=\u001b[39m impf_intensity_modifier[impf\u001b[38;5;241m.\u001b[39mid][\u001b[38;5;241m0\u001b[39m]\n\u001b[1;32m    156\u001b[0m     impf\u001b[38;5;241m.\u001b[39mintensity \u001b[38;5;241m=\u001b[39m np\u001b[38;5;241m.\u001b[39mmaximum(\n\u001b[0;32m--> 157\u001b[0m         impf\u001b[38;5;241m.\u001b[39mintensity \u001b[38;5;241m*\u001b[39m \u001b[43mimpf_inten\u001b[49m\u001b[43m[\u001b[49m\u001b[38;5;241;43m0\u001b[39;49m\u001b[43m]\u001b[49m \u001b[38;5;241m-\u001b[39m impf_inten[\u001b[38;5;241m1\u001b[39m], \u001b[38;5;241m0.0\u001b[39m\n\u001b[1;32m    158\u001b[0m         )\n\u001b[1;32m    159\u001b[0m \u001b[38;5;28;01mif\u001b[39;00m impf\u001b[38;5;241m.\u001b[39mid \u001b[38;5;129;01min\u001b[39;00m impf_mdd_modifier\u001b[38;5;241m.\u001b[39mkeys():\n\u001b[1;32m    160\u001b[0m     impf_mdd \u001b[38;5;241m=\u001b[39m impf_mdd_modifier[impf\u001b[38;5;241m.\u001b[39mid][\u001b[38;5;241m0\u001b[39m]\n",
      "\u001b[0;31mTypeError\u001b[0m: 'int' object is not subscriptable"
     ]
    }
   ],
   "source": [
    "meas1.apply(exp_hist, impfset, haz_fl_1980)"
   ]
  },
  {
   "cell_type": "code",
   "execution_count": null,
   "metadata": {},
   "outputs": [],
   "source": [
    "meas1.apply(exp_hist, impfset, haz_fl_1980)"
   ]
  },
  {
   "cell_type": "markdown",
   "metadata": {},
   "source": []
  }
 ],
 "metadata": {
  "kernelspec": {
   "display_name": "climada_env",
   "language": "python",
   "name": "python3"
  },
  "language_info": {
   "codemirror_mode": {
    "name": "ipython",
    "version": 3
   },
   "file_extension": ".py",
   "mimetype": "text/x-python",
   "name": "python",
   "nbconvert_exporter": "python",
   "pygments_lexer": "ipython3",
   "version": "3.10.0"
  }
 },
 "nbformat": 4,
 "nbformat_minor": 2
}
