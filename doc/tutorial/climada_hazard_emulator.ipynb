{
 "cells": [
  {
   "cell_type": "markdown",
   "metadata": {},
   "source": [
    "Hazard Emulator\n",
    "===============\n",
    "\n",
    "Given a database of hazard events, the subpackage `climada.hazard.emulator` provides tools to sample time series of events according to a climate scenario in a specific georegion.\n",
    "\n",
    "The given event database is supposed to be divided into a (smaller) set of observed hazard events and a (much larger) set of simulated hazard events. The database of observed events is used to statistically fit the frequency and intensity of events in a fixed georegion to (observed) climate indices. Then, given a hypothetical (future) time series of these climate indices (a \"climate scenario\"), a \"hazard emulator\" can draw random samples from the larger database of simulated hazard events that mimic the expected occurrence of events under the given climate scenario in the specified georegion.\n",
    "\n",
    "The concept and algorithm as applied to tropical cyclones is originally due to Tobias Geiger (unpublished as of now) and has been generalized within this package by Thomas Vogt.\n",
    "\n",
    "This notebook illustrates the functionality through the example of tropical cyclones in the Pacific Ocean under the RCP 2.6 climate scenario according to the MIROC5 global circulation model (GCM).\n",
    "\n",
    "### About the input data used for this notebook\n",
    "\n",
    "For historical reasons, this example loads tropical cyclone windfields that have been\n",
    "precomputed with the old MATLAB version of CLIMADA. However, the computation can be done with\n",
    "current Python-based versions of CLIMADA, as well. Since windfield computation is quite time-consuming,\n",
    "the windfield computation is not part of this notebook, but precomputed windfields are used.\n",
    "\n",
    "The example is based on simulated TC tracks provided by Kerry Emanuel for ISIMIP (version 2b).\n",
    "The tracks and precomputed windfields are placed in the following directories:\n",
    "```\n",
    "$CLIMADA_DIR/data/emulator/tracks/*.mat\n",
    "$CLIMADA_DIR/data/emulator/windfields/*.mat\n",
    "```\n",
    "\n",
    "Precomputed windfields for the IBTrACS TCs are in\n",
    "```\n",
    "$CLIMADA_DIR/data/emulator/windfields/GLB_0360as_hazard_1950-2015.mat\n",
    "```\n",
    "\n",
    "The climate index time series for the different GCMs and RCPs should be available in\n",
    "```\n",
    "$CLIMADA_DIR/data/emulator/climate_index/*.csv\n",
    "```\n",
    "\n",
    "Accordingly, we define an input data directory as follows:"
   ]
  },
  {
   "cell_type": "code",
   "execution_count": 1,
   "metadata": {},
   "outputs": [
    {
     "name": "stdout",
     "output_type": "stream",
     "text": [
      "2020-08-07 09:52:01,780 - climada - DEBUG - Loading default config file: /home/tovogt/code/climada_python/climada/conf/defaults.conf\n"
     ]
    }
   ],
   "source": [
    "from climada.util.constants import DEMO_DIR\n",
    "EMULATOR_DATA_DIR = DEMO_DIR.joinpath(\"emulator\")"
   ]
  },
  {
   "cell_type": "markdown",
   "metadata": {},
   "source": [
    "### Load the input data\n",
    "First, we choose the georegion of interest: a TC ocean basin (Eastern North Pacific). Only hazard intensities observable within this region will be loaded:"
   ]
  },
  {
   "cell_type": "code",
   "execution_count": 2,
   "metadata": {},
   "outputs": [],
   "source": [
    "from climada.hazard.emulator.geo import TCRegion\n",
    "reg = TCRegion(tc_basin=\"EP\")"
   ]
  },
  {
   "cell_type": "markdown",
   "metadata": {},
   "source": [
    "Next, we load the database of observed events which is made up of IBTrACS storms within a known reliable time period:"
   ]
  },
  {
   "cell_type": "code",
   "execution_count": 3,
   "metadata": {},
   "outputs": [
    {
     "name": "stdout",
     "output_type": "stream",
     "text": [
      "2020-08-07 09:52:04,652 - climada.hazard.base - INFO - Reading /home/tovogt/code/climada_python/data/emulator/windfields/GLB_0360as_hazard_1950-2015.mat\n",
      "2020-08-07 09:52:06,129 - climada.hazard.centroids.centr - INFO - Reading /home/tovogt/code/climada_python/data/emulator/windfields/GLB_0360as_hazard_1950-2015.mat\n"
     ]
    }
   ],
   "source": [
    "import datetime as dt\n",
    "import numpy as np\n",
    "import shapely\n",
    "from climada.hazard import TropCyclone, TCTracks\n",
    "from climada.hazard.base import DEF_VAR_MAT\n",
    "from climada.hazard.emulator.const import TC_BASIN_NORM_PERIOD\n",
    "\n",
    "def _ibtracs_id2meta(id_int):\n",
    "    \"\"\"Derive storm meta data from ibtracs storm ID (int)\"\"\"\n",
    "    id_str = str(int(id_int))\n",
    "    hemisphere = 'N' if id_str[7] == '0' else 'S'\n",
    "    id_str = id_str[:7] + hemisphere + id_str[8:]\n",
    "    year = int(id_str[:4])\n",
    "    days = int(id_str[4:7])\n",
    "    date = dt.datetime(year, 1, 1) + dt.timedelta(days - 1)\n",
    "    return (id_str, year, date.month, date.day, hemisphere)\n",
    "\n",
    "def ibtracs_windfields(region, period=None):\n",
    "    \"\"\"Load subset of precomputed windfields for ibtracs TCs (1950-2015)\n",
    "\n",
    "    Parameters\n",
    "    ----------\n",
    "    region : TCRegion object\n",
    "        The geographical region to consider.\n",
    "    period : pair of ints (minyear, maxyear)\n",
    "        First and last year to consider.\n",
    "\n",
    "    Returns\n",
    "    -------\n",
    "    windfields : climada.hazard.TropCyclone object\n",
    "    \"\"\"\n",
    "    var_names = DEF_VAR_MAT\n",
    "    var_names['var_name']['even_id'] = \"ID_no\"\n",
    "\n",
    "    fname = 'GLB_0360as_hazard_1950-2015.mat'\n",
    "    path = EMULATOR_DATA_DIR.joinpath(\"windfields\", fname)\n",
    "    windfields = TropCyclone()\n",
    "    windfields.read_mat(path, var_names=var_names)\n",
    "    ibtracs_meta = [_ibtracs_id2meta(i) for i in windfields.event_id]\n",
    "    dates = [dt.date(*m[1:4]).toordinal() for m in ibtracs_meta]\n",
    "    windfields.date = np.array(dates, dtype=np.int64)\n",
    "    windfields.event_name = [m[0] for m in ibtracs_meta]\n",
    "    windfields.event_id = np.arange(len(ibtracs_meta))\n",
    "\n",
    "    # identify centroids in specified region\n",
    "    lat, lon = windfields.centroids.lat, windfields.centroids.lon\n",
    "    windfields.centroids.region_id \\\n",
    "        = shapely.vectorized.contains(region.shape, lon, lat)\n",
    "\n",
    "    # select windfields in specified period and region\n",
    "    if period is not None:\n",
    "        period = [f\"{period[0]}-01-01\", f\"{period[0]}-12-31\"]\n",
    "    windfields = windfields.select(date=period, reg_id=1)\n",
    "\n",
    "    return windfields\n",
    "\n",
    "def precompute_ibtracs_windfields():\n",
    "    \"\"\"This is how you would precompute the IBTrACS windfields in climada_python\"\"\"\n",
    "    tracks = TCTracks()\n",
    "    tracks.read_ibtracs_netcdf(year_range=(1950, 2019), estimate_missing=True)\n",
    "    tracks.equal_timestep(time_step_h=1)\n",
    "    fname = 'GLB_0360as_hazard_1950-2019.hdf5'\n",
    "    path = EMULATOR_DATA_DIR.joinpath(\"windfields\", fname)\n",
    "    windfields = TropCyclone()\n",
    "    windfields.set_from_tracks(tracks)\n",
    "    windfields.write_hdf5(path)\n",
    "\n",
    "norm_period = TC_BASIN_NORM_PERIOD[reg.tc_basin[:2]]\n",
    "windfields_obs = ibtracs_windfields(reg, period=norm_period)"
   ]
  },
  {
   "cell_type": "markdown",
   "metadata": {},
   "source": [
    "As a database of simulated TC events we use the TC tracks provided by Kerry Emanuel for ISIMIP2b:"
   ]
  },
  {
   "cell_type": "code",
   "execution_count": 4,
   "metadata": {},
   "outputs": [
    {
     "name": "stdout",
     "output_type": "stream",
     "text": [
      "2020-08-07 09:52:09,031 - climada.hazard.base - INFO - Reading /home/tovogt/code/climada_python/data/emulator/windfields/Trial1_GB_dkmiroc_20thcal_N_0360as.mat\n",
      "2020-08-07 09:52:09,802 - climada.hazard.centroids.centr - INFO - Reading /home/tovogt/code/climada_python/data/emulator/windfields/Trial1_GB_dkmiroc_20thcal_N_0360as.mat\n",
      "2020-08-07 09:52:13,037 - climada.hazard.base - INFO - Reading /home/tovogt/code/climada_python/data/emulator/windfields/Trial1_GB_dkmiroc_rcp26cal_N_0360as.mat\n",
      "2020-08-07 09:52:14,463 - climada.hazard.centroids.centr - INFO - Reading /home/tovogt/code/climada_python/data/emulator/windfields/Trial1_GB_dkmiroc_rcp26cal_N_0360as.mat\n",
      "2020-08-07 09:52:20,945 - climada.hazard.base - INFO - Reading /home/tovogt/code/climada_python/data/emulator/windfields/Trial1_GB_dkmiroc_rcp60cal_N_0360as.mat\n",
      "2020-08-07 09:52:22,863 - climada.hazard.centroids.centr - INFO - Reading /home/tovogt/code/climada_python/data/emulator/windfields/Trial1_GB_dkmiroc_rcp60cal_N_0360as.mat\n",
      "2020-08-07 09:52:29,945 - climada.hazard.base - INFO - Reading /home/tovogt/code/climada_python/data/emulator/windfields/Trial1_GB_dkmiroc_rcp85cal_N_0360as.mat\n",
      "2020-08-07 09:52:31,705 - climada.hazard.centroids.centr - INFO - Reading /home/tovogt/code/climada_python/data/emulator/windfields/Trial1_GB_dkmiroc_rcp85cal_N_0360as.mat\n",
      "2020-08-07 09:52:41,342 - climada.hazard.base - INFO - Reading /home/tovogt/code/climada_python/data/emulator/windfields/Trial1_GB_dkmiroc_20thcal_N_0360as.mat\n",
      "2020-08-07 09:52:42,160 - climada.hazard.centroids.centr - INFO - Reading /home/tovogt/code/climada_python/data/emulator/windfields/Trial1_GB_dkmiroc_20thcal_N_0360as.mat\n",
      "2020-08-07 09:52:45,797 - climada.hazard.base - INFO - Reading /home/tovogt/code/climada_python/data/emulator/windfields/Trial1_GB_dkmiroc_rcp26cal_N_0360as.mat\n",
      "2020-08-07 09:52:47,438 - climada.hazard.centroids.centr - INFO - Reading /home/tovogt/code/climada_python/data/emulator/windfields/Trial1_GB_dkmiroc_rcp26cal_N_0360as.mat\n"
     ]
    }
   ],
   "source": [
    "import pandas as pd\n",
    "\n",
    "def emanuel_meta():\n",
    "    meta_path = EMULATOR_DATA_DIR.joinpath(\"emanuel_fnames.csv\")\n",
    "    if meta_path.exists():\n",
    "        return pd.read_csv(meta_path)\n",
    "\n",
    "    pattern = \"(temp_|Trial(?P<trial>[0-9])_GB_dk)\" \\\n",
    "              \"(?P<gcm>[0-9a-z]+)_?\" \\\n",
    "              \"((?P<rcp>piControl|20th|rcp[0-9]{2})cal)(|_full)_\" \\\n",
    "              \"(?P<hemisphere>N|S)_0360as\\.mat\"\n",
    "    prog = re.compile(pattern)\n",
    "    df = []\n",
    "    for path in glob.glob(str(EMULATOR_DATA_DIR.joinpath(\"windfields\", \"*.mat\"))):\n",
    "        m = prog.match(path.name)\n",
    "        try:\n",
    "            haz = h5py.File(path, \"r\")['hazard']\n",
    "        except OSError:\n",
    "            continue\n",
    "        is_rcp85 = \"rcp85\" if m.group(\"trial\") is None else m.group(\"rcp\")\n",
    "        df.append({\n",
    "            \"basename\": fname[:-13],\n",
    "            \"windfield_fname\": fname,\n",
    "            \"minyear\": int(haz['yyyy'][0,0]),\n",
    "            \"maxyear\": int(haz['yyyy'][-1,0]),\n",
    "            \"gcm\": gcm_trans_inv(m.group(\"gcm\"), is_rcp85),\n",
    "            \"rcp\": m.group(\"rcp\"),\n",
    "            \"hemisphere\": m.group(\"hemisphere\"),\n",
    "            \"trial\": 0 if is_rcp85 == \"rcp85\" else int(m.group(\"trial\")),\n",
    "            \"tracks_per_year\": 600 if is_rcp85 == \"rcp85\" else 300,\n",
    "        })\n",
    "    cols = [\"basename\", \"windfield_fname\", \"minyear\", \"maxyear\",\n",
    "            \"gcm\", \"rcp\",  \"hemisphere\", \"trial\", \"tracks_per_year\"]\n",
    "    df = pd.DataFrame(df, columns=cols)\n",
    "    df = df.sort_values(by=[\"gcm\", \"rcp\", \"minyear\", \"hemisphere\"])\n",
    "    df.to_csv(meta_path, index=None)\n",
    "    return df\n",
    "\n",
    "def emanuel_windfields(region, gcm=None, rcp=None, period=None, trial=None):\n",
    "    \"\"\" Load pre-calculated windfields for simulated storm tracks\n",
    "\n",
    "    Parameters\n",
    "    ----------\n",
    "    region : TCRegion object\n",
    "        The geographical region to consider. This is not optional since\n",
    "        windfields are separated by hemisphere.\n",
    "    gcm : list of str, optional\n",
    "        Name of GCMs, such as \"MPI-ESM-MR\".\n",
    "    rcp : list of str, optional\n",
    "        Name of RCPs, such as \"rcp26\". The historical data (\"20th\") doesn't need\n",
    "        to be selected explicitly.\n",
    "    period : pair of ints (minyear, maxyear), optional\n",
    "        First and last year to consider.\n",
    "    trial : list of int, optional\n",
    "        Trials to include in the selection. By default, 2 and 3 are excluded\n",
    "        and 0 is only used for rcp85.\n",
    "\n",
    "    Returns\n",
    "    -------\n",
    "    windfields : climada.hazard.TropCyclone object\n",
    "    \"\"\"\n",
    "    meta = emanuel_meta()\n",
    "    meta = meta[meta['hemisphere'] == region.hemisphere]\n",
    "\n",
    "    if trial is None:\n",
    "        trial = [1, 4]\n",
    "        if rcp is not None and \"rcp85\" in rcp:\n",
    "            trial.append(0)\n",
    "    meta = meta[meta['trial'].isin(trial)]\n",
    "\n",
    "    if gcm is not None:\n",
    "        meta = meta[meta['gcm'].isin(gcm)]\n",
    "\n",
    "    if rcp is not None:\n",
    "        meta = meta[(meta['rcp'] == '20th') | meta['rcp'].isin(rcp)]\n",
    "\n",
    "    # intersection with specified period\n",
    "    if period is not None:\n",
    "        meta = meta[(period[0] <= meta['maxyear']) & (meta['minyear'] <= period[1])]\n",
    "\n",
    "    if meta.shape[0] == 0:\n",
    "        raise Exception(\"Given gcm/rcp/period matches no trials!\")\n",
    "\n",
    "    hazards = []\n",
    "    for idx, row in meta.iterrows():\n",
    "        fname = row['windfield_fname']\n",
    "        path = EMULATOR_DATA_DIR.joinpath(\"windfields\", fname)\n",
    "        haz = TropCyclone()\n",
    "        haz.read_mat(path)\n",
    "        haz.event_name = [f\"{fname}-{n}\" for n in haz.event_name]\n",
    "        # some datasets include centroids beyond 60° that are irrelevant for TC hazards\n",
    "        cutidx = 901186 if region.hemisphere == 'N' else 325229\n",
    "        haz.centroids.region_id = np.zeros_like(haz.centroids.lat)\n",
    "        haz.centroids.region_id[:cutidx] = 1\n",
    "        haz = haz.select(reg_id=1)\n",
    "        hazards.append(haz)\n",
    "    windfields = TropCyclone()\n",
    "    windfields.concatenate(hazards)\n",
    "\n",
    "    # identify centroids in specified region\n",
    "    lat, lon = windfields.centroids.lat, windfields.centroids.lon\n",
    "    windfields.centroids.region_id \\\n",
    "        = shapely.vectorized.contains(region.shape, lon, lat)\n",
    "\n",
    "    # select windfields in specified period and region\n",
    "    if period is not None:\n",
    "        period = (f\"{period[0]}-01-01\", f\"{period[1]}-12-31\")\n",
    "    windfields = windfields.select(date=period, reg_id=1)\n",
    "\n",
    "    return windfields\n",
    "\n",
    "# one database for sampling, and one for the statistical calibration (bias correction) according to the chosen climate scenario:\n",
    "windfields_pool = emanuel_windfields(reg, gcm=[\"MIROC5\"], period=(1950, 2100))\n",
    "windfields_rcp = emanuel_windfields(reg, gcm=[\"MIROC5\"], rcp=[\"rcp26\"], period=(1950, 2015))"
   ]
  },
  {
   "cell_type": "markdown",
   "metadata": {},
   "source": [
    "### Extract events that affect the region of interest\n",
    "From the Hazard objects, we extract those events that actually \"affect\" the georegion of interest and store for each the maximum intensity observed within the region:"
   ]
  },
  {
   "cell_type": "code",
   "execution_count": 5,
   "metadata": {},
   "outputs": [
    {
     "name": "stdout",
     "output_type": "stream",
     "text": [
      "2020-08-07 09:52:55,232 - climada.hazard.emulator.stats - INFO - Condensing 5688 hazards to 316 max events ...\n",
      "2020-08-07 09:52:56,148 - climada.hazard.emulator.stats - INFO - Condensing 58401 hazards to 15474 max events ...\n",
      "2020-08-07 09:52:56,908 - climada.hazard.emulator.stats - INFO - Condensing 10908 hazards to 2921 max events ...\n"
     ]
    }
   ],
   "source": [
    "from climada.hazard.emulator.stats import haz_max_events\n",
    "\n",
    "# for this example, we regard regions as `affected` if they face at least 34 knots wind speeds\n",
    "KNOTS_2_MS = 0.514444\n",
    "MIN_WIND_KT = 34\n",
    "MIN_WIND_MS = MIN_WIND_KT * KNOTS_2_MS\n",
    "\n",
    "tc_events_obs = haz_max_events(windfields_obs, min_thresh=MIN_WIND_MS)\n",
    "tc_events_pool = haz_max_events(windfields_pool, min_thresh=MIN_WIND_MS)\n",
    "tc_events_rcp = haz_max_events(windfields_rcp, min_thresh=MIN_WIND_MS)"
   ]
  },
  {
   "cell_type": "markdown",
   "metadata": {},
   "source": [
    "From the simulated TC tracks in ISIMIP we can extract a time series of expected global annual TC frequencies under the given RCP:"
   ]
  },
  {
   "cell_type": "code",
   "execution_count": 6,
   "metadata": {},
   "outputs": [],
   "source": [
    "import scipy.io\n",
    "\n",
    "def emanuel_frequency_normalization(gcm, rcp, period):\n",
    "    \"\"\" Frequency normalization factors for given GCM and RCP, in 1950-2100\n",
    "\n",
    "    Parameters\n",
    "    ----------\n",
    "    gcm : str\n",
    "        Name of GCM, such as \"MPI-ESM-MR\".\n",
    "    rcp : str\n",
    "        Name of RCP, such as \"rcp26\".\n",
    "    period : pair of ints (minyear, maxyear)\n",
    "        First and last year to consider.\n",
    "\n",
    "    Returns\n",
    "    -------\n",
    "    freq_norm : DataFrame { year, freq }\n",
    "        Information about the relative surplus of simulated events, i.e.,\n",
    "        if `freq_norm` specifies the value 0.2 in some year, then it is\n",
    "        assumed that the number of events simulated for that year is 5 times as\n",
    "        large as it is estimated to be.\n",
    "    \"\"\"\n",
    "    meta = emanuel_meta()\n",
    "    meta = meta[meta['hemisphere'] == 'N']\n",
    "    meta = meta[(meta['trial'] != 2) & (meta['trial'] != 3)]\n",
    "    if rcp != \"rcp85\":\n",
    "        meta = meta[meta['trial'] != 0]\n",
    "    meta = meta[(meta['gcm'] == gcm)]\n",
    "    meta = meta[(meta['rcp'] == '20th') | (meta['rcp'] == rcp)]\n",
    "    freq = []\n",
    "    for idx, row in meta.iterrows():\n",
    "        path = EMULATOR_DATA_DIR.joinpath(\"tracks\", f\"{row['basename']}.mat\")\n",
    "        tracks = scipy.io.loadmat(path, variable_names=['yearstore', 'freqyear'])\n",
    "        freq.append(pd.DataFrame({\n",
    "            'year': np.unique(tracks['yearstore'].ravel()),\n",
    "            'freq': tracks['freqyear'].ravel() / row['tracks_per_year'],\n",
    "        }))\n",
    "    freq = pd.concat(freq, ignore_index=True)\n",
    "    freq = freq[(period[0] <= freq['year']) & (freq['year'] <= period[1])]\n",
    "    freq = freq.sort_values(by=[\"year\"]).reset_index(drop=True)\n",
    "    return freq\n",
    "\n",
    "freq = emanuel_frequency_normalization(\"MIROC5\", \"rcp26\", (1950, 2015))"
   ]
  },
  {
   "cell_type": "markdown",
   "metadata": {},
   "source": [
    "### Initialize and calibrate the hazard emulator\n",
    "We have all data that is required to set up a hazard emulator:"
   ]
  },
  {
   "cell_type": "code",
   "execution_count": 7,
   "metadata": {},
   "outputs": [
    {
     "name": "stdout",
     "output_type": "stream",
     "text": [
      "2020-08-07 09:52:57,405 - climada.hazard.emulator.random - INFO - Results of intensity normalization by subsampling:\n",
      "2020-08-07 09:52:57,405 - climada.hazard.emulator.random - INFO - - drop 66% of entries satisfying 'intensity > 37.89053267580431'\n",
      "2020-08-07 09:52:57,406 - climada.hazard.emulator.random - INFO - - mean intensity of simulated events before dropping is 37.8905\n",
      "2020-08-07 09:52:57,406 - climada.hazard.emulator.random - INFO - - mean intensity of simulated events after dropping is 33.1730\n",
      "2020-08-07 09:52:57,406 - climada.hazard.emulator.random - INFO - - mean intensity of observed events is 32.5577\n"
     ]
    }
   ],
   "source": [
    "from climada.hazard.emulator.emulator import EventPool, HazardEmulator\n",
    "em = HazardEmulator(tc_events_rcp, tc_events_obs, reg, freq, pool=EventPool(tc_events_pool))"
   ]
  },
  {
   "cell_type": "markdown",
   "metadata": {},
   "source": [
    "We calibrate the emulator, i.e., we determine a statistical connection between climate indices (GMT and ENSO in this example) and `tc_events_rcp`:"
   ]
  },
  {
   "cell_type": "code",
   "execution_count": 8,
   "metadata": {},
   "outputs": [],
   "source": [
    "def climate_index(gcm, rcp, index, running_mean=21):\n",
    "    \"\"\" Load time series of a climate index (e.g. GMT) for a given GCM/RCP\n",
    "\n",
    "    The time period is 1861-2100 (1861-2299 for rcp26)\n",
    "\n",
    "    The data is concatenated from historical and future datasets, applying a\n",
    "    21-year running mean in the case of GMT-based indices.\n",
    "\n",
    "    CAUTION: For the running mean, the data is *extended* at the edges by\n",
    "    repeating the edge values; thereby any trend present in the data will\n",
    "    become attenuated at the edges!\n",
    "\n",
    "    GMT data is relative to piControl mean over 500 year reference period.\n",
    "\n",
    "    Parameters\n",
    "    ----------\n",
    "    gcm : str\n",
    "        Name of GCM, such as \"MPI-ESM-MR\".\n",
    "    rcp : str\n",
    "        Name of RCP, such as \"rcp26\".\n",
    "    index : str\n",
    "        Name of index, one of [\"gmt\", \"gmtTR\", \"esoi\", \"nao\", \"nino34\", \"pdo\"],\n",
    "\n",
    "            GMT : Global mean (surface) temperature\n",
    "            GMT TR : GMT in the tropics, between -30 and +30 degrees latitude\n",
    "            ESOI : El Nino southern oscillation index\n",
    "            NAO : North Atlantic Oscillation\n",
    "            NINO34 : Nino 3.4 sea surface temperature index\n",
    "            PDO : Pacific decadal oscillation\n",
    "    running_mean : int\n",
    "        For GMT data, the running mean period. Defaults to 21.\n",
    "\n",
    "    Returns\n",
    "    -------\n",
    "    ci : DataFrame { year, month, `index` }\n",
    "        Monthly data of given climate index.\n",
    "    \"\"\"\n",
    "    index_path = EMULATOR_DATA_DIR.joinpath(\"climate_index\")\n",
    "    base_min, base_max, avg_interval = ({\n",
    "        'gmt': (1971, 2000, ''),\n",
    "        'gmtTR': (1971, 2000, ''),\n",
    "        'esoi': (1950, 1979, '_3m'),\n",
    "        'nao': (1950, 1979, '_3m'),\n",
    "        'nino34': (1950, 1979, '_3m'),\n",
    "        'pdo': (1971, 2000, ''),\n",
    "    })[index]\n",
    "\n",
    "    allmin = 1861\n",
    "    allmax = 2299 if rcp == 'rcp26' else 2100\n",
    "\n",
    "    ci = pd.DataFrame()\n",
    "    periods = [('historical', allmin, 2005), (rcp, 2006, allmax)]\n",
    "    for pname, minyear, maxyear in periods:\n",
    "        fname = f\"{index}-index_monthly_{gcm}-{pname}_{minyear}-{maxyear}\" \\\n",
    "                f\"_base-{base_min}-{base_max}{avg_interval}.csv\"\n",
    "        path = index_path.joinpath(fname)\n",
    "        if index == 'pdo':\n",
    "            tmp = pd.read_csv(path, delim_whitespace=True, skiprows=1, header=None)\n",
    "            cols = ['time', 'pdo']\n",
    "            tmp.columns = cols\n",
    "        else:\n",
    "            tmp = pd.read_csv(path)\n",
    "            if 'Unnamed: 0' in tmp.columns:\n",
    "                del tmp['Unnamed: 0']\n",
    "        ci = ci.append(tmp).reset_index(drop=True)\n",
    "    year_month_day = ci['time'].str.split(\"-\", expand=True)\n",
    "    ci['year'] = year_month_day[0].astype(int)\n",
    "    ci['month'] = year_month_day[1].astype(int)\n",
    "    ci = ci.drop(labels=['time'], axis=1)\n",
    "    if ci['year'].max() == 2099:\n",
    "        ci2100 = ci[ci['year'] == 2099]\n",
    "        ci2100['year'] = 2100\n",
    "        ci = ci.append(ci2100)\n",
    "\n",
    "    if index in ['gmt', 'gmtTR']:\n",
    "        # define GMT change wrt piControl mean and apply running mean\n",
    "        minyear, maxyear = ({\n",
    "            'GFDL-ESM2M': (1, 500),\n",
    "            'IPSL-CM5A-LR': (1800, 2299),\n",
    "            'MIROC5': (2000, 2499),\n",
    "            'HadGEM2-ES': (1900, 2399),\n",
    "        })[gcm]\n",
    "        fname = f\"{index}-index_monthly_{gcm}-piControl_{minyear}-{maxyear}\" \\\n",
    "                f\"_base-{minyear}-{maxyear}.csv\"\n",
    "        path = index_path.joinpath(fname)\n",
    "        ci[index] = ci[index] - pd.read_csv(path)['gmt'].mean()\n",
    "\n",
    "        N = running_mean\n",
    "        halfwin = N // 2\n",
    "        padded_data = np.pad(ci[index].to_numpy(), halfwin, mode='edge')\n",
    "        ci[index] = np.convolve(padded_data, np.ones(N)/N, mode='valid')\n",
    "\n",
    "    return ci\n",
    "\n",
    "ci = [climate_index(\"MIROC5\", \"rcp26\", ci) for ci in [\"gmt\", \"esoi\"]]\n",
    "em.calibrate_statistics(ci)"
   ]
  },
  {
   "cell_type": "markdown",
   "metadata": {},
   "source": [
    "Now that the emulator is calibrated, we use GMT and ENSO time series to predict TC statistics under the chosen climate scenario:"
   ]
  },
  {
   "cell_type": "code",
   "execution_count": 9,
   "metadata": {},
   "outputs": [
    {
     "name": "stdout",
     "output_type": "stream",
     "text": [
      "2020-08-07 09:52:57,505 - climada.hazard.emulator.emulator - INFO - Predicting TCs with new climate index dataset...\n"
     ]
    }
   ],
   "source": [
    "em.predict_statistics(ci)"
   ]
  },
  {
   "cell_type": "markdown",
   "metadata": {},
   "source": [
    "### Draw samples according to climate scenario\n",
    "The emulator can now be used to sample hypothetical events within an arbitrary time period covered by the climate index time series used above:"
   ]
  },
  {
   "cell_type": "code",
   "execution_count": 10,
   "metadata": {},
   "outputs": [
    {
     "name": "stdout",
     "output_type": "stream",
     "text": [
      "2020-08-07 09:52:57,527 - climada.hazard.emulator.emulator - INFO - Drawing 100 realizations for period  (2020, 2050)\n",
      "2020 ... 2050 ... 2050\n"
     ]
    }
   ],
   "source": [
    "draws = em.draw_realizations(100, (2020, 2050))"
   ]
  },
  {
   "cell_type": "markdown",
   "metadata": {},
   "source": [
    "The returned object `draws` is a `DataFrame` with each row corresponding to a storm event from the hazard pool `windfields_pool` (see above): The column `real_id` assigns one of 100 realizations to each of the events while the columns `id` and `name` are the unique ID and name used in `windfields_pool` to identify this hazard event. The column `year` indicates the year in which the event would occur under the hypothetical climate scenario and will usually differ from the date associated with the event in `windfields_pool`."
   ]
  },
  {
   "cell_type": "code",
   "execution_count": 11,
   "metadata": {},
   "outputs": [
    {
     "name": "stdout",
     "output_type": "stream",
     "text": [
      "       id                                           name  year  real_id\n",
      "0   29344   Trial1_GB_dkmiroc_rcp60cal_N_0360as.mat-6076  2020        0\n",
      "1   28893   Trial1_GB_dkmiroc_rcp60cal_N_0360as.mat-5272  2020        0\n",
      "2   50512  Trial1_GB_dkmiroc_rcp85cal_N_0360as.mat-14879  2020        0\n",
      "3     210     Trial1_GB_dkmiroc_20thcal_N_0360as.mat-328  2020        0\n",
      "4   30111   Trial1_GB_dkmiroc_rcp60cal_N_0360as.mat-7503  2020        0\n",
      "5   27807   Trial1_GB_dkmiroc_rcp60cal_N_0360as.mat-3499  2020        0\n",
      "6   25513  Trial1_GB_dkmiroc_rcp26cal_N_0360as.mat-27994  2020        0\n",
      "7    8970   Trial1_GB_dkmiroc_20thcal_N_0360as.mat-16451  2020        1\n",
      "8   41882  Trial1_GB_dkmiroc_rcp60cal_N_0360as.mat-28187  2020        1\n",
      "9   33033  Trial1_GB_dkmiroc_rcp60cal_N_0360as.mat-12694  2020        1\n",
      "10  13170   Trial1_GB_dkmiroc_rcp26cal_N_0360as.mat-7212  2020        1\n",
      "11  37879  Trial1_GB_dkmiroc_rcp60cal_N_0360as.mat-21292  2020        1\n",
      "12   1252    Trial1_GB_dkmiroc_20thcal_N_0360as.mat-2161  2020        1\n",
      "13  20287  Trial1_GB_dkmiroc_rcp26cal_N_0360as.mat-19475  2020        2\n",
      "14  30980   Trial1_GB_dkmiroc_rcp60cal_N_0360as.mat-9074  2020        2\n",
      "15  32587  Trial1_GB_dkmiroc_rcp60cal_N_0360as.mat-11892  2020        2\n",
      "16  56887  Trial1_GB_dkmiroc_rcp85cal_N_0360as.mat-25691  2020        2\n",
      "17  42985   Trial1_GB_dkmiroc_rcp85cal_N_0360as.mat-1651  2020        2\n",
      "18  54592  Trial1_GB_dkmiroc_rcp85cal_N_0360as.mat-21784  2020        2\n",
      "19   2511    Trial1_GB_dkmiroc_20thcal_N_0360as.mat-4481  2020        3\n",
      "20   4082    Trial1_GB_dkmiroc_20thcal_N_0360as.mat-7410  2020        3\n",
      "21   9685    Trial1_GB_dkmiroc_rcp26cal_N_0360as.mat-960  2020        3\n",
      "22  50617  Trial1_GB_dkmiroc_rcp85cal_N_0360as.mat-15050  2020        3\n",
      "23  20518  Trial1_GB_dkmiroc_rcp26cal_N_0360as.mat-19822  2020        3\n",
      "24  41643  Trial1_GB_dkmiroc_rcp60cal_N_0360as.mat-27806  2020        3\n"
     ]
    }
   ],
   "source": [
    "print(draws[:25])"
   ]
  }
 ],
 "metadata": {
  "kernelspec": {
   "display_name": "Python 3",
   "language": "python",
   "name": "python3"
  },
  "language_info": {
   "codemirror_mode": {
    "name": "ipython",
    "version": 3
   },
   "file_extension": ".py",
   "mimetype": "text/x-python",
   "name": "python",
   "nbconvert_exporter": "python",
   "pygments_lexer": "ipython3",
   "version": "3.7.3"
  }
 },
 "nbformat": 4,
 "nbformat_minor": 4
}