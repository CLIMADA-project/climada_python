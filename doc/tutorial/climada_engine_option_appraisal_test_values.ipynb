{
 "cells": [
  {
   "cell_type": "markdown",
   "metadata": {},
   "source": [
    "# Test that the values are correct"
   ]
  },
  {
   "cell_type": "code",
   "execution_count": null,
   "metadata": {},
   "outputs": [],
   "source": [
    "from climada.engine import ImpactCalc\n",
    "\n",
    "# Get the risk metrics from the im object\n",
    "arms_df = im.get_annual_risk_df()\n",
    "\n",
    "def get_risk_metrics(exp, impf_set, haz, meas=None, return_per = [100, 500, 1000, 2000]):\n",
    "    if meas is not None:\n",
    "        # Apply the measure\n",
    "        new_exp, new_impfs, new_haz = meas.apply(exp, impf_set, haz)\n",
    "    else:\n",
    "        new_exp, new_impfs, new_haz = exp, impf_set, haz\n",
    "\n",
    "    # Get the risk metrics for the new exposure\n",
    "    imp = ImpactCalc(new_exp, new_impfs, new_haz).impact(save_mat=False)\n",
    "    # Get the risk metrics for the new exposure\n",
    "    aai = imp.aai_agg\n",
    "    # Get the return periods\n",
    "    rp = imp.calc_freq_curve(return_per)\n",
    "\n",
    "    return aai, rp\n",
    "\n",
    "# Get the risk metrics for the present exposure\n",
    "exp = exp_future\n",
    "haz = haz_future\n",
    "meas = None\n",
    "\n",
    "aai, freq_curve = get_risk_metrics(exp, impf_set, haz, meas)\n",
    "\n",
    "print('For the present exposure:')\n",
    "# Compare to the im object\n",
    "print('\\nAAI:', aai)\n",
    "for rp, rp_imp in zip(freq_curve.return_per, freq_curve.impact): \n",
    "    print(f'rp_{rp}:', rp_imp)\n",
    "print('\\n')\n",
    "\n",
    "\n",
    "meas_name = 'no_measure'\n",
    "year = exp.ref_year\n",
    "metrics = im.get_risk_metrics()\n",
    "\n",
    "# Get the AAI for the present exposure\n",
    "for metric in metrics:\n",
    "    result = arms_df[(arms_df['year'] == year) & (arms_df['measure'] == meas_name) & (arms_df['metric'] == metric)]['result'].values[0]\n",
    "    print(f'{metric}: {result}')"
   ]
  }
 ],
 "metadata": {
  "language_info": {
   "name": "python"
  }
 },
 "nbformat": 4,
 "nbformat_minor": 2
}
