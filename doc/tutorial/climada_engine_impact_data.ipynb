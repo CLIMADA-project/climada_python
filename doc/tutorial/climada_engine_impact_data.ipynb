{
 "cells": [
  {
   "cell_type": "markdown",
   "metadata": {},
   "source": [
    "# Impact Data functionalities\n",
    "\n",
    "\n",
    "Import data from EM-DAT CSV file and initiate Impact()-object\n",
    "\n",
    "## Data Source:\n",
    "www.emdat.be\n",
    "\n",
    "\n"
   ]
  },
  {
   "cell_type": "code",
   "execution_count": 1,
   "metadata": {},
   "outputs": [
    {
     "name": "stdout",
     "output_type": "stream",
     "text": [
      "2020-06-17 18:36:28,859 - climada - DEBUG - Loading default config file: /Users/eberenzs/Documents/Projects/climada_python/climada/conf/defaults.conf\n"
     ]
    }
   ],
   "source": [
    "\"\"\"Load required packages and set path to CSV-file from EM-DAT\"\"\"\n",
    "\n",
    "import os\n",
    "import numpy as np\n",
    "import pandas as pd\n",
    "from climada.engine.impact_data import emdat_countries_by_hazard, \\\n",
    "    emdat_impact_yearlysum, emdat_impact_event, emdat_to_impact, emdat_df_load\n",
    "\n",
    "from climada.util.constants import DATA_DIR\n",
    "\n",
    "\n",
    "DEV_DIR = '/Users/eberenzs/Documents/Projects/dev_climada_python'\n",
    "\n",
    "EMDAT_CSV = os.path.join(DEV_DIR, 'TC' + '_Calibration', 'data', 'emdat_201810.csv')\n",
    "\n",
    "emdat_file_path = os.path.join(DATA_DIR, 'demo', 'demo_emdat_impact_data_2020.csv')\n"
   ]
  },
  {
   "cell_type": "code",
   "execution_count": 2,
   "metadata": {},
   "outputs": [
    {
     "name": "stdout",
     "output_type": "stream",
     "text": [
      "['American Samoa', 'Anguilla', 'Antigua and Barbuda', 'Australia', 'Bahamas', 'Bangladesh', 'Barbados', 'Belize', 'Bermuda', 'Bhutan', 'Brazil', 'Cabo Verde', 'Cambodia', 'Canada', 'Cayman Islands', 'China', 'Colombia', 'Comoros', 'Congo, Democratic Republic of the', 'Cook Islands', 'Costa Rica', 'Cuba', 'Djibouti', 'Dominica', 'Dominican Republic', 'El Salvador', 'Fiji', 'French Polynesia', 'Grenada', 'Guam', 'Guatemala', 'Haiti', 'Honduras', 'Hong Kong', 'India', 'Indonesia', 'Iran, Islamic Republic of', 'Jamaica', 'Japan', 'Kiribati', \"Korea, Democratic People's Republic of\", 'Korea, Republic of', \"Lao People's Democratic Republic\", 'Macao', 'Madagascar', 'Malawi', 'Marshall Islands', 'Mauritius', 'Mexico', 'Micronesia, Federated States of', 'Morocco', 'Mozambique', 'Myanmar', 'New Caledonia', 'New Zealand', 'Nicaragua', 'Niue', 'Northern Mariana Islands', 'Oman', 'Pakistan', 'Palau', 'Panama', 'Papua New Guinea', 'Philippines', 'Portugal', 'Puerto Rico', 'Russian Federation', 'Réunion', 'Saint Barthélemy', 'Saint Kitts and Nevis', 'Saint Lucia', 'Saint Martin (French part)', 'Saint Vincent and the Grenadines', 'Samoa', 'Seychelles', 'Sint Maarten (Dutch part)', 'Solomon Islands', 'Somalia', 'South Africa', 'Sri Lanka', 'Taiwan, Province of China', 'Tanzania, United Republic of', 'Thailand', 'Tonga', 'Trinidad and Tobago', 'Turks and Caicos Islands', 'Tuvalu', 'United States of America', 'Vanuatu', 'Venezuela, Bolivarian Republic of', 'Viet Nam', 'Virgin Islands, British', 'Virgin Islands, U.S.', 'Wallis and Futuna', 'Yemen', 'Zimbabwe']\n"
     ]
    }
   ],
   "source": [
    "\"\"\"get list of countries impacted by tropical cyclones from 2000 to 2019\"\"\"\n",
    "\n",
    "iso3_codes, country_names = emdat_countries_by_hazard('TC', emdat_file_path, year_range=(2000, 2019))\n",
    "\n",
    "print(country_names)\n"
   ]
  },
  {
   "cell_type": "code",
   "execution_count": 3,
   "metadata": {},
   "outputs": [
    {
     "name": "stdout",
     "output_type": "stream",
     "text": [
      "TC events in EM-DAT 2000 to 2009 globally: 529\n",
      "TC events in EM-DAT in the Philipppines, 2013: 8\n",
      "People affected by TC events in the Philippines in 2013 (per event):\n",
      "[7.269600e+04 1.059700e+04 8.717550e+05 2.204430e+05 1.610687e+07\n",
      " 3.596000e+03 3.957300e+05 2.628840e+05]\n",
      "People affected by TC events in the Philippines in 2013 (total):\n",
      "17944571.0\n"
     ]
    }
   ],
   "source": [
    "\"\"\" init CLIMADA Impact set from EM-DAT CSV\"\"\"\n",
    "\n",
    "impact_emdat, countries = emdat_to_impact(emdat_file_path, \\\n",
    "                                    hazard_type_climada='TC', year_range=(2000,2009))\n",
    "\n",
    "print('Number of TC events in EM-DAT 2000 to 2009 globally: %i' %(impact_emdat.event_id.size))\n",
    "\n",
    "impact_emdat_PHL, countries = emdat_to_impact(emdat_file_path, countries='PHL', \\\n",
    "                                    hazard_type_climada='TC', year_range=(2013,2013), imp_str=\"Total Affected\")\n",
    "\n",
    "print('TC events in EM-DAT in the Philipppines, 2013: %i' %(impact_emdat_PHL.event_id.size))\n",
    "print('People affected by TC events in the Philippines in 2013 (per event):')\n",
    "print(impact_emdat_PHL.at_event)\n",
    "print('People affected by TC events in the Philippines in 2013 (total):')\n",
    "print(int(impact_emdat_PHL.aai_agg))"
   ]
  },
  {
   "cell_type": "code",
   "execution_count": 8,
   "metadata": {},
   "outputs": [
    {
     "name": "stdout",
     "output_type": "stream",
     "text": [
      "2020-06-17 18:44:13,397 - climada.util.finance - INFO - GDP USA 2018: 2.054e+13.\n",
      "2020-06-17 18:44:13,867 - climada.util.finance - INFO - GDP USA 2000: 1.025e+13.\n",
      "2020-06-17 18:44:14,311 - climada.util.finance - INFO - GDP USA 2001: 1.058e+13.\n",
      "2020-06-17 18:44:14,761 - climada.util.finance - INFO - GDP USA 2002: 1.094e+13.\n",
      "2020-06-17 18:44:15,213 - climada.util.finance - INFO - GDP USA 2003: 1.146e+13.\n",
      "2020-06-17 18:44:15,679 - climada.util.finance - INFO - GDP USA 2004: 1.221e+13.\n",
      "2020-06-17 18:44:16,132 - climada.util.finance - INFO - GDP USA 2005: 1.304e+13.\n",
      "2020-06-17 18:44:16,586 - climada.util.finance - INFO - GDP USA 2006: 1.381e+13.\n",
      "2020-06-17 18:44:17,058 - climada.util.finance - INFO - GDP USA 2007: 1.445e+13.\n",
      "2020-06-17 18:44:17,509 - climada.util.finance - INFO - GDP USA 2008: 1.471e+13.\n",
      "2020-06-17 18:44:17,965 - climada.util.finance - INFO - GDP USA 2009: 1.445e+13.\n",
      "2020-06-17 18:44:18,434 - climada.util.finance - INFO - GDP USA 2010: 1.499e+13.\n",
      "2020-06-17 18:44:18,887 - climada.util.finance - INFO - GDP USA 2011: 1.554e+13.\n",
      "2020-06-17 18:44:19,357 - climada.util.finance - INFO - GDP USA 2012: 1.620e+13.\n",
      "2020-06-17 18:44:19,884 - climada.util.finance - INFO - GDP USA 2013: 1.678e+13.\n",
      "2020-06-17 18:44:20,355 - climada.util.finance - INFO - GDP USA 2014: 1.752e+13.\n",
      "2020-06-17 18:44:20,807 - climada.util.finance - INFO - GDP USA 2015: 1.822e+13.\n",
      "2020-06-17 18:44:21,252 - climada.util.finance - INFO - GDP USA 2016: 1.871e+13.\n",
      "2020-06-17 18:44:21,721 - climada.util.finance - INFO - GDP USA 2017: 1.949e+13.\n",
      "2020-06-17 18:44:22,173 - climada.util.finance - INFO - GDP USA 2018: 2.054e+13.\n",
      "2020-06-17 18:44:22,625 - climada.util.finance - INFO - GDP USA 2018: 2.054e+13.\n"
     ]
    },
    {
     "data": {
      "text/plain": [
       "Text(0, 0.5, 'USD')"
      ]
     },
     "execution_count": 8,
     "metadata": {},
     "output_type": "execute_result"
    },
    {
     "data": {
      "image/png": "[encoded data removed]",
      "text/plain": [
       "<Figure size 432x288 with 1 Axes>"
      ]
     },
     "metadata": {
      "needs_background": "light"
     },
     "output_type": "display_data"
    }
   ],
   "source": [
    "\"\"\"Yearly TC damages in the USA, normalized and current\"\"\"\n",
    "\n",
    "yearly_damage_normalized_2020 = emdat_impact_yearlysum(['USA'], 'Tropical cyclone', emdat_file_path, year_range=None, \\\n",
    "                         reference_year=2020)\n",
    "\n",
    "yearly_damage_current = emdat_impact_yearlysum(['USA'], 'TC', emdat_file_path)\n",
    "\n",
    "import matplotlib.pyplot as plt\n",
    "\n",
    "fig, axis = plt.subplots(1, 1)\n",
    "axis.plot(yearly_damage_current.year, yearly_damage_current.impact, 'b', label='USD current value')\n",
    "axis.plot(yearly_damage_normalized_2020.year, yearly_damage_normalized_2020.impact_scaled, 'r--', label='USD normalized to 2020')\n",
    "plt.legend()\n",
    "axis.set_title('TC damage reported in EM-DAT in the USA')\n",
    "axis.set_xlabel('year')\n",
    "axis.set_ylabel('USD')"
   ]
  },
  {
   "cell_type": "code",
   "execution_count": null,
   "metadata": {},
   "outputs": [],
   "source": []
  }
 ],
 "metadata": {
  "kernelspec": {
   "display_name": "Python 3",
   "language": "python",
   "name": "python3"
  },
  "language_info": {
   "codemirror_mode": {
    "name": "ipython",
    "version": 3
   },
   "file_extension": ".py",
   "mimetype": "text/x-python",
   "name": "python",
   "nbconvert_exporter": "python",
   "pygments_lexer": "ipython3",
   "version": "3.7.3"
  }
 },
 "nbformat": 4,
 "nbformat_minor": 2
}
