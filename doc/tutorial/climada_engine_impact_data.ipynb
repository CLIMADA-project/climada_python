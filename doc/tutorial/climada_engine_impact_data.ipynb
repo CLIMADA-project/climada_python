{
 "cells": [
  {
   "cell_type": "markdown",
   "metadata": {},
   "source": [
    "# Impact Data functionalities\n",
    "\n",
    "\n",
    "Import data from EM-DAT CSV file and populate Impact()-object with the data.\n",
    "\n",
    "\n",
    "The core functionality of the module is to read disaster impact data as downloaded from the International Disaster Database EM-DAT (www.emdat.be) and produce a CLIMADA Impact()-instance from it.\n",
    "The purpose is to make impact data easily available for comparison with simulated impact inside CLIMADA, e.g. for calibration purposes.\n",
    "\n",
    "\n",
    "## Data Source\n",
    "The International Disaster Database EM-DAT www.emdat.be\n",
    "\n",
    "Download: https://public.emdat.be/ (register for free and download data to continue)\n",
    "\n",
    "\n",
    "## Most important functions\n",
    "- clean_emdat_df: read CSV from EM-DAT into a DataFrame and clean up.\n",
    "- emdat_to_impact: create Impact-instance populated with impact data from EM-DAT data (CSV).\n",
    "- emdat_countries_by_hazard: get list of countries affected by a certain haazrd (disaster (sub-)type) in EM-DAT.\n",
    "- emdat_impact_yearlysum: create DataFrame with impact from EM-DAT summed per country and year.\n",
    "\n",
    "\n",
    "\n",
    "## Demo data\n",
    "\n",
    "The demo data used hee (demo_emdat_impact_data_2020.csv) contains entries for the disaster subtype \"Tropical cyclone\" from 2000 to 2020.\n"
   ]
  },
  {
   "cell_type": "code",
   "execution_count": 2,
   "metadata": {},
   "outputs": [],
   "source": [
    "\"\"\"Load required packages and set path to CSV-file from EM-DAT\"\"\"\n",
    "\n",
    "import numpy as np\n",
    "import pandas as pd\n",
    "from matplotlib import pyplot as plt\n",
    "\n",
    "from climada.util.constants import DEMO_DIR\n",
    "from climada.engine.impact_data import emdat_countries_by_hazard, \\\n",
    "    emdat_impact_yearlysum, emdat_to_impact, clean_emdat_df\n",
    "\n",
    "# set path to CSV file downloaded from https://public.emdat.be :\n",
    "emdat_file_path = DEMO_DIR.joinpath('demo_emdat_impact_data_2020.csv')"
   ]
  },
  {
   "cell_type": "markdown",
   "metadata": {},
   "source": [
    "### clean_emdat_df()\n",
    "read CSV from EM-DAT into a DataFrame and clean up.\n",
    "\n",
    "Use the parameters countries, hazard, and year_range to filter. These parameters are the same for most functions shown here."
   ]
  },
  {
   "cell_type": "code",
   "execution_count": 12,
   "metadata": {},
   "outputs": [
    {
     "name": "stdout",
     "output_type": "stream",
     "text": [
      "          Dis No  Year  Seq Disaster Group Disaster Subgroup Disaster Type  \\\n",
      "0  2005-0540-VNM  2005  540        Natural    Meteorological         Storm   \n",
      "1  2005-0540-THA  2005  540        Natural    Meteorological         Storm   \n",
      "2  2005-0536-VNM  2005  536        Natural    Meteorological         Storm   \n",
      "3  2005-0611-VNM  2005  611        Natural    Meteorological         Storm   \n",
      "4  2006-0362-VNM  2006  362        Natural    Meteorological         Storm   \n",
      "5  2006-0648-VNM  2006  648        Natural    Meteorological         Storm   \n",
      "6  2006-0251-VNM  2006  251        Natural    Meteorological         Storm   \n",
      "7  2006-0517-VNM  2006  517        Natural    Meteorological         Storm   \n",
      "\n",
      "   Disaster Subtype  Disaster Subsubtype          Event Name Entry Criteria  \\\n",
      "0  Tropical cyclone                  NaN              Damrey           Kill   \n",
      "1  Tropical cyclone                  NaN              Damrey           Kill   \n",
      "2  Tropical cyclone                  NaN             Vicente           Kill   \n",
      "3  Tropical cyclone                  NaN        Kai Tak (21)           Kill   \n",
      "4  Tropical cyclone                  NaN               Bilis           Kill   \n",
      "5  Tropical cyclone                  NaN     Durian (Reming)           Kill   \n",
      "6  Tropical cyclone                  NaN     Chanchu (Caloy)           Kill   \n",
      "7  Tropical cyclone                  NaN  Xangsane (Milenyo)           Kill   \n",
      "\n",
      "   ... End Day Total Deaths No Injured No Affected No Homeless Total Affected  \\\n",
      "0  ...    30.0         75.0       28.0    337632.0         NaN       337660.0   \n",
      "1  ...    30.0         10.0        NaN      2000.0         NaN         2000.0   \n",
      "2  ...    19.0          8.0        NaN      8500.0         NaN         8500.0   \n",
      "3  ...     4.0         20.0        NaN     15000.0         NaN        15000.0   \n",
      "4  ...    19.0         17.0        NaN         NaN      2000.0         2000.0   \n",
      "5  ...     8.0         95.0     1360.0    975000.0    250000.0      1226360.0   \n",
      "6  ...    17.0        204.0        NaN    600000.0         NaN       600000.0   \n",
      "7  ...     6.0         71.0      525.0   1368720.0     98680.0      1467925.0   \n",
      "\n",
      "  Reconstruction Costs ('000 US$) Insured Damages ('000 US$)  \\\n",
      "0                             NaN                        NaN   \n",
      "1                             NaN                        NaN   \n",
      "2                             NaN                        NaN   \n",
      "3                             NaN                        NaN   \n",
      "4                             NaN                        NaN   \n",
      "5                             NaN                        NaN   \n",
      "6                             NaN                        NaN   \n",
      "7                             NaN                        NaN   \n",
      "\n",
      "  Total Damages ('000 US$)        CPI  \n",
      "0                 219250.0  76.388027  \n",
      "1                  20000.0  76.388027  \n",
      "2                  20000.0  76.388027  \n",
      "3                  11000.0  76.388027  \n",
      "4                      NaN  78.852256  \n",
      "5                 456000.0  78.852256  \n",
      "6                      NaN  78.852256  \n",
      "7                 624000.0  78.852256  \n",
      "\n",
      "[8 rows x 43 columns]\n"
     ]
    }
   ],
   "source": [
    "\"\"\"Create DataFrame df with EM-DAT entries of tropical cyclones in Thailand and Viet Nam in the years 2005 and 2006\"\"\"\n",
    "\n",
    "df = clean_emdat_df(emdat_file_path, countries=['THA', 'Viet Nam'], hazard=['TC'], \\\n",
    "                            year_range=[2005, 2006])\n",
    "print(df)"
   ]
  },
  {
   "cell_type": "markdown",
   "metadata": {},
   "source": [
    "### emdat_countries_by_hazard()\n",
    "\n",
    "Pick a hazard and a year range to get a list of countries affected from the EM-DAT data."
   ]
  },
  {
   "cell_type": "code",
   "execution_count": 2,
   "metadata": {},
   "outputs": [
    {
     "name": "stdout",
     "output_type": "stream",
     "text": [
      "['China', 'Dominican Republic', 'Antigua and Barbuda', 'Fiji', 'Australia', 'Bangladesh', 'Belize', 'Barbados', 'Cook Islands', 'Canada', 'Bahamas', 'Guatemala', 'Jamaica', 'Saint Lucia', 'Madagascar', 'Mexico', \"Korea, Democratic People's Republic of\", 'El Salvador', 'Myanmar', 'French Polynesia', 'Solomon Islands', 'Taiwan, Province of China', 'India', 'United States of America', 'Honduras', 'Haiti', 'Pakistan', 'Philippines', 'Hong Kong', 'Korea, Republic of', 'Nicaragua', 'Oman', 'Japan', 'Puerto Rico', 'Thailand', 'Martinique', 'Papua New Guinea', 'Tonga', 'Venezuela, Bolivarian Republic of', 'Viet Nam', 'Saint Vincent and the Grenadines', 'Vanuatu', 'Dominica', 'Cuba', 'Comoros', 'Mozambique', 'Malawi', 'Samoa', 'South Africa', 'Sri Lanka', 'Palau', 'Wallis and Futuna', 'Somalia', 'Seychelles', 'Réunion', 'Kiribati', 'Cabo Verde', 'Micronesia, Federated States of', 'Panama', 'Costa Rica', 'Yemen', 'Tuvalu', 'Northern Mariana Islands', 'Colombia', 'Anguilla', 'Djibouti', 'Cambodia', 'Macao', 'Indonesia', 'Guadeloupe', 'Turks and Caicos Islands', 'Saint Kitts and Nevis', \"Lao People's Democratic Republic\", 'Mauritius', 'Marshall Islands', 'Portugal', 'Virgin Islands, U.S.', 'Zimbabwe', 'Saint Barthélemy', 'Virgin Islands, British', 'Saint Martin (French part)', 'Sint Maarten (Dutch part)', 'Tanzania, United Republic of']\n",
      "['CHN', 'DOM', 'ATG', 'FJI', 'AUS', 'BGD', 'BLZ', 'BRB', 'COK', 'CAN', 'BHS', 'GTM', 'JAM', 'LCA', 'MDG', 'MEX', 'PRK', 'SLV', 'MMR', 'PYF', 'SLB', 'TWN', 'IND', 'USA', 'HND', 'HTI', 'PAK', 'PHL', 'HKG', 'KOR', 'NIC', 'OMN', 'JPN', 'PRI', 'THA', 'MTQ', 'PNG', 'TON', 'VEN', 'VNM', 'VCT', 'VUT', 'DMA', 'CUB', 'COM', 'MOZ', 'MWI', 'WSM', 'ZAF', 'LKA', 'PLW', 'WLF', 'SOM', 'SYC', 'REU', 'KIR', 'CPV', 'FSM', 'PAN', 'CRI', 'YEM', 'TUV', 'MNP', 'COL', 'AIA', 'DJI', 'KHM', 'MAC', 'IDN', 'GLP', 'TCA', 'KNA', 'LAO', 'MUS', 'MHL', 'PRT', 'VIR', 'ZWE', 'BLM', 'VGB', 'MAF', 'SXM', 'TZA']\n"
     ]
    }
   ],
   "source": [
    "\"\"\"emdat_countries_by_hazard: get lists of countries impacted by tropical cyclones from 2010 to 2019\"\"\"\n",
    "\n",
    "iso3_codes, country_names = emdat_countries_by_hazard(emdat_file_path, hazard='TC', year_range=(2010, 2019))\n",
    "\n",
    "print(country_names)\n",
    "\n",
    "print(iso3_codes)"
   ]
  },
  {
   "cell_type": "markdown",
   "metadata": {},
   "source": [
    "### emdat_to_impact()\n",
    "function to load EM-DAT impact data and return impact set with impact per event\n",
    "\n",
    "##### Parameters:\n",
    "- emdat_file_csv (str): Full path to EMDAT-file (CSV)\n",
    "- hazard_type_climada (str): Hazard type abbreviation used in CLIMADA, e.g. 'TC'\n",
    "\n",
    "##### Optional parameters:\n",
    "\n",
    "- hazard_type_emdat (list or str): List of Disaster (sub-)type accordung EMDAT terminology or CLIMADA hazard type abbreviations. e.g. ['Wildfire', 'Forest fire'] or ['BF']\n",
    "- year_range (list with 2 integers): start and end year e.g. [1980, 2017]\n",
    "- countries (list of str): country ISO3-codes or names, e.g. ['JAM', 'CUB']. Set to None or ['all'] for all countries \n",
    "- reference_year (int): reference year of exposures for normalization. Impact is scaled proportional to GDP to the value of the reference year. No scaling for reference_year=0 (default)\n",
    "- imp_str (str): Column name of impact metric in EMDAT CSV, e.g. 'Total Affected'; default = \"Total Damages\"\n",
    "\n",
    "##### Returns:\n",
    "- impact_instance (instance of climada.engine.Impact):\n",
    "            Impact() instance (same format as output from CLIMADA impact computations).\n",
    "            Values are scaled with GDP to reference_year if reference_year not equal 0.\n",
    "            impact_instance.eai_exp holds expected annual impact for each country.\n",
    "            impact_instance.coord_exp holds rough central coordinates for each country.\n",
    "- countries (list): ISO3-codes of countries imn same order as in impact_instance.eai_exp\n"
   ]
  },
  {
   "cell_type": "code",
   "execution_count": 3,
   "metadata": {},
   "outputs": [
    {
     "name": "stdout",
     "output_type": "stream",
     "text": [
      "2020-07-10 14:18:25,584 - climada.engine.impact_data - WARNING - ISO3alpha code not found in iso_country: SPI\n",
      "SPI\n",
      "2020-07-10 14:18:26,995 - climada.engine.impact_data - ERROR - Country not found in iso_country: SPI\n",
      "Number of TC events in EM-DAT 2000 to 2009 globally: 533\n",
      "Global annual average monetary damage (AAI) from TCs as reported in EM-DAT 2000 to 2009: USD billion 38.07\n"
     ]
    }
   ],
   "source": [
    "\"\"\"Global TC damages 2000 to 2009\"\"\"\n",
    "\n",
    "impact_emdat, countries = emdat_to_impact(emdat_file_path, 'TC', year_range=(2000,2009))\n",
    "\n",
    "print('Number of TC events in EM-DAT 2000 to 2009 globally: %i' %(impact_emdat.event_id.size))\n",
    "print('Global annual average monetary damage (AAI) from TCs as reported in EM-DAT 2000 to 2009: USD billion %2.2f' \\\n",
    "      %(impact_emdat.aai_agg/1e9))\n"
   ]
  },
  {
   "cell_type": "code",
   "execution_count": 31,
   "metadata": {},
   "outputs": [
    {
     "name": "stdout",
     "output_type": "stream",
     "text": [
      "Number of TC events in EM-DAT in the Philipppines, 2013: 8\n",
      "\n",
      "People affected by TC events in the Philippines in 2013 (per event):\n",
      "[7.269600e+04 1.059700e+04 8.717550e+05 2.204430e+05 1.610687e+07\n",
      " 3.596000e+03 3.957300e+05 2.628840e+05]\n",
      "\n",
      "People affected by TC events in the Philippines in 2013 (total):\n",
      "17944571\n"
     ]
    },
    {
     "data": {
      "text/plain": [
       "Text(0, 0.5, 'People Affected')"
      ]
     },
     "execution_count": 31,
     "metadata": {},
     "output_type": "execute_result"
    },
    {
     "data": {
      "image/png": "[encoded data removed]",
      "text/plain": [
       "<Figure size 432x288 with 1 Axes>"
      ]
     },
     "metadata": {
      "needs_background": "light"
     },
     "output_type": "display_data"
    }
   ],
   "source": [
    "\"\"\"Total people affected by TCs in the Philippines in 2013:\"\"\"\n",
    "\n",
    "# People affected\n",
    "impact_emdat_PHL, countries = emdat_to_impact(emdat_file_path, 'TC', countries='PHL', \\\n",
    "                                    year_range=(2013,2013), imp_str=\"Total Affected\")\n",
    "\n",
    "print('Number of TC events in EM-DAT in the Philipppines, 2013: %i' \\\n",
    "      %(impact_emdat_PHL.event_id.size))\n",
    "print('\\nPeople affected by TC events in the Philippines in 2013 (per event):')\n",
    "print(impact_emdat_PHL.at_event)\n",
    "print('\\nPeople affected by TC events in the Philippines in 2013 (total):')\n",
    "print(int(impact_emdat_PHL.aai_agg))\n",
    "\n",
    "# Comparison to monetary damages:\n",
    "impact_emdat_PHL_USD, _ = emdat_to_impact(emdat_file_path, 'TC', countries='PHL', \\\n",
    "                                    year_range=(2013,2013))\n",
    "\n",
    "ax = plt.scatter(impact_emdat_PHL_USD.at_event, impact_emdat_PHL.at_event)\n",
    "plt.title('Typhoon impacts in the Philippines, 2013')\n",
    "plt.xlabel('Total Damage [USD]')\n",
    "plt.ylabel('People Affected')\n",
    "#plt.xscale('log')\n",
    "#plt.yscale('log')"
   ]
  },
  {
   "cell_type": "markdown",
   "metadata": {},
   "source": [
    "### emdat_impact_yearlysum()\n",
    "\n",
    "function to load EM-DAT impact data and return DataFrame with impact summed per year and country\n",
    "\n",
    "##### Parameters:\n",
    "- emdat_file_csv (str): Full path to EMDAT-file (CSV)\n",
    "\n",
    "##### Optional parameters:\n",
    "\n",
    "- hazard (list or str): List of Disaster (sub-)type accordung EMDAT terminology or CLIMADA hazard type abbreviations. e.g. ['Wildfire', 'Forest fire'] or ['BF']\n",
    "- year_range (list with 2 integers): start and end year e.g. [1980, 2017]\n",
    "- countries (list of str): country ISO3-codes or names, e.g. ['JAM', 'CUB']. Set to None or ['all'] for all countries \n",
    "- reference_year (int): reference year of exposures for normalization. Impact is scaled proportional to GDP to the value of the reference year. No scaling for reference_year=0 (default)\n",
    "- imp_str (str): Column name of impact metric in EMDAT CSV, e.g. 'Total Affected'; default = \"Total Damages\"\n",
    "- version (int): given EM-DAT data format version (i.e. year of download), changes naming of columns/variables (default: 2020)\n",
    "\n",
    "##### Returns:\n",
    "- pandas.DataFrame with impact per year and country"
   ]
  },
  {
   "cell_type": "code",
   "execution_count": 5,
   "metadata": {},
   "outputs": [
    {
     "name": "stdout",
     "output_type": "stream",
     "text": [
      "2020-07-10 14:36:28,646 - climada.util.finance - INFO - GDP USA 2019: 2.143e+13.\n",
      "[2000 2001 2002 2003 2004 2005 2006 2007 2008 2009 2010 2011 2012 2014\n",
      " 2015 2016 2017 2018 2019 2020]\n",
      "2020-07-10 14:36:29,099 - climada.util.finance - INFO - GDP USA 2000: 1.025e+13.\n",
      "2020-07-10 14:36:29,539 - climada.util.finance - INFO - GDP USA 2001: 1.058e+13.\n",
      "2020-07-10 14:36:30,302 - climada.util.finance - INFO - GDP USA 2002: 1.094e+13.\n",
      "2020-07-10 14:36:30,754 - climada.util.finance - INFO - GDP USA 2003: 1.146e+13.\n",
      "2020-07-10 14:36:31,204 - climada.util.finance - INFO - GDP USA 2004: 1.221e+13.\n",
      "2020-07-10 14:36:31,648 - climada.util.finance - INFO - GDP USA 2005: 1.304e+13.\n",
      "2020-07-10 14:36:32,098 - climada.util.finance - INFO - GDP USA 2006: 1.381e+13.\n",
      "2020-07-10 14:36:32,549 - climada.util.finance - INFO - GDP USA 2007: 1.445e+13.\n",
      "2020-07-10 14:36:33,037 - climada.util.finance - INFO - GDP USA 2008: 1.471e+13.\n",
      "2020-07-10 14:36:33,485 - climada.util.finance - INFO - GDP USA 2009: 1.445e+13.\n",
      "2020-07-10 14:36:33,927 - climada.util.finance - INFO - GDP USA 2010: 1.499e+13.\n",
      "2020-07-10 14:36:34,785 - climada.util.finance - INFO - GDP USA 2011: 1.554e+13.\n",
      "2020-07-10 14:36:35,227 - climada.util.finance - INFO - GDP USA 2012: 1.620e+13.\n",
      "2020-07-10 14:36:35,674 - climada.util.finance - INFO - GDP USA 2014: 1.752e+13.\n",
      "2020-07-10 14:36:36,125 - climada.util.finance - INFO - GDP USA 2015: 1.822e+13.\n",
      "2020-07-10 14:36:36,701 - climada.util.finance - INFO - GDP USA 2016: 1.871e+13.\n",
      "2020-07-10 14:36:37,145 - climada.util.finance - INFO - GDP USA 2017: 1.949e+13.\n",
      "2020-07-10 14:36:37,591 - climada.util.finance - INFO - GDP USA 2018: 2.058e+13.\n",
      "2020-07-10 14:36:38,029 - climada.util.finance - INFO - GDP USA 2019: 2.143e+13.\n",
      "2020-07-10 14:36:38,861 - climada.util.finance - INFO - GDP USA 2019: 2.143e+13.\n"
     ]
    },
    {
     "data": {
      "text/plain": [
       "Text(0, 0.5, 'Total Damage [USD]')"
      ]
     },
     "execution_count": 5,
     "metadata": {},
     "output_type": "execute_result"
    },
    {
     "data": {
      "image/png": "[encoded data removed]",
      "text/plain": [
       "<Figure size 432x288 with 1 Axes>"
      ]
     },
     "metadata": {
      "needs_background": "light"
     },
     "output_type": "display_data"
    }
   ],
   "source": [
    "\"\"\"Yearly TC damages in the USA, normalized and current\"\"\"\n",
    "\n",
    "yearly_damage_normalized_to_2019 = emdat_impact_yearlysum(emdat_file_path, countries='USA', \\\n",
    "                                                       hazard='Tropical cyclone', year_range=None, \\\n",
    "                                                       reference_year=2019)\n",
    "\n",
    "yearly_damage_current = emdat_impact_yearlysum(emdat_file_path, countries=['USA'], hazard='TC',)\n",
    "\n",
    "import matplotlib.pyplot as plt\n",
    "\n",
    "fig, axis = plt.subplots(1, 1)\n",
    "axis.plot(yearly_damage_current.year, yearly_damage_current.impact, 'b', label='USD current value')\n",
    "axis.plot(yearly_damage_normalized_to_2019.year, yearly_damage_normalized_to_2019.impact_scaled, \\\n",
    "          'r--', label='USD normalized to 2019')\n",
    "plt.legend()\n",
    "axis.set_title('TC damage reported in EM-DAT in the USA')\n",
    "axis.set_xticks([2000, 2004, 2008, 2012, 2016])\n",
    "axis.set_xlabel('year')\n",
    "axis.set_ylabel('Total Damage [USD]')\n"
   ]
  }
 ],
 "metadata": {
  "kernelspec": {
   "display_name": "Python 3",
   "language": "python",
   "name": "python3"
  },
  "language_info": {
   "codemirror_mode": {
    "name": "ipython",
    "version": 3
   },
   "file_extension": ".py",
   "mimetype": "text/x-python",
   "name": "python",
   "nbconvert_exporter": "python",
   "pygments_lexer": "ipython3",
   "version": "3.7.3"
  }
 },
 "nbformat": 4,
 "nbformat_minor": 2
}