{
 "cells": [
  {
   "cell_type": "markdown",
   "metadata": {},
   "source": [
    "# Uncertainty "
   ]
  },
  {
   "cell_type": "markdown",
   "metadata": {},
   "source": [
    "This is a tutorial for the uncertainty module."
   ]
  },
  {
   "cell_type": "code",
   "execution_count": 27,
   "metadata": {
    "ExecuteTime": {
     "end_time": "2021-01-04T11:23:07.995612Z",
     "start_time": "2021-01-04T11:23:07.991663Z"
    }
   },
   "outputs": [],
   "source": [
    "from climada.entity import ImpactFunc, ImpactFuncSet\n",
    "import numpy as np\n",
    "from climada.entity import BlackMarble\n",
    "from climada.hazard import TropCyclone\n",
    "import os\n",
    "from climada.engine.uncertainty import UncVar, UncSensitivity\n",
    "import scipy as sp\n",
    "import pandas as pd\n",
    "import matplotlib.pyplot as plt"
   ]
  },
  {
   "cell_type": "code",
   "execution_count": 2,
   "metadata": {
    "ExecuteTime": {
     "end_time": "2021-01-04T11:02:15.449415Z",
     "start_time": "2021-01-04T11:02:15.440034Z"
    }
   },
   "outputs": [],
   "source": [
    "def imp_fun_tc(G=1, v_half=84.7, vmin=25.7, k=3, _id=1):    \n",
    "    imp_fun = ImpactFunc()\n",
    "    imp_fun.haz_type = 'TC'\n",
    "    imp_fun.id = _id\n",
    "    imp_fun.intensity_unit = 'm/s'\n",
    "    imp_fun.intensity = np.linspace(0, 150, num=100)\n",
    "    imp_fun.mdd = np.repeat(1, len(imp_fun.intensity))\n",
    "    imp_fun.paa = np.array([sigmoid_func(v, G, v_half, vmin, k) for v in imp_fun.intensity])\n",
    "    imp_fun.check()\n",
    "    impf_set = ImpactFuncSet()\n",
    "    impf_set.append(imp_fun)\n",
    "    return impf_set\n",
    "\n",
    "def xhi(v, v_half, vmin):\n",
    "    return max([(v - vmin), 0]) / (v_half - vmin)\n",
    "  \n",
    "def sigmoid_func(v, G, v_half, vmin, k):\n",
    "    return G * xhi(v, v_half, vmin)**k / (1 + xhi(v, v_half, vmin)**k)\n",
    "\n",
    "CURR_DIR = \"/Users/ckropf/Documents/Climada/Uncertainty\"\n",
    "\n",
    "def dummy_exp():\n",
    "    file_name = os.path.join(CURR_DIR, \"exp_AIA.h5\")\n",
    "    exp = BlackMarble()\n",
    "    exp.read_hdf5(file_name)\n",
    "    return exp\n",
    "    \n",
    "def dummy_haz():\n",
    "    file_name = os.path.join(CURR_DIR, \"tc_AIA.h5\")\n",
    "    haz= TropCyclone()\n",
    "    haz.read_hdf5(file_name)\n",
    "    return haz"
   ]
  },
  {
   "cell_type": "code",
   "execution_count": 41,
   "metadata": {
    "ExecuteTime": {
     "end_time": "2021-01-04T11:30:31.405623Z",
     "start_time": "2021-01-04T11:30:17.441897Z"
    },
    "collapsed": true
   },
   "outputs": [
    {
     "name": "stdout",
     "output_type": "stream",
     "text": [
      "2021-01-04 12:30:17,445 - climada.entity.exposures.base - INFO - Reading /Users/ckropf/Documents/Climada/Uncertainty/exp_AIA.h5\n",
      "2021-01-04 12:30:17,461 - climada.hazard.base - INFO - Reading /Users/ckropf/Documents/Climada/Uncertainty/tc_AIA.h5\n",
      "2021-01-04 12:30:18,228 - climada.entity.impact_funcs.base - WARNING - For intensity = 0, mdd != 0 or paa != 0. Consider shifting the origin of the intensity scale. In impact.calc the impact is always null at intensity = 0.\n",
      "2021-01-04 12:30:18,229 - climada.entity.exposures.base - INFO - Matching 395 exposures with 15990 centroids.\n",
      "2021-01-04 12:30:18,231 - climada.engine.impact - INFO - Calculating damage for 394 assets (>0) and 52900 events.\n",
      "2021-01-04 12:30:18,380 - climada.entity.impact_funcs.base - WARNING - For intensity = 0, mdd != 0 or paa != 0. Consider shifting the origin of the intensity scale. In impact.calc the impact is always null at intensity = 0.\n",
      "2021-01-04 12:30:18,381 - climada.engine.impact - INFO - Exposures matching centroids found in centr_TC\n",
      "2021-01-04 12:30:18,383 - climada.engine.impact - INFO - Calculating damage for 394 assets (>0) and 52900 events.\n",
      "2021-01-04 12:30:18,505 - climada.entity.impact_funcs.base - WARNING - For intensity = 0, mdd != 0 or paa != 0. Consider shifting the origin of the intensity scale. In impact.calc the impact is always null at intensity = 0.\n",
      "2021-01-04 12:30:18,506 - climada.engine.impact - INFO - Exposures matching centroids found in centr_TC\n",
      "2021-01-04 12:30:18,507 - climada.engine.impact - INFO - Calculating damage for 394 assets (>0) and 52900 events.\n",
      "2021-01-04 12:30:18,634 - climada.entity.impact_funcs.base - WARNING - For intensity = 0, mdd != 0 or paa != 0. Consider shifting the origin of the intensity scale. In impact.calc the impact is always null at intensity = 0.\n",
      "2021-01-04 12:30:18,635 - climada.engine.impact - INFO - Exposures matching centroids found in centr_TC\n",
      "2021-01-04 12:30:18,636 - climada.engine.impact - INFO - Calculating damage for 394 assets (>0) and 52900 events.\n",
      "2021-01-04 12:30:18,793 - climada.entity.impact_funcs.base - WARNING - For intensity = 0, mdd != 0 or paa != 0. Consider shifting the origin of the intensity scale. In impact.calc the impact is always null at intensity = 0.\n",
      "2021-01-04 12:30:18,794 - climada.engine.impact - INFO - Exposures matching centroids found in centr_TC\n",
      "2021-01-04 12:30:18,797 - climada.engine.impact - INFO - Calculating damage for 394 assets (>0) and 52900 events.\n",
      "2021-01-04 12:30:18,917 - climada.entity.impact_funcs.base - WARNING - For intensity = 0, mdd != 0 or paa != 0. Consider shifting the origin of the intensity scale. In impact.calc the impact is always null at intensity = 0.\n",
      "2021-01-04 12:30:18,918 - climada.engine.impact - INFO - Exposures matching centroids found in centr_TC\n",
      "2021-01-04 12:30:18,919 - climada.engine.impact - INFO - Calculating damage for 394 assets (>0) and 52900 events.\n",
      "2021-01-04 12:30:19,081 - climada.entity.impact_funcs.base - WARNING - For intensity = 0, mdd != 0 or paa != 0. Consider shifting the origin of the intensity scale. In impact.calc the impact is always null at intensity = 0.\n",
      "2021-01-04 12:30:19,082 - climada.engine.impact - INFO - Exposures matching centroids found in centr_TC\n",
      "2021-01-04 12:30:19,083 - climada.engine.impact - INFO - Calculating damage for 394 assets (>0) and 52900 events.\n",
      "2021-01-04 12:30:19,232 - climada.entity.impact_funcs.base - WARNING - For intensity = 0, mdd != 0 or paa != 0. Consider shifting the origin of the intensity scale. In impact.calc the impact is always null at intensity = 0.\n",
      "2021-01-04 12:30:19,233 - climada.engine.impact - INFO - Exposures matching centroids found in centr_TC\n",
      "2021-01-04 12:30:19,235 - climada.engine.impact - INFO - Calculating damage for 394 assets (>0) and 52900 events.\n",
      "2021-01-04 12:30:19,355 - climada.entity.impact_funcs.base - WARNING - For intensity = 0, mdd != 0 or paa != 0. Consider shifting the origin of the intensity scale. In impact.calc the impact is always null at intensity = 0.\n",
      "2021-01-04 12:30:19,356 - climada.engine.impact - INFO - Exposures matching centroids found in centr_TC\n",
      "2021-01-04 12:30:19,357 - climada.engine.impact - INFO - Calculating damage for 394 assets (>0) and 52900 events.\n",
      "2021-01-04 12:30:19,513 - climada.entity.impact_funcs.base - WARNING - For intensity = 0, mdd != 0 or paa != 0. Consider shifting the origin of the intensity scale. In impact.calc the impact is always null at intensity = 0.\n",
      "2021-01-04 12:30:19,514 - climada.engine.impact - INFO - Exposures matching centroids found in centr_TC\n",
      "2021-01-04 12:30:19,514 - climada.engine.impact - INFO - Calculating damage for 394 assets (>0) and 52900 events.\n",
      "2021-01-04 12:30:19,666 - climada.entity.impact_funcs.base - WARNING - For intensity = 0, mdd != 0 or paa != 0. Consider shifting the origin of the intensity scale. In impact.calc the impact is always null at intensity = 0.\n",
      "2021-01-04 12:30:19,668 - climada.engine.impact - INFO - Exposures matching centroids found in centr_TC\n",
      "2021-01-04 12:30:19,668 - climada.engine.impact - INFO - Calculating damage for 394 assets (>0) and 52900 events.\n",
      "2021-01-04 12:30:19,817 - climada.entity.impact_funcs.base - WARNING - For intensity = 0, mdd != 0 or paa != 0. Consider shifting the origin of the intensity scale. In impact.calc the impact is always null at intensity = 0.\n",
      "2021-01-04 12:30:19,818 - climada.engine.impact - INFO - Exposures matching centroids found in centr_TC\n",
      "2021-01-04 12:30:19,819 - climada.engine.impact - INFO - Calculating damage for 394 assets (>0) and 52900 events.\n",
      "2021-01-04 12:30:19,969 - climada.entity.impact_funcs.base - WARNING - For intensity = 0, mdd != 0 or paa != 0. Consider shifting the origin of the intensity scale. In impact.calc the impact is always null at intensity = 0.\n",
      "2021-01-04 12:30:19,970 - climada.engine.impact - INFO - Exposures matching centroids found in centr_TC\n",
      "2021-01-04 12:30:19,971 - climada.engine.impact - INFO - Calculating damage for 394 assets (>0) and 52900 events.\n",
      "2021-01-04 12:30:20,122 - climada.entity.impact_funcs.base - WARNING - For intensity = 0, mdd != 0 or paa != 0. Consider shifting the origin of the intensity scale. In impact.calc the impact is always null at intensity = 0.\n",
      "2021-01-04 12:30:20,123 - climada.engine.impact - INFO - Exposures matching centroids found in centr_TC\n",
      "2021-01-04 12:30:20,124 - climada.engine.impact - INFO - Calculating damage for 394 assets (>0) and 52900 events.\n",
      "2021-01-04 12:30:20,246 - climada.entity.impact_funcs.base - WARNING - For intensity = 0, mdd != 0 or paa != 0. Consider shifting the origin of the intensity scale. In impact.calc the impact is always null at intensity = 0.\n",
      "2021-01-04 12:30:20,247 - climada.engine.impact - INFO - Exposures matching centroids found in centr_TC\n",
      "2021-01-04 12:30:20,248 - climada.engine.impact - INFO - Calculating damage for 394 assets (>0) and 52900 events.\n",
      "2021-01-04 12:30:20,404 - climada.entity.impact_funcs.base - WARNING - For intensity = 0, mdd != 0 or paa != 0. Consider shifting the origin of the intensity scale. In impact.calc the impact is always null at intensity = 0.\n",
      "2021-01-04 12:30:20,405 - climada.engine.impact - INFO - Exposures matching centroids found in centr_TC\n",
      "2021-01-04 12:30:20,406 - climada.engine.impact - INFO - Calculating damage for 394 assets (>0) and 52900 events.\n",
      "2021-01-04 12:30:20,526 - climada.entity.impact_funcs.base - WARNING - For intensity = 0, mdd != 0 or paa != 0. Consider shifting the origin of the intensity scale. In impact.calc the impact is always null at intensity = 0.\n",
      "2021-01-04 12:30:20,527 - climada.engine.impact - INFO - Exposures matching centroids found in centr_TC\n",
      "2021-01-04 12:30:20,528 - climada.engine.impact - INFO - Calculating damage for 394 assets (>0) and 52900 events.\n",
      "2021-01-04 12:30:20,649 - climada.entity.impact_funcs.base - WARNING - For intensity = 0, mdd != 0 or paa != 0. Consider shifting the origin of the intensity scale. In impact.calc the impact is always null at intensity = 0.\n",
      "2021-01-04 12:30:20,650 - climada.engine.impact - INFO - Exposures matching centroids found in centr_TC\n",
      "2021-01-04 12:30:20,651 - climada.engine.impact - INFO - Calculating damage for 394 assets (>0) and 52900 events.\n"
     ]
    },
    {
     "name": "stdout",
     "output_type": "stream",
     "text": [
      "2021-01-04 12:30:20,805 - climada.entity.impact_funcs.base - WARNING - For intensity = 0, mdd != 0 or paa != 0. Consider shifting the origin of the intensity scale. In impact.calc the impact is always null at intensity = 0.\n",
      "2021-01-04 12:30:20,806 - climada.engine.impact - INFO - Exposures matching centroids found in centr_TC\n",
      "2021-01-04 12:30:20,807 - climada.engine.impact - INFO - Calculating damage for 394 assets (>0) and 52900 events.\n",
      "2021-01-04 12:30:20,929 - climada.entity.impact_funcs.base - WARNING - For intensity = 0, mdd != 0 or paa != 0. Consider shifting the origin of the intensity scale. In impact.calc the impact is always null at intensity = 0.\n",
      "2021-01-04 12:30:20,930 - climada.engine.impact - INFO - Exposures matching centroids found in centr_TC\n",
      "2021-01-04 12:30:20,931 - climada.engine.impact - INFO - Calculating damage for 394 assets (>0) and 52900 events.\n",
      "2021-01-04 12:30:21,050 - climada.entity.impact_funcs.base - WARNING - For intensity = 0, mdd != 0 or paa != 0. Consider shifting the origin of the intensity scale. In impact.calc the impact is always null at intensity = 0.\n",
      "2021-01-04 12:30:21,051 - climada.engine.impact - INFO - Exposures matching centroids found in centr_TC\n",
      "2021-01-04 12:30:21,053 - climada.engine.impact - INFO - Calculating damage for 394 assets (>0) and 52900 events.\n",
      "2021-01-04 12:30:21,169 - climada.entity.impact_funcs.base - WARNING - For intensity = 0, mdd != 0 or paa != 0. Consider shifting the origin of the intensity scale. In impact.calc the impact is always null at intensity = 0.\n",
      "2021-01-04 12:30:21,169 - climada.engine.impact - INFO - Exposures matching centroids found in centr_TC\n",
      "2021-01-04 12:30:21,170 - climada.engine.impact - INFO - Calculating damage for 394 assets (>0) and 52900 events.\n",
      "2021-01-04 12:30:21,284 - climada.entity.impact_funcs.base - WARNING - For intensity = 0, mdd != 0 or paa != 0. Consider shifting the origin of the intensity scale. In impact.calc the impact is always null at intensity = 0.\n",
      "2021-01-04 12:30:21,285 - climada.engine.impact - INFO - Exposures matching centroids found in centr_TC\n",
      "2021-01-04 12:30:21,286 - climada.engine.impact - INFO - Calculating damage for 394 assets (>0) and 52900 events.\n",
      "2021-01-04 12:30:21,401 - climada.entity.impact_funcs.base - WARNING - For intensity = 0, mdd != 0 or paa != 0. Consider shifting the origin of the intensity scale. In impact.calc the impact is always null at intensity = 0.\n",
      "2021-01-04 12:30:21,402 - climada.engine.impact - INFO - Exposures matching centroids found in centr_TC\n",
      "2021-01-04 12:30:21,402 - climada.engine.impact - INFO - Calculating damage for 394 assets (>0) and 52900 events.\n",
      "2021-01-04 12:30:21,539 - climada.entity.impact_funcs.base - WARNING - For intensity = 0, mdd != 0 or paa != 0. Consider shifting the origin of the intensity scale. In impact.calc the impact is always null at intensity = 0.\n",
      "2021-01-04 12:30:21,540 - climada.engine.impact - INFO - Exposures matching centroids found in centr_TC\n",
      "2021-01-04 12:30:21,541 - climada.engine.impact - INFO - Calculating damage for 394 assets (>0) and 52900 events.\n",
      "2021-01-04 12:30:21,656 - climada.entity.impact_funcs.base - WARNING - For intensity = 0, mdd != 0 or paa != 0. Consider shifting the origin of the intensity scale. In impact.calc the impact is always null at intensity = 0.\n",
      "2021-01-04 12:30:21,657 - climada.engine.impact - INFO - Exposures matching centroids found in centr_TC\n",
      "2021-01-04 12:30:21,658 - climada.engine.impact - INFO - Calculating damage for 394 assets (>0) and 52900 events.\n",
      "2021-01-04 12:30:21,804 - climada.entity.impact_funcs.base - WARNING - For intensity = 0, mdd != 0 or paa != 0. Consider shifting the origin of the intensity scale. In impact.calc the impact is always null at intensity = 0.\n",
      "2021-01-04 12:30:21,805 - climada.engine.impact - INFO - Exposures matching centroids found in centr_TC\n",
      "2021-01-04 12:30:21,806 - climada.engine.impact - INFO - Calculating damage for 394 assets (>0) and 52900 events.\n",
      "2021-01-04 12:30:21,941 - climada.entity.impact_funcs.base - WARNING - For intensity = 0, mdd != 0 or paa != 0. Consider shifting the origin of the intensity scale. In impact.calc the impact is always null at intensity = 0.\n",
      "2021-01-04 12:30:21,942 - climada.engine.impact - INFO - Exposures matching centroids found in centr_TC\n",
      "2021-01-04 12:30:21,943 - climada.engine.impact - INFO - Calculating damage for 394 assets (>0) and 52900 events.\n",
      "2021-01-04 12:30:22,060 - climada.entity.impact_funcs.base - WARNING - For intensity = 0, mdd != 0 or paa != 0. Consider shifting the origin of the intensity scale. In impact.calc the impact is always null at intensity = 0.\n",
      "2021-01-04 12:30:22,061 - climada.engine.impact - INFO - Exposures matching centroids found in centr_TC\n",
      "2021-01-04 12:30:22,062 - climada.engine.impact - INFO - Calculating damage for 394 assets (>0) and 52900 events.\n",
      "2021-01-04 12:30:22,197 - climada.entity.impact_funcs.base - WARNING - For intensity = 0, mdd != 0 or paa != 0. Consider shifting the origin of the intensity scale. In impact.calc the impact is always null at intensity = 0.\n",
      "2021-01-04 12:30:22,198 - climada.engine.impact - INFO - Exposures matching centroids found in centr_TC\n",
      "2021-01-04 12:30:22,199 - climada.engine.impact - INFO - Calculating damage for 394 assets (>0) and 52900 events.\n",
      "2021-01-04 12:30:22,333 - climada.entity.impact_funcs.base - WARNING - For intensity = 0, mdd != 0 or paa != 0. Consider shifting the origin of the intensity scale. In impact.calc the impact is always null at intensity = 0.\n",
      "2021-01-04 12:30:22,334 - climada.engine.impact - INFO - Exposures matching centroids found in centr_TC\n",
      "2021-01-04 12:30:22,335 - climada.engine.impact - INFO - Calculating damage for 394 assets (>0) and 52900 events.\n",
      "2021-01-04 12:30:22,467 - climada.entity.impact_funcs.base - WARNING - For intensity = 0, mdd != 0 or paa != 0. Consider shifting the origin of the intensity scale. In impact.calc the impact is always null at intensity = 0.\n",
      "2021-01-04 12:30:22,468 - climada.engine.impact - INFO - Exposures matching centroids found in centr_TC\n",
      "2021-01-04 12:30:22,469 - climada.engine.impact - INFO - Calculating damage for 394 assets (>0) and 52900 events.\n",
      "2021-01-04 12:30:22,599 - climada.entity.impact_funcs.base - WARNING - For intensity = 0, mdd != 0 or paa != 0. Consider shifting the origin of the intensity scale. In impact.calc the impact is always null at intensity = 0.\n",
      "2021-01-04 12:30:22,600 - climada.engine.impact - INFO - Exposures matching centroids found in centr_TC\n",
      "2021-01-04 12:30:22,601 - climada.engine.impact - INFO - Calculating damage for 394 assets (>0) and 52900 events.\n",
      "2021-01-04 12:30:22,734 - climada.entity.impact_funcs.base - WARNING - For intensity = 0, mdd != 0 or paa != 0. Consider shifting the origin of the intensity scale. In impact.calc the impact is always null at intensity = 0.\n",
      "2021-01-04 12:30:22,735 - climada.engine.impact - INFO - Exposures matching centroids found in centr_TC\n",
      "2021-01-04 12:30:22,736 - climada.engine.impact - INFO - Calculating damage for 394 assets (>0) and 52900 events.\n",
      "2021-01-04 12:30:22,851 - climada.entity.impact_funcs.base - WARNING - For intensity = 0, mdd != 0 or paa != 0. Consider shifting the origin of the intensity scale. In impact.calc the impact is always null at intensity = 0.\n",
      "2021-01-04 12:30:22,852 - climada.engine.impact - INFO - Exposures matching centroids found in centr_TC\n",
      "2021-01-04 12:30:22,853 - climada.engine.impact - INFO - Calculating damage for 394 assets (>0) and 52900 events.\n",
      "2021-01-04 12:30:22,990 - climada.entity.impact_funcs.base - WARNING - For intensity = 0, mdd != 0 or paa != 0. Consider shifting the origin of the intensity scale. In impact.calc the impact is always null at intensity = 0.\n",
      "2021-01-04 12:30:22,991 - climada.engine.impact - INFO - Exposures matching centroids found in centr_TC\n",
      "2021-01-04 12:30:22,991 - climada.engine.impact - INFO - Calculating damage for 394 assets (>0) and 52900 events.\n",
      "2021-01-04 12:30:23,107 - climada.entity.impact_funcs.base - WARNING - For intensity = 0, mdd != 0 or paa != 0. Consider shifting the origin of the intensity scale. In impact.calc the impact is always null at intensity = 0.\n",
      "2021-01-04 12:30:23,108 - climada.engine.impact - INFO - Exposures matching centroids found in centr_TC\n"
     ]
    },
    {
     "name": "stdout",
     "output_type": "stream",
     "text": [
      "2021-01-04 12:30:23,109 - climada.engine.impact - INFO - Calculating damage for 394 assets (>0) and 52900 events.\n",
      "2021-01-04 12:30:23,220 - climada.entity.impact_funcs.base - WARNING - For intensity = 0, mdd != 0 or paa != 0. Consider shifting the origin of the intensity scale. In impact.calc the impact is always null at intensity = 0.\n",
      "2021-01-04 12:30:23,221 - climada.engine.impact - INFO - Exposures matching centroids found in centr_TC\n",
      "2021-01-04 12:30:23,222 - climada.engine.impact - INFO - Calculating damage for 394 assets (>0) and 52900 events.\n",
      "2021-01-04 12:30:23,358 - climada.entity.impact_funcs.base - WARNING - For intensity = 0, mdd != 0 or paa != 0. Consider shifting the origin of the intensity scale. In impact.calc the impact is always null at intensity = 0.\n",
      "2021-01-04 12:30:23,359 - climada.engine.impact - INFO - Exposures matching centroids found in centr_TC\n",
      "2021-01-04 12:30:23,360 - climada.engine.impact - INFO - Calculating damage for 394 assets (>0) and 52900 events.\n",
      "2021-01-04 12:30:23,479 - climada.entity.impact_funcs.base - WARNING - For intensity = 0, mdd != 0 or paa != 0. Consider shifting the origin of the intensity scale. In impact.calc the impact is always null at intensity = 0.\n",
      "2021-01-04 12:30:23,480 - climada.engine.impact - INFO - Exposures matching centroids found in centr_TC\n",
      "2021-01-04 12:30:23,481 - climada.engine.impact - INFO - Calculating damage for 394 assets (>0) and 52900 events.\n",
      "2021-01-04 12:30:23,595 - climada.entity.impact_funcs.base - WARNING - For intensity = 0, mdd != 0 or paa != 0. Consider shifting the origin of the intensity scale. In impact.calc the impact is always null at intensity = 0.\n",
      "2021-01-04 12:30:23,596 - climada.engine.impact - INFO - Exposures matching centroids found in centr_TC\n",
      "2021-01-04 12:30:23,596 - climada.engine.impact - INFO - Calculating damage for 394 assets (>0) and 52900 events.\n",
      "2021-01-04 12:30:23,748 - climada.entity.impact_funcs.base - WARNING - For intensity = 0, mdd != 0 or paa != 0. Consider shifting the origin of the intensity scale. In impact.calc the impact is always null at intensity = 0.\n",
      "2021-01-04 12:30:23,749 - climada.engine.impact - INFO - Exposures matching centroids found in centr_TC\n",
      "2021-01-04 12:30:23,751 - climada.engine.impact - INFO - Calculating damage for 394 assets (>0) and 52900 events.\n",
      "2021-01-04 12:30:23,898 - climada.entity.impact_funcs.base - WARNING - For intensity = 0, mdd != 0 or paa != 0. Consider shifting the origin of the intensity scale. In impact.calc the impact is always null at intensity = 0.\n",
      "2021-01-04 12:30:23,899 - climada.engine.impact - INFO - Exposures matching centroids found in centr_TC\n",
      "2021-01-04 12:30:23,900 - climada.engine.impact - INFO - Calculating damage for 394 assets (>0) and 52900 events.\n",
      "2021-01-04 12:30:24,044 - climada.entity.impact_funcs.base - WARNING - For intensity = 0, mdd != 0 or paa != 0. Consider shifting the origin of the intensity scale. In impact.calc the impact is always null at intensity = 0.\n",
      "2021-01-04 12:30:24,045 - climada.engine.impact - INFO - Exposures matching centroids found in centr_TC\n",
      "2021-01-04 12:30:24,046 - climada.engine.impact - INFO - Calculating damage for 394 assets (>0) and 52900 events.\n",
      "2021-01-04 12:30:24,177 - climada.entity.impact_funcs.base - WARNING - For intensity = 0, mdd != 0 or paa != 0. Consider shifting the origin of the intensity scale. In impact.calc the impact is always null at intensity = 0.\n",
      "2021-01-04 12:30:24,178 - climada.engine.impact - INFO - Exposures matching centroids found in centr_TC\n",
      "2021-01-04 12:30:24,179 - climada.engine.impact - INFO - Calculating damage for 394 assets (>0) and 52900 events.\n",
      "2021-01-04 12:30:24,332 - climada.entity.impact_funcs.base - WARNING - For intensity = 0, mdd != 0 or paa != 0. Consider shifting the origin of the intensity scale. In impact.calc the impact is always null at intensity = 0.\n",
      "2021-01-04 12:30:24,333 - climada.engine.impact - INFO - Exposures matching centroids found in centr_TC\n",
      "2021-01-04 12:30:24,334 - climada.engine.impact - INFO - Calculating damage for 394 assets (>0) and 52900 events.\n",
      "2021-01-04 12:30:24,459 - climada.entity.impact_funcs.base - WARNING - For intensity = 0, mdd != 0 or paa != 0. Consider shifting the origin of the intensity scale. In impact.calc the impact is always null at intensity = 0.\n",
      "2021-01-04 12:30:24,460 - climada.engine.impact - INFO - Exposures matching centroids found in centr_TC\n",
      "2021-01-04 12:30:24,461 - climada.engine.impact - INFO - Calculating damage for 394 assets (>0) and 52900 events.\n",
      "2021-01-04 12:30:24,587 - climada.entity.impact_funcs.base - WARNING - For intensity = 0, mdd != 0 or paa != 0. Consider shifting the origin of the intensity scale. In impact.calc the impact is always null at intensity = 0.\n",
      "2021-01-04 12:30:24,588 - climada.engine.impact - INFO - Exposures matching centroids found in centr_TC\n",
      "2021-01-04 12:30:24,589 - climada.engine.impact - INFO - Calculating damage for 394 assets (>0) and 52900 events.\n",
      "2021-01-04 12:30:24,739 - climada.entity.impact_funcs.base - WARNING - For intensity = 0, mdd != 0 or paa != 0. Consider shifting the origin of the intensity scale. In impact.calc the impact is always null at intensity = 0.\n",
      "2021-01-04 12:30:24,740 - climada.engine.impact - INFO - Exposures matching centroids found in centr_TC\n",
      "2021-01-04 12:30:24,742 - climada.engine.impact - INFO - Calculating damage for 394 assets (>0) and 52900 events.\n",
      "2021-01-04 12:30:24,869 - climada.entity.impact_funcs.base - WARNING - For intensity = 0, mdd != 0 or paa != 0. Consider shifting the origin of the intensity scale. In impact.calc the impact is always null at intensity = 0.\n",
      "2021-01-04 12:30:24,870 - climada.engine.impact - INFO - Exposures matching centroids found in centr_TC\n",
      "2021-01-04 12:30:24,871 - climada.engine.impact - INFO - Calculating damage for 394 assets (>0) and 52900 events.\n",
      "2021-01-04 12:30:24,996 - climada.entity.impact_funcs.base - WARNING - For intensity = 0, mdd != 0 or paa != 0. Consider shifting the origin of the intensity scale. In impact.calc the impact is always null at intensity = 0.\n",
      "2021-01-04 12:30:24,997 - climada.engine.impact - INFO - Exposures matching centroids found in centr_TC\n",
      "2021-01-04 12:30:24,998 - climada.engine.impact - INFO - Calculating damage for 394 assets (>0) and 52900 events.\n",
      "2021-01-04 12:30:25,114 - climada.entity.impact_funcs.base - WARNING - For intensity = 0, mdd != 0 or paa != 0. Consider shifting the origin of the intensity scale. In impact.calc the impact is always null at intensity = 0.\n",
      "2021-01-04 12:30:25,115 - climada.engine.impact - INFO - Exposures matching centroids found in centr_TC\n",
      "2021-01-04 12:30:25,117 - climada.engine.impact - INFO - Calculating damage for 394 assets (>0) and 52900 events.\n",
      "2021-01-04 12:30:25,230 - climada.entity.impact_funcs.base - WARNING - For intensity = 0, mdd != 0 or paa != 0. Consider shifting the origin of the intensity scale. In impact.calc the impact is always null at intensity = 0.\n",
      "2021-01-04 12:30:25,231 - climada.engine.impact - INFO - Exposures matching centroids found in centr_TC\n",
      "2021-01-04 12:30:25,232 - climada.engine.impact - INFO - Calculating damage for 394 assets (>0) and 52900 events.\n",
      "2021-01-04 12:30:25,350 - climada.entity.impact_funcs.base - WARNING - For intensity = 0, mdd != 0 or paa != 0. Consider shifting the origin of the intensity scale. In impact.calc the impact is always null at intensity = 0.\n",
      "2021-01-04 12:30:25,351 - climada.engine.impact - INFO - Exposures matching centroids found in centr_TC\n",
      "2021-01-04 12:30:25,352 - climada.engine.impact - INFO - Calculating damage for 394 assets (>0) and 52900 events.\n",
      "2021-01-04 12:30:25,462 - climada.entity.impact_funcs.base - WARNING - For intensity = 0, mdd != 0 or paa != 0. Consider shifting the origin of the intensity scale. In impact.calc the impact is always null at intensity = 0.\n",
      "2021-01-04 12:30:25,463 - climada.engine.impact - INFO - Exposures matching centroids found in centr_TC\n",
      "2021-01-04 12:30:25,464 - climada.engine.impact - INFO - Calculating damage for 394 assets (>0) and 52900 events.\n",
      "2021-01-04 12:30:25,580 - climada.entity.impact_funcs.base - WARNING - For intensity = 0, mdd != 0 or paa != 0. Consider shifting the origin of the intensity scale. In impact.calc the impact is always null at intensity = 0.\n"
     ]
    },
    {
     "name": "stdout",
     "output_type": "stream",
     "text": [
      "2021-01-04 12:30:25,581 - climada.engine.impact - INFO - Exposures matching centroids found in centr_TC\n",
      "2021-01-04 12:30:25,582 - climada.engine.impact - INFO - Calculating damage for 394 assets (>0) and 52900 events.\n",
      "2021-01-04 12:30:25,695 - climada.entity.impact_funcs.base - WARNING - For intensity = 0, mdd != 0 or paa != 0. Consider shifting the origin of the intensity scale. In impact.calc the impact is always null at intensity = 0.\n",
      "2021-01-04 12:30:25,695 - climada.engine.impact - INFO - Exposures matching centroids found in centr_TC\n",
      "2021-01-04 12:30:25,696 - climada.engine.impact - INFO - Calculating damage for 394 assets (>0) and 52900 events.\n",
      "2021-01-04 12:30:25,807 - climada.entity.impact_funcs.base - WARNING - For intensity = 0, mdd != 0 or paa != 0. Consider shifting the origin of the intensity scale. In impact.calc the impact is always null at intensity = 0.\n",
      "2021-01-04 12:30:25,808 - climada.engine.impact - INFO - Exposures matching centroids found in centr_TC\n",
      "2021-01-04 12:30:25,810 - climada.engine.impact - INFO - Calculating damage for 394 assets (>0) and 52900 events.\n",
      "2021-01-04 12:30:25,926 - climada.entity.impact_funcs.base - WARNING - For intensity = 0, mdd != 0 or paa != 0. Consider shifting the origin of the intensity scale. In impact.calc the impact is always null at intensity = 0.\n",
      "2021-01-04 12:30:25,927 - climada.engine.impact - INFO - Exposures matching centroids found in centr_TC\n",
      "2021-01-04 12:30:25,929 - climada.engine.impact - INFO - Calculating damage for 394 assets (>0) and 52900 events.\n",
      "2021-01-04 12:30:26,039 - climada.entity.impact_funcs.base - WARNING - For intensity = 0, mdd != 0 or paa != 0. Consider shifting the origin of the intensity scale. In impact.calc the impact is always null at intensity = 0.\n",
      "2021-01-04 12:30:26,040 - climada.engine.impact - INFO - Exposures matching centroids found in centr_TC\n",
      "2021-01-04 12:30:26,041 - climada.engine.impact - INFO - Calculating damage for 394 assets (>0) and 52900 events.\n",
      "2021-01-04 12:30:26,152 - climada.entity.impact_funcs.base - WARNING - For intensity = 0, mdd != 0 or paa != 0. Consider shifting the origin of the intensity scale. In impact.calc the impact is always null at intensity = 0.\n",
      "2021-01-04 12:30:26,153 - climada.engine.impact - INFO - Exposures matching centroids found in centr_TC\n",
      "2021-01-04 12:30:26,154 - climada.engine.impact - INFO - Calculating damage for 394 assets (>0) and 52900 events.\n",
      "2021-01-04 12:30:26,288 - climada.entity.impact_funcs.base - WARNING - For intensity = 0, mdd != 0 or paa != 0. Consider shifting the origin of the intensity scale. In impact.calc the impact is always null at intensity = 0.\n",
      "2021-01-04 12:30:26,289 - climada.engine.impact - INFO - Exposures matching centroids found in centr_TC\n",
      "2021-01-04 12:30:26,290 - climada.engine.impact - INFO - Calculating damage for 394 assets (>0) and 52900 events.\n",
      "2021-01-04 12:30:26,421 - climada.entity.impact_funcs.base - WARNING - For intensity = 0, mdd != 0 or paa != 0. Consider shifting the origin of the intensity scale. In impact.calc the impact is always null at intensity = 0.\n",
      "2021-01-04 12:30:26,422 - climada.engine.impact - INFO - Exposures matching centroids found in centr_TC\n",
      "2021-01-04 12:30:26,423 - climada.engine.impact - INFO - Calculating damage for 394 assets (>0) and 52900 events.\n",
      "2021-01-04 12:30:26,553 - climada.entity.impact_funcs.base - WARNING - For intensity = 0, mdd != 0 or paa != 0. Consider shifting the origin of the intensity scale. In impact.calc the impact is always null at intensity = 0.\n",
      "2021-01-04 12:30:26,564 - climada.engine.impact - INFO - Exposures matching centroids found in centr_TC\n",
      "2021-01-04 12:30:26,580 - climada.engine.impact - INFO - Calculating damage for 394 assets (>0) and 52900 events.\n",
      "2021-01-04 12:30:26,754 - climada.entity.impact_funcs.base - WARNING - For intensity = 0, mdd != 0 or paa != 0. Consider shifting the origin of the intensity scale. In impact.calc the impact is always null at intensity = 0.\n",
      "2021-01-04 12:30:26,755 - climada.engine.impact - INFO - Exposures matching centroids found in centr_TC\n",
      "2021-01-04 12:30:26,756 - climada.engine.impact - INFO - Calculating damage for 394 assets (>0) and 52900 events.\n",
      "2021-01-04 12:30:26,884 - climada.entity.impact_funcs.base - WARNING - For intensity = 0, mdd != 0 or paa != 0. Consider shifting the origin of the intensity scale. In impact.calc the impact is always null at intensity = 0.\n",
      "2021-01-04 12:30:26,885 - climada.engine.impact - INFO - Exposures matching centroids found in centr_TC\n",
      "2021-01-04 12:30:26,887 - climada.engine.impact - INFO - Calculating damage for 394 assets (>0) and 52900 events.\n",
      "2021-01-04 12:30:27,030 - climada.entity.impact_funcs.base - WARNING - For intensity = 0, mdd != 0 or paa != 0. Consider shifting the origin of the intensity scale. In impact.calc the impact is always null at intensity = 0.\n",
      "2021-01-04 12:30:27,031 - climada.engine.impact - INFO - Exposures matching centroids found in centr_TC\n",
      "2021-01-04 12:30:27,032 - climada.engine.impact - INFO - Calculating damage for 394 assets (>0) and 52900 events.\n",
      "2021-01-04 12:30:27,174 - climada.entity.impact_funcs.base - WARNING - For intensity = 0, mdd != 0 or paa != 0. Consider shifting the origin of the intensity scale. In impact.calc the impact is always null at intensity = 0.\n",
      "2021-01-04 12:30:27,175 - climada.engine.impact - INFO - Exposures matching centroids found in centr_TC\n",
      "2021-01-04 12:30:27,176 - climada.engine.impact - INFO - Calculating damage for 394 assets (>0) and 52900 events.\n",
      "2021-01-04 12:30:27,305 - climada.entity.impact_funcs.base - WARNING - For intensity = 0, mdd != 0 or paa != 0. Consider shifting the origin of the intensity scale. In impact.calc the impact is always null at intensity = 0.\n",
      "2021-01-04 12:30:27,306 - climada.engine.impact - INFO - Exposures matching centroids found in centr_TC\n",
      "2021-01-04 12:30:27,307 - climada.engine.impact - INFO - Calculating damage for 394 assets (>0) and 52900 events.\n",
      "2021-01-04 12:30:27,449 - climada.entity.impact_funcs.base - WARNING - For intensity = 0, mdd != 0 or paa != 0. Consider shifting the origin of the intensity scale. In impact.calc the impact is always null at intensity = 0.\n",
      "2021-01-04 12:30:27,450 - climada.engine.impact - INFO - Exposures matching centroids found in centr_TC\n",
      "2021-01-04 12:30:27,452 - climada.engine.impact - INFO - Calculating damage for 394 assets (>0) and 52900 events.\n",
      "2021-01-04 12:30:27,593 - climada.entity.impact_funcs.base - WARNING - For intensity = 0, mdd != 0 or paa != 0. Consider shifting the origin of the intensity scale. In impact.calc the impact is always null at intensity = 0.\n",
      "2021-01-04 12:30:27,594 - climada.engine.impact - INFO - Exposures matching centroids found in centr_TC\n",
      "2021-01-04 12:30:27,595 - climada.engine.impact - INFO - Calculating damage for 394 assets (>0) and 52900 events.\n",
      "2021-01-04 12:30:27,707 - climada.entity.impact_funcs.base - WARNING - For intensity = 0, mdd != 0 or paa != 0. Consider shifting the origin of the intensity scale. In impact.calc the impact is always null at intensity = 0.\n",
      "2021-01-04 12:30:27,709 - climada.engine.impact - INFO - Exposures matching centroids found in centr_TC\n",
      "2021-01-04 12:30:27,710 - climada.engine.impact - INFO - Calculating damage for 394 assets (>0) and 52900 events.\n",
      "2021-01-04 12:30:27,824 - climada.entity.impact_funcs.base - WARNING - For intensity = 0, mdd != 0 or paa != 0. Consider shifting the origin of the intensity scale. In impact.calc the impact is always null at intensity = 0.\n",
      "2021-01-04 12:30:27,824 - climada.engine.impact - INFO - Exposures matching centroids found in centr_TC\n",
      "2021-01-04 12:30:27,826 - climada.engine.impact - INFO - Calculating damage for 394 assets (>0) and 52900 events.\n",
      "2021-01-04 12:30:27,942 - climada.entity.impact_funcs.base - WARNING - For intensity = 0, mdd != 0 or paa != 0. Consider shifting the origin of the intensity scale. In impact.calc the impact is always null at intensity = 0.\n",
      "2021-01-04 12:30:27,943 - climada.engine.impact - INFO - Exposures matching centroids found in centr_TC\n",
      "2021-01-04 12:30:27,944 - climada.engine.impact - INFO - Calculating damage for 394 assets (>0) and 52900 events.\n",
      "2021-01-04 12:30:28,062 - climada.entity.impact_funcs.base - WARNING - For intensity = 0, mdd != 0 or paa != 0. Consider shifting the origin of the intensity scale. In impact.calc the impact is always null at intensity = 0.\n"
     ]
    },
    {
     "name": "stdout",
     "output_type": "stream",
     "text": [
      "2021-01-04 12:30:28,064 - climada.engine.impact - INFO - Exposures matching centroids found in centr_TC\n",
      "2021-01-04 12:30:28,065 - climada.engine.impact - INFO - Calculating damage for 394 assets (>0) and 52900 events.\n",
      "2021-01-04 12:30:28,177 - climada.entity.impact_funcs.base - WARNING - For intensity = 0, mdd != 0 or paa != 0. Consider shifting the origin of the intensity scale. In impact.calc the impact is always null at intensity = 0.\n",
      "2021-01-04 12:30:28,178 - climada.engine.impact - INFO - Exposures matching centroids found in centr_TC\n",
      "2021-01-04 12:30:28,180 - climada.engine.impact - INFO - Calculating damage for 394 assets (>0) and 52900 events.\n",
      "2021-01-04 12:30:28,296 - climada.entity.impact_funcs.base - WARNING - For intensity = 0, mdd != 0 or paa != 0. Consider shifting the origin of the intensity scale. In impact.calc the impact is always null at intensity = 0.\n",
      "2021-01-04 12:30:28,297 - climada.engine.impact - INFO - Exposures matching centroids found in centr_TC\n",
      "2021-01-04 12:30:28,298 - climada.engine.impact - INFO - Calculating damage for 394 assets (>0) and 52900 events.\n",
      "2021-01-04 12:30:28,412 - climada.entity.impact_funcs.base - WARNING - For intensity = 0, mdd != 0 or paa != 0. Consider shifting the origin of the intensity scale. In impact.calc the impact is always null at intensity = 0.\n",
      "2021-01-04 12:30:28,413 - climada.engine.impact - INFO - Exposures matching centroids found in centr_TC\n",
      "2021-01-04 12:30:28,413 - climada.engine.impact - INFO - Calculating damage for 394 assets (>0) and 52900 events.\n",
      "2021-01-04 12:30:28,523 - climada.entity.impact_funcs.base - WARNING - For intensity = 0, mdd != 0 or paa != 0. Consider shifting the origin of the intensity scale. In impact.calc the impact is always null at intensity = 0.\n",
      "2021-01-04 12:30:28,524 - climada.engine.impact - INFO - Exposures matching centroids found in centr_TC\n",
      "2021-01-04 12:30:28,525 - climada.engine.impact - INFO - Calculating damage for 394 assets (>0) and 52900 events.\n",
      "2021-01-04 12:30:28,642 - climada.entity.impact_funcs.base - WARNING - For intensity = 0, mdd != 0 or paa != 0. Consider shifting the origin of the intensity scale. In impact.calc the impact is always null at intensity = 0.\n",
      "2021-01-04 12:30:28,643 - climada.engine.impact - INFO - Exposures matching centroids found in centr_TC\n",
      "2021-01-04 12:30:28,644 - climada.engine.impact - INFO - Calculating damage for 394 assets (>0) and 52900 events.\n",
      "2021-01-04 12:30:28,760 - climada.entity.impact_funcs.base - WARNING - For intensity = 0, mdd != 0 or paa != 0. Consider shifting the origin of the intensity scale. In impact.calc the impact is always null at intensity = 0.\n",
      "2021-01-04 12:30:28,761 - climada.engine.impact - INFO - Exposures matching centroids found in centr_TC\n",
      "2021-01-04 12:30:28,761 - climada.engine.impact - INFO - Calculating damage for 394 assets (>0) and 52900 events.\n",
      "2021-01-04 12:30:28,916 - climada.entity.impact_funcs.base - WARNING - For intensity = 0, mdd != 0 or paa != 0. Consider shifting the origin of the intensity scale. In impact.calc the impact is always null at intensity = 0.\n",
      "2021-01-04 12:30:28,918 - climada.engine.impact - INFO - Exposures matching centroids found in centr_TC\n",
      "2021-01-04 12:30:28,919 - climada.engine.impact - INFO - Calculating damage for 394 assets (>0) and 52900 events.\n",
      "2021-01-04 12:30:29,066 - climada.entity.impact_funcs.base - WARNING - For intensity = 0, mdd != 0 or paa != 0. Consider shifting the origin of the intensity scale. In impact.calc the impact is always null at intensity = 0.\n",
      "2021-01-04 12:30:29,067 - climada.engine.impact - INFO - Exposures matching centroids found in centr_TC\n",
      "2021-01-04 12:30:29,068 - climada.engine.impact - INFO - Calculating damage for 394 assets (>0) and 52900 events.\n",
      "2021-01-04 12:30:29,215 - climada.entity.impact_funcs.base - WARNING - For intensity = 0, mdd != 0 or paa != 0. Consider shifting the origin of the intensity scale. In impact.calc the impact is always null at intensity = 0.\n",
      "2021-01-04 12:30:29,216 - climada.engine.impact - INFO - Exposures matching centroids found in centr_TC\n",
      "2021-01-04 12:30:29,217 - climada.engine.impact - INFO - Calculating damage for 394 assets (>0) and 52900 events.\n",
      "2021-01-04 12:30:29,325 - climada.entity.impact_funcs.base - WARNING - For intensity = 0, mdd != 0 or paa != 0. Consider shifting the origin of the intensity scale. In impact.calc the impact is always null at intensity = 0.\n",
      "2021-01-04 12:30:29,325 - climada.engine.impact - INFO - Exposures matching centroids found in centr_TC\n",
      "2021-01-04 12:30:29,326 - climada.engine.impact - INFO - Calculating damage for 394 assets (>0) and 52900 events.\n",
      "2021-01-04 12:30:29,480 - climada.entity.impact_funcs.base - WARNING - For intensity = 0, mdd != 0 or paa != 0. Consider shifting the origin of the intensity scale. In impact.calc the impact is always null at intensity = 0.\n",
      "2021-01-04 12:30:29,481 - climada.engine.impact - INFO - Exposures matching centroids found in centr_TC\n",
      "2021-01-04 12:30:29,482 - climada.engine.impact - INFO - Calculating damage for 394 assets (>0) and 52900 events.\n",
      "2021-01-04 12:30:29,590 - climada.entity.impact_funcs.base - WARNING - For intensity = 0, mdd != 0 or paa != 0. Consider shifting the origin of the intensity scale. In impact.calc the impact is always null at intensity = 0.\n",
      "2021-01-04 12:30:29,591 - climada.engine.impact - INFO - Exposures matching centroids found in centr_TC\n",
      "2021-01-04 12:30:29,592 - climada.engine.impact - INFO - Calculating damage for 394 assets (>0) and 52900 events.\n",
      "2021-01-04 12:30:29,708 - climada.entity.impact_funcs.base - WARNING - For intensity = 0, mdd != 0 or paa != 0. Consider shifting the origin of the intensity scale. In impact.calc the impact is always null at intensity = 0.\n",
      "2021-01-04 12:30:29,708 - climada.engine.impact - INFO - Exposures matching centroids found in centr_TC\n",
      "2021-01-04 12:30:29,709 - climada.engine.impact - INFO - Calculating damage for 394 assets (>0) and 52900 events.\n",
      "2021-01-04 12:30:29,870 - climada.entity.impact_funcs.base - WARNING - For intensity = 0, mdd != 0 or paa != 0. Consider shifting the origin of the intensity scale. In impact.calc the impact is always null at intensity = 0.\n",
      "2021-01-04 12:30:29,871 - climada.engine.impact - INFO - Exposures matching centroids found in centr_TC\n",
      "2021-01-04 12:30:29,873 - climada.engine.impact - INFO - Calculating damage for 394 assets (>0) and 52900 events.\n",
      "2021-01-04 12:30:29,988 - climada.entity.impact_funcs.base - WARNING - For intensity = 0, mdd != 0 or paa != 0. Consider shifting the origin of the intensity scale. In impact.calc the impact is always null at intensity = 0.\n",
      "2021-01-04 12:30:29,989 - climada.engine.impact - INFO - Exposures matching centroids found in centr_TC\n",
      "2021-01-04 12:30:29,990 - climada.engine.impact - INFO - Calculating damage for 394 assets (>0) and 52900 events.\n",
      "2021-01-04 12:30:30,106 - climada.entity.impact_funcs.base - WARNING - For intensity = 0, mdd != 0 or paa != 0. Consider shifting the origin of the intensity scale. In impact.calc the impact is always null at intensity = 0.\n",
      "2021-01-04 12:30:30,106 - climada.engine.impact - INFO - Exposures matching centroids found in centr_TC\n",
      "2021-01-04 12:30:30,107 - climada.engine.impact - INFO - Calculating damage for 394 assets (>0) and 52900 events.\n",
      "2021-01-04 12:30:30,235 - climada.entity.impact_funcs.base - WARNING - For intensity = 0, mdd != 0 or paa != 0. Consider shifting the origin of the intensity scale. In impact.calc the impact is always null at intensity = 0.\n",
      "2021-01-04 12:30:30,236 - climada.engine.impact - INFO - Exposures matching centroids found in centr_TC\n",
      "2021-01-04 12:30:30,238 - climada.engine.impact - INFO - Calculating damage for 394 assets (>0) and 52900 events.\n",
      "2021-01-04 12:30:30,366 - climada.entity.impact_funcs.base - WARNING - For intensity = 0, mdd != 0 or paa != 0. Consider shifting the origin of the intensity scale. In impact.calc the impact is always null at intensity = 0.\n",
      "2021-01-04 12:30:30,367 - climada.engine.impact - INFO - Exposures matching centroids found in centr_TC\n",
      "2021-01-04 12:30:30,368 - climada.engine.impact - INFO - Calculating damage for 394 assets (>0) and 52900 events.\n",
      "2021-01-04 12:30:30,488 - climada.entity.impact_funcs.base - WARNING - For intensity = 0, mdd != 0 or paa != 0. Consider shifting the origin of the intensity scale. In impact.calc the impact is always null at intensity = 0.\n"
     ]
    },
    {
     "name": "stdout",
     "output_type": "stream",
     "text": [
      "2021-01-04 12:30:30,489 - climada.engine.impact - INFO - Exposures matching centroids found in centr_TC\n",
      "2021-01-04 12:30:30,490 - climada.engine.impact - INFO - Calculating damage for 394 assets (>0) and 52900 events.\n",
      "2021-01-04 12:30:30,615 - climada.entity.impact_funcs.base - WARNING - For intensity = 0, mdd != 0 or paa != 0. Consider shifting the origin of the intensity scale. In impact.calc the impact is always null at intensity = 0.\n",
      "2021-01-04 12:30:30,616 - climada.engine.impact - INFO - Exposures matching centroids found in centr_TC\n",
      "2021-01-04 12:30:30,617 - climada.engine.impact - INFO - Calculating damage for 394 assets (>0) and 52900 events.\n",
      "2021-01-04 12:30:30,735 - climada.entity.impact_funcs.base - WARNING - For intensity = 0, mdd != 0 or paa != 0. Consider shifting the origin of the intensity scale. In impact.calc the impact is always null at intensity = 0.\n",
      "2021-01-04 12:30:30,736 - climada.engine.impact - INFO - Exposures matching centroids found in centr_TC\n",
      "2021-01-04 12:30:30,737 - climada.engine.impact - INFO - Calculating damage for 394 assets (>0) and 52900 events.\n",
      "2021-01-04 12:30:30,863 - climada.entity.impact_funcs.base - WARNING - For intensity = 0, mdd != 0 or paa != 0. Consider shifting the origin of the intensity scale. In impact.calc the impact is always null at intensity = 0.\n",
      "2021-01-04 12:30:30,864 - climada.engine.impact - INFO - Exposures matching centroids found in centr_TC\n",
      "2021-01-04 12:30:30,865 - climada.engine.impact - INFO - Calculating damage for 394 assets (>0) and 52900 events.\n",
      "2021-01-04 12:30:30,993 - climada.entity.impact_funcs.base - WARNING - For intensity = 0, mdd != 0 or paa != 0. Consider shifting the origin of the intensity scale. In impact.calc the impact is always null at intensity = 0.\n",
      "2021-01-04 12:30:30,994 - climada.engine.impact - INFO - Exposures matching centroids found in centr_TC\n",
      "2021-01-04 12:30:30,995 - climada.engine.impact - INFO - Calculating damage for 394 assets (>0) and 52900 events.\n",
      "2021-01-04 12:30:31,115 - climada.entity.impact_funcs.base - WARNING - For intensity = 0, mdd != 0 or paa != 0. Consider shifting the origin of the intensity scale. In impact.calc the impact is always null at intensity = 0.\n",
      "2021-01-04 12:30:31,116 - climada.engine.impact - INFO - Exposures matching centroids found in centr_TC\n",
      "2021-01-04 12:30:31,117 - climada.engine.impact - INFO - Calculating damage for 394 assets (>0) and 52900 events.\n",
      "2021-01-04 12:30:31,248 - climada.entity.impact_funcs.base - WARNING - For intensity = 0, mdd != 0 or paa != 0. Consider shifting the origin of the intensity scale. In impact.calc the impact is always null at intensity = 0.\n",
      "2021-01-04 12:30:31,249 - climada.engine.impact - INFO - Exposures matching centroids found in centr_TC\n",
      "2021-01-04 12:30:31,250 - climada.engine.impact - INFO - Calculating damage for 394 assets (>0) and 52900 events.\n"
     ]
    }
   ],
   "source": [
    "exp = dummy_exp()\n",
    "haz = dummy_haz()\n",
    "impf = imp_fun_tc\n",
    "\n",
    "distr_dict = {\"G\": sp.stats.uniform(0.8,1),\n",
    "              \"v_half\": sp.stats.uniform(50, 100),\n",
    "              \"vmin\": sp.stats.uniform(15,30),\n",
    "              \"k\": sp.stats.uniform(1, 5)\n",
    "              }\n",
    "\n",
    "impf_unc = UncVar(impf, distr_dict)\n",
    "\n",
    "unc = UncSensitivity(exp, impf_unc, haz)\n",
    "imp_sobol_dict = unc.calc_impact_sobol_sensitivity(N=10, calc_eai_exp=False, calc_at_event=False, calc_second_order=True)"
   ]
  },
  {
   "cell_type": "code",
   "execution_count": 69,
   "metadata": {
    "ExecuteTime": {
     "end_time": "2021-01-04T13:18:18.674739Z",
     "start_time": "2021-01-04T13:18:18.671576Z"
    }
   },
   "outputs": [],
   "source": [
    "S1_aai_agg = { k:list(imp_sobol_dict['aai_agg'][k]) for k in ['S1', 'S1_conf', 'ST', 'ST_conf']}"
   ]
  },
  {
   "cell_type": "code",
   "execution_count": 70,
   "metadata": {
    "ExecuteTime": {
     "end_time": "2021-01-04T13:18:22.925767Z",
     "start_time": "2021-01-04T13:18:22.743123Z"
    }
   },
   "outputs": [
    {
     "data": {
      "image/png": "[encoded data removed]",
      "text/plain": [
       "<Figure size 432x288 with 1 Axes>"
      ]
     },
     "metadata": {
      "needs_background": "light"
     },
     "output_type": "display_data"
    }
   ],
   "source": [
    "fig, ax = plt.subplots()\n",
    "bar_plot(ax, S1_aai_agg)\n",
    "plt.setp(ax, xticks=range(len(unc.params.columns.to_list())), xticklabels=unc.params.columns.to_list());"
   ]
  },
  {
   "cell_type": "code",
   "execution_count": 71,
   "metadata": {
    "ExecuteTime": {
     "end_time": "2021-01-04T13:20:48.791256Z",
     "start_time": "2021-01-04T13:20:48.787818Z"
    }
   },
   "outputs": [],
   "source": [
    "all_S1 = {in_var: list(imp_sobol_dict[in_var]['S1']) for in_var in imp_sobol_dict.keys()}"
   ]
  },
  {
   "cell_type": "code",
   "execution_count": 72,
   "metadata": {
    "ExecuteTime": {
     "end_time": "2021-01-04T13:20:52.976993Z",
     "start_time": "2021-01-04T13:20:52.768370Z"
    }
   },
   "outputs": [
    {
     "data": {
      "image/png": "[encoded data removed]",
      "text/plain": [
       "<Figure size 432x288 with 1 Axes>"
      ]
     },
     "metadata": {
      "needs_background": "light"
     },
     "output_type": "display_data"
    }
   ],
   "source": [
    "fig, ax = plt.subplots()\n",
    "bar_plot(ax, all_S1)\n",
    "plt.setp(ax, xticks=range(len(unc.params.columns.to_list())), xticklabels=unc.params.columns.to_list());"
   ]
  },
  {
   "cell_type": "code",
   "execution_count": 24,
   "metadata": {
    "ExecuteTime": {
     "end_time": "2021-01-04T11:22:26.417037Z",
     "start_time": "2021-01-04T11:22:26.410777Z"
    },
    "code_folding": [
     0
    ]
   },
   "outputs": [],
   "source": [
    "def bar_plot(ax, data, colors=None, total_width=0.8, single_width=1, legend=True):\n",
    "    \"\"\"Draws a bar plot with multiple bars per data point.\n",
    "    https://stackoverflow.com/questions/14270391/python-matplotlib-multiple-bars\n",
    "\n",
    "    Parameters\n",
    "    ----------\n",
    "    ax : matplotlib.pyplot.axis\n",
    "        The axis we want to draw our plot on.\n",
    "\n",
    "    data: dictionary\n",
    "        A dictionary containing the data we want to plot. Keys are the names of the\n",
    "        data, the items is a list of the values.\n",
    "\n",
    "        Example:\n",
    "        data = {\n",
    "            \"x\":[1,2,3],\n",
    "            \"y\":[1,2,3],\n",
    "            \"z\":[1,2,3],\n",
    "        }\n",
    "\n",
    "    colors : array-like, optional\n",
    "        A list of colors which are used for the bars. If None, the colors\n",
    "        will be the standard matplotlib color cyle. (default: None)\n",
    "\n",
    "    total_width : float, optional, default: 0.8\n",
    "        The width of a bar group. 0.8 means that 80% of the x-axis is covered\n",
    "        by bars and 20% will be spaces between the bars.\n",
    "\n",
    "    single_width: float, optional, default: 1\n",
    "        The relative width of a single bar within a group. 1 means the bars\n",
    "        will touch eachother within a group, values less than 1 will make\n",
    "        these bars thinner.\n",
    "\n",
    "    legend: bool, optional, default: True\n",
    "        If this is set to true, a legend will be added to the axis.\n",
    "    \"\"\"\n",
    "\n",
    "    # Check if colors where provided, otherwhise use the default color cycle\n",
    "    if colors is None:\n",
    "        colors = plt.rcParams['axes.prop_cycle'].by_key()['color']\n",
    "\n",
    "    # Number of bars per group\n",
    "    n_bars = len(data)\n",
    "\n",
    "    # The width of a single bar\n",
    "    bar_width = total_width / n_bars\n",
    "\n",
    "    # List containing handles for the drawn bars, used for the legend\n",
    "    bars = []\n",
    "\n",
    "    # Iterate over all data\n",
    "    for i, (name, values) in enumerate(data.items()):\n",
    "        # The offset in x direction of that bar\n",
    "        x_offset = (i - n_bars / 2) * bar_width + bar_width / 2\n",
    "\n",
    "        # Draw a bar for every value of that type\n",
    "        for x, y in enumerate(values):\n",
    "            bar = ax.bar(x + x_offset, y, width=bar_width * single_width, color=colors[i % len(colors)])\n",
    "\n",
    "        # Add a handle to the last drawn bar, which we'll need for the legend\n",
    "        bars.append(bar[0])\n",
    "\n",
    "    # Draw legend if we need\n",
    "    if legend:\n",
    "        ax.legend(bars, data.keys())"
   ]
  }
 ],
 "metadata": {
  "kernelspec": {
   "display_name": "Python [conda env:climada_uncertainty] *",
   "language": "python",
   "name": "conda-env-climada_uncertainty-py"
  },
  "language_info": {
   "codemirror_mode": {
    "name": "ipython",
    "version": 3
   },
   "file_extension": ".py",
   "mimetype": "text/x-python",
   "name": "python",
   "nbconvert_exporter": "python",
   "pygments_lexer": "ipython3",
   "version": "3.7.9"
  },
  "latex_envs": {
   "LaTeX_envs_menu_present": true,
   "autoclose": false,
   "autocomplete": true,
   "bibliofile": "biblio.bib",
   "cite_by": "apalike",
   "current_citInitial": 1,
   "eqLabelWithNumbers": true,
   "eqNumInitial": 1,
   "hotkeys": {
    "equation": "Ctrl-E",
    "itemize": "Ctrl-I"
   },
   "labels_anchors": false,
   "latex_user_defs": false,
   "report_style_numbering": false,
   "user_envs_cfg": false
  },
  "toc": {
   "base_numbering": 1,
   "nav_menu": {},
   "number_sections": true,
   "sideBar": true,
   "skip_h1_title": false,
   "title_cell": "Table of Contents",
   "title_sidebar": "Contents",
   "toc_cell": false,
   "toc_position": {},
   "toc_section_display": true,
   "toc_window_display": false
  }
 },
 "nbformat": 4,
 "nbformat_minor": 4
}
