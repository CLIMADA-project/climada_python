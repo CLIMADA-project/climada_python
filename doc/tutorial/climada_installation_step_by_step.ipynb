{
 "cells": [
  {
   "cell_type": "markdown",
   "id": "cc8580cc-24a4-474f-9aca-727c7d0f07e6",
   "metadata": {},
   "source": [
    "# CLIMADA Installation Step by Step"
   ]
  },
  {
   "cell_type": "markdown",
   "id": "e24eb4c0-6846-4227-b18e-dab38a072002",
   "metadata": {},
   "source": [
    "## System Requirements\n",
    "\n",
    "- __OS__: Linux, macOS, Windows"
   ]
  },
  {
   "cell_type": "markdown",
   "id": "2afee592-c5ee-4750-a5e9-487790a40c86",
   "metadata": {},
   "source": [
    "## Prerequisites\n",
    "\n",
    "- [Conda](https://docs.conda.io/en/latest/)\\\n",
    "  For the installation you will need the _Conda_ package manager. If it is not yet installed, please download the latest version of Anaconda and execute it.\\\n",
    "  On Windows you will have to restart your computer after installing Anaconda."
   ]
  },
  {
   "cell_type": "markdown",
   "id": "7240943d-6e5f-42d4-9817-7a16c16e8682",
   "metadata": {},
   "source": [
    "## Instructions\n",
    "\n",
    "- Make a folder `climada_workspace` where you will save all your results.\\\n",
    "The folder shouldn't be on a Cloud drive, like OneDrive, ICloud or PolyBox, as this may cause synchronization problems."
   ]
  },
  {
   "cell_type": "markdown",
   "id": "641548e8-a1ea-4b12-9c0c-aae33d13753b",
   "metadata": {},
   "source": [
    "- Open a ‘command line’ or ‘terminal’ or ‘anaconda prompt’ and navigate to the folder climada_workspace.\\\n",
    "Please get familiar with the ’anaconda prompt (all), the ‘command line’ (windows) or ‘terminal’ (linux, MacOs). Several resources are available online.\\\n",
    "Below ‘terminal’ and ‘command line’ and ‘anaconda prompt’ will be used interchangeably.\\\n",
    "To navigate use `cd` (replace  `path/to` with the actual path to the directory you have created):"
   ]
  },
  {
   "cell_type": "code",
   "execution_count": 1,
   "id": "74d80546-3e1a-4a59-8630-183d830b9c01",
   "metadata": {},
   "outputs": [],
   "source": [
    "cd path/to/climada_workspace"
   ]
  },
  {
   "cell_type": "markdown",
   "id": "129b2b0c-380b-4888-867b-ab4ccbda28cc",
   "metadata": {},
   "source": [
    "- Download the [_Conda_ environment specifications for CLIMADA](https://github.com/CLIMADA-project/climada_python/blob/main/requirements/env_climada.yml) from the GitHub repository\\\n",
    "you can do it manually, by clicking on the link above, then on [Raw] and then saving the page that opens as env_climada.yml into the `climada_workspace` foldern \\\n",
    "alternatively just execute this command line:"
   ]
  },
  {
   "cell_type": "code",
   "execution_count": 2,
   "id": "bfd21d97-0033-4ea1-b15b-e569a719b521",
   "metadata": {},
   "outputs": [],
   "source": [
    "curl -o env_climada.yml https://raw.githubusercontent.com/CLIMADA-project/climada_python/main/requirements/env_climada.yml"
   ]
  },
  {
   "cell_type": "markdown",
   "id": "c6defb2d-5bba-47d3-8941-9596d8b951f3",
   "metadata": {},
   "source": [
    "- Create the _Conda_ environment"
   ]
  },
  {
   "cell_type": "code",
   "execution_count": 3,
   "id": "40eaaa81-df04-4d12-9dd1-04e1cdf76358",
   "metadata": {},
   "outputs": [],
   "source": [
    "conda env create -n climada_env -f env_climada.yml"
   ]
  },
  {
   "cell_type": "markdown",
   "id": "1f6e4171-a5b5-47a2-8ebf-5616e7e90751",
   "metadata": {},
   "source": [
    "> Executing this command will take a while, expect 4 minutes or so."
   ]
  },
  {
   "cell_type": "markdown",
   "id": "37f6d11f-1ecf-473d-953a-81299b30ed6b",
   "metadata": {},
   "source": [
    "- Activate the environment"
   ]
  },
  {
   "cell_type": "code",
   "execution_count": 4,
   "id": "e781315f-55f4-4c7d-84c1-45b55cb4d070",
   "metadata": {},
   "outputs": [],
   "source": [
    "conda activate climada_env"
   ]
  },
  {
   "cell_type": "markdown",
   "id": "f72749ed-338e-4c4b-abdd-253a2645f203",
   "metadata": {},
   "source": [
    "- Install CLIMADA within the environment"
   ]
  },
  {
   "cell_type": "code",
   "execution_count": 5,
   "id": "892745a9-a0ca-448a-9522-48b9b6204cc5",
   "metadata": {},
   "outputs": [],
   "source": [
    "pip install climada"
   ]
  },
  {
   "cell_type": "markdown",
   "id": "4dc0da96-a4cf-4c12-b115-a790e5eac4b1",
   "metadata": {},
   "source": [
    "- Test the installation"
   ]
  },
  {
   "cell_type": "code",
   "execution_count": 6,
   "id": "f9098259-b041-4f5b-9d37-b110b325d987",
   "metadata": {},
   "outputs": [],
   "source": [
    "python -m unittest climada.engine.test.test_impact"
   ]
  },
  {
   "cell_type": "markdown",
   "id": "c7c97771-c628-41fc-9e3a-890376b1774f",
   "metadata": {},
   "source": [
    "> Note that at first it seems like nothing happens. At the beginning of the test some files are moved around in your local filesystem, which can take some time.\\\n",
    "You will notice a `climada` folder in your home directory once the test has run - or after any python program executing `import climada` somewhere.\\\n",
    "This directory contains data files that are used by climada and cached on the local file system for performance reasons. (See the [Configuration Guide](https://climada-python.readthedocs.io/en/latest/guide/Guide_Configuration.html) for further options.)\\\n",
    "Later on, some text will appear. If all goes well, you should see an “Ok” at the end. \n",
    "\n",
    "Great, now you are ready for some climate risk modelling!"
   ]
  },
  {
   "cell_type": "markdown",
   "id": "3e37700c-ed32-44b8-9fc7-4ab6a3c90e0b",
   "metadata": {},
   "source": [
    "## Jupyter\n",
    "To work with CLIMADA, we recommend that you work in a Jupyter Notebook in Jupyter Lab.\\\n",
    "Please install jupyter lab executing the following command line:"
   ]
  },
  {
   "cell_type": "code",
   "execution_count": 7,
   "id": "bb29d294-2774-4fcb-9b44-878c5076c89c",
   "metadata": {},
   "outputs": [],
   "source": [
    "conda activate climada_env\n",
    "pip install jupyterlab"
   ]
  },
  {
   "cell_type": "markdown",
   "id": "5f70a3a8-5b93-4abc-ae8e-483c02f377e5",
   "metadata": {},
   "source": [
    "Before starting a notebook, make sure to be in the conda environment climada_env. Here are the commands you should execute in your terminal.\\\n",
    "The first line activates the environment and the second will open a Jupyer Lab console in your default web browser."
   ]
  },
  {
   "cell_type": "code",
   "execution_count": 8,
   "id": "dd09a287-87b0-411f-a32b-2ced4c858b12",
   "metadata": {},
   "outputs": [],
   "source": [
    "conda activate climada_env\n",
    "jupyter-lab"
   ]
  },
  {
   "cell_type": "markdown",
   "id": "07741ad9-6551-403c-a651-0e9b414e82eb",
   "metadata": {},
   "source": [
    "Once launched, you can create a new jupyter notebook or continue working with one you have already created."
   ]
  }
 ],
 "metadata": {
  "kernelspec": {
   "display_name": "Python 3 (ipykernel)",
   "language": "python",
   "name": "python3"
  },
  "language_info": {
   "codemirror_mode": {
    "name": "ipython",
    "version": 3
   },
   "file_extension": ".py",
   "mimetype": "text/x-python",
   "name": "python",
   "nbconvert_exporter": "python",
   "pygments_lexer": "ipython3",
   "version": "3.8.12"
  }
 },
 "nbformat": 4,
 "nbformat_minor": 5
}
