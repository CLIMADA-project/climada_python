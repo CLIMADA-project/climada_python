{
 "cells": [
  {
   "cell_type": "markdown",
   "metadata": {},
   "source": [
    "# DiscRates class\n",
    "\n",
    "This class contains the discount rates for every year and discounts given values. Its attributes are:\n",
    "\n",
    " * tag (Tag): information about the source data\n",
    " * years (np.array): years\n",
    " * rates (np.array): discount rates for each year (between 0 and 1)"
   ]
  },
  {
   "cell_type": "markdown",
   "metadata": {},
   "source": [
    "**In CLIMADA 2.0.0 upwards, the import from DiscRates is: from climada.entity.disc_rates import DiscRates**"
   ]
  },
  {
   "cell_type": "code",
   "execution_count": 10,
   "metadata": {
    "ExecuteTime": {
     "end_time": "2021-03-05T11:24:04.731839Z",
     "start_time": "2021-03-05T11:24:04.727548Z"
    }
   },
   "outputs": [
    {
     "name": "stdout",
     "output_type": "stream",
     "text": [
      "Help on class DiscRates in module climada.entity.disc_rates.base:\n",
      "\n",
      "class DiscRates(builtins.object)\n",
      " |  Defines discount rates and basic methods. Loads from\n",
      " |  files with format defined in FILE_EXT.\n",
      " |  \n",
      " |  Attributes:\n",
      " |      tag (Tag): information about the source data\n",
      " |      years (np.array): years\n",
      " |      rates (np.array): discount rates for each year (between 0 and 1)\n",
      " |  \n",
      " |  Methods defined here:\n",
      " |  \n",
      " |  __init__(self)\n",
      " |      Empty initialization.\n",
      " |      \n",
      " |      Examples:\n",
      " |          Fill discount rates with values and check consistency data:\n",
      " |      \n",
      " |          >>> disc_rates = DiscRates()\n",
      " |          >>> disc_rates.years = np.array([2000, 2001])\n",
      " |          >>> disc_rates.rates = np.array([0.02, 0.02])\n",
      " |          >>> disc_rates.check()\n",
      " |      \n",
      " |          Read discount rates from year_2050.mat and checks consistency data.\n",
      " |      \n",
      " |          >>> disc_rates = DiscRates(ENT_TEMPLATE_XLS)\n",
      " |  \n",
      " |  append(self, disc_rates)\n",
      " |      Check and append discount rates to current DiscRates. Overwrite\n",
      " |      discount rate if same year.\n",
      " |      \n",
      " |      Parameters:\n",
      " |          disc_rates (DiscRates): DiscRates instance to append\n",
      " |      \n",
      " |      Raises:\n",
      " |          ValueError\n",
      " |  \n",
      " |  check(self)\n",
      " |      Check attributes consistency.\n",
      " |      \n",
      " |      Raises:\n",
      " |          ValueError\n",
      " |  \n",
      " |  clear(self)\n",
      " |      Reinitialize attributes.\n",
      " |  \n",
      " |  net_present_value(self, ini_year, end_year, val_years)\n",
      " |      Compute net present value between present year and future year.\n",
      " |      \n",
      " |      Parameters:\n",
      " |          ini_year (float): initial year\n",
      " |          end_year (float): end year\n",
      " |          val_years (np.array): cash flow at each year btw ini_year and\n",
      " |              end_year (both included)\n",
      " |      Returns:\n",
      " |          float\n",
      " |  \n",
      " |  plot(self, axis=None, **kwargs)\n",
      " |      Plot discount rates per year.\n",
      " |      \n",
      " |      Parameters:\n",
      " |          axis (matplotlib.axes._subplots.AxesSubplot, optional): axis to use\n",
      " |          kwargs (optional): arguments for plot matplotlib function, e.g. marker='x'\n",
      " |      \n",
      " |      Returns:\n",
      " |          matplotlib.axes._subplots.AxesSubplot\n",
      " |  \n",
      " |  read_excel(self, file_name, description='', var_names={'sheet_name': 'discount', 'col_name': {'year': 'year', 'disc': 'discount_rate'}})\n",
      " |      Read excel file following template and store variables.\n",
      " |      \n",
      " |      Parameters:\n",
      " |          file_name (str): absolute file name\n",
      " |          description (str, optional): description of the data\n",
      " |          var_names (dict, optional): name of the variables in the file\n",
      " |  \n",
      " |  read_mat(self, file_name, description='', var_names={'sup_field_name': 'entity', 'field_name': 'discount', 'var_name': {'year': 'year', 'disc': 'discount_rate'}})\n",
      " |      Read MATLAB file generated with previous MATLAB CLIMADA version.\n",
      " |      \n",
      " |      Parameters:\n",
      " |          file_name (str): absolute file name\n",
      " |          description (str, optional): description of the data\n",
      " |          var_names (dict, optional): name of the variables in the file\n",
      " |  \n",
      " |  select(self, year_range)\n",
      " |      Select discount rates in given years.\n",
      " |      \n",
      " |      Parameters:\n",
      " |          year_range (np.array): continuous sequence of selected years.\n",
      " |      \n",
      " |      Returns:\n",
      " |          DiscRates\n",
      " |  \n",
      " |  write_excel(self, file_name, var_names={'sheet_name': 'discount', 'col_name': {'year': 'year', 'disc': 'discount_rate'}})\n",
      " |      Write excel file following template.\n",
      " |      \n",
      " |      Parameters:\n",
      " |          file_name (str): absolute file name to write\n",
      " |          var_names (dict, optional): name of the variables in the file\n",
      " |  \n",
      " |  ----------------------------------------------------------------------\n",
      " |  Data descriptors defined here:\n",
      " |  \n",
      " |  __dict__\n",
      " |      dictionary for instance variables (if defined)\n",
      " |  \n",
      " |  __weakref__\n",
      " |      list of weak references to the object (if defined)\n",
      "\n"
     ]
    }
   ],
   "source": [
    "#CLIMADA 1.x.x\n",
    "#from climada.entity import DiscRates\n",
    "#CLIMADA 2.0.0\n",
    "from climada.entity.disc_rates import DiscRates\n",
    "help(DiscRates)"
   ]
  },
  {
   "cell_type": "markdown",
   "metadata": {},
   "source": [
    "An example of use:"
   ]
  },
  {
   "cell_type": "code",
   "execution_count": 11,
   "metadata": {
    "ExecuteTime": {
     "end_time": "2021-03-05T11:24:05.858294Z",
     "start_time": "2021-03-05T11:24:05.719783Z"
    }
   },
   "outputs": [
    {
     "name": "stdout",
     "output_type": "stream",
     "text": [
      "net present value: 1.01099e+08\n"
     ]
    },
    {
     "data": {
      "image/png": "[encoded data removed]",
      "text/plain": [
       "<Figure size 432x288 with 1 Axes>"
      ]
     },
     "metadata": {
      "needs_background": "light"
     },
     "output_type": "display_data"
    }
   ],
   "source": [
    "%matplotlib inline\n",
    "import numpy as np\n",
    "#CLIMADA 1.x.x\n",
    "#from climada.entity import DiscRates\n",
    "#CLIMADA 2.0.0\n",
    "from climada.entity.disc_rates import DiscRates\n",
    "\n",
    "# define discount rates\n",
    "disc = DiscRates()\n",
    "disc.years = np.arange(1950, 2100)\n",
    "disc.rates = np.ones(disc.years.size) * 0.02\n",
    "disc.rates[51:55] = 0.025\n",
    "disc.rates[95:120] = 0.035\n",
    "disc.check()\n",
    "disc.plot()\n",
    "\n",
    "# Compute net present value between present year and future year.\n",
    "ini_year = 2019\n",
    "end_year = 2050\n",
    "val_years = np.zeros(end_year-ini_year+1)\n",
    "val_years[0] = 100000000 # initial investment\n",
    "val_years[10:] = 75000 # maintenance from 10th year\n",
    "npv = disc.net_present_value(ini_year, end_year, val_years)\n",
    "print('net present value: {:.5e}'.format(npv))"
   ]
  },
  {
   "cell_type": "markdown",
   "metadata": {},
   "source": [
    "## Read discount rates of an Excel file\n",
    "\n",
    "Discount rates defined in an excel file following the template provided in sheet `discount` of `climada_python/data/system/entity_template.xlsx` can be ingested directly using the method `read_excel()`."
   ]
  },
  {
   "cell_type": "code",
   "execution_count": 12,
   "metadata": {
    "ExecuteTime": {
     "end_time": "2021-03-05T11:24:12.778053Z",
     "start_time": "2021-03-05T11:24:12.582277Z"
    }
   },
   "outputs": [
    {
     "name": "stdout",
     "output_type": "stream",
     "text": [
      "Read file: /Users/ckropf/climada/data/entity_template.xlsx\n"
     ]
    },
    {
     "data": {
      "text/plain": [
       "<matplotlib.axes._subplots.AxesSubplot at 0x7fd7df429fd0>"
      ]
     },
     "execution_count": 12,
     "metadata": {},
     "output_type": "execute_result"
    },
    {
     "data": {
      "image/png": "[encoded data removed]",
      "text/plain": [
       "<Figure size 432x288 with 1 Axes>"
      ]
     },
     "metadata": {
      "needs_background": "light"
     },
     "output_type": "display_data"
    }
   ],
   "source": [
    "#CLIMADA 1.x.x\n",
    "#from climada.entity import DiscRates\n",
    "#CLIMADA 2.0.0\n",
    "from climada.entity.disc_rates import DiscRates\n",
    "from climada.util import ENT_TEMPLATE_XLS\n",
    "\n",
    "# Fill DataFrame from Excel file\n",
    "file_name = ENT_TEMPLATE_XLS # provide absolute path of the excel file\n",
    "disc = DiscRates()\n",
    "disc.read_excel(file_name)\n",
    "print('Read file:', disc.tag.file_name)\n",
    "disc.plot()"
   ]
  },
  {
   "cell_type": "markdown",
   "metadata": {},
   "source": [
    "## Write discount rates"
   ]
  },
  {
   "cell_type": "markdown",
   "metadata": {},
   "source": [
    "Discount rates defined in an excel file following the template provided in sheet `discount` of `climada_python/data/system/entity_template.xlsx` can be ingested directly using the method `read_excel()`."
   ]
  },
  {
   "cell_type": "code",
   "execution_count": 13,
   "metadata": {
    "ExecuteTime": {
     "end_time": "2021-03-05T11:24:16.291945Z",
     "start_time": "2021-03-05T11:24:16.226543Z"
    }
   },
   "outputs": [],
   "source": [
    "#CLIMADA 1.x.x\n",
    "#from climada.entity import DiscRates\n",
    "#CLIMADA 2.0.0\n",
    "from climada.entity.disc_rates import DiscRates\n",
    "from climada.util import ENT_TEMPLATE_XLS\n",
    "\n",
    "# Fill DataFrame from Excel file\n",
    "file_name = ENT_TEMPLATE_XLS # provide absolute path of the excel file\n",
    "disc = DiscRates()\n",
    "disc.read_excel(file_name)\n",
    "\n",
    "# write file\n",
    "disc.write_excel('results/tutorial_disc.xlsx')"
   ]
  },
  {
   "cell_type": "markdown",
   "metadata": {},
   "source": [
    "Pickle can always be used as well:"
   ]
  },
  {
   "cell_type": "code",
   "execution_count": 5,
   "metadata": {},
   "outputs": [
    {
     "name": "stdout",
     "output_type": "stream",
     "text": [
      "2019-10-29 21:39:55,425 - climada.util.save - INFO - Written file /Users/aznarsig/Documents/Python/climada_python/doc/tutorial/results/tutorial_disc.p\n"
     ]
    }
   ],
   "source": [
    "from climada.util.save import save\n",
    "# this generates a results folder in the current path and stores the output there\n",
    "save('tutorial_disc.p', disc)"
   ]
  }
 ],
 "metadata": {
  "hide_input": false,
  "kernelspec": {
   "display_name": "Python 3",
   "language": "python",
   "name": "python3"
  },
  "language_info": {
   "codemirror_mode": {
    "name": "ipython",
    "version": 3
   },
   "file_extension": ".py",
   "mimetype": "text/x-python",
   "name": "python",
   "nbconvert_exporter": "python",
   "pygments_lexer": "ipython3",
   "version": "3.7.9"
  },
  "latex_envs": {
   "LaTeX_envs_menu_present": true,
   "autoclose": false,
   "autocomplete": true,
   "bibliofile": "biblio.bib",
   "cite_by": "apalike",
   "current_citInitial": 1,
   "eqLabelWithNumbers": true,
   "eqNumInitial": 1,
   "hotkeys": {
    "equation": "Ctrl-E",
    "itemize": "Ctrl-I"
   },
   "labels_anchors": false,
   "latex_user_defs": false,
   "report_style_numbering": false,
   "user_envs_cfg": false
  },
  "toc": {
   "base_numbering": 1,
   "nav_menu": {},
   "number_sections": true,
   "sideBar": true,
   "skip_h1_title": false,
   "title_cell": "Table of Contents",
   "title_sidebar": "Contents",
   "toc_cell": false,
   "toc_position": {},
   "toc_section_display": true,
   "toc_window_display": false
  }
 },
 "nbformat": 4,
 "nbformat_minor": 4
}
