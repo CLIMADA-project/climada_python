{
 "cells": [
  {
   "cell_type": "markdown",
   "metadata": {},
   "source": [
    "# DiscRates class\n",
    "\n",
    "Discount rates are used to calculate the net present value of any future or past value. They are thus used to compare amounts paid (costs) and received (benefits) in different years. A project is economically viable (attractive), if the net present value of benefits exceeds the net present value of costs - a cost-benefit ratio < 1.\n",
    "\n",
    "There are several important implications that come along with discount rates. Namely, that higher discount rates lead to smaller net present values of future impacts (costs). As a consequence of that, climate action and mitigation measures can be postboned. In the literature higher discount rates are typically justified by the expectation of continued exponential growth of the economy.\n",
    "The most widley used interest rate in climate change economics is 1.4% as propsed by the Stern Review (2006). Neoliberal economists around Nordhaus (2007) claim that rates should be higher, around 4.3%. Environmental economists argue that future costs shouldn't be discounted at all. This is especially true for non-monetary variables such as ecosystems or human lifes, where no price tag should be applied out of ethical reasons. This discussion has a long history, reaching back to the 18th century: “Some things have a price, or relative worth, while other things have a dignity, or inner worth” (Kant, 1785).\n",
    "\n",
    "\n",
    "\n",
    "This class contains the discount rates for every year and discounts given values. Its attributes are:\n",
    "\n",
    " * years (np.array): years\n",
    " * rates (np.array): discount rates for each year (between 0 and 1)\n",
    "\n",
    "For a complete class documentation, refer to the Python modules docs: {py:class}`climada.entity.disc_rates.base.DiscRates`"
   ]
  },
  {
   "cell_type": "markdown",
   "metadata": {},
   "source": [
    "An example of use - we define discount rates and apply them on a coastal protection scheme which initially costs 100 mn. USD plus 75'000 USD mainteance each year, starting after 10 years. Net present value of the project can be calculated as displayed:"
   ]
  },
  {
   "cell_type": "code",
   "execution_count": 3,
   "metadata": {
    "ExecuteTime": {
     "end_time": "2021-10-15T12:25:23.110277Z",
     "start_time": "2021-10-15T12:25:22.976995Z"
    }
   },
   "outputs": [
    {
     "name": "stdout",
     "output_type": "stream",
     "text": [
      "net present value: 1.01231e+08\n"
     ]
    },
    {
     "data": {
      "image/png": "[encoded data removed]",
      "text/plain": [
       "<Figure size 432x576 with 1 Axes>"
      ]
     },
     "metadata": {
      "needs_background": "light"
     },
     "output_type": "display_data"
    }
   ],
   "source": [
    "%matplotlib inline\n",
    "import numpy as np\n",
    "from climada.entity import DiscRates\n",
    "\n",
    "# define discount rates\n",
    "years = np.arange(1950, 2100)\n",
    "rates = np.ones(years.size) * 0.014\n",
    "rates[51:55] = 0.025\n",
    "rates[95:120] = 0.035\n",
    "disc = DiscRates(years=years, rates=rates)\n",
    "disc.plot()\n",
    "\n",
    "# Compute net present value between present year and future year.\n",
    "ini_year = 2019\n",
    "end_year = 2050\n",
    "val_years = np.zeros(end_year-ini_year+1)\n",
    "val_years[0] = 100000000 # initial investment\n",
    "val_years[10:] = 75000 # maintenance from 10th year\n",
    "npv = disc.net_present_value(ini_year, end_year, val_years)\n",
    "print('net present value: {:.5e}'.format(npv))"
   ]
  },
  {
   "cell_type": "markdown",
   "metadata": {},
   "source": [
    "## Read discount rates of an Excel file\n",
    "\n",
    "Discount rates defined in an excel file following the template provided in sheet `discount` of `climada_python/climada/data/system/entity_template.xlsx` can be ingested directly using the method `from_excel()`."
   ]
  },
  {
   "cell_type": "code",
   "execution_count": 4,
   "metadata": {
    "ExecuteTime": {
     "end_time": "2021-10-15T12:25:33.821328Z",
     "start_time": "2021-10-15T12:25:33.333591Z"
    }
   },
   "outputs": [
    {
     "name": "stdout",
     "output_type": "stream",
     "text": [
      "Read file: /Users/ckropf/climada/data/entity_template.xlsx\n"
     ]
    },
    {
     "data": {
      "text/plain": [
       "<AxesSubplot:title={'center':'Discount rates'}, xlabel='Year', ylabel='discount rate (%)'>"
      ]
     },
     "execution_count": 4,
     "metadata": {},
     "output_type": "execute_result"
    },
    {
     "data": {
      "image/png": "[encoded data removed]",
      "text/plain": [
       "<Figure size 432x576 with 1 Axes>"
      ]
     },
     "metadata": {
      "needs_background": "light"
     },
     "output_type": "display_data"
    }
   ],
   "source": [
    "from climada.entity import DiscRates\n",
    "from climada.util import ENT_TEMPLATE_XLS\n",
    "\n",
    "# Fill DataFrame from Excel file\n",
    "file_name = ENT_TEMPLATE_XLS # provide absolute path of the excel file\n",
    "print('Read file:', ENT_TEMPLATE_XLS)\n",
    "disc = DiscRates.from_excel(file_name)\n",
    "disc.plot();"
   ]
  },
  {
   "cell_type": "markdown",
   "metadata": {},
   "source": [
    "## Write discount rates"
   ]
  },
  {
   "cell_type": "markdown",
   "metadata": {},
   "source": [
    "Users may write the discounts in Excel format using write_excel() method `write_excel()`."
   ]
  },
  {
   "cell_type": "code",
   "execution_count": 5,
   "metadata": {
    "ExecuteTime": {
     "end_time": "2021-10-15T12:25:45.026313Z",
     "start_time": "2021-10-15T12:25:44.966485Z"
    }
   },
   "outputs": [],
   "source": [
    "from climada.entity import DiscRates\n",
    "from climada.util import ENT_TEMPLATE_XLS\n",
    "\n",
    "# Fill DataFrame from Excel file\n",
    "file_name = ENT_TEMPLATE_XLS # provide absolute path of the excel file\n",
    "disc = DiscRates.from_excel(file_name)\n",
    "\n",
    "# write file\n",
    "disc.write_excel('results/tutorial_disc.xlsx')"
   ]
  },
  {
   "cell_type": "markdown",
   "metadata": {},
   "source": [
    "Pickle can always be used as well:"
   ]
  },
  {
   "cell_type": "code",
   "execution_count": 5,
   "metadata": {},
   "outputs": [],
   "source": [
    "from climada.util.save import save\n",
    "# this generates a results folder in the current path and stores the output there\n",
    "save('tutorial_disc.p', disc)"
   ]
  }
 ],
 "metadata": {
  "hide_input": false,
  "kernelspec": {
   "display_name": "climada_env",
   "language": "python",
   "name": "python3"
  },
  "language_info": {
   "codemirror_mode": {
    "name": "ipython",
    "version": 3
   },
   "file_extension": ".py",
   "mimetype": "text/x-python",
   "name": "python",
   "nbconvert_exporter": "python",
   "pygments_lexer": "ipython3",
   "version": "3.9.16"
  },
  "latex_envs": {
   "LaTeX_envs_menu_present": true,
   "autoclose": false,
   "autocomplete": true,
   "bibliofile": "biblio.bib",
   "cite_by": "apalike",
   "current_citInitial": 1,
   "eqLabelWithNumbers": true,
   "eqNumInitial": 1,
   "hotkeys": {
    "equation": "Ctrl-E",
    "itemize": "Ctrl-I"
   },
   "labels_anchors": false,
   "latex_user_defs": false,
   "report_style_numbering": false,
   "user_envs_cfg": false
  },
  "toc": {
   "base_numbering": 1,
   "nav_menu": {},
   "number_sections": true,
   "sideBar": true,
   "skip_h1_title": false,
   "title_cell": "Table of Contents",
   "title_sidebar": "Contents",
   "toc_cell": false,
   "toc_position": {},
   "toc_section_display": true,
   "toc_window_display": false
  },
  "vscode": {
   "interpreter": {
    "hash": "4aebf7f26d9a9d4c9696d8ddcd034589cd11abb7fe515057c687f2f3cec840ea"
   }
  }
 },
 "nbformat": 4,
 "nbformat_minor": 4
}
