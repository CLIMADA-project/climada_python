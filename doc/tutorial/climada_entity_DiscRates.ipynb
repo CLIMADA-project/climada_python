{
 "cells": [
  {
   "cell_type": "markdown",
   "metadata": {},
   "source": [
    "# DiscRates class\n",
    "\n",
    "Discount rates are used to calculate the net present value of any future or past value. They are thus used to compare amounts paid (costs) and received (benefits) in different years. A project is economically viable (attractive), if the net present value of benefits exceeds the net present value of costs - a const-benefit ratio < 1.\n",
    "\n",
    "There are several important implications that come along with discount rates. Namely, that higher discount rates lead to smaller net present values of future impacts (costs). As a consequence of that, climate action and mitigation measures can be postboned. In the literature higher discount rates are typically justified by the expectation of continued exponential growth of the economy.\n",
    "The most widley used interest rate in climate change economics is 1.4% as propsed by the Stern Review (2006). Neoliberal economists around Nordhaus (2007) claim that rates should be higher, around 4.3%. Environmental economists argue that future costs shouldn't be discounted at all. This is especially true for non-monetary variables such as ecosystems or human lifes, where no price tag should be applied out of ethical reasons. This discussion has a long history, reaching back to the 18th century: “Some things have a price, or relative worth, while other things have a dignity, or inner worth” (Kant, 1785).\n",
    "\n",
    "\n",
    "\n",
    "This class contains the discount rates for every year and discounts given values. Its attributes are:\n",
    "\n",
    " * tag (Tag): information about the source data\n",
    " * years (np.array): years\n",
    " * rates (np.array): discount rates for each year (between 0 and 1)"
   ]
  },
  {
   "cell_type": "code",
   "execution_count": 2,
   "metadata": {},
   "outputs": [
    {
     "name": "stdout",
     "output_type": "stream",
     "text": [
      "2020-10-19 09:43:26,307 - climada - DEBUG - Loading default config file: /Users/sam/Documents/Python/climada_python/climada/conf/defaults.conf\n",
      "Help on class DiscRates in module climada.entity.disc_rates.base:\n",
      "\n",
      "class DiscRates(builtins.object)\n",
      " |  Defines discount rates and basic methods. Loads from\n",
      " |  files with format defined in FILE_EXT.\n",
      " |  \n",
      " |  Attributes:\n",
      " |      tag (Tag): information about the source data\n",
      " |      years (np.array): years\n",
      " |      rates (np.array): discount rates for each year (between 0 and 1)\n",
      " |  \n",
      " |  Methods defined here:\n",
      " |  \n",
      " |  __init__(self)\n",
      " |      Empty initialization.\n",
      " |      \n",
      " |      Examples:\n",
      " |          Fill discount rates with values and check consistency data:\n",
      " |      \n",
      " |          >>> disc_rates = DiscRates()\n",
      " |          >>> disc_rates.years = np.array([2000, 2001])\n",
      " |          >>> disc_rates.rates = np.array([0.02, 0.02])\n",
      " |          >>> disc_rates.check()\n",
      " |      \n",
      " |          Read discount rates from year_2050.mat and checks consistency data.\n",
      " |      \n",
      " |          >>> disc_rates = DiscRates(ENT_TEMPLATE_XLS)\n",
      " |  \n",
      " |  append(self, disc_rates)\n",
      " |      Check and append discount rates to current DiscRates. Overwrite\n",
      " |      discount rate if same year.\n",
      " |      \n",
      " |      Parameters:\n",
      " |          disc_rates (DiscRates): DiscRates instance to append\n",
      " |      \n",
      " |      Raises:\n",
      " |          ValueError\n",
      " |  \n",
      " |  check(self)\n",
      " |      Check attributes consistency.\n",
      " |      \n",
      " |      Raises:\n",
      " |          ValueError\n",
      " |  \n",
      " |  clear(self)\n",
      " |      Reinitialize attributes.\n",
      " |  \n",
      " |  net_present_value(self, ini_year, end_year, val_years)\n",
      " |      Compute net present value between present year and future year.\n",
      " |      \n",
      " |      Parameters:\n",
      " |          ini_year (float): initial year\n",
      " |          end_year (float): end year\n",
      " |          val_years (np.array): cash flow at each year btw ini_year and\n",
      " |              end_year (both included)\n",
      " |      Returns:\n",
      " |          float\n",
      " |  \n",
      " |  plot(self, axis=None, **kwargs)\n",
      " |      Plot discount rates per year.\n",
      " |      \n",
      " |      Parameters:\n",
      " |          axis (matplotlib.axes._subplots.AxesSubplot, optional): axis to use\n",
      " |          kwargs (optional): arguments for plot matplotlib function, e.g. marker='x'\n",
      " |      \n",
      " |      Returns:\n",
      " |          matplotlib.axes._subplots.AxesSubplot\n",
      " |  \n",
      " |  read_excel(self, file_name, description='', var_names={'sheet_name': 'discount', 'col_name': {'year': 'year', 'disc': 'discount_rate'}})\n",
      " |      Read excel file following template and store variables.\n",
      " |      \n",
      " |      Parameters:\n",
      " |          file_name (str): absolute file name\n",
      " |          description (str, optional): description of the data\n",
      " |          var_names (dict, optional): name of the variables in the file\n",
      " |  \n",
      " |  read_mat(self, file_name, description='', var_names={'sup_field_name': 'entity', 'field_name': 'discount', 'var_name': {'year': 'year', 'disc': 'discount_rate'}})\n",
      " |      Read MATLAB file generated with previous MATLAB CLIMADA version.\n",
      " |      \n",
      " |      Parameters:\n",
      " |          file_name (str): absolute file name\n",
      " |          description (str, optional): description of the data\n",
      " |          var_names (dict, optional): name of the variables in the file\n",
      " |  \n",
      " |  select(self, year_range)\n",
      " |      Select discount rates in given years.\n",
      " |      \n",
      " |      Parameters:\n",
      " |          year_range (np.array): continuous sequence of selected years.\n",
      " |      \n",
      " |      Returns:\n",
      " |          DiscRates\n",
      " |  \n",
      " |  write_excel(self, file_name, var_names={'sheet_name': 'discount', 'col_name': {'year': 'year', 'disc': 'discount_rate'}})\n",
      " |      Write excel file following template.\n",
      " |      \n",
      " |      Parameters:\n",
      " |          file_name (str): absolute file name to write\n",
      " |          var_names (dict, optional): name of the variables in the file\n",
      " |  \n",
      " |  ----------------------------------------------------------------------\n",
      " |  Data descriptors defined here:\n",
      " |  \n",
      " |  __dict__\n",
      " |      dictionary for instance variables (if defined)\n",
      " |  \n",
      " |  __weakref__\n",
      " |      list of weak references to the object (if defined)\n",
      "\n"
     ]
    }
   ],
   "source": [
    "from climada.entity import DiscRates\n",
    "help(DiscRates)"
   ]
  },
  {
   "cell_type": "markdown",
   "metadata": {},
   "source": [
    "An example of use - we define discount rates and apply them on a coastal protection scheme which initially costs 100 mn. USD plus 75'000 USD maintance each year, starting after 10 years. Net present value of the project can be calculated as displayed:"
   ]
  },
  {
   "cell_type": "code",
   "execution_count": 8,
   "metadata": {},
   "outputs": [
    {
     "name": "stdout",
     "output_type": "stream",
     "text": [
      "net present value: 1.01231e+08\n"
     ]
    },
    {
     "data": {
      "image/png": "[encoded data removed]",
      "text/plain": [
       "<Figure size 432x288 with 1 Axes>"
      ]
     },
     "metadata": {
      "needs_background": "light"
     },
     "output_type": "display_data"
    }
   ],
   "source": [
    "%matplotlib inline\n",
    "import numpy as np\n",
    "from climada.entity import DiscRates\n",
    "\n",
    "# define discount rates\n",
    "disc = DiscRates()\n",
    "disc.years = np.arange(1950, 2100)\n",
    "disc.rates = np.ones(disc.years.size) * 0.014\n",
    "disc.rates[51:55] = 0.025\n",
    "disc.rates[95:120] = 0.035\n",
    "disc.check()\n",
    "disc.plot()\n",
    "\n",
    "# Compute net present value between present year and future year.\n",
    "ini_year = 2019\n",
    "end_year = 2050\n",
    "val_years = np.zeros(end_year-ini_year+1)\n",
    "val_years[0] = 100000000 # initial investment\n",
    "val_years[10:] = 75000 # maintenance from 10th year\n",
    "npv = disc.net_present_value(ini_year, end_year, val_years)\n",
    "print('net present value: {:.5e}'.format(npv))"
   ]
  },
  {
   "cell_type": "markdown",
   "metadata": {},
   "source": [
    "## Read discount rates of an Excel file\n",
    "\n",
    "Discount rates defined in an excel file following the template provided in sheet `discount` of `climada_python/data/system/entity_template.xlsx` can be ingested directly using the method `read_excel()`."
   ]
  },
  {
   "cell_type": "code",
   "execution_count": 4,
   "metadata": {},
   "outputs": [
    {
     "name": "stdout",
     "output_type": "stream",
     "text": [
      "Read file: /Users/sam/Documents/Python/climada_python/data/system/entity_template.xlsx\n"
     ]
    },
    {
     "data": {
      "text/plain": [
       "<matplotlib.axes._subplots.AxesSubplot at 0x121bf2518>"
      ]
     },
     "execution_count": 4,
     "metadata": {},
     "output_type": "execute_result"
    },
    {
     "data": {
      "image/png": "[encoded data removed]",
      "text/plain": [
       "<Figure size 432x288 with 1 Axes>"
      ]
     },
     "metadata": {
      "needs_background": "light"
     },
     "output_type": "display_data"
    }
   ],
   "source": [
    "from climada.entity import DiscRates\n",
    "from climada.util import ENT_TEMPLATE_XLS\n",
    "\n",
    "# Fill DataFrame from Excel file\n",
    "file_name = ENT_TEMPLATE_XLS # provide absolute path of the excel file\n",
    "disc = DiscRates()\n",
    "disc.read_excel(file_name)\n",
    "print('Read file:', disc.tag.file_name)\n",
    "disc.plot()"
   ]
  },
  {
   "cell_type": "markdown",
   "metadata": {},
   "source": [
    "## Write discount rates"
   ]
  },
  {
   "cell_type": "markdown",
   "metadata": {},
   "source": [
    "Discount rates defined in an excel file following the template provided in sheet `discount` of `climada_python/data/system/entity_template.xlsx` can be ingested directly using the method `read_excel()`."
   ]
  },
  {
   "cell_type": "code",
   "execution_count": 6,
   "metadata": {},
   "outputs": [],
   "source": [
    "from climada.entity import DiscRates\n",
    "from climada.util import ENT_TEMPLATE_XLS\n",
    "\n",
    "# Fill DataFrame from Excel file\n",
    "file_name = ENT_TEMPLATE_XLS # provide absolute path of the excel file\n",
    "disc = DiscRates()\n",
    "disc.read_excel(file_name)\n",
    "\n",
    "# write file\n",
    "disc.write_excel('results/tutorial_disc.xlsx')"
   ]
  },
  {
   "cell_type": "markdown",
   "metadata": {},
   "source": [
    "Pickle can always be used as well:"
   ]
  },
  {
   "cell_type": "code",
   "execution_count": 7,
   "metadata": {},
   "outputs": [
    {
     "name": "stdout",
     "output_type": "stream",
     "text": [
      "2020-10-19 09:46:38,974 - climada.util.save - INFO - Written file /Users/sam/Documents/Python/climada_python/doc/tutorial/results/tutorial_disc.p\n"
     ]
    }
   ],
   "source": [
    "from climada.util.save import save\n",
    "# this generates a results folder in the current path and stores the output there\n",
    "save('tutorial_disc.p', disc)"
   ]
  },
  {
   "cell_type": "code",
   "execution_count": null,
   "metadata": {},
   "outputs": [],
   "source": []
  }
 ],
 "metadata": {
  "kernelspec": {
   "display_name": "Python 3",
   "language": "python",
   "name": "python3"
  },
  "language_info": {
   "codemirror_mode": {
    "name": "ipython",
    "version": 3
   },
   "file_extension": ".py",
   "mimetype": "text/x-python",
   "name": "python",
   "nbconvert_exporter": "python",
   "pygments_lexer": "ipython3",
   "version": "3.7.3"
  }
 },
 "nbformat": 4,
 "nbformat_minor": 4
}
