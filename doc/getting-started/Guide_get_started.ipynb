{
 "cells": [
  {
   "cell_type": "markdown",
   "id": "trying-bronze",
   "metadata": {},
   "source": [
    "# How to navigate this documentation"
   ]
  },
  {
   "cell_type": "markdown",
   "id": "multiple-radical",
   "metadata": {},
   "source": [
    "This page is a short summary of the different sections and guides here, to help you find the information that you need to get started.\n",
    "\n",
    "Each top section has its own landing page, presenting the essential elements in brief, and often several subsections, which go more into details."
   ]
  },
  {
   "cell_type": "markdown",
   "id": "68085d04-e4ee-45c8-8dbb-41e35bd072a1",
   "metadata": {},
   "source": [
    "## Getting started\n",
    "\n",
    "The [Getting started](../getting-started/index.rst) section, where you are currently, presents the very basics of climada.\n",
    "\n",
    "For instance, to start learning about CLIMADA, you can have a look at the [introduction](../getting-started/Guide_Introduction.ipynb). \n",
    "\n",
    "You can also have a look at the paper [repository](https://github.com/CLIMADA-project/climada_papers) to get an overview of research projects conducted with CLIMADA."
   ]
  },
  {
   "cell_type": "markdown",
   "id": "future-distinction",
   "metadata": {},
   "source": [
    "### Programming in Python\n",
    "\n",
    "It is best to have some basic knowledge of Python programming before starting with CLIMADA. But if you need a quick introduction or reminder, have a look at the short [Python Tutorial](../getting-started/0_intro_python.ipynb). Also have a look at the python [Python Dos and Don't](../development/Guide_PythonDos-n-Donts.ipynb) guide and at the [Python Performance Guide](../development/Guide_Py_Performance.ipynb) for best practice tips."
   ]
  },
  {
   "cell_type": "markdown",
   "id": "touched-penetration",
   "metadata": {},
   "source": [
    "## Tutorials\n",
    "A good way to start using CLIMADA is to have a look at the tutorials in the [User Guide](../user-guide/index.rst). The [10 minute climada](../user-guide/0_10min_climada.ipynb) tutorial will give you a quick introduction to CLIMADA, with a brief example on how to calculate you first impacts, as well as your first appraisal of adaptation options, while the [Overview](../user-guide/1_main_climada.ipynb)  will present the whole structure of CLIMADA more in depth. You can then look at the specific tutorials for each module (for example if you are interested in a specific hazard, like [Tropical Cyclones](../user-guide/climada_hazard_TropCyclone.ipynb), or in learning to [estimate the value of asset exposure](../user-guide/climada_entity_LitPop.ipynb),...). "
   ]
  },
  {
   "cell_type": "markdown",
   "id": "cd831a52-ea5f-48ee-bf6b-4a6c1a1cdf15",
   "metadata": {},
   "source": [
    "## Contributing\n",
    "\n",
    "If you would like to participate in the development of CLIMADA, carefully read the [Developer Guide](../development/index.rst). \n",
    "Here you will find how to set up an environment to develop new features for CLIMADA, the workflow and rules to follow to make sure you can implement a valuable contribution!"
   ]
  },
  {
   "cell_type": "markdown",
   "id": "dc0f6303-e02b-429f-acc3-dd1b23d49be3",
   "metadata": {},
   "source": [
    "## API Reference\n",
    "\n",
    "The [API reference](../api/index.rst) presents the documentation of the internal modules, classes, methods and function of CLIMADA."
   ]
  },
  {
   "cell_type": "markdown",
   "id": "6a25d260-336f-439a-8859-00b9b4c1251d",
   "metadata": {},
   "source": [
    "## Changelog\n",
    "\n",
    "In the Changelog section, you can have a look at all the changes made between the different versions of CLIMADA"
   ]
  },
  {
   "cell_type": "markdown",
   "id": "efa8c4fc-706b-40e1-9567-c58dc9f59e0c",
   "metadata": {},
   "source": [
    "## External links\n",
    "\n",
    "The top bar of this website also link to the documentation of [Climada Petals](https://climada-petals.readthedocs.io/en/stable/), the webpage of the [Weather and Climate Risk group](https://wcr.ethz.ch/) at ETH, and the official [CLIMADA website](https://climada.ethz.ch/)."
   ]
  },
  {
   "cell_type": "markdown",
   "id": "connected-anthony",
   "metadata": {},
   "source": [
    "## Other Questions\n",
    "\n",
    "If you cannot find you answer in the other guides provided here, you can open an [issue](https://github.com/CLIMADA-project/climada_python/issues) for somebody to help you."
   ]
  }
 ],
 "metadata": {
  "kernelspec": {
   "display_name": "Python 3 (ipykernel)",
   "language": "python",
   "name": "python3"
  },
  "language_info": {
   "codemirror_mode": {
    "name": "ipython",
    "version": 3
   },
   "file_extension": ".py",
   "mimetype": "text/x-python",
   "name": "python",
   "nbconvert_exporter": "python",
   "pygments_lexer": "ipython3",
   "version": "3.12.6"
  },
  "vscode": {
   "interpreter": {
    "hash": "fe76ddefd4ac3b756bca82b2809865e7c67c346a46477cb9eec4ead581742ab6"
   }
  }
 },
 "nbformat": 4,
 "nbformat_minor": 5
}
