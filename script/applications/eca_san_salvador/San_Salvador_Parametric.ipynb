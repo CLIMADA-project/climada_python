{
 "cells": [
  {
   "cell_type": "markdown",
   "metadata": {},
   "source": [
    "# PARAMETRIC INSURANCE COVER IN SAN SALVADOR\n",
    "\n",
    "This builds on the notebooks describing risk assessment [San Salvador Risk](San_Salvador_Risk.ipynb) and adaptation economics [San Salvador Adaptation](San_Salvador_Adaptation.ipynb) in San Salvador. In this section we will consider application of a parametric insurance cover at household level and combine with outcomes of the adaptation economics part."
   ]
  },
  {
   "cell_type": "markdown",
   "metadata": {},
   "source": [
    "## The working of a parametric insurance structure\n",
    "\n",
    "Instead of using CLIMADA to evaluate risks, impacts, benefits of measures and indemnity insurance (as above), one can also assess parametric insurance. We apply the paramertric only to the AUP houses, with a maximum payout of 500 USD per household, starting at a flood height of 1m, with maximum payout at 5m, linear in between. First, read the Excel data where Value represents maximum payout and the impact function serves as payout structure."
   ]
  },
  {
   "cell_type": "code",
   "execution_count": 1,
   "metadata": {},
   "outputs": [
    {
     "name": "stdout",
     "output_type": "stream",
     "text": [
      "2019-12-19 15:14:18,275 - climada - DEBUG - Loading default config file: /Users/bresch/Documents/GitHub/climada_python/climada/conf/defaults.conf\n",
      "2019-12-19 15:14:48,317 - climada.entity.exposures.base - INFO - crs set to default value: {'init': 'epsg:4326', 'no_defs': True}\n",
      "2019-12-19 15:14:48,319 - climada.entity.exposures.base - INFO - value_unit metadata set to default value: USD\n",
      "2019-12-19 15:14:48,321 - climada.entity.exposures.base - INFO - meta metadata set to default value: None\n",
      "2019-12-19 15:14:48,323 - climada.entity.exposures.base - INFO - centr_ not set.\n",
      "2019-12-19 15:14:48,325 - climada.entity.exposures.base - INFO - category_id not set.\n",
      "2019-12-19 15:14:48,328 - climada.entity.exposures.base - INFO - region_id not set.\n",
      "2019-12-19 15:14:48,330 - climada.entity.exposures.base - INFO - geometry not set.\n",
      "2019-12-19 15:14:48,336 - climada.hazard.base - INFO - Reading Salvador_hazard_FL_2015.mat\n",
      "2019-12-19 15:14:48,506 - climada.hazard.centroids.centr - INFO - Reading Salvador_hazard_FL_2015.mat\n"
     ]
    }
   ],
   "source": [
    "%matplotlib inline\n",
    "import numpy as np\n",
    "import contextily as ctx\n",
    "from climada.entity import Entity\n",
    "import copy\n",
    "import matplotlib.patches as patches\n",
    "from climada.hazard import Hazard\n",
    "from climada.engine import CostBenefit\n",
    "import matplotlib.colors as colors\n",
    "import contextily as ctx\n",
    "from climada.engine import Impact\n",
    "\n",
    "ent_2015_param = Entity()\n",
    "ent_2015_param.read_excel('FL_entity_Acelhuate_parametric.xlsx')\n",
    "ent_2015_param.exposures.ref_year = 2015 # fix reference year\n",
    "ent_2015_param.check()\n",
    "\n",
    "# flood as for 2015\n",
    "HAZ_FILE = 'Salvador_hazard_FL_2015.mat'\n",
    "haz_2015 = Hazard('FL')     # set hazard type\n",
    "haz_2015.read_mat(HAZ_FILE) # load file"
   ]
  },
  {
   "cell_type": "markdown",
   "metadata": {},
   "source": [
    "We now calculate the parametric insurance payout based on the AUP coordinates and the flood hazard:"
   ]
  },
  {
   "cell_type": "code",
   "execution_count": 2,
   "metadata": {},
   "outputs": [
    {
     "name": "stdout",
     "output_type": "stream",
     "text": [
      "2019-12-19 15:15:01,009 - climada.entity.exposures.base - INFO - Matching 6080 exposures with 153222 centroids.\n",
      "2019-12-19 15:15:02,668 - climada.engine.impact - INFO - Calculating damage for 6080 assets (>0) and 6 events.\n",
      "Annual expected payout: 19023.793763750018 USD\n"
     ]
    },
    {
     "data": {
      "text/plain": [
       "<matplotlib.axes._subplots.AxesSubplot at 0x1c2e679588>"
      ]
     },
     "execution_count": 2,
     "metadata": {},
     "output_type": "execute_result"
    },
    {
     "data": {
      "image/png": "[encoded data removed]",
      "text/plain": [
       "<Figure size 432x288 with 1 Axes>"
      ]
     },
     "metadata": {
      "needs_background": "light"
     },
     "output_type": "display_data"
    }
   ],
   "source": [
    "param_payout = Impact()\n",
    "param_payout.calc(ent_2015_param.exposures, ent_2015_param.impact_funcs, haz_2015) # compute parametric payout\n",
    "print('Annual expected payout: {:} USD'.format(param_payout.aai_agg)) # get average annual payout\n",
    "param_payout.calc_freq_curve().plot() "
   ]
  },
  {
   "cell_type": "markdown",
   "metadata": {},
   "source": [
    "Now let's re-calculate some results we had in [San Salvador Adaptation](San_Salvador_Adaptation.ipynb). We need the combined effect of `Domestico` measures without application of (indemnity-based) insurance, as stored in `cb_comb` (contains the cost-benefit of combined measures):"
   ]
  },
  {
   "cell_type": "code",
   "execution_count": 3,
   "metadata": {},
   "outputs": [
    {
     "name": "stdout",
     "output_type": "stream",
     "text": [
      "2019-12-19 15:15:10,869 - climada.entity.exposures.base - INFO - crs set to default value: {'init': 'epsg:4326', 'no_defs': True}\n",
      "2019-12-19 15:15:10,870 - climada.entity.exposures.base - INFO - value_unit metadata set to default value: USD\n",
      "2019-12-19 15:15:10,871 - climada.entity.exposures.base - INFO - meta metadata set to default value: None\n",
      "2019-12-19 15:15:10,872 - climada.entity.exposures.base - INFO - centr_ not set.\n",
      "2019-12-19 15:15:10,873 - climada.entity.exposures.base - INFO - category_id not set.\n",
      "2019-12-19 15:15:10,875 - climada.entity.exposures.base - INFO - region_id not set.\n",
      "2019-12-19 15:15:10,877 - climada.entity.exposures.base - INFO - geometry not set.\n",
      "2019-12-19 15:15:10,891 - climada.entity.exposures.base - INFO - centr_ not set.\n",
      "2019-12-19 15:15:10,892 - climada.entity.exposures.base - INFO - category_id not set.\n",
      "2019-12-19 15:15:10,892 - climada.entity.exposures.base - INFO - region_id not set.\n",
      "2019-12-19 15:15:10,893 - climada.entity.exposures.base - INFO - geometry not set.\n",
      "2019-12-19 15:15:10,897 - climada.hazard.base - INFO - Reading Salvador_hazard_FL_2040_extreme_cc.mat\n",
      "2019-12-19 15:15:11,039 - climada.hazard.centroids.centr - INFO - Reading Salvador_hazard_FL_2040_extreme_cc.mat\n",
      "2019-12-19 15:15:11,104 - climada.entity.exposures.base - INFO - Matching 12472 exposures with 153222 centroids.\n",
      "2019-12-19 15:15:13,165 - climada.engine.impact - INFO - Calculating damage for 12472 assets (>0) and 6 events.\n",
      "2019-12-19 15:15:13,179 - climada.engine.impact - INFO - Exposures matching centroids found in centr_FL\n",
      "2019-12-19 15:15:13,182 - climada.engine.impact - INFO - Calculating damage for 12472 assets (>0) and 6 events.\n",
      "2019-12-19 15:15:13,201 - climada.engine.impact - INFO - Exposures matching centroids found in centr_FL\n",
      "2019-12-19 15:15:13,204 - climada.engine.impact - INFO - Calculating damage for 12472 assets (>0) and 6 events.\n",
      "2019-12-19 15:15:13,220 - climada.engine.impact - INFO - Exposures matching centroids found in centr_FL\n",
      "2019-12-19 15:15:13,222 - climada.engine.impact - INFO - Calculating damage for 12472 assets (>0) and 6 events.\n",
      "2019-12-19 15:15:13,239 - climada.engine.impact - INFO - Exposures matching centroids found in centr_FL\n",
      "2019-12-19 15:15:13,242 - climada.engine.impact - INFO - Calculating damage for 12472 assets (>0) and 6 events.\n",
      "2019-12-19 15:15:13,259 - climada.engine.impact - INFO - Exposures matching centroids found in centr_FL\n",
      "2019-12-19 15:15:13,261 - climada.engine.impact - INFO - Calculating damage for 12472 assets (>0) and 6 events.\n",
      "2019-12-19 15:15:13,279 - climada.engine.impact - INFO - Exposures matching centroids found in centr_FL\n",
      "2019-12-19 15:15:13,281 - climada.engine.impact - INFO - Calculating damage for 12472 assets (>0) and 6 events.\n",
      "2019-12-19 15:15:13,298 - climada.engine.impact - INFO - Exposures matching centroids found in centr_FL\n",
      "2019-12-19 15:15:13,302 - climada.engine.impact - INFO - Calculating damage for 12472 assets (>0) and 6 events.\n",
      "2019-12-19 15:15:13,318 - climada.engine.impact - INFO - Exposures matching centroids found in centr_FL\n",
      "2019-12-19 15:15:13,320 - climada.engine.impact - INFO - Calculating damage for 12472 assets (>0) and 6 events.\n",
      "2019-12-19 15:15:13,335 - climada.engine.impact - INFO - Exposures matching centroids found in centr_FL\n",
      "2019-12-19 15:15:13,337 - climada.engine.impact - INFO - Calculating damage for 12472 assets (>0) and 6 events.\n",
      "2019-12-19 15:15:13,355 - climada.engine.impact - INFO - Exposures matching centroids found in centr_FL\n",
      "2019-12-19 15:15:13,358 - climada.engine.impact - INFO - Calculating damage for 12472 assets (>0) and 6 events.\n",
      "2019-12-19 15:15:13,372 - climada.engine.impact - INFO - Exposures matching centroids found in centr_FL\n",
      "2019-12-19 15:15:13,374 - climada.engine.impact - INFO - Calculating damage for 12472 assets (>0) and 6 events.\n",
      "2019-12-19 15:15:13,392 - climada.engine.impact - INFO - Exposures matching centroids found in centr_FL\n",
      "2019-12-19 15:15:13,395 - climada.engine.impact - INFO - Calculating damage for 12472 assets (>0) and 6 events.\n",
      "2019-12-19 15:15:13,408 - climada.entity.exposures.base - INFO - Matching 12472 exposures with 153222 centroids.\n",
      "2019-12-19 15:15:15,528 - climada.engine.impact - INFO - Calculating damage for 12472 assets (>0) and 6 events.\n",
      "2019-12-19 15:15:15,542 - climada.engine.impact - INFO - Exposures matching centroids found in centr_FL\n",
      "2019-12-19 15:15:15,545 - climada.engine.impact - INFO - Calculating damage for 12472 assets (>0) and 6 events.\n",
      "2019-12-19 15:15:15,564 - climada.engine.impact - INFO - Exposures matching centroids found in centr_FL\n",
      "2019-12-19 15:15:15,568 - climada.engine.impact - INFO - Calculating damage for 12472 assets (>0) and 6 events.\n",
      "2019-12-19 15:15:15,586 - climada.engine.impact - INFO - Exposures matching centroids found in centr_FL\n",
      "2019-12-19 15:15:15,588 - climada.engine.impact - INFO - Calculating damage for 12472 assets (>0) and 6 events.\n",
      "2019-12-19 15:15:15,606 - climada.engine.impact - INFO - Exposures matching centroids found in centr_FL\n",
      "2019-12-19 15:15:15,609 - climada.engine.impact - INFO - Calculating damage for 12472 assets (>0) and 6 events.\n",
      "2019-12-19 15:15:15,628 - climada.engine.impact - INFO - Exposures matching centroids found in centr_FL\n",
      "2019-12-19 15:15:15,632 - climada.engine.impact - INFO - Calculating damage for 12472 assets (>0) and 6 events.\n",
      "2019-12-19 15:15:15,656 - climada.engine.impact - INFO - Exposures matching centroids found in centr_FL\n",
      "2019-12-19 15:15:15,661 - climada.engine.impact - INFO - Calculating damage for 12472 assets (>0) and 6 events.\n",
      "2019-12-19 15:15:15,685 - climada.engine.impact - INFO - Exposures matching centroids found in centr_FL\n",
      "2019-12-19 15:15:15,689 - climada.engine.impact - INFO - Calculating damage for 12472 assets (>0) and 6 events.\n",
      "2019-12-19 15:15:15,710 - climada.engine.impact - INFO - Exposures matching centroids found in centr_FL\n",
      "2019-12-19 15:15:15,714 - climada.engine.impact - INFO - Calculating damage for 12472 assets (>0) and 6 events.\n",
      "2019-12-19 15:15:15,729 - climada.engine.impact - INFO - Exposures matching centroids found in centr_FL\n",
      "2019-12-19 15:15:15,733 - climada.engine.impact - INFO - Calculating damage for 12472 assets (>0) and 6 events.\n",
      "2019-12-19 15:15:15,751 - climada.engine.impact - INFO - Exposures matching centroids found in centr_FL\n",
      "2019-12-19 15:15:15,754 - climada.engine.impact - INFO - Calculating damage for 12472 assets (>0) and 6 events.\n",
      "2019-12-19 15:15:15,772 - climada.engine.impact - INFO - Exposures matching centroids found in centr_FL\n",
      "2019-12-19 15:15:15,775 - climada.engine.impact - INFO - Calculating damage for 12472 assets (>0) and 6 events.\n",
      "2019-12-19 15:15:15,794 - climada.engine.impact - INFO - Exposures matching centroids found in centr_FL\n",
      "2019-12-19 15:15:15,797 - climada.engine.impact - INFO - Calculating damage for 12472 assets (>0) and 6 events.\n",
      "2019-12-19 15:15:15,817 - climada.engine.cost_benefit - INFO - Computing cost benefit from years 2015 to 2040.\n",
      "\n",
      "Measure                         Cost (USD m)    Benefit (USD m)    Benefit/Cost\n",
      "----------------------------  --------------  -----------------  --------------\n",
      "Sanitarios de descarga Dual          0.93099            24.1967        25.9903\n",
      "Ahorradores en Agua en casas         1.39648            24.8462        17.792\n",
      "No descargas en Lluvia               0.41894            25.811         61.6103\n",
      "Reuso de agua de enjuage             3.07388            24.1967         7.87172\n",
      "Puentes sin basura                   3.78912            24.8462         6.55726\n",
      "Captacion de agua de techos         18.0857             24.8462         1.3738\n",
      "\n",
      "--------------------  ---------  -------\n",
      "Total climate risk:   109.282    (USD m)\n",
      "Average annual risk:    7.42983  (USD m)\n",
      "Residual risk:        -39.4609   (USD m)\n",
      "--------------------  ---------  -------\n",
      "Net Present Values\n",
      "\n",
      "Measure      Cost (USD m)    Benefit (USD m)    Benefit/Cost\n",
      "---------  --------------  -----------------  --------------\n",
      "Domestico         1.81542             27.114         14.9354\n",
      "\n",
      "--------------------  ---------  -------\n",
      "Total climate risk:   109.282    (USD m)\n",
      "Average annual risk:    7.42983  (USD m)\n",
      "Residual risk:         82.1683   (USD m)\n",
      "--------------------  ---------  -------\n",
      "Net Present Values\n"
     ]
    }
   ],
   "source": [
    "ent_2015 = Entity()\n",
    "ent_2015.read_excel('FL_entity_Acelhuate_houses.xlsx')\n",
    "ent_2015.exposures.ref_year = 2015 # fix reference year\n",
    "ent_2015.check()\n",
    "\n",
    "ent_2040 = copy.deepcopy(ent_2015)\n",
    "\n",
    "# Exposures: yearly economic growth of 2% in exposures\n",
    "ent_2040.exposures.ref_year = 2040\n",
    "growth = 0.02\n",
    "ent_2040.exposures['value'] = ent_2040.exposures.value.values*(1 + growth)**(ent_2040.exposures.ref_year - ent_2015.exposures.ref_year)\n",
    "ent_2040.check() # check values are well set and assignes default values\n",
    "\n",
    "# flood as for 2040 with extreme climate change\n",
    "HAZ_FILE = 'Salvador_hazard_FL_2040_extreme_cc.mat'\n",
    "haz_2040 = Hazard('FL')     # set hazard type\n",
    "haz_2040.read_mat(HAZ_FILE) # load file\n",
    "\n",
    "# expected annual impact\n",
    "cb_acel = CostBenefit()\n",
    "cb_acel.calc(haz_2015, ent_2015, haz_2040, ent_2040, save_imp=True) # compute\n",
    "\n",
    "cb_comb = cb_acel.combine_measures(['No descargas en Lluvia', 'Ahorradores en Agua en casas'],\n",
    "                                    'Domestico', colors.to_rgb('lightcoral'), ent_2015.disc_rates)"
   ]
  },
  {
   "cell_type": "markdown",
   "metadata": {},
   "source": [
    "We can now calculate the damage left after application of the `Domestico` measures (`damage_after_measures`) PLUS the payout of the parametric cover (`parametric_payout`) for AUP houses:"
   ]
  },
  {
   "cell_type": "code",
   "execution_count": 4,
   "metadata": {},
   "outputs": [
    {
     "name": "stdout",
     "output_type": "stream",
     "text": [
      "residual damage: 2.527e+06 USD\n"
     ]
    }
   ],
   "source": [
    "damage_after_measures=cb_comb.imp_meas_present['Domestico']['impact'].at_event\n",
    "paramteric_payout=param_payout.at_event\n",
    "residual_damage=np.sum((damage_after_measures-paramteric_payout)*haz_2015.frequency)\n",
    "print('residual damage: {:.3e} USD'.format(residual_damage))"
   ]
  },
  {
   "cell_type": "code",
   "execution_count": null,
   "metadata": {},
   "outputs": [],
   "source": []
  }
 ],
 "metadata": {
  "kernelspec": {
   "display_name": "Python 3",
   "language": "python",
   "name": "python3"
  },
  "language_info": {
   "codemirror_mode": {
    "name": "ipython",
    "version": 3
   },
   "file_extension": ".py",
   "mimetype": "text/x-python",
   "name": "python",
   "nbconvert_exporter": "python",
   "pygments_lexer": "ipython3",
   "version": "3.7.3"
  }
 },
 "nbformat": 4,
 "nbformat_minor": 4
}
